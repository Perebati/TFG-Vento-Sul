{
 "cells": [
  {
   "cell_type": "code",
   "execution_count": 5,
   "metadata": {},
   "outputs": [
    {
     "name": "stderr",
     "output_type": "stream",
     "text": [
      "/tmp/ipykernel_3088/3451176622.py:17: FutureWarning: errors='ignore' is deprecated and will raise in a future version. Use to_datetime without passing `errors` and catch exceptions explicitly instead\n",
      "  data.index = pd.to_datetime(data['id'], errors='ignore')\n",
      "/tmp/ipykernel_3088/3451176622.py:18: FutureWarning: errors='ignore' is deprecated and will raise in a future version. Use to_datetime without passing `errors` and catch exceptions explicitly instead\n",
      "  data.index = data['id'].apply(lambda x: pd.to_datetime(str(x).split('.')[0], errors='ignore'))\n"
     ]
    },
    {
     "name": "stdout",
     "output_type": "stream",
     "text": [
      "Testando Configuração 1: Wavelet=db1, Level=3, Threshold Mode=soft, Signal Mode=symmetric\n",
      "Gráfico salvo em: wavelet_denoising_plots_comparacao/comparacao_ws100_config_1.png\n",
      "Testando Configuração 2: Wavelet=db1, Level=3, Threshold Mode=soft, Signal Mode=smooth\n",
      "Gráfico salvo em: wavelet_denoising_plots_comparacao/comparacao_ws100_config_2.png\n",
      "Testando Configuração 3: Wavelet=db1, Level=3, Threshold Mode=soft, Signal Mode=periodization\n",
      "Gráfico salvo em: wavelet_denoising_plots_comparacao/comparacao_ws100_config_3.png\n",
      "Testando Configuração 4: Wavelet=db1, Level=3, Threshold Mode=garrote, Signal Mode=symmetric\n",
      "Gráfico salvo em: wavelet_denoising_plots_comparacao/comparacao_ws100_config_4.png\n",
      "Testando Configuração 5: Wavelet=db1, Level=3, Threshold Mode=garrote, Signal Mode=smooth\n",
      "Gráfico salvo em: wavelet_denoising_plots_comparacao/comparacao_ws100_config_5.png\n",
      "Testando Configuração 6: Wavelet=db1, Level=3, Threshold Mode=garrote, Signal Mode=periodization\n",
      "Gráfico salvo em: wavelet_denoising_plots_comparacao/comparacao_ws100_config_6.png\n",
      "Testando Configuração 7: Wavelet=db1, Level=4, Threshold Mode=soft, Signal Mode=symmetric\n",
      "Gráfico salvo em: wavelet_denoising_plots_comparacao/comparacao_ws100_config_7.png\n",
      "Testando Configuração 8: Wavelet=db1, Level=4, Threshold Mode=soft, Signal Mode=smooth\n",
      "Gráfico salvo em: wavelet_denoising_plots_comparacao/comparacao_ws100_config_8.png\n",
      "Testando Configuração 9: Wavelet=db1, Level=4, Threshold Mode=soft, Signal Mode=periodization\n",
      "Gráfico salvo em: wavelet_denoising_plots_comparacao/comparacao_ws100_config_9.png\n",
      "Testando Configuração 10: Wavelet=db1, Level=4, Threshold Mode=garrote, Signal Mode=symmetric\n",
      "Gráfico salvo em: wavelet_denoising_plots_comparacao/comparacao_ws100_config_10.png\n",
      "10 configurações processadas.\n",
      "Testando Configuração 11: Wavelet=db1, Level=4, Threshold Mode=garrote, Signal Mode=smooth\n",
      "Gráfico salvo em: wavelet_denoising_plots_comparacao/comparacao_ws100_config_11.png\n",
      "Testando Configuração 12: Wavelet=db1, Level=4, Threshold Mode=garrote, Signal Mode=periodization\n",
      "Gráfico salvo em: wavelet_denoising_plots_comparacao/comparacao_ws100_config_12.png\n",
      "Testando Configuração 13: Wavelet=db3, Level=3, Threshold Mode=soft, Signal Mode=symmetric\n",
      "Gráfico salvo em: wavelet_denoising_plots_comparacao/comparacao_ws100_config_13.png\n",
      "Testando Configuração 14: Wavelet=db3, Level=3, Threshold Mode=soft, Signal Mode=smooth\n",
      "Gráfico salvo em: wavelet_denoising_plots_comparacao/comparacao_ws100_config_14.png\n",
      "Testando Configuração 15: Wavelet=db3, Level=3, Threshold Mode=soft, Signal Mode=periodization\n",
      "Gráfico salvo em: wavelet_denoising_plots_comparacao/comparacao_ws100_config_15.png\n",
      "Testando Configuração 16: Wavelet=db3, Level=3, Threshold Mode=garrote, Signal Mode=symmetric\n",
      "Gráfico salvo em: wavelet_denoising_plots_comparacao/comparacao_ws100_config_16.png\n",
      "Testando Configuração 17: Wavelet=db3, Level=3, Threshold Mode=garrote, Signal Mode=smooth\n",
      "Gráfico salvo em: wavelet_denoising_plots_comparacao/comparacao_ws100_config_17.png\n",
      "Testando Configuração 18: Wavelet=db3, Level=3, Threshold Mode=garrote, Signal Mode=periodization\n",
      "Gráfico salvo em: wavelet_denoising_plots_comparacao/comparacao_ws100_config_18.png\n",
      "Testando Configuração 19: Wavelet=db3, Level=4, Threshold Mode=soft, Signal Mode=symmetric\n",
      "Gráfico salvo em: wavelet_denoising_plots_comparacao/comparacao_ws100_config_19.png\n",
      "Testando Configuração 20: Wavelet=db3, Level=4, Threshold Mode=soft, Signal Mode=smooth\n",
      "Gráfico salvo em: wavelet_denoising_plots_comparacao/comparacao_ws100_config_20.png\n",
      "20 configurações processadas.\n",
      "Testando Configuração 21: Wavelet=db3, Level=4, Threshold Mode=soft, Signal Mode=periodization\n",
      "Gráfico salvo em: wavelet_denoising_plots_comparacao/comparacao_ws100_config_21.png\n",
      "Testando Configuração 22: Wavelet=db3, Level=4, Threshold Mode=garrote, Signal Mode=symmetric\n",
      "Gráfico salvo em: wavelet_denoising_plots_comparacao/comparacao_ws100_config_22.png\n",
      "Testando Configuração 23: Wavelet=db3, Level=4, Threshold Mode=garrote, Signal Mode=smooth\n",
      "Gráfico salvo em: wavelet_denoising_plots_comparacao/comparacao_ws100_config_23.png\n",
      "Testando Configuração 24: Wavelet=db3, Level=4, Threshold Mode=garrote, Signal Mode=periodization\n",
      "Gráfico salvo em: wavelet_denoising_plots_comparacao/comparacao_ws100_config_24.png\n",
      "Testando Configuração 25: Wavelet=db5, Level=3, Threshold Mode=soft, Signal Mode=symmetric\n",
      "Gráfico salvo em: wavelet_denoising_plots_comparacao/comparacao_ws100_config_25.png\n",
      "Testando Configuração 26: Wavelet=db5, Level=3, Threshold Mode=soft, Signal Mode=smooth\n",
      "Gráfico salvo em: wavelet_denoising_plots_comparacao/comparacao_ws100_config_26.png\n",
      "Testando Configuração 27: Wavelet=db5, Level=3, Threshold Mode=soft, Signal Mode=periodization\n",
      "Gráfico salvo em: wavelet_denoising_plots_comparacao/comparacao_ws100_config_27.png\n",
      "Testando Configuração 28: Wavelet=db5, Level=3, Threshold Mode=garrote, Signal Mode=symmetric\n",
      "Gráfico salvo em: wavelet_denoising_plots_comparacao/comparacao_ws100_config_28.png\n",
      "Testando Configuração 29: Wavelet=db5, Level=3, Threshold Mode=garrote, Signal Mode=smooth\n",
      "Gráfico salvo em: wavelet_denoising_plots_comparacao/comparacao_ws100_config_29.png\n",
      "Testando Configuração 30: Wavelet=db5, Level=3, Threshold Mode=garrote, Signal Mode=periodization\n",
      "Gráfico salvo em: wavelet_denoising_plots_comparacao/comparacao_ws100_config_30.png\n",
      "30 configurações processadas.\n",
      "Testando Configuração 31: Wavelet=db5, Level=4, Threshold Mode=soft, Signal Mode=symmetric\n",
      "Gráfico salvo em: wavelet_denoising_plots_comparacao/comparacao_ws100_config_31.png\n",
      "Testando Configuração 32: Wavelet=db5, Level=4, Threshold Mode=soft, Signal Mode=smooth\n",
      "Gráfico salvo em: wavelet_denoising_plots_comparacao/comparacao_ws100_config_32.png\n",
      "Testando Configuração 33: Wavelet=db5, Level=4, Threshold Mode=soft, Signal Mode=periodization\n",
      "Gráfico salvo em: wavelet_denoising_plots_comparacao/comparacao_ws100_config_33.png\n",
      "Testando Configuração 34: Wavelet=db5, Level=4, Threshold Mode=garrote, Signal Mode=symmetric\n",
      "Gráfico salvo em: wavelet_denoising_plots_comparacao/comparacao_ws100_config_34.png\n",
      "Testando Configuração 35: Wavelet=db5, Level=4, Threshold Mode=garrote, Signal Mode=smooth\n",
      "Gráfico salvo em: wavelet_denoising_plots_comparacao/comparacao_ws100_config_35.png\n",
      "Testando Configuração 36: Wavelet=db5, Level=4, Threshold Mode=garrote, Signal Mode=periodization\n",
      "Gráfico salvo em: wavelet_denoising_plots_comparacao/comparacao_ws100_config_36.png\n",
      "Testando Configuração 37: Wavelet=db7, Level=3, Threshold Mode=soft, Signal Mode=symmetric\n",
      "Gráfico salvo em: wavelet_denoising_plots_comparacao/comparacao_ws100_config_37.png\n",
      "Testando Configuração 38: Wavelet=db7, Level=3, Threshold Mode=soft, Signal Mode=smooth\n",
      "Gráfico salvo em: wavelet_denoising_plots_comparacao/comparacao_ws100_config_38.png\n",
      "Testando Configuração 39: Wavelet=db7, Level=3, Threshold Mode=soft, Signal Mode=periodization\n",
      "Gráfico salvo em: wavelet_denoising_plots_comparacao/comparacao_ws100_config_39.png\n",
      "Testando Configuração 40: Wavelet=db7, Level=3, Threshold Mode=garrote, Signal Mode=symmetric\n",
      "Gráfico salvo em: wavelet_denoising_plots_comparacao/comparacao_ws100_config_40.png\n",
      "40 configurações processadas.\n",
      "Testando Configuração 41: Wavelet=db7, Level=3, Threshold Mode=garrote, Signal Mode=smooth\n",
      "Gráfico salvo em: wavelet_denoising_plots_comparacao/comparacao_ws100_config_41.png\n",
      "Testando Configuração 42: Wavelet=db7, Level=3, Threshold Mode=garrote, Signal Mode=periodization\n",
      "Gráfico salvo em: wavelet_denoising_plots_comparacao/comparacao_ws100_config_42.png\n",
      "Testando Configuração 43: Wavelet=db7, Level=4, Threshold Mode=soft, Signal Mode=symmetric\n",
      "Gráfico salvo em: wavelet_denoising_plots_comparacao/comparacao_ws100_config_43.png\n",
      "Testando Configuração 44: Wavelet=db7, Level=4, Threshold Mode=soft, Signal Mode=smooth\n",
      "Gráfico salvo em: wavelet_denoising_plots_comparacao/comparacao_ws100_config_44.png\n",
      "Testando Configuração 45: Wavelet=db7, Level=4, Threshold Mode=soft, Signal Mode=periodization\n",
      "Gráfico salvo em: wavelet_denoising_plots_comparacao/comparacao_ws100_config_45.png\n",
      "Testando Configuração 46: Wavelet=db7, Level=4, Threshold Mode=garrote, Signal Mode=symmetric\n",
      "Gráfico salvo em: wavelet_denoising_plots_comparacao/comparacao_ws100_config_46.png\n",
      "Testando Configuração 47: Wavelet=db7, Level=4, Threshold Mode=garrote, Signal Mode=smooth\n",
      "Gráfico salvo em: wavelet_denoising_plots_comparacao/comparacao_ws100_config_47.png\n",
      "Testando Configuração 48: Wavelet=db7, Level=4, Threshold Mode=garrote, Signal Mode=periodization\n",
      "Gráfico salvo em: wavelet_denoising_plots_comparacao/comparacao_ws100_config_48.png\n",
      "Testando Configuração 49: Wavelet=db9, Level=3, Threshold Mode=soft, Signal Mode=symmetric\n",
      "Gráfico salvo em: wavelet_denoising_plots_comparacao/comparacao_ws100_config_49.png\n",
      "Testando Configuração 50: Wavelet=db9, Level=3, Threshold Mode=soft, Signal Mode=smooth\n",
      "Gráfico salvo em: wavelet_denoising_plots_comparacao/comparacao_ws100_config_50.png\n",
      "50 configurações processadas.\n",
      "Testando Configuração 51: Wavelet=db9, Level=3, Threshold Mode=soft, Signal Mode=periodization\n",
      "Gráfico salvo em: wavelet_denoising_plots_comparacao/comparacao_ws100_config_51.png\n",
      "Testando Configuração 52: Wavelet=db9, Level=3, Threshold Mode=garrote, Signal Mode=symmetric\n",
      "Gráfico salvo em: wavelet_denoising_plots_comparacao/comparacao_ws100_config_52.png\n",
      "Testando Configuração 53: Wavelet=db9, Level=3, Threshold Mode=garrote, Signal Mode=smooth\n",
      "Gráfico salvo em: wavelet_denoising_plots_comparacao/comparacao_ws100_config_53.png\n",
      "Testando Configuração 54: Wavelet=db9, Level=3, Threshold Mode=garrote, Signal Mode=periodization\n",
      "Gráfico salvo em: wavelet_denoising_plots_comparacao/comparacao_ws100_config_54.png\n",
      "Testando Configuração 55: Wavelet=db9, Level=4, Threshold Mode=soft, Signal Mode=symmetric\n",
      "Gráfico salvo em: wavelet_denoising_plots_comparacao/comparacao_ws100_config_55.png\n",
      "Testando Configuração 56: Wavelet=db9, Level=4, Threshold Mode=soft, Signal Mode=smooth\n",
      "Gráfico salvo em: wavelet_denoising_plots_comparacao/comparacao_ws100_config_56.png\n",
      "Testando Configuração 57: Wavelet=db9, Level=4, Threshold Mode=soft, Signal Mode=periodization\n",
      "Gráfico salvo em: wavelet_denoising_plots_comparacao/comparacao_ws100_config_57.png\n",
      "Testando Configuração 58: Wavelet=db9, Level=4, Threshold Mode=garrote, Signal Mode=symmetric\n",
      "Gráfico salvo em: wavelet_denoising_plots_comparacao/comparacao_ws100_config_58.png\n",
      "Testando Configuração 59: Wavelet=db9, Level=4, Threshold Mode=garrote, Signal Mode=smooth\n",
      "Gráfico salvo em: wavelet_denoising_plots_comparacao/comparacao_ws100_config_59.png\n",
      "Testando Configuração 60: Wavelet=db9, Level=4, Threshold Mode=garrote, Signal Mode=periodization\n",
      "Gráfico salvo em: wavelet_denoising_plots_comparacao/comparacao_ws100_config_60.png\n",
      "60 configurações processadas.\n",
      "Testando Configuração 61: Wavelet=db11, Level=3, Threshold Mode=soft, Signal Mode=symmetric\n",
      "Gráfico salvo em: wavelet_denoising_plots_comparacao/comparacao_ws100_config_61.png\n",
      "Testando Configuração 62: Wavelet=db11, Level=3, Threshold Mode=soft, Signal Mode=smooth\n",
      "Gráfico salvo em: wavelet_denoising_plots_comparacao/comparacao_ws100_config_62.png\n",
      "Testando Configuração 63: Wavelet=db11, Level=3, Threshold Mode=soft, Signal Mode=periodization\n",
      "Gráfico salvo em: wavelet_denoising_plots_comparacao/comparacao_ws100_config_63.png\n",
      "Testando Configuração 64: Wavelet=db11, Level=3, Threshold Mode=garrote, Signal Mode=symmetric\n",
      "Gráfico salvo em: wavelet_denoising_plots_comparacao/comparacao_ws100_config_64.png\n",
      "Testando Configuração 65: Wavelet=db11, Level=3, Threshold Mode=garrote, Signal Mode=smooth\n",
      "Gráfico salvo em: wavelet_denoising_plots_comparacao/comparacao_ws100_config_65.png\n",
      "Testando Configuração 66: Wavelet=db11, Level=3, Threshold Mode=garrote, Signal Mode=periodization\n",
      "Gráfico salvo em: wavelet_denoising_plots_comparacao/comparacao_ws100_config_66.png\n",
      "Testando Configuração 67: Wavelet=db11, Level=4, Threshold Mode=soft, Signal Mode=symmetric\n",
      "Gráfico salvo em: wavelet_denoising_plots_comparacao/comparacao_ws100_config_67.png\n",
      "Testando Configuração 68: Wavelet=db11, Level=4, Threshold Mode=soft, Signal Mode=smooth\n",
      "Gráfico salvo em: wavelet_denoising_plots_comparacao/comparacao_ws100_config_68.png\n",
      "Testando Configuração 69: Wavelet=db11, Level=4, Threshold Mode=soft, Signal Mode=periodization\n",
      "Gráfico salvo em: wavelet_denoising_plots_comparacao/comparacao_ws100_config_69.png\n",
      "Testando Configuração 70: Wavelet=db11, Level=4, Threshold Mode=garrote, Signal Mode=symmetric\n",
      "Gráfico salvo em: wavelet_denoising_plots_comparacao/comparacao_ws100_config_70.png\n",
      "70 configurações processadas.\n",
      "Testando Configuração 71: Wavelet=db11, Level=4, Threshold Mode=garrote, Signal Mode=smooth\n",
      "Gráfico salvo em: wavelet_denoising_plots_comparacao/comparacao_ws100_config_71.png\n",
      "Testando Configuração 72: Wavelet=db11, Level=4, Threshold Mode=garrote, Signal Mode=periodization\n",
      "Gráfico salvo em: wavelet_denoising_plots_comparacao/comparacao_ws100_config_72.png\n",
      "Testando Configuração 73: Wavelet=db13, Level=3, Threshold Mode=soft, Signal Mode=symmetric\n",
      "Gráfico salvo em: wavelet_denoising_plots_comparacao/comparacao_ws100_config_73.png\n",
      "Testando Configuração 74: Wavelet=db13, Level=3, Threshold Mode=soft, Signal Mode=smooth\n",
      "Gráfico salvo em: wavelet_denoising_plots_comparacao/comparacao_ws100_config_74.png\n",
      "Testando Configuração 75: Wavelet=db13, Level=3, Threshold Mode=soft, Signal Mode=periodization\n",
      "Gráfico salvo em: wavelet_denoising_plots_comparacao/comparacao_ws100_config_75.png\n",
      "Testando Configuração 76: Wavelet=db13, Level=3, Threshold Mode=garrote, Signal Mode=symmetric\n",
      "Gráfico salvo em: wavelet_denoising_plots_comparacao/comparacao_ws100_config_76.png\n",
      "Testando Configuração 77: Wavelet=db13, Level=3, Threshold Mode=garrote, Signal Mode=smooth\n",
      "Gráfico salvo em: wavelet_denoising_plots_comparacao/comparacao_ws100_config_77.png\n",
      "Testando Configuração 78: Wavelet=db13, Level=3, Threshold Mode=garrote, Signal Mode=periodization\n",
      "Gráfico salvo em: wavelet_denoising_plots_comparacao/comparacao_ws100_config_78.png\n",
      "Testando Configuração 79: Wavelet=db13, Level=4, Threshold Mode=soft, Signal Mode=symmetric\n",
      "Gráfico salvo em: wavelet_denoising_plots_comparacao/comparacao_ws100_config_79.png\n",
      "Testando Configuração 80: Wavelet=db13, Level=4, Threshold Mode=soft, Signal Mode=smooth\n",
      "Gráfico salvo em: wavelet_denoising_plots_comparacao/comparacao_ws100_config_80.png\n",
      "80 configurações processadas.\n",
      "Testando Configuração 81: Wavelet=db13, Level=4, Threshold Mode=soft, Signal Mode=periodization\n",
      "Gráfico salvo em: wavelet_denoising_plots_comparacao/comparacao_ws100_config_81.png\n",
      "Testando Configuração 82: Wavelet=db13, Level=4, Threshold Mode=garrote, Signal Mode=symmetric\n",
      "Gráfico salvo em: wavelet_denoising_plots_comparacao/comparacao_ws100_config_82.png\n",
      "Testando Configuração 83: Wavelet=db13, Level=4, Threshold Mode=garrote, Signal Mode=smooth\n",
      "Gráfico salvo em: wavelet_denoising_plots_comparacao/comparacao_ws100_config_83.png\n",
      "Testando Configuração 84: Wavelet=db13, Level=4, Threshold Mode=garrote, Signal Mode=periodization\n",
      "Gráfico salvo em: wavelet_denoising_plots_comparacao/comparacao_ws100_config_84.png\n",
      "Testando Configuração 85: Wavelet=db15, Level=3, Threshold Mode=soft, Signal Mode=symmetric\n",
      "Gráfico salvo em: wavelet_denoising_plots_comparacao/comparacao_ws100_config_85.png\n",
      "Testando Configuração 86: Wavelet=db15, Level=3, Threshold Mode=soft, Signal Mode=smooth\n",
      "Gráfico salvo em: wavelet_denoising_plots_comparacao/comparacao_ws100_config_86.png\n",
      "Testando Configuração 87: Wavelet=db15, Level=3, Threshold Mode=soft, Signal Mode=periodization\n",
      "Gráfico salvo em: wavelet_denoising_plots_comparacao/comparacao_ws100_config_87.png\n",
      "Testando Configuração 88: Wavelet=db15, Level=3, Threshold Mode=garrote, Signal Mode=symmetric\n",
      "Gráfico salvo em: wavelet_denoising_plots_comparacao/comparacao_ws100_config_88.png\n",
      "Testando Configuração 89: Wavelet=db15, Level=3, Threshold Mode=garrote, Signal Mode=smooth\n",
      "Gráfico salvo em: wavelet_denoising_plots_comparacao/comparacao_ws100_config_89.png\n",
      "Testando Configuração 90: Wavelet=db15, Level=3, Threshold Mode=garrote, Signal Mode=periodization\n",
      "Gráfico salvo em: wavelet_denoising_plots_comparacao/comparacao_ws100_config_90.png\n",
      "90 configurações processadas.\n",
      "Testando Configuração 91: Wavelet=db15, Level=4, Threshold Mode=soft, Signal Mode=symmetric\n",
      "Gráfico salvo em: wavelet_denoising_plots_comparacao/comparacao_ws100_config_91.png\n",
      "Testando Configuração 92: Wavelet=db15, Level=4, Threshold Mode=soft, Signal Mode=smooth\n",
      "Gráfico salvo em: wavelet_denoising_plots_comparacao/comparacao_ws100_config_92.png\n",
      "Testando Configuração 93: Wavelet=db15, Level=4, Threshold Mode=soft, Signal Mode=periodization\n",
      "Gráfico salvo em: wavelet_denoising_plots_comparacao/comparacao_ws100_config_93.png\n",
      "Testando Configuração 94: Wavelet=db15, Level=4, Threshold Mode=garrote, Signal Mode=symmetric\n",
      "Gráfico salvo em: wavelet_denoising_plots_comparacao/comparacao_ws100_config_94.png\n",
      "Testando Configuração 95: Wavelet=db15, Level=4, Threshold Mode=garrote, Signal Mode=smooth\n",
      "Gráfico salvo em: wavelet_denoising_plots_comparacao/comparacao_ws100_config_95.png\n",
      "Testando Configuração 96: Wavelet=db15, Level=4, Threshold Mode=garrote, Signal Mode=periodization\n",
      "Gráfico salvo em: wavelet_denoising_plots_comparacao/comparacao_ws100_config_96.png\n",
      "Testando Configuração 97: Wavelet=db17, Level=3, Threshold Mode=soft, Signal Mode=symmetric\n",
      "Gráfico salvo em: wavelet_denoising_plots_comparacao/comparacao_ws100_config_97.png\n",
      "Testando Configuração 98: Wavelet=db17, Level=3, Threshold Mode=soft, Signal Mode=smooth\n",
      "Gráfico salvo em: wavelet_denoising_plots_comparacao/comparacao_ws100_config_98.png\n",
      "Testando Configuração 99: Wavelet=db17, Level=3, Threshold Mode=soft, Signal Mode=periodization\n",
      "Gráfico salvo em: wavelet_denoising_plots_comparacao/comparacao_ws100_config_99.png\n",
      "Testando Configuração 100: Wavelet=db17, Level=3, Threshold Mode=garrote, Signal Mode=symmetric\n",
      "Gráfico salvo em: wavelet_denoising_plots_comparacao/comparacao_ws100_config_100.png\n",
      "100 configurações processadas.\n",
      "Testando Configuração 101: Wavelet=db17, Level=3, Threshold Mode=garrote, Signal Mode=smooth\n"
     ]
    },
    {
     "name": "stderr",
     "output_type": "stream",
     "text": [
      "/tmp/ipykernel_3088/3451176622.py:146: PerformanceWarning: DataFrame is highly fragmented.  This is usually the result of calling `frame.insert` many times, which has poor performance.  Consider joining all columns at once using pd.concat(axis=1) instead. To get a de-fragmented frame, use `newframe = frame.copy()`\n",
      "  variables[f'{col}_wavelet_{idx}'] = denoised_signal\n"
     ]
    },
    {
     "name": "stdout",
     "output_type": "stream",
     "text": [
      "Gráfico salvo em: wavelet_denoising_plots_comparacao/comparacao_ws100_config_101.png\n",
      "Testando Configuração 102: Wavelet=db17, Level=3, Threshold Mode=garrote, Signal Mode=periodization\n"
     ]
    },
    {
     "name": "stderr",
     "output_type": "stream",
     "text": [
      "/tmp/ipykernel_3088/3451176622.py:146: PerformanceWarning: DataFrame is highly fragmented.  This is usually the result of calling `frame.insert` many times, which has poor performance.  Consider joining all columns at once using pd.concat(axis=1) instead. To get a de-fragmented frame, use `newframe = frame.copy()`\n",
      "  variables[f'{col}_wavelet_{idx}'] = denoised_signal\n"
     ]
    },
    {
     "name": "stdout",
     "output_type": "stream",
     "text": [
      "Gráfico salvo em: wavelet_denoising_plots_comparacao/comparacao_ws100_config_102.png\n",
      "Testando Configuração 103: Wavelet=db17, Level=4, Threshold Mode=soft, Signal Mode=symmetric\n"
     ]
    },
    {
     "name": "stderr",
     "output_type": "stream",
     "text": [
      "/tmp/ipykernel_3088/3451176622.py:146: PerformanceWarning: DataFrame is highly fragmented.  This is usually the result of calling `frame.insert` many times, which has poor performance.  Consider joining all columns at once using pd.concat(axis=1) instead. To get a de-fragmented frame, use `newframe = frame.copy()`\n",
      "  variables[f'{col}_wavelet_{idx}'] = denoised_signal\n"
     ]
    },
    {
     "name": "stdout",
     "output_type": "stream",
     "text": [
      "Gráfico salvo em: wavelet_denoising_plots_comparacao/comparacao_ws100_config_103.png\n",
      "Testando Configuração 104: Wavelet=db17, Level=4, Threshold Mode=soft, Signal Mode=smooth\n"
     ]
    },
    {
     "name": "stderr",
     "output_type": "stream",
     "text": [
      "/tmp/ipykernel_3088/3451176622.py:146: PerformanceWarning: DataFrame is highly fragmented.  This is usually the result of calling `frame.insert` many times, which has poor performance.  Consider joining all columns at once using pd.concat(axis=1) instead. To get a de-fragmented frame, use `newframe = frame.copy()`\n",
      "  variables[f'{col}_wavelet_{idx}'] = denoised_signal\n"
     ]
    },
    {
     "name": "stdout",
     "output_type": "stream",
     "text": [
      "Gráfico salvo em: wavelet_denoising_plots_comparacao/comparacao_ws100_config_104.png\n",
      "Testando Configuração 105: Wavelet=db17, Level=4, Threshold Mode=soft, Signal Mode=periodization\n"
     ]
    },
    {
     "name": "stderr",
     "output_type": "stream",
     "text": [
      "/tmp/ipykernel_3088/3451176622.py:146: PerformanceWarning: DataFrame is highly fragmented.  This is usually the result of calling `frame.insert` many times, which has poor performance.  Consider joining all columns at once using pd.concat(axis=1) instead. To get a de-fragmented frame, use `newframe = frame.copy()`\n",
      "  variables[f'{col}_wavelet_{idx}'] = denoised_signal\n"
     ]
    },
    {
     "name": "stdout",
     "output_type": "stream",
     "text": [
      "Gráfico salvo em: wavelet_denoising_plots_comparacao/comparacao_ws100_config_105.png\n",
      "Testando Configuração 106: Wavelet=db17, Level=4, Threshold Mode=garrote, Signal Mode=symmetric\n"
     ]
    },
    {
     "name": "stderr",
     "output_type": "stream",
     "text": [
      "/tmp/ipykernel_3088/3451176622.py:146: PerformanceWarning: DataFrame is highly fragmented.  This is usually the result of calling `frame.insert` many times, which has poor performance.  Consider joining all columns at once using pd.concat(axis=1) instead. To get a de-fragmented frame, use `newframe = frame.copy()`\n",
      "  variables[f'{col}_wavelet_{idx}'] = denoised_signal\n"
     ]
    },
    {
     "name": "stdout",
     "output_type": "stream",
     "text": [
      "Gráfico salvo em: wavelet_denoising_plots_comparacao/comparacao_ws100_config_106.png\n",
      "Testando Configuração 107: Wavelet=db17, Level=4, Threshold Mode=garrote, Signal Mode=smooth\n"
     ]
    },
    {
     "name": "stderr",
     "output_type": "stream",
     "text": [
      "/tmp/ipykernel_3088/3451176622.py:146: PerformanceWarning: DataFrame is highly fragmented.  This is usually the result of calling `frame.insert` many times, which has poor performance.  Consider joining all columns at once using pd.concat(axis=1) instead. To get a de-fragmented frame, use `newframe = frame.copy()`\n",
      "  variables[f'{col}_wavelet_{idx}'] = denoised_signal\n"
     ]
    },
    {
     "name": "stdout",
     "output_type": "stream",
     "text": [
      "Gráfico salvo em: wavelet_denoising_plots_comparacao/comparacao_ws100_config_107.png\n",
      "Testando Configuração 108: Wavelet=db17, Level=4, Threshold Mode=garrote, Signal Mode=periodization\n"
     ]
    },
    {
     "name": "stderr",
     "output_type": "stream",
     "text": [
      "/tmp/ipykernel_3088/3451176622.py:146: PerformanceWarning: DataFrame is highly fragmented.  This is usually the result of calling `frame.insert` many times, which has poor performance.  Consider joining all columns at once using pd.concat(axis=1) instead. To get a de-fragmented frame, use `newframe = frame.copy()`\n",
      "  variables[f'{col}_wavelet_{idx}'] = denoised_signal\n"
     ]
    },
    {
     "name": "stdout",
     "output_type": "stream",
     "text": [
      "Gráfico salvo em: wavelet_denoising_plots_comparacao/comparacao_ws100_config_108.png\n",
      "Testando Configuração 109: Wavelet=db19, Level=3, Threshold Mode=soft, Signal Mode=symmetric\n"
     ]
    },
    {
     "name": "stderr",
     "output_type": "stream",
     "text": [
      "/tmp/ipykernel_3088/3451176622.py:146: PerformanceWarning: DataFrame is highly fragmented.  This is usually the result of calling `frame.insert` many times, which has poor performance.  Consider joining all columns at once using pd.concat(axis=1) instead. To get a de-fragmented frame, use `newframe = frame.copy()`\n",
      "  variables[f'{col}_wavelet_{idx}'] = denoised_signal\n"
     ]
    },
    {
     "name": "stdout",
     "output_type": "stream",
     "text": [
      "Gráfico salvo em: wavelet_denoising_plots_comparacao/comparacao_ws100_config_109.png\n",
      "Testando Configuração 110: Wavelet=db19, Level=3, Threshold Mode=soft, Signal Mode=smooth\n"
     ]
    },
    {
     "name": "stderr",
     "output_type": "stream",
     "text": [
      "/tmp/ipykernel_3088/3451176622.py:146: PerformanceWarning: DataFrame is highly fragmented.  This is usually the result of calling `frame.insert` many times, which has poor performance.  Consider joining all columns at once using pd.concat(axis=1) instead. To get a de-fragmented frame, use `newframe = frame.copy()`\n",
      "  variables[f'{col}_wavelet_{idx}'] = denoised_signal\n"
     ]
    },
    {
     "name": "stdout",
     "output_type": "stream",
     "text": [
      "Gráfico salvo em: wavelet_denoising_plots_comparacao/comparacao_ws100_config_110.png\n",
      "110 configurações processadas.\n",
      "Testando Configuração 111: Wavelet=db19, Level=3, Threshold Mode=soft, Signal Mode=periodization\n"
     ]
    },
    {
     "name": "stderr",
     "output_type": "stream",
     "text": [
      "/tmp/ipykernel_3088/3451176622.py:146: PerformanceWarning: DataFrame is highly fragmented.  This is usually the result of calling `frame.insert` many times, which has poor performance.  Consider joining all columns at once using pd.concat(axis=1) instead. To get a de-fragmented frame, use `newframe = frame.copy()`\n",
      "  variables[f'{col}_wavelet_{idx}'] = denoised_signal\n"
     ]
    },
    {
     "name": "stdout",
     "output_type": "stream",
     "text": [
      "Gráfico salvo em: wavelet_denoising_plots_comparacao/comparacao_ws100_config_111.png\n",
      "Testando Configuração 112: Wavelet=db19, Level=3, Threshold Mode=garrote, Signal Mode=symmetric\n"
     ]
    },
    {
     "name": "stderr",
     "output_type": "stream",
     "text": [
      "/tmp/ipykernel_3088/3451176622.py:146: PerformanceWarning: DataFrame is highly fragmented.  This is usually the result of calling `frame.insert` many times, which has poor performance.  Consider joining all columns at once using pd.concat(axis=1) instead. To get a de-fragmented frame, use `newframe = frame.copy()`\n",
      "  variables[f'{col}_wavelet_{idx}'] = denoised_signal\n"
     ]
    },
    {
     "name": "stdout",
     "output_type": "stream",
     "text": [
      "Gráfico salvo em: wavelet_denoising_plots_comparacao/comparacao_ws100_config_112.png\n",
      "Testando Configuração 113: Wavelet=db19, Level=3, Threshold Mode=garrote, Signal Mode=smooth\n"
     ]
    },
    {
     "name": "stderr",
     "output_type": "stream",
     "text": [
      "/tmp/ipykernel_3088/3451176622.py:146: PerformanceWarning: DataFrame is highly fragmented.  This is usually the result of calling `frame.insert` many times, which has poor performance.  Consider joining all columns at once using pd.concat(axis=1) instead. To get a de-fragmented frame, use `newframe = frame.copy()`\n",
      "  variables[f'{col}_wavelet_{idx}'] = denoised_signal\n"
     ]
    },
    {
     "name": "stdout",
     "output_type": "stream",
     "text": [
      "Gráfico salvo em: wavelet_denoising_plots_comparacao/comparacao_ws100_config_113.png\n",
      "Testando Configuração 114: Wavelet=db19, Level=3, Threshold Mode=garrote, Signal Mode=periodization\n"
     ]
    },
    {
     "name": "stderr",
     "output_type": "stream",
     "text": [
      "/tmp/ipykernel_3088/3451176622.py:146: PerformanceWarning: DataFrame is highly fragmented.  This is usually the result of calling `frame.insert` many times, which has poor performance.  Consider joining all columns at once using pd.concat(axis=1) instead. To get a de-fragmented frame, use `newframe = frame.copy()`\n",
      "  variables[f'{col}_wavelet_{idx}'] = denoised_signal\n"
     ]
    },
    {
     "name": "stdout",
     "output_type": "stream",
     "text": [
      "Gráfico salvo em: wavelet_denoising_plots_comparacao/comparacao_ws100_config_114.png\n",
      "Testando Configuração 115: Wavelet=db19, Level=4, Threshold Mode=soft, Signal Mode=symmetric\n"
     ]
    },
    {
     "name": "stderr",
     "output_type": "stream",
     "text": [
      "/tmp/ipykernel_3088/3451176622.py:146: PerformanceWarning: DataFrame is highly fragmented.  This is usually the result of calling `frame.insert` many times, which has poor performance.  Consider joining all columns at once using pd.concat(axis=1) instead. To get a de-fragmented frame, use `newframe = frame.copy()`\n",
      "  variables[f'{col}_wavelet_{idx}'] = denoised_signal\n"
     ]
    },
    {
     "name": "stdout",
     "output_type": "stream",
     "text": [
      "Gráfico salvo em: wavelet_denoising_plots_comparacao/comparacao_ws100_config_115.png\n",
      "Testando Configuração 116: Wavelet=db19, Level=4, Threshold Mode=soft, Signal Mode=smooth\n"
     ]
    },
    {
     "name": "stderr",
     "output_type": "stream",
     "text": [
      "/tmp/ipykernel_3088/3451176622.py:146: PerformanceWarning: DataFrame is highly fragmented.  This is usually the result of calling `frame.insert` many times, which has poor performance.  Consider joining all columns at once using pd.concat(axis=1) instead. To get a de-fragmented frame, use `newframe = frame.copy()`\n",
      "  variables[f'{col}_wavelet_{idx}'] = denoised_signal\n"
     ]
    },
    {
     "name": "stdout",
     "output_type": "stream",
     "text": [
      "Gráfico salvo em: wavelet_denoising_plots_comparacao/comparacao_ws100_config_116.png\n",
      "Testando Configuração 117: Wavelet=db19, Level=4, Threshold Mode=soft, Signal Mode=periodization\n"
     ]
    },
    {
     "name": "stderr",
     "output_type": "stream",
     "text": [
      "/tmp/ipykernel_3088/3451176622.py:146: PerformanceWarning: DataFrame is highly fragmented.  This is usually the result of calling `frame.insert` many times, which has poor performance.  Consider joining all columns at once using pd.concat(axis=1) instead. To get a de-fragmented frame, use `newframe = frame.copy()`\n",
      "  variables[f'{col}_wavelet_{idx}'] = denoised_signal\n"
     ]
    },
    {
     "name": "stdout",
     "output_type": "stream",
     "text": [
      "Gráfico salvo em: wavelet_denoising_plots_comparacao/comparacao_ws100_config_117.png\n",
      "Testando Configuração 118: Wavelet=db19, Level=4, Threshold Mode=garrote, Signal Mode=symmetric\n"
     ]
    },
    {
     "name": "stderr",
     "output_type": "stream",
     "text": [
      "/tmp/ipykernel_3088/3451176622.py:146: PerformanceWarning: DataFrame is highly fragmented.  This is usually the result of calling `frame.insert` many times, which has poor performance.  Consider joining all columns at once using pd.concat(axis=1) instead. To get a de-fragmented frame, use `newframe = frame.copy()`\n",
      "  variables[f'{col}_wavelet_{idx}'] = denoised_signal\n"
     ]
    },
    {
     "name": "stdout",
     "output_type": "stream",
     "text": [
      "Gráfico salvo em: wavelet_denoising_plots_comparacao/comparacao_ws100_config_118.png\n",
      "Testando Configuração 119: Wavelet=db19, Level=4, Threshold Mode=garrote, Signal Mode=smooth\n"
     ]
    },
    {
     "name": "stderr",
     "output_type": "stream",
     "text": [
      "/tmp/ipykernel_3088/3451176622.py:146: PerformanceWarning: DataFrame is highly fragmented.  This is usually the result of calling `frame.insert` many times, which has poor performance.  Consider joining all columns at once using pd.concat(axis=1) instead. To get a de-fragmented frame, use `newframe = frame.copy()`\n",
      "  variables[f'{col}_wavelet_{idx}'] = denoised_signal\n"
     ]
    },
    {
     "name": "stdout",
     "output_type": "stream",
     "text": [
      "Gráfico salvo em: wavelet_denoising_plots_comparacao/comparacao_ws100_config_119.png\n",
      "Testando Configuração 120: Wavelet=db19, Level=4, Threshold Mode=garrote, Signal Mode=periodization\n"
     ]
    },
    {
     "name": "stderr",
     "output_type": "stream",
     "text": [
      "/tmp/ipykernel_3088/3451176622.py:146: PerformanceWarning: DataFrame is highly fragmented.  This is usually the result of calling `frame.insert` many times, which has poor performance.  Consider joining all columns at once using pd.concat(axis=1) instead. To get a de-fragmented frame, use `newframe = frame.copy()`\n",
      "  variables[f'{col}_wavelet_{idx}'] = denoised_signal\n"
     ]
    },
    {
     "name": "stdout",
     "output_type": "stream",
     "text": [
      "Gráfico salvo em: wavelet_denoising_plots_comparacao/comparacao_ws100_config_120.png\n",
      "120 configurações processadas.\n",
      "Testando Configuração 121: Wavelet=sym2, Level=3, Threshold Mode=soft, Signal Mode=symmetric\n"
     ]
    },
    {
     "name": "stderr",
     "output_type": "stream",
     "text": [
      "/tmp/ipykernel_3088/3451176622.py:146: PerformanceWarning: DataFrame is highly fragmented.  This is usually the result of calling `frame.insert` many times, which has poor performance.  Consider joining all columns at once using pd.concat(axis=1) instead. To get a de-fragmented frame, use `newframe = frame.copy()`\n",
      "  variables[f'{col}_wavelet_{idx}'] = denoised_signal\n"
     ]
    },
    {
     "name": "stdout",
     "output_type": "stream",
     "text": [
      "Gráfico salvo em: wavelet_denoising_plots_comparacao/comparacao_ws100_config_121.png\n",
      "Testando Configuração 122: Wavelet=sym2, Level=3, Threshold Mode=soft, Signal Mode=smooth\n"
     ]
    },
    {
     "name": "stderr",
     "output_type": "stream",
     "text": [
      "/tmp/ipykernel_3088/3451176622.py:146: PerformanceWarning: DataFrame is highly fragmented.  This is usually the result of calling `frame.insert` many times, which has poor performance.  Consider joining all columns at once using pd.concat(axis=1) instead. To get a de-fragmented frame, use `newframe = frame.copy()`\n",
      "  variables[f'{col}_wavelet_{idx}'] = denoised_signal\n"
     ]
    },
    {
     "name": "stdout",
     "output_type": "stream",
     "text": [
      "Gráfico salvo em: wavelet_denoising_plots_comparacao/comparacao_ws100_config_122.png\n",
      "Testando Configuração 123: Wavelet=sym2, Level=3, Threshold Mode=soft, Signal Mode=periodization\n"
     ]
    },
    {
     "name": "stderr",
     "output_type": "stream",
     "text": [
      "/tmp/ipykernel_3088/3451176622.py:146: PerformanceWarning: DataFrame is highly fragmented.  This is usually the result of calling `frame.insert` many times, which has poor performance.  Consider joining all columns at once using pd.concat(axis=1) instead. To get a de-fragmented frame, use `newframe = frame.copy()`\n",
      "  variables[f'{col}_wavelet_{idx}'] = denoised_signal\n"
     ]
    },
    {
     "name": "stdout",
     "output_type": "stream",
     "text": [
      "Gráfico salvo em: wavelet_denoising_plots_comparacao/comparacao_ws100_config_123.png\n",
      "Testando Configuração 124: Wavelet=sym2, Level=3, Threshold Mode=garrote, Signal Mode=symmetric\n"
     ]
    },
    {
     "name": "stderr",
     "output_type": "stream",
     "text": [
      "/tmp/ipykernel_3088/3451176622.py:146: PerformanceWarning: DataFrame is highly fragmented.  This is usually the result of calling `frame.insert` many times, which has poor performance.  Consider joining all columns at once using pd.concat(axis=1) instead. To get a de-fragmented frame, use `newframe = frame.copy()`\n",
      "  variables[f'{col}_wavelet_{idx}'] = denoised_signal\n"
     ]
    },
    {
     "name": "stdout",
     "output_type": "stream",
     "text": [
      "Gráfico salvo em: wavelet_denoising_plots_comparacao/comparacao_ws100_config_124.png\n",
      "Testando Configuração 125: Wavelet=sym2, Level=3, Threshold Mode=garrote, Signal Mode=smooth\n"
     ]
    },
    {
     "name": "stderr",
     "output_type": "stream",
     "text": [
      "/tmp/ipykernel_3088/3451176622.py:146: PerformanceWarning: DataFrame is highly fragmented.  This is usually the result of calling `frame.insert` many times, which has poor performance.  Consider joining all columns at once using pd.concat(axis=1) instead. To get a de-fragmented frame, use `newframe = frame.copy()`\n",
      "  variables[f'{col}_wavelet_{idx}'] = denoised_signal\n"
     ]
    },
    {
     "name": "stdout",
     "output_type": "stream",
     "text": [
      "Gráfico salvo em: wavelet_denoising_plots_comparacao/comparacao_ws100_config_125.png\n",
      "Testando Configuração 126: Wavelet=sym2, Level=3, Threshold Mode=garrote, Signal Mode=periodization\n"
     ]
    },
    {
     "name": "stderr",
     "output_type": "stream",
     "text": [
      "/tmp/ipykernel_3088/3451176622.py:146: PerformanceWarning: DataFrame is highly fragmented.  This is usually the result of calling `frame.insert` many times, which has poor performance.  Consider joining all columns at once using pd.concat(axis=1) instead. To get a de-fragmented frame, use `newframe = frame.copy()`\n",
      "  variables[f'{col}_wavelet_{idx}'] = denoised_signal\n"
     ]
    },
    {
     "name": "stdout",
     "output_type": "stream",
     "text": [
      "Gráfico salvo em: wavelet_denoising_plots_comparacao/comparacao_ws100_config_126.png\n",
      "Testando Configuração 127: Wavelet=sym2, Level=4, Threshold Mode=soft, Signal Mode=symmetric\n"
     ]
    },
    {
     "name": "stderr",
     "output_type": "stream",
     "text": [
      "/tmp/ipykernel_3088/3451176622.py:146: PerformanceWarning: DataFrame is highly fragmented.  This is usually the result of calling `frame.insert` many times, which has poor performance.  Consider joining all columns at once using pd.concat(axis=1) instead. To get a de-fragmented frame, use `newframe = frame.copy()`\n",
      "  variables[f'{col}_wavelet_{idx}'] = denoised_signal\n"
     ]
    },
    {
     "name": "stdout",
     "output_type": "stream",
     "text": [
      "Gráfico salvo em: wavelet_denoising_plots_comparacao/comparacao_ws100_config_127.png\n",
      "Testando Configuração 128: Wavelet=sym2, Level=4, Threshold Mode=soft, Signal Mode=smooth\n"
     ]
    },
    {
     "name": "stderr",
     "output_type": "stream",
     "text": [
      "/tmp/ipykernel_3088/3451176622.py:146: PerformanceWarning: DataFrame is highly fragmented.  This is usually the result of calling `frame.insert` many times, which has poor performance.  Consider joining all columns at once using pd.concat(axis=1) instead. To get a de-fragmented frame, use `newframe = frame.copy()`\n",
      "  variables[f'{col}_wavelet_{idx}'] = denoised_signal\n"
     ]
    },
    {
     "name": "stdout",
     "output_type": "stream",
     "text": [
      "Gráfico salvo em: wavelet_denoising_plots_comparacao/comparacao_ws100_config_128.png\n",
      "Testando Configuração 129: Wavelet=sym2, Level=4, Threshold Mode=soft, Signal Mode=periodization\n"
     ]
    },
    {
     "name": "stderr",
     "output_type": "stream",
     "text": [
      "/tmp/ipykernel_3088/3451176622.py:146: PerformanceWarning: DataFrame is highly fragmented.  This is usually the result of calling `frame.insert` many times, which has poor performance.  Consider joining all columns at once using pd.concat(axis=1) instead. To get a de-fragmented frame, use `newframe = frame.copy()`\n",
      "  variables[f'{col}_wavelet_{idx}'] = denoised_signal\n"
     ]
    },
    {
     "name": "stdout",
     "output_type": "stream",
     "text": [
      "Gráfico salvo em: wavelet_denoising_plots_comparacao/comparacao_ws100_config_129.png\n",
      "Testando Configuração 130: Wavelet=sym2, Level=4, Threshold Mode=garrote, Signal Mode=symmetric\n"
     ]
    },
    {
     "name": "stderr",
     "output_type": "stream",
     "text": [
      "/tmp/ipykernel_3088/3451176622.py:146: PerformanceWarning: DataFrame is highly fragmented.  This is usually the result of calling `frame.insert` many times, which has poor performance.  Consider joining all columns at once using pd.concat(axis=1) instead. To get a de-fragmented frame, use `newframe = frame.copy()`\n",
      "  variables[f'{col}_wavelet_{idx}'] = denoised_signal\n"
     ]
    },
    {
     "name": "stdout",
     "output_type": "stream",
     "text": [
      "Gráfico salvo em: wavelet_denoising_plots_comparacao/comparacao_ws100_config_130.png\n",
      "130 configurações processadas.\n",
      "Testando Configuração 131: Wavelet=sym2, Level=4, Threshold Mode=garrote, Signal Mode=smooth\n"
     ]
    },
    {
     "name": "stderr",
     "output_type": "stream",
     "text": [
      "/tmp/ipykernel_3088/3451176622.py:146: PerformanceWarning: DataFrame is highly fragmented.  This is usually the result of calling `frame.insert` many times, which has poor performance.  Consider joining all columns at once using pd.concat(axis=1) instead. To get a de-fragmented frame, use `newframe = frame.copy()`\n",
      "  variables[f'{col}_wavelet_{idx}'] = denoised_signal\n"
     ]
    },
    {
     "name": "stdout",
     "output_type": "stream",
     "text": [
      "Gráfico salvo em: wavelet_denoising_plots_comparacao/comparacao_ws100_config_131.png\n",
      "Testando Configuração 132: Wavelet=sym2, Level=4, Threshold Mode=garrote, Signal Mode=periodization\n"
     ]
    },
    {
     "name": "stderr",
     "output_type": "stream",
     "text": [
      "/tmp/ipykernel_3088/3451176622.py:146: PerformanceWarning: DataFrame is highly fragmented.  This is usually the result of calling `frame.insert` many times, which has poor performance.  Consider joining all columns at once using pd.concat(axis=1) instead. To get a de-fragmented frame, use `newframe = frame.copy()`\n",
      "  variables[f'{col}_wavelet_{idx}'] = denoised_signal\n"
     ]
    },
    {
     "name": "stdout",
     "output_type": "stream",
     "text": [
      "Gráfico salvo em: wavelet_denoising_plots_comparacao/comparacao_ws100_config_132.png\n",
      "Testando Configuração 133: Wavelet=sym4, Level=3, Threshold Mode=soft, Signal Mode=symmetric\n"
     ]
    },
    {
     "name": "stderr",
     "output_type": "stream",
     "text": [
      "/tmp/ipykernel_3088/3451176622.py:146: PerformanceWarning: DataFrame is highly fragmented.  This is usually the result of calling `frame.insert` many times, which has poor performance.  Consider joining all columns at once using pd.concat(axis=1) instead. To get a de-fragmented frame, use `newframe = frame.copy()`\n",
      "  variables[f'{col}_wavelet_{idx}'] = denoised_signal\n"
     ]
    },
    {
     "name": "stdout",
     "output_type": "stream",
     "text": [
      "Gráfico salvo em: wavelet_denoising_plots_comparacao/comparacao_ws100_config_133.png\n",
      "Testando Configuração 134: Wavelet=sym4, Level=3, Threshold Mode=soft, Signal Mode=smooth\n"
     ]
    },
    {
     "name": "stderr",
     "output_type": "stream",
     "text": [
      "/tmp/ipykernel_3088/3451176622.py:146: PerformanceWarning: DataFrame is highly fragmented.  This is usually the result of calling `frame.insert` many times, which has poor performance.  Consider joining all columns at once using pd.concat(axis=1) instead. To get a de-fragmented frame, use `newframe = frame.copy()`\n",
      "  variables[f'{col}_wavelet_{idx}'] = denoised_signal\n"
     ]
    },
    {
     "name": "stdout",
     "output_type": "stream",
     "text": [
      "Gráfico salvo em: wavelet_denoising_plots_comparacao/comparacao_ws100_config_134.png\n",
      "Testando Configuração 135: Wavelet=sym4, Level=3, Threshold Mode=soft, Signal Mode=periodization\n"
     ]
    },
    {
     "name": "stderr",
     "output_type": "stream",
     "text": [
      "/tmp/ipykernel_3088/3451176622.py:146: PerformanceWarning: DataFrame is highly fragmented.  This is usually the result of calling `frame.insert` many times, which has poor performance.  Consider joining all columns at once using pd.concat(axis=1) instead. To get a de-fragmented frame, use `newframe = frame.copy()`\n",
      "  variables[f'{col}_wavelet_{idx}'] = denoised_signal\n"
     ]
    },
    {
     "name": "stdout",
     "output_type": "stream",
     "text": [
      "Gráfico salvo em: wavelet_denoising_plots_comparacao/comparacao_ws100_config_135.png\n",
      "Testando Configuração 136: Wavelet=sym4, Level=3, Threshold Mode=garrote, Signal Mode=symmetric\n"
     ]
    },
    {
     "name": "stderr",
     "output_type": "stream",
     "text": [
      "/tmp/ipykernel_3088/3451176622.py:146: PerformanceWarning: DataFrame is highly fragmented.  This is usually the result of calling `frame.insert` many times, which has poor performance.  Consider joining all columns at once using pd.concat(axis=1) instead. To get a de-fragmented frame, use `newframe = frame.copy()`\n",
      "  variables[f'{col}_wavelet_{idx}'] = denoised_signal\n"
     ]
    },
    {
     "name": "stdout",
     "output_type": "stream",
     "text": [
      "Gráfico salvo em: wavelet_denoising_plots_comparacao/comparacao_ws100_config_136.png\n",
      "Testando Configuração 137: Wavelet=sym4, Level=3, Threshold Mode=garrote, Signal Mode=smooth\n"
     ]
    },
    {
     "name": "stderr",
     "output_type": "stream",
     "text": [
      "/tmp/ipykernel_3088/3451176622.py:146: PerformanceWarning: DataFrame is highly fragmented.  This is usually the result of calling `frame.insert` many times, which has poor performance.  Consider joining all columns at once using pd.concat(axis=1) instead. To get a de-fragmented frame, use `newframe = frame.copy()`\n",
      "  variables[f'{col}_wavelet_{idx}'] = denoised_signal\n"
     ]
    },
    {
     "name": "stdout",
     "output_type": "stream",
     "text": [
      "Gráfico salvo em: wavelet_denoising_plots_comparacao/comparacao_ws100_config_137.png\n",
      "Testando Configuração 138: Wavelet=sym4, Level=3, Threshold Mode=garrote, Signal Mode=periodization\n"
     ]
    },
    {
     "name": "stderr",
     "output_type": "stream",
     "text": [
      "/tmp/ipykernel_3088/3451176622.py:146: PerformanceWarning: DataFrame is highly fragmented.  This is usually the result of calling `frame.insert` many times, which has poor performance.  Consider joining all columns at once using pd.concat(axis=1) instead. To get a de-fragmented frame, use `newframe = frame.copy()`\n",
      "  variables[f'{col}_wavelet_{idx}'] = denoised_signal\n"
     ]
    },
    {
     "name": "stdout",
     "output_type": "stream",
     "text": [
      "Gráfico salvo em: wavelet_denoising_plots_comparacao/comparacao_ws100_config_138.png\n",
      "Testando Configuração 139: Wavelet=sym4, Level=4, Threshold Mode=soft, Signal Mode=symmetric\n"
     ]
    },
    {
     "name": "stderr",
     "output_type": "stream",
     "text": [
      "/tmp/ipykernel_3088/3451176622.py:146: PerformanceWarning: DataFrame is highly fragmented.  This is usually the result of calling `frame.insert` many times, which has poor performance.  Consider joining all columns at once using pd.concat(axis=1) instead. To get a de-fragmented frame, use `newframe = frame.copy()`\n",
      "  variables[f'{col}_wavelet_{idx}'] = denoised_signal\n"
     ]
    },
    {
     "name": "stdout",
     "output_type": "stream",
     "text": [
      "Gráfico salvo em: wavelet_denoising_plots_comparacao/comparacao_ws100_config_139.png\n",
      "Testando Configuração 140: Wavelet=sym4, Level=4, Threshold Mode=soft, Signal Mode=smooth\n"
     ]
    },
    {
     "name": "stderr",
     "output_type": "stream",
     "text": [
      "/tmp/ipykernel_3088/3451176622.py:146: PerformanceWarning: DataFrame is highly fragmented.  This is usually the result of calling `frame.insert` many times, which has poor performance.  Consider joining all columns at once using pd.concat(axis=1) instead. To get a de-fragmented frame, use `newframe = frame.copy()`\n",
      "  variables[f'{col}_wavelet_{idx}'] = denoised_signal\n"
     ]
    },
    {
     "name": "stdout",
     "output_type": "stream",
     "text": [
      "Gráfico salvo em: wavelet_denoising_plots_comparacao/comparacao_ws100_config_140.png\n",
      "140 configurações processadas.\n",
      "Testando Configuração 141: Wavelet=sym4, Level=4, Threshold Mode=soft, Signal Mode=periodization\n"
     ]
    },
    {
     "name": "stderr",
     "output_type": "stream",
     "text": [
      "/tmp/ipykernel_3088/3451176622.py:146: PerformanceWarning: DataFrame is highly fragmented.  This is usually the result of calling `frame.insert` many times, which has poor performance.  Consider joining all columns at once using pd.concat(axis=1) instead. To get a de-fragmented frame, use `newframe = frame.copy()`\n",
      "  variables[f'{col}_wavelet_{idx}'] = denoised_signal\n"
     ]
    },
    {
     "name": "stdout",
     "output_type": "stream",
     "text": [
      "Gráfico salvo em: wavelet_denoising_plots_comparacao/comparacao_ws100_config_141.png\n",
      "Testando Configuração 142: Wavelet=sym4, Level=4, Threshold Mode=garrote, Signal Mode=symmetric\n"
     ]
    },
    {
     "name": "stderr",
     "output_type": "stream",
     "text": [
      "/tmp/ipykernel_3088/3451176622.py:146: PerformanceWarning: DataFrame is highly fragmented.  This is usually the result of calling `frame.insert` many times, which has poor performance.  Consider joining all columns at once using pd.concat(axis=1) instead. To get a de-fragmented frame, use `newframe = frame.copy()`\n",
      "  variables[f'{col}_wavelet_{idx}'] = denoised_signal\n"
     ]
    },
    {
     "name": "stdout",
     "output_type": "stream",
     "text": [
      "Gráfico salvo em: wavelet_denoising_plots_comparacao/comparacao_ws100_config_142.png\n",
      "Testando Configuração 143: Wavelet=sym4, Level=4, Threshold Mode=garrote, Signal Mode=smooth\n"
     ]
    },
    {
     "name": "stderr",
     "output_type": "stream",
     "text": [
      "/tmp/ipykernel_3088/3451176622.py:146: PerformanceWarning: DataFrame is highly fragmented.  This is usually the result of calling `frame.insert` many times, which has poor performance.  Consider joining all columns at once using pd.concat(axis=1) instead. To get a de-fragmented frame, use `newframe = frame.copy()`\n",
      "  variables[f'{col}_wavelet_{idx}'] = denoised_signal\n"
     ]
    },
    {
     "name": "stdout",
     "output_type": "stream",
     "text": [
      "Gráfico salvo em: wavelet_denoising_plots_comparacao/comparacao_ws100_config_143.png\n",
      "Testando Configuração 144: Wavelet=sym4, Level=4, Threshold Mode=garrote, Signal Mode=periodization\n"
     ]
    },
    {
     "name": "stderr",
     "output_type": "stream",
     "text": [
      "/tmp/ipykernel_3088/3451176622.py:146: PerformanceWarning: DataFrame is highly fragmented.  This is usually the result of calling `frame.insert` many times, which has poor performance.  Consider joining all columns at once using pd.concat(axis=1) instead. To get a de-fragmented frame, use `newframe = frame.copy()`\n",
      "  variables[f'{col}_wavelet_{idx}'] = denoised_signal\n"
     ]
    },
    {
     "name": "stdout",
     "output_type": "stream",
     "text": [
      "Gráfico salvo em: wavelet_denoising_plots_comparacao/comparacao_ws100_config_144.png\n",
      "Testando Configuração 145: Wavelet=sym6, Level=3, Threshold Mode=soft, Signal Mode=symmetric\n"
     ]
    },
    {
     "name": "stderr",
     "output_type": "stream",
     "text": [
      "/tmp/ipykernel_3088/3451176622.py:146: PerformanceWarning: DataFrame is highly fragmented.  This is usually the result of calling `frame.insert` many times, which has poor performance.  Consider joining all columns at once using pd.concat(axis=1) instead. To get a de-fragmented frame, use `newframe = frame.copy()`\n",
      "  variables[f'{col}_wavelet_{idx}'] = denoised_signal\n"
     ]
    },
    {
     "name": "stdout",
     "output_type": "stream",
     "text": [
      "Gráfico salvo em: wavelet_denoising_plots_comparacao/comparacao_ws100_config_145.png\n",
      "Testando Configuração 146: Wavelet=sym6, Level=3, Threshold Mode=soft, Signal Mode=smooth\n"
     ]
    },
    {
     "name": "stderr",
     "output_type": "stream",
     "text": [
      "/tmp/ipykernel_3088/3451176622.py:146: PerformanceWarning: DataFrame is highly fragmented.  This is usually the result of calling `frame.insert` many times, which has poor performance.  Consider joining all columns at once using pd.concat(axis=1) instead. To get a de-fragmented frame, use `newframe = frame.copy()`\n",
      "  variables[f'{col}_wavelet_{idx}'] = denoised_signal\n"
     ]
    },
    {
     "name": "stdout",
     "output_type": "stream",
     "text": [
      "Gráfico salvo em: wavelet_denoising_plots_comparacao/comparacao_ws100_config_146.png\n",
      "Testando Configuração 147: Wavelet=sym6, Level=3, Threshold Mode=soft, Signal Mode=periodization\n"
     ]
    },
    {
     "name": "stderr",
     "output_type": "stream",
     "text": [
      "/tmp/ipykernel_3088/3451176622.py:146: PerformanceWarning: DataFrame is highly fragmented.  This is usually the result of calling `frame.insert` many times, which has poor performance.  Consider joining all columns at once using pd.concat(axis=1) instead. To get a de-fragmented frame, use `newframe = frame.copy()`\n",
      "  variables[f'{col}_wavelet_{idx}'] = denoised_signal\n"
     ]
    },
    {
     "name": "stdout",
     "output_type": "stream",
     "text": [
      "Gráfico salvo em: wavelet_denoising_plots_comparacao/comparacao_ws100_config_147.png\n",
      "Testando Configuração 148: Wavelet=sym6, Level=3, Threshold Mode=garrote, Signal Mode=symmetric\n"
     ]
    },
    {
     "name": "stderr",
     "output_type": "stream",
     "text": [
      "/tmp/ipykernel_3088/3451176622.py:146: PerformanceWarning: DataFrame is highly fragmented.  This is usually the result of calling `frame.insert` many times, which has poor performance.  Consider joining all columns at once using pd.concat(axis=1) instead. To get a de-fragmented frame, use `newframe = frame.copy()`\n",
      "  variables[f'{col}_wavelet_{idx}'] = denoised_signal\n"
     ]
    },
    {
     "name": "stdout",
     "output_type": "stream",
     "text": [
      "Gráfico salvo em: wavelet_denoising_plots_comparacao/comparacao_ws100_config_148.png\n",
      "Testando Configuração 149: Wavelet=sym6, Level=3, Threshold Mode=garrote, Signal Mode=smooth\n"
     ]
    },
    {
     "name": "stderr",
     "output_type": "stream",
     "text": [
      "/tmp/ipykernel_3088/3451176622.py:146: PerformanceWarning: DataFrame is highly fragmented.  This is usually the result of calling `frame.insert` many times, which has poor performance.  Consider joining all columns at once using pd.concat(axis=1) instead. To get a de-fragmented frame, use `newframe = frame.copy()`\n",
      "  variables[f'{col}_wavelet_{idx}'] = denoised_signal\n"
     ]
    },
    {
     "name": "stdout",
     "output_type": "stream",
     "text": [
      "Gráfico salvo em: wavelet_denoising_plots_comparacao/comparacao_ws100_config_149.png\n",
      "Testando Configuração 150: Wavelet=sym6, Level=3, Threshold Mode=garrote, Signal Mode=periodization\n"
     ]
    },
    {
     "name": "stderr",
     "output_type": "stream",
     "text": [
      "/tmp/ipykernel_3088/3451176622.py:146: PerformanceWarning: DataFrame is highly fragmented.  This is usually the result of calling `frame.insert` many times, which has poor performance.  Consider joining all columns at once using pd.concat(axis=1) instead. To get a de-fragmented frame, use `newframe = frame.copy()`\n",
      "  variables[f'{col}_wavelet_{idx}'] = denoised_signal\n"
     ]
    },
    {
     "name": "stdout",
     "output_type": "stream",
     "text": [
      "Gráfico salvo em: wavelet_denoising_plots_comparacao/comparacao_ws100_config_150.png\n",
      "150 configurações processadas.\n",
      "Testando Configuração 151: Wavelet=sym6, Level=4, Threshold Mode=soft, Signal Mode=symmetric\n"
     ]
    },
    {
     "name": "stderr",
     "output_type": "stream",
     "text": [
      "/tmp/ipykernel_3088/3451176622.py:146: PerformanceWarning: DataFrame is highly fragmented.  This is usually the result of calling `frame.insert` many times, which has poor performance.  Consider joining all columns at once using pd.concat(axis=1) instead. To get a de-fragmented frame, use `newframe = frame.copy()`\n",
      "  variables[f'{col}_wavelet_{idx}'] = denoised_signal\n"
     ]
    },
    {
     "name": "stdout",
     "output_type": "stream",
     "text": [
      "Gráfico salvo em: wavelet_denoising_plots_comparacao/comparacao_ws100_config_151.png\n",
      "Testando Configuração 152: Wavelet=sym6, Level=4, Threshold Mode=soft, Signal Mode=smooth\n"
     ]
    },
    {
     "name": "stderr",
     "output_type": "stream",
     "text": [
      "/tmp/ipykernel_3088/3451176622.py:146: PerformanceWarning: DataFrame is highly fragmented.  This is usually the result of calling `frame.insert` many times, which has poor performance.  Consider joining all columns at once using pd.concat(axis=1) instead. To get a de-fragmented frame, use `newframe = frame.copy()`\n",
      "  variables[f'{col}_wavelet_{idx}'] = denoised_signal\n"
     ]
    },
    {
     "name": "stdout",
     "output_type": "stream",
     "text": [
      "Gráfico salvo em: wavelet_denoising_plots_comparacao/comparacao_ws100_config_152.png\n",
      "Testando Configuração 153: Wavelet=sym6, Level=4, Threshold Mode=soft, Signal Mode=periodization\n"
     ]
    },
    {
     "name": "stderr",
     "output_type": "stream",
     "text": [
      "/tmp/ipykernel_3088/3451176622.py:146: PerformanceWarning: DataFrame is highly fragmented.  This is usually the result of calling `frame.insert` many times, which has poor performance.  Consider joining all columns at once using pd.concat(axis=1) instead. To get a de-fragmented frame, use `newframe = frame.copy()`\n",
      "  variables[f'{col}_wavelet_{idx}'] = denoised_signal\n"
     ]
    },
    {
     "name": "stdout",
     "output_type": "stream",
     "text": [
      "Gráfico salvo em: wavelet_denoising_plots_comparacao/comparacao_ws100_config_153.png\n",
      "Testando Configuração 154: Wavelet=sym6, Level=4, Threshold Mode=garrote, Signal Mode=symmetric\n"
     ]
    },
    {
     "name": "stderr",
     "output_type": "stream",
     "text": [
      "/tmp/ipykernel_3088/3451176622.py:146: PerformanceWarning: DataFrame is highly fragmented.  This is usually the result of calling `frame.insert` many times, which has poor performance.  Consider joining all columns at once using pd.concat(axis=1) instead. To get a de-fragmented frame, use `newframe = frame.copy()`\n",
      "  variables[f'{col}_wavelet_{idx}'] = denoised_signal\n"
     ]
    },
    {
     "name": "stdout",
     "output_type": "stream",
     "text": [
      "Gráfico salvo em: wavelet_denoising_plots_comparacao/comparacao_ws100_config_154.png\n",
      "Testando Configuração 155: Wavelet=sym6, Level=4, Threshold Mode=garrote, Signal Mode=smooth\n"
     ]
    },
    {
     "name": "stderr",
     "output_type": "stream",
     "text": [
      "/tmp/ipykernel_3088/3451176622.py:146: PerformanceWarning: DataFrame is highly fragmented.  This is usually the result of calling `frame.insert` many times, which has poor performance.  Consider joining all columns at once using pd.concat(axis=1) instead. To get a de-fragmented frame, use `newframe = frame.copy()`\n",
      "  variables[f'{col}_wavelet_{idx}'] = denoised_signal\n"
     ]
    },
    {
     "name": "stdout",
     "output_type": "stream",
     "text": [
      "Gráfico salvo em: wavelet_denoising_plots_comparacao/comparacao_ws100_config_155.png\n",
      "Testando Configuração 156: Wavelet=sym6, Level=4, Threshold Mode=garrote, Signal Mode=periodization\n"
     ]
    },
    {
     "name": "stderr",
     "output_type": "stream",
     "text": [
      "/tmp/ipykernel_3088/3451176622.py:146: PerformanceWarning: DataFrame is highly fragmented.  This is usually the result of calling `frame.insert` many times, which has poor performance.  Consider joining all columns at once using pd.concat(axis=1) instead. To get a de-fragmented frame, use `newframe = frame.copy()`\n",
      "  variables[f'{col}_wavelet_{idx}'] = denoised_signal\n"
     ]
    },
    {
     "name": "stdout",
     "output_type": "stream",
     "text": [
      "Gráfico salvo em: wavelet_denoising_plots_comparacao/comparacao_ws100_config_156.png\n",
      "Testando Configuração 157: Wavelet=sym8, Level=3, Threshold Mode=soft, Signal Mode=symmetric\n"
     ]
    },
    {
     "name": "stderr",
     "output_type": "stream",
     "text": [
      "/tmp/ipykernel_3088/3451176622.py:146: PerformanceWarning: DataFrame is highly fragmented.  This is usually the result of calling `frame.insert` many times, which has poor performance.  Consider joining all columns at once using pd.concat(axis=1) instead. To get a de-fragmented frame, use `newframe = frame.copy()`\n",
      "  variables[f'{col}_wavelet_{idx}'] = denoised_signal\n"
     ]
    },
    {
     "name": "stdout",
     "output_type": "stream",
     "text": [
      "Gráfico salvo em: wavelet_denoising_plots_comparacao/comparacao_ws100_config_157.png\n",
      "Testando Configuração 158: Wavelet=sym8, Level=3, Threshold Mode=soft, Signal Mode=smooth\n"
     ]
    },
    {
     "name": "stderr",
     "output_type": "stream",
     "text": [
      "/tmp/ipykernel_3088/3451176622.py:146: PerformanceWarning: DataFrame is highly fragmented.  This is usually the result of calling `frame.insert` many times, which has poor performance.  Consider joining all columns at once using pd.concat(axis=1) instead. To get a de-fragmented frame, use `newframe = frame.copy()`\n",
      "  variables[f'{col}_wavelet_{idx}'] = denoised_signal\n"
     ]
    },
    {
     "name": "stdout",
     "output_type": "stream",
     "text": [
      "Gráfico salvo em: wavelet_denoising_plots_comparacao/comparacao_ws100_config_158.png\n",
      "Testando Configuração 159: Wavelet=sym8, Level=3, Threshold Mode=soft, Signal Mode=periodization\n"
     ]
    },
    {
     "name": "stderr",
     "output_type": "stream",
     "text": [
      "/tmp/ipykernel_3088/3451176622.py:146: PerformanceWarning: DataFrame is highly fragmented.  This is usually the result of calling `frame.insert` many times, which has poor performance.  Consider joining all columns at once using pd.concat(axis=1) instead. To get a de-fragmented frame, use `newframe = frame.copy()`\n",
      "  variables[f'{col}_wavelet_{idx}'] = denoised_signal\n"
     ]
    },
    {
     "name": "stdout",
     "output_type": "stream",
     "text": [
      "Gráfico salvo em: wavelet_denoising_plots_comparacao/comparacao_ws100_config_159.png\n",
      "Testando Configuração 160: Wavelet=sym8, Level=3, Threshold Mode=garrote, Signal Mode=symmetric\n"
     ]
    },
    {
     "name": "stderr",
     "output_type": "stream",
     "text": [
      "/tmp/ipykernel_3088/3451176622.py:146: PerformanceWarning: DataFrame is highly fragmented.  This is usually the result of calling `frame.insert` many times, which has poor performance.  Consider joining all columns at once using pd.concat(axis=1) instead. To get a de-fragmented frame, use `newframe = frame.copy()`\n",
      "  variables[f'{col}_wavelet_{idx}'] = denoised_signal\n"
     ]
    },
    {
     "name": "stdout",
     "output_type": "stream",
     "text": [
      "Gráfico salvo em: wavelet_denoising_plots_comparacao/comparacao_ws100_config_160.png\n",
      "160 configurações processadas.\n",
      "Testando Configuração 161: Wavelet=sym8, Level=3, Threshold Mode=garrote, Signal Mode=smooth\n"
     ]
    },
    {
     "name": "stderr",
     "output_type": "stream",
     "text": [
      "/tmp/ipykernel_3088/3451176622.py:146: PerformanceWarning: DataFrame is highly fragmented.  This is usually the result of calling `frame.insert` many times, which has poor performance.  Consider joining all columns at once using pd.concat(axis=1) instead. To get a de-fragmented frame, use `newframe = frame.copy()`\n",
      "  variables[f'{col}_wavelet_{idx}'] = denoised_signal\n"
     ]
    },
    {
     "name": "stdout",
     "output_type": "stream",
     "text": [
      "Gráfico salvo em: wavelet_denoising_plots_comparacao/comparacao_ws100_config_161.png\n",
      "Testando Configuração 162: Wavelet=sym8, Level=3, Threshold Mode=garrote, Signal Mode=periodization\n"
     ]
    },
    {
     "name": "stderr",
     "output_type": "stream",
     "text": [
      "/tmp/ipykernel_3088/3451176622.py:146: PerformanceWarning: DataFrame is highly fragmented.  This is usually the result of calling `frame.insert` many times, which has poor performance.  Consider joining all columns at once using pd.concat(axis=1) instead. To get a de-fragmented frame, use `newframe = frame.copy()`\n",
      "  variables[f'{col}_wavelet_{idx}'] = denoised_signal\n"
     ]
    },
    {
     "name": "stdout",
     "output_type": "stream",
     "text": [
      "Gráfico salvo em: wavelet_denoising_plots_comparacao/comparacao_ws100_config_162.png\n",
      "Testando Configuração 163: Wavelet=sym8, Level=4, Threshold Mode=soft, Signal Mode=symmetric\n"
     ]
    },
    {
     "name": "stderr",
     "output_type": "stream",
     "text": [
      "/tmp/ipykernel_3088/3451176622.py:146: PerformanceWarning: DataFrame is highly fragmented.  This is usually the result of calling `frame.insert` many times, which has poor performance.  Consider joining all columns at once using pd.concat(axis=1) instead. To get a de-fragmented frame, use `newframe = frame.copy()`\n",
      "  variables[f'{col}_wavelet_{idx}'] = denoised_signal\n"
     ]
    },
    {
     "name": "stdout",
     "output_type": "stream",
     "text": [
      "Gráfico salvo em: wavelet_denoising_plots_comparacao/comparacao_ws100_config_163.png\n",
      "Testando Configuração 164: Wavelet=sym8, Level=4, Threshold Mode=soft, Signal Mode=smooth\n"
     ]
    },
    {
     "name": "stderr",
     "output_type": "stream",
     "text": [
      "/tmp/ipykernel_3088/3451176622.py:146: PerformanceWarning: DataFrame is highly fragmented.  This is usually the result of calling `frame.insert` many times, which has poor performance.  Consider joining all columns at once using pd.concat(axis=1) instead. To get a de-fragmented frame, use `newframe = frame.copy()`\n",
      "  variables[f'{col}_wavelet_{idx}'] = denoised_signal\n"
     ]
    },
    {
     "name": "stdout",
     "output_type": "stream",
     "text": [
      "Gráfico salvo em: wavelet_denoising_plots_comparacao/comparacao_ws100_config_164.png\n",
      "Testando Configuração 165: Wavelet=sym8, Level=4, Threshold Mode=soft, Signal Mode=periodization\n"
     ]
    },
    {
     "name": "stderr",
     "output_type": "stream",
     "text": [
      "/tmp/ipykernel_3088/3451176622.py:146: PerformanceWarning: DataFrame is highly fragmented.  This is usually the result of calling `frame.insert` many times, which has poor performance.  Consider joining all columns at once using pd.concat(axis=1) instead. To get a de-fragmented frame, use `newframe = frame.copy()`\n",
      "  variables[f'{col}_wavelet_{idx}'] = denoised_signal\n"
     ]
    },
    {
     "name": "stdout",
     "output_type": "stream",
     "text": [
      "Gráfico salvo em: wavelet_denoising_plots_comparacao/comparacao_ws100_config_165.png\n",
      "Testando Configuração 166: Wavelet=sym8, Level=4, Threshold Mode=garrote, Signal Mode=symmetric\n"
     ]
    },
    {
     "name": "stderr",
     "output_type": "stream",
     "text": [
      "/tmp/ipykernel_3088/3451176622.py:146: PerformanceWarning: DataFrame is highly fragmented.  This is usually the result of calling `frame.insert` many times, which has poor performance.  Consider joining all columns at once using pd.concat(axis=1) instead. To get a de-fragmented frame, use `newframe = frame.copy()`\n",
      "  variables[f'{col}_wavelet_{idx}'] = denoised_signal\n"
     ]
    },
    {
     "name": "stdout",
     "output_type": "stream",
     "text": [
      "Gráfico salvo em: wavelet_denoising_plots_comparacao/comparacao_ws100_config_166.png\n",
      "Testando Configuração 167: Wavelet=sym8, Level=4, Threshold Mode=garrote, Signal Mode=smooth\n"
     ]
    },
    {
     "name": "stderr",
     "output_type": "stream",
     "text": [
      "/tmp/ipykernel_3088/3451176622.py:146: PerformanceWarning: DataFrame is highly fragmented.  This is usually the result of calling `frame.insert` many times, which has poor performance.  Consider joining all columns at once using pd.concat(axis=1) instead. To get a de-fragmented frame, use `newframe = frame.copy()`\n",
      "  variables[f'{col}_wavelet_{idx}'] = denoised_signal\n"
     ]
    },
    {
     "name": "stdout",
     "output_type": "stream",
     "text": [
      "Gráfico salvo em: wavelet_denoising_plots_comparacao/comparacao_ws100_config_167.png\n",
      "Testando Configuração 168: Wavelet=sym8, Level=4, Threshold Mode=garrote, Signal Mode=periodization\n"
     ]
    },
    {
     "name": "stderr",
     "output_type": "stream",
     "text": [
      "/tmp/ipykernel_3088/3451176622.py:146: PerformanceWarning: DataFrame is highly fragmented.  This is usually the result of calling `frame.insert` many times, which has poor performance.  Consider joining all columns at once using pd.concat(axis=1) instead. To get a de-fragmented frame, use `newframe = frame.copy()`\n",
      "  variables[f'{col}_wavelet_{idx}'] = denoised_signal\n"
     ]
    },
    {
     "name": "stdout",
     "output_type": "stream",
     "text": [
      "Gráfico salvo em: wavelet_denoising_plots_comparacao/comparacao_ws100_config_168.png\n",
      "Testando Configuração 169: Wavelet=sym10, Level=3, Threshold Mode=soft, Signal Mode=symmetric\n"
     ]
    },
    {
     "name": "stderr",
     "output_type": "stream",
     "text": [
      "/tmp/ipykernel_3088/3451176622.py:146: PerformanceWarning: DataFrame is highly fragmented.  This is usually the result of calling `frame.insert` many times, which has poor performance.  Consider joining all columns at once using pd.concat(axis=1) instead. To get a de-fragmented frame, use `newframe = frame.copy()`\n",
      "  variables[f'{col}_wavelet_{idx}'] = denoised_signal\n"
     ]
    },
    {
     "name": "stdout",
     "output_type": "stream",
     "text": [
      "Gráfico salvo em: wavelet_denoising_plots_comparacao/comparacao_ws100_config_169.png\n",
      "Testando Configuração 170: Wavelet=sym10, Level=3, Threshold Mode=soft, Signal Mode=smooth\n"
     ]
    },
    {
     "name": "stderr",
     "output_type": "stream",
     "text": [
      "/tmp/ipykernel_3088/3451176622.py:146: PerformanceWarning: DataFrame is highly fragmented.  This is usually the result of calling `frame.insert` many times, which has poor performance.  Consider joining all columns at once using pd.concat(axis=1) instead. To get a de-fragmented frame, use `newframe = frame.copy()`\n",
      "  variables[f'{col}_wavelet_{idx}'] = denoised_signal\n"
     ]
    },
    {
     "name": "stdout",
     "output_type": "stream",
     "text": [
      "Gráfico salvo em: wavelet_denoising_plots_comparacao/comparacao_ws100_config_170.png\n",
      "170 configurações processadas.\n",
      "Testando Configuração 171: Wavelet=sym10, Level=3, Threshold Mode=soft, Signal Mode=periodization\n"
     ]
    },
    {
     "name": "stderr",
     "output_type": "stream",
     "text": [
      "/tmp/ipykernel_3088/3451176622.py:146: PerformanceWarning: DataFrame is highly fragmented.  This is usually the result of calling `frame.insert` many times, which has poor performance.  Consider joining all columns at once using pd.concat(axis=1) instead. To get a de-fragmented frame, use `newframe = frame.copy()`\n",
      "  variables[f'{col}_wavelet_{idx}'] = denoised_signal\n"
     ]
    },
    {
     "name": "stdout",
     "output_type": "stream",
     "text": [
      "Gráfico salvo em: wavelet_denoising_plots_comparacao/comparacao_ws100_config_171.png\n",
      "Testando Configuração 172: Wavelet=sym10, Level=3, Threshold Mode=garrote, Signal Mode=symmetric\n"
     ]
    },
    {
     "name": "stderr",
     "output_type": "stream",
     "text": [
      "/tmp/ipykernel_3088/3451176622.py:146: PerformanceWarning: DataFrame is highly fragmented.  This is usually the result of calling `frame.insert` many times, which has poor performance.  Consider joining all columns at once using pd.concat(axis=1) instead. To get a de-fragmented frame, use `newframe = frame.copy()`\n",
      "  variables[f'{col}_wavelet_{idx}'] = denoised_signal\n"
     ]
    },
    {
     "name": "stdout",
     "output_type": "stream",
     "text": [
      "Gráfico salvo em: wavelet_denoising_plots_comparacao/comparacao_ws100_config_172.png\n",
      "Testando Configuração 173: Wavelet=sym10, Level=3, Threshold Mode=garrote, Signal Mode=smooth\n"
     ]
    },
    {
     "name": "stderr",
     "output_type": "stream",
     "text": [
      "/tmp/ipykernel_3088/3451176622.py:146: PerformanceWarning: DataFrame is highly fragmented.  This is usually the result of calling `frame.insert` many times, which has poor performance.  Consider joining all columns at once using pd.concat(axis=1) instead. To get a de-fragmented frame, use `newframe = frame.copy()`\n",
      "  variables[f'{col}_wavelet_{idx}'] = denoised_signal\n"
     ]
    },
    {
     "name": "stdout",
     "output_type": "stream",
     "text": [
      "Gráfico salvo em: wavelet_denoising_plots_comparacao/comparacao_ws100_config_173.png\n",
      "Testando Configuração 174: Wavelet=sym10, Level=3, Threshold Mode=garrote, Signal Mode=periodization\n"
     ]
    },
    {
     "name": "stderr",
     "output_type": "stream",
     "text": [
      "/tmp/ipykernel_3088/3451176622.py:146: PerformanceWarning: DataFrame is highly fragmented.  This is usually the result of calling `frame.insert` many times, which has poor performance.  Consider joining all columns at once using pd.concat(axis=1) instead. To get a de-fragmented frame, use `newframe = frame.copy()`\n",
      "  variables[f'{col}_wavelet_{idx}'] = denoised_signal\n"
     ]
    },
    {
     "name": "stdout",
     "output_type": "stream",
     "text": [
      "Gráfico salvo em: wavelet_denoising_plots_comparacao/comparacao_ws100_config_174.png\n",
      "Testando Configuração 175: Wavelet=sym10, Level=4, Threshold Mode=soft, Signal Mode=symmetric\n"
     ]
    },
    {
     "name": "stderr",
     "output_type": "stream",
     "text": [
      "/tmp/ipykernel_3088/3451176622.py:146: PerformanceWarning: DataFrame is highly fragmented.  This is usually the result of calling `frame.insert` many times, which has poor performance.  Consider joining all columns at once using pd.concat(axis=1) instead. To get a de-fragmented frame, use `newframe = frame.copy()`\n",
      "  variables[f'{col}_wavelet_{idx}'] = denoised_signal\n"
     ]
    },
    {
     "name": "stdout",
     "output_type": "stream",
     "text": [
      "Gráfico salvo em: wavelet_denoising_plots_comparacao/comparacao_ws100_config_175.png\n",
      "Testando Configuração 176: Wavelet=sym10, Level=4, Threshold Mode=soft, Signal Mode=smooth\n"
     ]
    },
    {
     "name": "stderr",
     "output_type": "stream",
     "text": [
      "/tmp/ipykernel_3088/3451176622.py:146: PerformanceWarning: DataFrame is highly fragmented.  This is usually the result of calling `frame.insert` many times, which has poor performance.  Consider joining all columns at once using pd.concat(axis=1) instead. To get a de-fragmented frame, use `newframe = frame.copy()`\n",
      "  variables[f'{col}_wavelet_{idx}'] = denoised_signal\n"
     ]
    },
    {
     "name": "stdout",
     "output_type": "stream",
     "text": [
      "Gráfico salvo em: wavelet_denoising_plots_comparacao/comparacao_ws100_config_176.png\n",
      "Testando Configuração 177: Wavelet=sym10, Level=4, Threshold Mode=soft, Signal Mode=periodization\n"
     ]
    },
    {
     "name": "stderr",
     "output_type": "stream",
     "text": [
      "/tmp/ipykernel_3088/3451176622.py:146: PerformanceWarning: DataFrame is highly fragmented.  This is usually the result of calling `frame.insert` many times, which has poor performance.  Consider joining all columns at once using pd.concat(axis=1) instead. To get a de-fragmented frame, use `newframe = frame.copy()`\n",
      "  variables[f'{col}_wavelet_{idx}'] = denoised_signal\n"
     ]
    },
    {
     "name": "stdout",
     "output_type": "stream",
     "text": [
      "Gráfico salvo em: wavelet_denoising_plots_comparacao/comparacao_ws100_config_177.png\n",
      "Testando Configuração 178: Wavelet=sym10, Level=4, Threshold Mode=garrote, Signal Mode=symmetric\n"
     ]
    },
    {
     "name": "stderr",
     "output_type": "stream",
     "text": [
      "/tmp/ipykernel_3088/3451176622.py:146: PerformanceWarning: DataFrame is highly fragmented.  This is usually the result of calling `frame.insert` many times, which has poor performance.  Consider joining all columns at once using pd.concat(axis=1) instead. To get a de-fragmented frame, use `newframe = frame.copy()`\n",
      "  variables[f'{col}_wavelet_{idx}'] = denoised_signal\n"
     ]
    },
    {
     "name": "stdout",
     "output_type": "stream",
     "text": [
      "Gráfico salvo em: wavelet_denoising_plots_comparacao/comparacao_ws100_config_178.png\n",
      "Testando Configuração 179: Wavelet=sym10, Level=4, Threshold Mode=garrote, Signal Mode=smooth\n"
     ]
    },
    {
     "name": "stderr",
     "output_type": "stream",
     "text": [
      "/tmp/ipykernel_3088/3451176622.py:146: PerformanceWarning: DataFrame is highly fragmented.  This is usually the result of calling `frame.insert` many times, which has poor performance.  Consider joining all columns at once using pd.concat(axis=1) instead. To get a de-fragmented frame, use `newframe = frame.copy()`\n",
      "  variables[f'{col}_wavelet_{idx}'] = denoised_signal\n"
     ]
    },
    {
     "name": "stdout",
     "output_type": "stream",
     "text": [
      "Gráfico salvo em: wavelet_denoising_plots_comparacao/comparacao_ws100_config_179.png\n",
      "Testando Configuração 180: Wavelet=sym10, Level=4, Threshold Mode=garrote, Signal Mode=periodization\n"
     ]
    },
    {
     "name": "stderr",
     "output_type": "stream",
     "text": [
      "/tmp/ipykernel_3088/3451176622.py:146: PerformanceWarning: DataFrame is highly fragmented.  This is usually the result of calling `frame.insert` many times, which has poor performance.  Consider joining all columns at once using pd.concat(axis=1) instead. To get a de-fragmented frame, use `newframe = frame.copy()`\n",
      "  variables[f'{col}_wavelet_{idx}'] = denoised_signal\n"
     ]
    },
    {
     "name": "stdout",
     "output_type": "stream",
     "text": [
      "Gráfico salvo em: wavelet_denoising_plots_comparacao/comparacao_ws100_config_180.png\n",
      "180 configurações processadas.\n",
      "Testando Configuração 181: Wavelet=sym12, Level=3, Threshold Mode=soft, Signal Mode=symmetric\n"
     ]
    },
    {
     "name": "stderr",
     "output_type": "stream",
     "text": [
      "/tmp/ipykernel_3088/3451176622.py:146: PerformanceWarning: DataFrame is highly fragmented.  This is usually the result of calling `frame.insert` many times, which has poor performance.  Consider joining all columns at once using pd.concat(axis=1) instead. To get a de-fragmented frame, use `newframe = frame.copy()`\n",
      "  variables[f'{col}_wavelet_{idx}'] = denoised_signal\n"
     ]
    },
    {
     "name": "stdout",
     "output_type": "stream",
     "text": [
      "Gráfico salvo em: wavelet_denoising_plots_comparacao/comparacao_ws100_config_181.png\n",
      "Testando Configuração 182: Wavelet=sym12, Level=3, Threshold Mode=soft, Signal Mode=smooth\n"
     ]
    },
    {
     "name": "stderr",
     "output_type": "stream",
     "text": [
      "/tmp/ipykernel_3088/3451176622.py:146: PerformanceWarning: DataFrame is highly fragmented.  This is usually the result of calling `frame.insert` many times, which has poor performance.  Consider joining all columns at once using pd.concat(axis=1) instead. To get a de-fragmented frame, use `newframe = frame.copy()`\n",
      "  variables[f'{col}_wavelet_{idx}'] = denoised_signal\n"
     ]
    },
    {
     "name": "stdout",
     "output_type": "stream",
     "text": [
      "Gráfico salvo em: wavelet_denoising_plots_comparacao/comparacao_ws100_config_182.png\n",
      "Testando Configuração 183: Wavelet=sym12, Level=3, Threshold Mode=soft, Signal Mode=periodization\n"
     ]
    },
    {
     "name": "stderr",
     "output_type": "stream",
     "text": [
      "/tmp/ipykernel_3088/3451176622.py:146: PerformanceWarning: DataFrame is highly fragmented.  This is usually the result of calling `frame.insert` many times, which has poor performance.  Consider joining all columns at once using pd.concat(axis=1) instead. To get a de-fragmented frame, use `newframe = frame.copy()`\n",
      "  variables[f'{col}_wavelet_{idx}'] = denoised_signal\n"
     ]
    },
    {
     "name": "stdout",
     "output_type": "stream",
     "text": [
      "Gráfico salvo em: wavelet_denoising_plots_comparacao/comparacao_ws100_config_183.png\n",
      "Testando Configuração 184: Wavelet=sym12, Level=3, Threshold Mode=garrote, Signal Mode=symmetric\n"
     ]
    },
    {
     "name": "stderr",
     "output_type": "stream",
     "text": [
      "/tmp/ipykernel_3088/3451176622.py:146: PerformanceWarning: DataFrame is highly fragmented.  This is usually the result of calling `frame.insert` many times, which has poor performance.  Consider joining all columns at once using pd.concat(axis=1) instead. To get a de-fragmented frame, use `newframe = frame.copy()`\n",
      "  variables[f'{col}_wavelet_{idx}'] = denoised_signal\n"
     ]
    },
    {
     "name": "stdout",
     "output_type": "stream",
     "text": [
      "Gráfico salvo em: wavelet_denoising_plots_comparacao/comparacao_ws100_config_184.png\n",
      "Testando Configuração 185: Wavelet=sym12, Level=3, Threshold Mode=garrote, Signal Mode=smooth\n"
     ]
    },
    {
     "name": "stderr",
     "output_type": "stream",
     "text": [
      "/tmp/ipykernel_3088/3451176622.py:146: PerformanceWarning: DataFrame is highly fragmented.  This is usually the result of calling `frame.insert` many times, which has poor performance.  Consider joining all columns at once using pd.concat(axis=1) instead. To get a de-fragmented frame, use `newframe = frame.copy()`\n",
      "  variables[f'{col}_wavelet_{idx}'] = denoised_signal\n"
     ]
    },
    {
     "name": "stdout",
     "output_type": "stream",
     "text": [
      "Gráfico salvo em: wavelet_denoising_plots_comparacao/comparacao_ws100_config_185.png\n",
      "Testando Configuração 186: Wavelet=sym12, Level=3, Threshold Mode=garrote, Signal Mode=periodization\n"
     ]
    },
    {
     "name": "stderr",
     "output_type": "stream",
     "text": [
      "/tmp/ipykernel_3088/3451176622.py:146: PerformanceWarning: DataFrame is highly fragmented.  This is usually the result of calling `frame.insert` many times, which has poor performance.  Consider joining all columns at once using pd.concat(axis=1) instead. To get a de-fragmented frame, use `newframe = frame.copy()`\n",
      "  variables[f'{col}_wavelet_{idx}'] = denoised_signal\n"
     ]
    },
    {
     "name": "stdout",
     "output_type": "stream",
     "text": [
      "Gráfico salvo em: wavelet_denoising_plots_comparacao/comparacao_ws100_config_186.png\n",
      "Testando Configuração 187: Wavelet=sym12, Level=4, Threshold Mode=soft, Signal Mode=symmetric\n"
     ]
    },
    {
     "name": "stderr",
     "output_type": "stream",
     "text": [
      "/tmp/ipykernel_3088/3451176622.py:146: PerformanceWarning: DataFrame is highly fragmented.  This is usually the result of calling `frame.insert` many times, which has poor performance.  Consider joining all columns at once using pd.concat(axis=1) instead. To get a de-fragmented frame, use `newframe = frame.copy()`\n",
      "  variables[f'{col}_wavelet_{idx}'] = denoised_signal\n"
     ]
    },
    {
     "name": "stdout",
     "output_type": "stream",
     "text": [
      "Gráfico salvo em: wavelet_denoising_plots_comparacao/comparacao_ws100_config_187.png\n",
      "Testando Configuração 188: Wavelet=sym12, Level=4, Threshold Mode=soft, Signal Mode=smooth\n"
     ]
    },
    {
     "name": "stderr",
     "output_type": "stream",
     "text": [
      "/tmp/ipykernel_3088/3451176622.py:146: PerformanceWarning: DataFrame is highly fragmented.  This is usually the result of calling `frame.insert` many times, which has poor performance.  Consider joining all columns at once using pd.concat(axis=1) instead. To get a de-fragmented frame, use `newframe = frame.copy()`\n",
      "  variables[f'{col}_wavelet_{idx}'] = denoised_signal\n"
     ]
    },
    {
     "name": "stdout",
     "output_type": "stream",
     "text": [
      "Gráfico salvo em: wavelet_denoising_plots_comparacao/comparacao_ws100_config_188.png\n",
      "Testando Configuração 189: Wavelet=sym12, Level=4, Threshold Mode=soft, Signal Mode=periodization\n"
     ]
    },
    {
     "name": "stderr",
     "output_type": "stream",
     "text": [
      "/tmp/ipykernel_3088/3451176622.py:146: PerformanceWarning: DataFrame is highly fragmented.  This is usually the result of calling `frame.insert` many times, which has poor performance.  Consider joining all columns at once using pd.concat(axis=1) instead. To get a de-fragmented frame, use `newframe = frame.copy()`\n",
      "  variables[f'{col}_wavelet_{idx}'] = denoised_signal\n"
     ]
    },
    {
     "name": "stdout",
     "output_type": "stream",
     "text": [
      "Gráfico salvo em: wavelet_denoising_plots_comparacao/comparacao_ws100_config_189.png\n",
      "Testando Configuração 190: Wavelet=sym12, Level=4, Threshold Mode=garrote, Signal Mode=symmetric\n"
     ]
    },
    {
     "name": "stderr",
     "output_type": "stream",
     "text": [
      "/tmp/ipykernel_3088/3451176622.py:146: PerformanceWarning: DataFrame is highly fragmented.  This is usually the result of calling `frame.insert` many times, which has poor performance.  Consider joining all columns at once using pd.concat(axis=1) instead. To get a de-fragmented frame, use `newframe = frame.copy()`\n",
      "  variables[f'{col}_wavelet_{idx}'] = denoised_signal\n"
     ]
    },
    {
     "name": "stdout",
     "output_type": "stream",
     "text": [
      "Gráfico salvo em: wavelet_denoising_plots_comparacao/comparacao_ws100_config_190.png\n",
      "190 configurações processadas.\n",
      "Testando Configuração 191: Wavelet=sym12, Level=4, Threshold Mode=garrote, Signal Mode=smooth\n"
     ]
    },
    {
     "name": "stderr",
     "output_type": "stream",
     "text": [
      "/tmp/ipykernel_3088/3451176622.py:146: PerformanceWarning: DataFrame is highly fragmented.  This is usually the result of calling `frame.insert` many times, which has poor performance.  Consider joining all columns at once using pd.concat(axis=1) instead. To get a de-fragmented frame, use `newframe = frame.copy()`\n",
      "  variables[f'{col}_wavelet_{idx}'] = denoised_signal\n"
     ]
    },
    {
     "name": "stdout",
     "output_type": "stream",
     "text": [
      "Gráfico salvo em: wavelet_denoising_plots_comparacao/comparacao_ws100_config_191.png\n",
      "Testando Configuração 192: Wavelet=sym12, Level=4, Threshold Mode=garrote, Signal Mode=periodization\n"
     ]
    },
    {
     "name": "stderr",
     "output_type": "stream",
     "text": [
      "/tmp/ipykernel_3088/3451176622.py:146: PerformanceWarning: DataFrame is highly fragmented.  This is usually the result of calling `frame.insert` many times, which has poor performance.  Consider joining all columns at once using pd.concat(axis=1) instead. To get a de-fragmented frame, use `newframe = frame.copy()`\n",
      "  variables[f'{col}_wavelet_{idx}'] = denoised_signal\n"
     ]
    },
    {
     "name": "stdout",
     "output_type": "stream",
     "text": [
      "Gráfico salvo em: wavelet_denoising_plots_comparacao/comparacao_ws100_config_192.png\n",
      "Testando Configuração 193: Wavelet=sym14, Level=3, Threshold Mode=soft, Signal Mode=symmetric\n"
     ]
    },
    {
     "name": "stderr",
     "output_type": "stream",
     "text": [
      "/tmp/ipykernel_3088/3451176622.py:146: PerformanceWarning: DataFrame is highly fragmented.  This is usually the result of calling `frame.insert` many times, which has poor performance.  Consider joining all columns at once using pd.concat(axis=1) instead. To get a de-fragmented frame, use `newframe = frame.copy()`\n",
      "  variables[f'{col}_wavelet_{idx}'] = denoised_signal\n"
     ]
    },
    {
     "name": "stdout",
     "output_type": "stream",
     "text": [
      "Gráfico salvo em: wavelet_denoising_plots_comparacao/comparacao_ws100_config_193.png\n",
      "Testando Configuração 194: Wavelet=sym14, Level=3, Threshold Mode=soft, Signal Mode=smooth\n"
     ]
    },
    {
     "name": "stderr",
     "output_type": "stream",
     "text": [
      "/tmp/ipykernel_3088/3451176622.py:146: PerformanceWarning: DataFrame is highly fragmented.  This is usually the result of calling `frame.insert` many times, which has poor performance.  Consider joining all columns at once using pd.concat(axis=1) instead. To get a de-fragmented frame, use `newframe = frame.copy()`\n",
      "  variables[f'{col}_wavelet_{idx}'] = denoised_signal\n"
     ]
    },
    {
     "name": "stdout",
     "output_type": "stream",
     "text": [
      "Gráfico salvo em: wavelet_denoising_plots_comparacao/comparacao_ws100_config_194.png\n",
      "Testando Configuração 195: Wavelet=sym14, Level=3, Threshold Mode=soft, Signal Mode=periodization\n"
     ]
    },
    {
     "name": "stderr",
     "output_type": "stream",
     "text": [
      "/tmp/ipykernel_3088/3451176622.py:146: PerformanceWarning: DataFrame is highly fragmented.  This is usually the result of calling `frame.insert` many times, which has poor performance.  Consider joining all columns at once using pd.concat(axis=1) instead. To get a de-fragmented frame, use `newframe = frame.copy()`\n",
      "  variables[f'{col}_wavelet_{idx}'] = denoised_signal\n"
     ]
    },
    {
     "name": "stdout",
     "output_type": "stream",
     "text": [
      "Gráfico salvo em: wavelet_denoising_plots_comparacao/comparacao_ws100_config_195.png\n",
      "Testando Configuração 196: Wavelet=sym14, Level=3, Threshold Mode=garrote, Signal Mode=symmetric\n"
     ]
    },
    {
     "name": "stderr",
     "output_type": "stream",
     "text": [
      "/tmp/ipykernel_3088/3451176622.py:146: PerformanceWarning: DataFrame is highly fragmented.  This is usually the result of calling `frame.insert` many times, which has poor performance.  Consider joining all columns at once using pd.concat(axis=1) instead. To get a de-fragmented frame, use `newframe = frame.copy()`\n",
      "  variables[f'{col}_wavelet_{idx}'] = denoised_signal\n"
     ]
    },
    {
     "name": "stdout",
     "output_type": "stream",
     "text": [
      "Gráfico salvo em: wavelet_denoising_plots_comparacao/comparacao_ws100_config_196.png\n",
      "Testando Configuração 197: Wavelet=sym14, Level=3, Threshold Mode=garrote, Signal Mode=smooth\n"
     ]
    },
    {
     "name": "stderr",
     "output_type": "stream",
     "text": [
      "/tmp/ipykernel_3088/3451176622.py:146: PerformanceWarning: DataFrame is highly fragmented.  This is usually the result of calling `frame.insert` many times, which has poor performance.  Consider joining all columns at once using pd.concat(axis=1) instead. To get a de-fragmented frame, use `newframe = frame.copy()`\n",
      "  variables[f'{col}_wavelet_{idx}'] = denoised_signal\n"
     ]
    },
    {
     "name": "stdout",
     "output_type": "stream",
     "text": [
      "Gráfico salvo em: wavelet_denoising_plots_comparacao/comparacao_ws100_config_197.png\n",
      "Testando Configuração 198: Wavelet=sym14, Level=3, Threshold Mode=garrote, Signal Mode=periodization\n"
     ]
    },
    {
     "name": "stderr",
     "output_type": "stream",
     "text": [
      "/tmp/ipykernel_3088/3451176622.py:146: PerformanceWarning: DataFrame is highly fragmented.  This is usually the result of calling `frame.insert` many times, which has poor performance.  Consider joining all columns at once using pd.concat(axis=1) instead. To get a de-fragmented frame, use `newframe = frame.copy()`\n",
      "  variables[f'{col}_wavelet_{idx}'] = denoised_signal\n"
     ]
    },
    {
     "name": "stdout",
     "output_type": "stream",
     "text": [
      "Gráfico salvo em: wavelet_denoising_plots_comparacao/comparacao_ws100_config_198.png\n",
      "Testando Configuração 199: Wavelet=sym14, Level=4, Threshold Mode=soft, Signal Mode=symmetric\n"
     ]
    },
    {
     "name": "stderr",
     "output_type": "stream",
     "text": [
      "/tmp/ipykernel_3088/3451176622.py:146: PerformanceWarning: DataFrame is highly fragmented.  This is usually the result of calling `frame.insert` many times, which has poor performance.  Consider joining all columns at once using pd.concat(axis=1) instead. To get a de-fragmented frame, use `newframe = frame.copy()`\n",
      "  variables[f'{col}_wavelet_{idx}'] = denoised_signal\n"
     ]
    },
    {
     "name": "stdout",
     "output_type": "stream",
     "text": [
      "Gráfico salvo em: wavelet_denoising_plots_comparacao/comparacao_ws100_config_199.png\n",
      "Testando Configuração 200: Wavelet=sym14, Level=4, Threshold Mode=soft, Signal Mode=smooth\n"
     ]
    },
    {
     "name": "stderr",
     "output_type": "stream",
     "text": [
      "/tmp/ipykernel_3088/3451176622.py:146: PerformanceWarning: DataFrame is highly fragmented.  This is usually the result of calling `frame.insert` many times, which has poor performance.  Consider joining all columns at once using pd.concat(axis=1) instead. To get a de-fragmented frame, use `newframe = frame.copy()`\n",
      "  variables[f'{col}_wavelet_{idx}'] = denoised_signal\n"
     ]
    },
    {
     "name": "stdout",
     "output_type": "stream",
     "text": [
      "Gráfico salvo em: wavelet_denoising_plots_comparacao/comparacao_ws100_config_200.png\n",
      "200 configurações processadas.\n",
      "Testando Configuração 201: Wavelet=sym14, Level=4, Threshold Mode=soft, Signal Mode=periodization\n"
     ]
    },
    {
     "name": "stderr",
     "output_type": "stream",
     "text": [
      "/tmp/ipykernel_3088/3451176622.py:146: PerformanceWarning: DataFrame is highly fragmented.  This is usually the result of calling `frame.insert` many times, which has poor performance.  Consider joining all columns at once using pd.concat(axis=1) instead. To get a de-fragmented frame, use `newframe = frame.copy()`\n",
      "  variables[f'{col}_wavelet_{idx}'] = denoised_signal\n"
     ]
    },
    {
     "name": "stdout",
     "output_type": "stream",
     "text": [
      "Gráfico salvo em: wavelet_denoising_plots_comparacao/comparacao_ws100_config_201.png\n",
      "Testando Configuração 202: Wavelet=sym14, Level=4, Threshold Mode=garrote, Signal Mode=symmetric\n"
     ]
    },
    {
     "name": "stderr",
     "output_type": "stream",
     "text": [
      "/tmp/ipykernel_3088/3451176622.py:146: PerformanceWarning: DataFrame is highly fragmented.  This is usually the result of calling `frame.insert` many times, which has poor performance.  Consider joining all columns at once using pd.concat(axis=1) instead. To get a de-fragmented frame, use `newframe = frame.copy()`\n",
      "  variables[f'{col}_wavelet_{idx}'] = denoised_signal\n"
     ]
    },
    {
     "name": "stdout",
     "output_type": "stream",
     "text": [
      "Gráfico salvo em: wavelet_denoising_plots_comparacao/comparacao_ws100_config_202.png\n",
      "Testando Configuração 203: Wavelet=sym14, Level=4, Threshold Mode=garrote, Signal Mode=smooth\n"
     ]
    },
    {
     "name": "stderr",
     "output_type": "stream",
     "text": [
      "/tmp/ipykernel_3088/3451176622.py:146: PerformanceWarning: DataFrame is highly fragmented.  This is usually the result of calling `frame.insert` many times, which has poor performance.  Consider joining all columns at once using pd.concat(axis=1) instead. To get a de-fragmented frame, use `newframe = frame.copy()`\n",
      "  variables[f'{col}_wavelet_{idx}'] = denoised_signal\n"
     ]
    },
    {
     "name": "stdout",
     "output_type": "stream",
     "text": [
      "Gráfico salvo em: wavelet_denoising_plots_comparacao/comparacao_ws100_config_203.png\n",
      "Testando Configuração 204: Wavelet=sym14, Level=4, Threshold Mode=garrote, Signal Mode=periodization\n"
     ]
    },
    {
     "name": "stderr",
     "output_type": "stream",
     "text": [
      "/tmp/ipykernel_3088/3451176622.py:146: PerformanceWarning: DataFrame is highly fragmented.  This is usually the result of calling `frame.insert` many times, which has poor performance.  Consider joining all columns at once using pd.concat(axis=1) instead. To get a de-fragmented frame, use `newframe = frame.copy()`\n",
      "  variables[f'{col}_wavelet_{idx}'] = denoised_signal\n"
     ]
    },
    {
     "name": "stdout",
     "output_type": "stream",
     "text": [
      "Gráfico salvo em: wavelet_denoising_plots_comparacao/comparacao_ws100_config_204.png\n",
      "Testando Configuração 205: Wavelet=sym16, Level=3, Threshold Mode=soft, Signal Mode=symmetric\n"
     ]
    },
    {
     "name": "stderr",
     "output_type": "stream",
     "text": [
      "/tmp/ipykernel_3088/3451176622.py:146: PerformanceWarning: DataFrame is highly fragmented.  This is usually the result of calling `frame.insert` many times, which has poor performance.  Consider joining all columns at once using pd.concat(axis=1) instead. To get a de-fragmented frame, use `newframe = frame.copy()`\n",
      "  variables[f'{col}_wavelet_{idx}'] = denoised_signal\n"
     ]
    },
    {
     "name": "stdout",
     "output_type": "stream",
     "text": [
      "Gráfico salvo em: wavelet_denoising_plots_comparacao/comparacao_ws100_config_205.png\n",
      "Testando Configuração 206: Wavelet=sym16, Level=3, Threshold Mode=soft, Signal Mode=smooth\n"
     ]
    },
    {
     "name": "stderr",
     "output_type": "stream",
     "text": [
      "/tmp/ipykernel_3088/3451176622.py:146: PerformanceWarning: DataFrame is highly fragmented.  This is usually the result of calling `frame.insert` many times, which has poor performance.  Consider joining all columns at once using pd.concat(axis=1) instead. To get a de-fragmented frame, use `newframe = frame.copy()`\n",
      "  variables[f'{col}_wavelet_{idx}'] = denoised_signal\n"
     ]
    },
    {
     "name": "stdout",
     "output_type": "stream",
     "text": [
      "Gráfico salvo em: wavelet_denoising_plots_comparacao/comparacao_ws100_config_206.png\n",
      "Testando Configuração 207: Wavelet=sym16, Level=3, Threshold Mode=soft, Signal Mode=periodization\n"
     ]
    },
    {
     "name": "stderr",
     "output_type": "stream",
     "text": [
      "/tmp/ipykernel_3088/3451176622.py:146: PerformanceWarning: DataFrame is highly fragmented.  This is usually the result of calling `frame.insert` many times, which has poor performance.  Consider joining all columns at once using pd.concat(axis=1) instead. To get a de-fragmented frame, use `newframe = frame.copy()`\n",
      "  variables[f'{col}_wavelet_{idx}'] = denoised_signal\n"
     ]
    },
    {
     "name": "stdout",
     "output_type": "stream",
     "text": [
      "Gráfico salvo em: wavelet_denoising_plots_comparacao/comparacao_ws100_config_207.png\n",
      "Testando Configuração 208: Wavelet=sym16, Level=3, Threshold Mode=garrote, Signal Mode=symmetric\n"
     ]
    },
    {
     "name": "stderr",
     "output_type": "stream",
     "text": [
      "/tmp/ipykernel_3088/3451176622.py:146: PerformanceWarning: DataFrame is highly fragmented.  This is usually the result of calling `frame.insert` many times, which has poor performance.  Consider joining all columns at once using pd.concat(axis=1) instead. To get a de-fragmented frame, use `newframe = frame.copy()`\n",
      "  variables[f'{col}_wavelet_{idx}'] = denoised_signal\n"
     ]
    },
    {
     "name": "stdout",
     "output_type": "stream",
     "text": [
      "Gráfico salvo em: wavelet_denoising_plots_comparacao/comparacao_ws100_config_208.png\n",
      "Testando Configuração 209: Wavelet=sym16, Level=3, Threshold Mode=garrote, Signal Mode=smooth\n"
     ]
    },
    {
     "name": "stderr",
     "output_type": "stream",
     "text": [
      "/tmp/ipykernel_3088/3451176622.py:146: PerformanceWarning: DataFrame is highly fragmented.  This is usually the result of calling `frame.insert` many times, which has poor performance.  Consider joining all columns at once using pd.concat(axis=1) instead. To get a de-fragmented frame, use `newframe = frame.copy()`\n",
      "  variables[f'{col}_wavelet_{idx}'] = denoised_signal\n"
     ]
    },
    {
     "name": "stdout",
     "output_type": "stream",
     "text": [
      "Gráfico salvo em: wavelet_denoising_plots_comparacao/comparacao_ws100_config_209.png\n",
      "Testando Configuração 210: Wavelet=sym16, Level=3, Threshold Mode=garrote, Signal Mode=periodization\n"
     ]
    },
    {
     "name": "stderr",
     "output_type": "stream",
     "text": [
      "/tmp/ipykernel_3088/3451176622.py:146: PerformanceWarning: DataFrame is highly fragmented.  This is usually the result of calling `frame.insert` many times, which has poor performance.  Consider joining all columns at once using pd.concat(axis=1) instead. To get a de-fragmented frame, use `newframe = frame.copy()`\n",
      "  variables[f'{col}_wavelet_{idx}'] = denoised_signal\n"
     ]
    },
    {
     "name": "stdout",
     "output_type": "stream",
     "text": [
      "Gráfico salvo em: wavelet_denoising_plots_comparacao/comparacao_ws100_config_210.png\n",
      "210 configurações processadas.\n",
      "Testando Configuração 211: Wavelet=sym16, Level=4, Threshold Mode=soft, Signal Mode=symmetric\n"
     ]
    },
    {
     "name": "stderr",
     "output_type": "stream",
     "text": [
      "/tmp/ipykernel_3088/3451176622.py:146: PerformanceWarning: DataFrame is highly fragmented.  This is usually the result of calling `frame.insert` many times, which has poor performance.  Consider joining all columns at once using pd.concat(axis=1) instead. To get a de-fragmented frame, use `newframe = frame.copy()`\n",
      "  variables[f'{col}_wavelet_{idx}'] = denoised_signal\n"
     ]
    },
    {
     "name": "stdout",
     "output_type": "stream",
     "text": [
      "Gráfico salvo em: wavelet_denoising_plots_comparacao/comparacao_ws100_config_211.png\n",
      "Testando Configuração 212: Wavelet=sym16, Level=4, Threshold Mode=soft, Signal Mode=smooth\n"
     ]
    },
    {
     "name": "stderr",
     "output_type": "stream",
     "text": [
      "/tmp/ipykernel_3088/3451176622.py:146: PerformanceWarning: DataFrame is highly fragmented.  This is usually the result of calling `frame.insert` many times, which has poor performance.  Consider joining all columns at once using pd.concat(axis=1) instead. To get a de-fragmented frame, use `newframe = frame.copy()`\n",
      "  variables[f'{col}_wavelet_{idx}'] = denoised_signal\n"
     ]
    },
    {
     "name": "stdout",
     "output_type": "stream",
     "text": [
      "Gráfico salvo em: wavelet_denoising_plots_comparacao/comparacao_ws100_config_212.png\n",
      "Testando Configuração 213: Wavelet=sym16, Level=4, Threshold Mode=soft, Signal Mode=periodization\n"
     ]
    },
    {
     "name": "stderr",
     "output_type": "stream",
     "text": [
      "/tmp/ipykernel_3088/3451176622.py:146: PerformanceWarning: DataFrame is highly fragmented.  This is usually the result of calling `frame.insert` many times, which has poor performance.  Consider joining all columns at once using pd.concat(axis=1) instead. To get a de-fragmented frame, use `newframe = frame.copy()`\n",
      "  variables[f'{col}_wavelet_{idx}'] = denoised_signal\n"
     ]
    },
    {
     "name": "stdout",
     "output_type": "stream",
     "text": [
      "Gráfico salvo em: wavelet_denoising_plots_comparacao/comparacao_ws100_config_213.png\n",
      "Testando Configuração 214: Wavelet=sym16, Level=4, Threshold Mode=garrote, Signal Mode=symmetric\n"
     ]
    },
    {
     "name": "stderr",
     "output_type": "stream",
     "text": [
      "/tmp/ipykernel_3088/3451176622.py:146: PerformanceWarning: DataFrame is highly fragmented.  This is usually the result of calling `frame.insert` many times, which has poor performance.  Consider joining all columns at once using pd.concat(axis=1) instead. To get a de-fragmented frame, use `newframe = frame.copy()`\n",
      "  variables[f'{col}_wavelet_{idx}'] = denoised_signal\n"
     ]
    },
    {
     "name": "stdout",
     "output_type": "stream",
     "text": [
      "Gráfico salvo em: wavelet_denoising_plots_comparacao/comparacao_ws100_config_214.png\n",
      "Testando Configuração 215: Wavelet=sym16, Level=4, Threshold Mode=garrote, Signal Mode=smooth\n"
     ]
    },
    {
     "name": "stderr",
     "output_type": "stream",
     "text": [
      "/tmp/ipykernel_3088/3451176622.py:146: PerformanceWarning: DataFrame is highly fragmented.  This is usually the result of calling `frame.insert` many times, which has poor performance.  Consider joining all columns at once using pd.concat(axis=1) instead. To get a de-fragmented frame, use `newframe = frame.copy()`\n",
      "  variables[f'{col}_wavelet_{idx}'] = denoised_signal\n"
     ]
    },
    {
     "name": "stdout",
     "output_type": "stream",
     "text": [
      "Gráfico salvo em: wavelet_denoising_plots_comparacao/comparacao_ws100_config_215.png\n",
      "Testando Configuração 216: Wavelet=sym16, Level=4, Threshold Mode=garrote, Signal Mode=periodization\n"
     ]
    },
    {
     "name": "stderr",
     "output_type": "stream",
     "text": [
      "/tmp/ipykernel_3088/3451176622.py:146: PerformanceWarning: DataFrame is highly fragmented.  This is usually the result of calling `frame.insert` many times, which has poor performance.  Consider joining all columns at once using pd.concat(axis=1) instead. To get a de-fragmented frame, use `newframe = frame.copy()`\n",
      "  variables[f'{col}_wavelet_{idx}'] = denoised_signal\n"
     ]
    },
    {
     "name": "stdout",
     "output_type": "stream",
     "text": [
      "Gráfico salvo em: wavelet_denoising_plots_comparacao/comparacao_ws100_config_216.png\n",
      "Testando Configuração 217: Wavelet=sym18, Level=3, Threshold Mode=soft, Signal Mode=symmetric\n"
     ]
    },
    {
     "name": "stderr",
     "output_type": "stream",
     "text": [
      "/tmp/ipykernel_3088/3451176622.py:146: PerformanceWarning: DataFrame is highly fragmented.  This is usually the result of calling `frame.insert` many times, which has poor performance.  Consider joining all columns at once using pd.concat(axis=1) instead. To get a de-fragmented frame, use `newframe = frame.copy()`\n",
      "  variables[f'{col}_wavelet_{idx}'] = denoised_signal\n"
     ]
    },
    {
     "name": "stdout",
     "output_type": "stream",
     "text": [
      "Gráfico salvo em: wavelet_denoising_plots_comparacao/comparacao_ws100_config_217.png\n",
      "Testando Configuração 218: Wavelet=sym18, Level=3, Threshold Mode=soft, Signal Mode=smooth\n"
     ]
    },
    {
     "name": "stderr",
     "output_type": "stream",
     "text": [
      "/tmp/ipykernel_3088/3451176622.py:146: PerformanceWarning: DataFrame is highly fragmented.  This is usually the result of calling `frame.insert` many times, which has poor performance.  Consider joining all columns at once using pd.concat(axis=1) instead. To get a de-fragmented frame, use `newframe = frame.copy()`\n",
      "  variables[f'{col}_wavelet_{idx}'] = denoised_signal\n"
     ]
    },
    {
     "name": "stdout",
     "output_type": "stream",
     "text": [
      "Gráfico salvo em: wavelet_denoising_plots_comparacao/comparacao_ws100_config_218.png\n",
      "Testando Configuração 219: Wavelet=sym18, Level=3, Threshold Mode=soft, Signal Mode=periodization\n"
     ]
    },
    {
     "name": "stderr",
     "output_type": "stream",
     "text": [
      "/tmp/ipykernel_3088/3451176622.py:146: PerformanceWarning: DataFrame is highly fragmented.  This is usually the result of calling `frame.insert` many times, which has poor performance.  Consider joining all columns at once using pd.concat(axis=1) instead. To get a de-fragmented frame, use `newframe = frame.copy()`\n",
      "  variables[f'{col}_wavelet_{idx}'] = denoised_signal\n"
     ]
    },
    {
     "name": "stdout",
     "output_type": "stream",
     "text": [
      "Gráfico salvo em: wavelet_denoising_plots_comparacao/comparacao_ws100_config_219.png\n",
      "Testando Configuração 220: Wavelet=sym18, Level=3, Threshold Mode=garrote, Signal Mode=symmetric\n"
     ]
    },
    {
     "name": "stderr",
     "output_type": "stream",
     "text": [
      "/tmp/ipykernel_3088/3451176622.py:146: PerformanceWarning: DataFrame is highly fragmented.  This is usually the result of calling `frame.insert` many times, which has poor performance.  Consider joining all columns at once using pd.concat(axis=1) instead. To get a de-fragmented frame, use `newframe = frame.copy()`\n",
      "  variables[f'{col}_wavelet_{idx}'] = denoised_signal\n"
     ]
    },
    {
     "name": "stdout",
     "output_type": "stream",
     "text": [
      "Gráfico salvo em: wavelet_denoising_plots_comparacao/comparacao_ws100_config_220.png\n",
      "220 configurações processadas.\n",
      "Testando Configuração 221: Wavelet=sym18, Level=3, Threshold Mode=garrote, Signal Mode=smooth\n"
     ]
    },
    {
     "name": "stderr",
     "output_type": "stream",
     "text": [
      "/tmp/ipykernel_3088/3451176622.py:146: PerformanceWarning: DataFrame is highly fragmented.  This is usually the result of calling `frame.insert` many times, which has poor performance.  Consider joining all columns at once using pd.concat(axis=1) instead. To get a de-fragmented frame, use `newframe = frame.copy()`\n",
      "  variables[f'{col}_wavelet_{idx}'] = denoised_signal\n"
     ]
    },
    {
     "name": "stdout",
     "output_type": "stream",
     "text": [
      "Gráfico salvo em: wavelet_denoising_plots_comparacao/comparacao_ws100_config_221.png\n",
      "Testando Configuração 222: Wavelet=sym18, Level=3, Threshold Mode=garrote, Signal Mode=periodization\n"
     ]
    },
    {
     "name": "stderr",
     "output_type": "stream",
     "text": [
      "/tmp/ipykernel_3088/3451176622.py:146: PerformanceWarning: DataFrame is highly fragmented.  This is usually the result of calling `frame.insert` many times, which has poor performance.  Consider joining all columns at once using pd.concat(axis=1) instead. To get a de-fragmented frame, use `newframe = frame.copy()`\n",
      "  variables[f'{col}_wavelet_{idx}'] = denoised_signal\n"
     ]
    },
    {
     "name": "stdout",
     "output_type": "stream",
     "text": [
      "Gráfico salvo em: wavelet_denoising_plots_comparacao/comparacao_ws100_config_222.png\n",
      "Testando Configuração 223: Wavelet=sym18, Level=4, Threshold Mode=soft, Signal Mode=symmetric\n"
     ]
    },
    {
     "name": "stderr",
     "output_type": "stream",
     "text": [
      "/tmp/ipykernel_3088/3451176622.py:146: PerformanceWarning: DataFrame is highly fragmented.  This is usually the result of calling `frame.insert` many times, which has poor performance.  Consider joining all columns at once using pd.concat(axis=1) instead. To get a de-fragmented frame, use `newframe = frame.copy()`\n",
      "  variables[f'{col}_wavelet_{idx}'] = denoised_signal\n"
     ]
    },
    {
     "name": "stdout",
     "output_type": "stream",
     "text": [
      "Gráfico salvo em: wavelet_denoising_plots_comparacao/comparacao_ws100_config_223.png\n",
      "Testando Configuração 224: Wavelet=sym18, Level=4, Threshold Mode=soft, Signal Mode=smooth\n"
     ]
    },
    {
     "name": "stderr",
     "output_type": "stream",
     "text": [
      "/tmp/ipykernel_3088/3451176622.py:146: PerformanceWarning: DataFrame is highly fragmented.  This is usually the result of calling `frame.insert` many times, which has poor performance.  Consider joining all columns at once using pd.concat(axis=1) instead. To get a de-fragmented frame, use `newframe = frame.copy()`\n",
      "  variables[f'{col}_wavelet_{idx}'] = denoised_signal\n"
     ]
    },
    {
     "name": "stdout",
     "output_type": "stream",
     "text": [
      "Gráfico salvo em: wavelet_denoising_plots_comparacao/comparacao_ws100_config_224.png\n",
      "Testando Configuração 225: Wavelet=sym18, Level=4, Threshold Mode=soft, Signal Mode=periodization\n"
     ]
    },
    {
     "name": "stderr",
     "output_type": "stream",
     "text": [
      "/tmp/ipykernel_3088/3451176622.py:146: PerformanceWarning: DataFrame is highly fragmented.  This is usually the result of calling `frame.insert` many times, which has poor performance.  Consider joining all columns at once using pd.concat(axis=1) instead. To get a de-fragmented frame, use `newframe = frame.copy()`\n",
      "  variables[f'{col}_wavelet_{idx}'] = denoised_signal\n"
     ]
    },
    {
     "name": "stdout",
     "output_type": "stream",
     "text": [
      "Gráfico salvo em: wavelet_denoising_plots_comparacao/comparacao_ws100_config_225.png\n",
      "Testando Configuração 226: Wavelet=sym18, Level=4, Threshold Mode=garrote, Signal Mode=symmetric\n"
     ]
    },
    {
     "name": "stderr",
     "output_type": "stream",
     "text": [
      "/tmp/ipykernel_3088/3451176622.py:146: PerformanceWarning: DataFrame is highly fragmented.  This is usually the result of calling `frame.insert` many times, which has poor performance.  Consider joining all columns at once using pd.concat(axis=1) instead. To get a de-fragmented frame, use `newframe = frame.copy()`\n",
      "  variables[f'{col}_wavelet_{idx}'] = denoised_signal\n"
     ]
    },
    {
     "name": "stdout",
     "output_type": "stream",
     "text": [
      "Gráfico salvo em: wavelet_denoising_plots_comparacao/comparacao_ws100_config_226.png\n",
      "Testando Configuração 227: Wavelet=sym18, Level=4, Threshold Mode=garrote, Signal Mode=smooth\n"
     ]
    },
    {
     "name": "stderr",
     "output_type": "stream",
     "text": [
      "/tmp/ipykernel_3088/3451176622.py:146: PerformanceWarning: DataFrame is highly fragmented.  This is usually the result of calling `frame.insert` many times, which has poor performance.  Consider joining all columns at once using pd.concat(axis=1) instead. To get a de-fragmented frame, use `newframe = frame.copy()`\n",
      "  variables[f'{col}_wavelet_{idx}'] = denoised_signal\n"
     ]
    },
    {
     "name": "stdout",
     "output_type": "stream",
     "text": [
      "Gráfico salvo em: wavelet_denoising_plots_comparacao/comparacao_ws100_config_227.png\n",
      "Testando Configuração 228: Wavelet=sym18, Level=4, Threshold Mode=garrote, Signal Mode=periodization\n"
     ]
    },
    {
     "name": "stderr",
     "output_type": "stream",
     "text": [
      "/tmp/ipykernel_3088/3451176622.py:146: PerformanceWarning: DataFrame is highly fragmented.  This is usually the result of calling `frame.insert` many times, which has poor performance.  Consider joining all columns at once using pd.concat(axis=1) instead. To get a de-fragmented frame, use `newframe = frame.copy()`\n",
      "  variables[f'{col}_wavelet_{idx}'] = denoised_signal\n"
     ]
    },
    {
     "name": "stdout",
     "output_type": "stream",
     "text": [
      "Gráfico salvo em: wavelet_denoising_plots_comparacao/comparacao_ws100_config_228.png\n",
      "Testando Configuração 229: Wavelet=sym20, Level=3, Threshold Mode=soft, Signal Mode=symmetric\n"
     ]
    },
    {
     "name": "stderr",
     "output_type": "stream",
     "text": [
      "/tmp/ipykernel_3088/3451176622.py:146: PerformanceWarning: DataFrame is highly fragmented.  This is usually the result of calling `frame.insert` many times, which has poor performance.  Consider joining all columns at once using pd.concat(axis=1) instead. To get a de-fragmented frame, use `newframe = frame.copy()`\n",
      "  variables[f'{col}_wavelet_{idx}'] = denoised_signal\n"
     ]
    },
    {
     "name": "stdout",
     "output_type": "stream",
     "text": [
      "Gráfico salvo em: wavelet_denoising_plots_comparacao/comparacao_ws100_config_229.png\n",
      "Testando Configuração 230: Wavelet=sym20, Level=3, Threshold Mode=soft, Signal Mode=smooth\n"
     ]
    },
    {
     "name": "stderr",
     "output_type": "stream",
     "text": [
      "/tmp/ipykernel_3088/3451176622.py:146: PerformanceWarning: DataFrame is highly fragmented.  This is usually the result of calling `frame.insert` many times, which has poor performance.  Consider joining all columns at once using pd.concat(axis=1) instead. To get a de-fragmented frame, use `newframe = frame.copy()`\n",
      "  variables[f'{col}_wavelet_{idx}'] = denoised_signal\n"
     ]
    },
    {
     "name": "stdout",
     "output_type": "stream",
     "text": [
      "Gráfico salvo em: wavelet_denoising_plots_comparacao/comparacao_ws100_config_230.png\n",
      "230 configurações processadas.\n",
      "Testando Configuração 231: Wavelet=sym20, Level=3, Threshold Mode=soft, Signal Mode=periodization\n"
     ]
    },
    {
     "name": "stderr",
     "output_type": "stream",
     "text": [
      "/tmp/ipykernel_3088/3451176622.py:146: PerformanceWarning: DataFrame is highly fragmented.  This is usually the result of calling `frame.insert` many times, which has poor performance.  Consider joining all columns at once using pd.concat(axis=1) instead. To get a de-fragmented frame, use `newframe = frame.copy()`\n",
      "  variables[f'{col}_wavelet_{idx}'] = denoised_signal\n"
     ]
    },
    {
     "name": "stdout",
     "output_type": "stream",
     "text": [
      "Gráfico salvo em: wavelet_denoising_plots_comparacao/comparacao_ws100_config_231.png\n",
      "Testando Configuração 232: Wavelet=sym20, Level=3, Threshold Mode=garrote, Signal Mode=symmetric\n"
     ]
    },
    {
     "name": "stderr",
     "output_type": "stream",
     "text": [
      "/tmp/ipykernel_3088/3451176622.py:146: PerformanceWarning: DataFrame is highly fragmented.  This is usually the result of calling `frame.insert` many times, which has poor performance.  Consider joining all columns at once using pd.concat(axis=1) instead. To get a de-fragmented frame, use `newframe = frame.copy()`\n",
      "  variables[f'{col}_wavelet_{idx}'] = denoised_signal\n"
     ]
    },
    {
     "name": "stdout",
     "output_type": "stream",
     "text": [
      "Gráfico salvo em: wavelet_denoising_plots_comparacao/comparacao_ws100_config_232.png\n",
      "Testando Configuração 233: Wavelet=sym20, Level=3, Threshold Mode=garrote, Signal Mode=smooth\n"
     ]
    },
    {
     "name": "stderr",
     "output_type": "stream",
     "text": [
      "/tmp/ipykernel_3088/3451176622.py:146: PerformanceWarning: DataFrame is highly fragmented.  This is usually the result of calling `frame.insert` many times, which has poor performance.  Consider joining all columns at once using pd.concat(axis=1) instead. To get a de-fragmented frame, use `newframe = frame.copy()`\n",
      "  variables[f'{col}_wavelet_{idx}'] = denoised_signal\n"
     ]
    },
    {
     "name": "stdout",
     "output_type": "stream",
     "text": [
      "Gráfico salvo em: wavelet_denoising_plots_comparacao/comparacao_ws100_config_233.png\n",
      "Testando Configuração 234: Wavelet=sym20, Level=3, Threshold Mode=garrote, Signal Mode=periodization\n"
     ]
    },
    {
     "name": "stderr",
     "output_type": "stream",
     "text": [
      "/tmp/ipykernel_3088/3451176622.py:146: PerformanceWarning: DataFrame is highly fragmented.  This is usually the result of calling `frame.insert` many times, which has poor performance.  Consider joining all columns at once using pd.concat(axis=1) instead. To get a de-fragmented frame, use `newframe = frame.copy()`\n",
      "  variables[f'{col}_wavelet_{idx}'] = denoised_signal\n"
     ]
    },
    {
     "name": "stdout",
     "output_type": "stream",
     "text": [
      "Gráfico salvo em: wavelet_denoising_plots_comparacao/comparacao_ws100_config_234.png\n",
      "Testando Configuração 235: Wavelet=sym20, Level=4, Threshold Mode=soft, Signal Mode=symmetric\n"
     ]
    },
    {
     "name": "stderr",
     "output_type": "stream",
     "text": [
      "/tmp/ipykernel_3088/3451176622.py:146: PerformanceWarning: DataFrame is highly fragmented.  This is usually the result of calling `frame.insert` many times, which has poor performance.  Consider joining all columns at once using pd.concat(axis=1) instead. To get a de-fragmented frame, use `newframe = frame.copy()`\n",
      "  variables[f'{col}_wavelet_{idx}'] = denoised_signal\n"
     ]
    },
    {
     "name": "stdout",
     "output_type": "stream",
     "text": [
      "Gráfico salvo em: wavelet_denoising_plots_comparacao/comparacao_ws100_config_235.png\n",
      "Testando Configuração 236: Wavelet=sym20, Level=4, Threshold Mode=soft, Signal Mode=smooth\n"
     ]
    },
    {
     "name": "stderr",
     "output_type": "stream",
     "text": [
      "/tmp/ipykernel_3088/3451176622.py:146: PerformanceWarning: DataFrame is highly fragmented.  This is usually the result of calling `frame.insert` many times, which has poor performance.  Consider joining all columns at once using pd.concat(axis=1) instead. To get a de-fragmented frame, use `newframe = frame.copy()`\n",
      "  variables[f'{col}_wavelet_{idx}'] = denoised_signal\n"
     ]
    },
    {
     "name": "stdout",
     "output_type": "stream",
     "text": [
      "Gráfico salvo em: wavelet_denoising_plots_comparacao/comparacao_ws100_config_236.png\n",
      "Testando Configuração 237: Wavelet=sym20, Level=4, Threshold Mode=soft, Signal Mode=periodization\n"
     ]
    },
    {
     "name": "stderr",
     "output_type": "stream",
     "text": [
      "/tmp/ipykernel_3088/3451176622.py:146: PerformanceWarning: DataFrame is highly fragmented.  This is usually the result of calling `frame.insert` many times, which has poor performance.  Consider joining all columns at once using pd.concat(axis=1) instead. To get a de-fragmented frame, use `newframe = frame.copy()`\n",
      "  variables[f'{col}_wavelet_{idx}'] = denoised_signal\n"
     ]
    },
    {
     "name": "stdout",
     "output_type": "stream",
     "text": [
      "Gráfico salvo em: wavelet_denoising_plots_comparacao/comparacao_ws100_config_237.png\n",
      "Testando Configuração 238: Wavelet=sym20, Level=4, Threshold Mode=garrote, Signal Mode=symmetric\n"
     ]
    },
    {
     "name": "stderr",
     "output_type": "stream",
     "text": [
      "/tmp/ipykernel_3088/3451176622.py:146: PerformanceWarning: DataFrame is highly fragmented.  This is usually the result of calling `frame.insert` many times, which has poor performance.  Consider joining all columns at once using pd.concat(axis=1) instead. To get a de-fragmented frame, use `newframe = frame.copy()`\n",
      "  variables[f'{col}_wavelet_{idx}'] = denoised_signal\n"
     ]
    },
    {
     "name": "stdout",
     "output_type": "stream",
     "text": [
      "Gráfico salvo em: wavelet_denoising_plots_comparacao/comparacao_ws100_config_238.png\n",
      "Testando Configuração 239: Wavelet=sym20, Level=4, Threshold Mode=garrote, Signal Mode=smooth\n"
     ]
    },
    {
     "name": "stderr",
     "output_type": "stream",
     "text": [
      "/tmp/ipykernel_3088/3451176622.py:146: PerformanceWarning: DataFrame is highly fragmented.  This is usually the result of calling `frame.insert` many times, which has poor performance.  Consider joining all columns at once using pd.concat(axis=1) instead. To get a de-fragmented frame, use `newframe = frame.copy()`\n",
      "  variables[f'{col}_wavelet_{idx}'] = denoised_signal\n"
     ]
    },
    {
     "name": "stdout",
     "output_type": "stream",
     "text": [
      "Gráfico salvo em: wavelet_denoising_plots_comparacao/comparacao_ws100_config_239.png\n",
      "Testando Configuração 240: Wavelet=sym20, Level=4, Threshold Mode=garrote, Signal Mode=periodization\n"
     ]
    },
    {
     "name": "stderr",
     "output_type": "stream",
     "text": [
      "/tmp/ipykernel_3088/3451176622.py:146: PerformanceWarning: DataFrame is highly fragmented.  This is usually the result of calling `frame.insert` many times, which has poor performance.  Consider joining all columns at once using pd.concat(axis=1) instead. To get a de-fragmented frame, use `newframe = frame.copy()`\n",
      "  variables[f'{col}_wavelet_{idx}'] = denoised_signal\n"
     ]
    },
    {
     "name": "stdout",
     "output_type": "stream",
     "text": [
      "Gráfico salvo em: wavelet_denoising_plots_comparacao/comparacao_ws100_config_240.png\n",
      "240 configurações processadas.\n",
      "Testando Configuração 241: Wavelet=coif1, Level=3, Threshold Mode=soft, Signal Mode=symmetric\n"
     ]
    },
    {
     "name": "stderr",
     "output_type": "stream",
     "text": [
      "/tmp/ipykernel_3088/3451176622.py:146: PerformanceWarning: DataFrame is highly fragmented.  This is usually the result of calling `frame.insert` many times, which has poor performance.  Consider joining all columns at once using pd.concat(axis=1) instead. To get a de-fragmented frame, use `newframe = frame.copy()`\n",
      "  variables[f'{col}_wavelet_{idx}'] = denoised_signal\n"
     ]
    },
    {
     "name": "stdout",
     "output_type": "stream",
     "text": [
      "Gráfico salvo em: wavelet_denoising_plots_comparacao/comparacao_ws100_config_241.png\n",
      "Testando Configuração 242: Wavelet=coif1, Level=3, Threshold Mode=soft, Signal Mode=smooth\n"
     ]
    },
    {
     "name": "stderr",
     "output_type": "stream",
     "text": [
      "/tmp/ipykernel_3088/3451176622.py:146: PerformanceWarning: DataFrame is highly fragmented.  This is usually the result of calling `frame.insert` many times, which has poor performance.  Consider joining all columns at once using pd.concat(axis=1) instead. To get a de-fragmented frame, use `newframe = frame.copy()`\n",
      "  variables[f'{col}_wavelet_{idx}'] = denoised_signal\n"
     ]
    },
    {
     "name": "stdout",
     "output_type": "stream",
     "text": [
      "Gráfico salvo em: wavelet_denoising_plots_comparacao/comparacao_ws100_config_242.png\n",
      "Testando Configuração 243: Wavelet=coif1, Level=3, Threshold Mode=soft, Signal Mode=periodization\n"
     ]
    },
    {
     "name": "stderr",
     "output_type": "stream",
     "text": [
      "/tmp/ipykernel_3088/3451176622.py:146: PerformanceWarning: DataFrame is highly fragmented.  This is usually the result of calling `frame.insert` many times, which has poor performance.  Consider joining all columns at once using pd.concat(axis=1) instead. To get a de-fragmented frame, use `newframe = frame.copy()`\n",
      "  variables[f'{col}_wavelet_{idx}'] = denoised_signal\n"
     ]
    },
    {
     "name": "stdout",
     "output_type": "stream",
     "text": [
      "Gráfico salvo em: wavelet_denoising_plots_comparacao/comparacao_ws100_config_243.png\n",
      "Testando Configuração 244: Wavelet=coif1, Level=3, Threshold Mode=garrote, Signal Mode=symmetric\n"
     ]
    },
    {
     "name": "stderr",
     "output_type": "stream",
     "text": [
      "/tmp/ipykernel_3088/3451176622.py:146: PerformanceWarning: DataFrame is highly fragmented.  This is usually the result of calling `frame.insert` many times, which has poor performance.  Consider joining all columns at once using pd.concat(axis=1) instead. To get a de-fragmented frame, use `newframe = frame.copy()`\n",
      "  variables[f'{col}_wavelet_{idx}'] = denoised_signal\n"
     ]
    },
    {
     "name": "stdout",
     "output_type": "stream",
     "text": [
      "Gráfico salvo em: wavelet_denoising_plots_comparacao/comparacao_ws100_config_244.png\n",
      "Testando Configuração 245: Wavelet=coif1, Level=3, Threshold Mode=garrote, Signal Mode=smooth\n"
     ]
    },
    {
     "name": "stderr",
     "output_type": "stream",
     "text": [
      "/tmp/ipykernel_3088/3451176622.py:146: PerformanceWarning: DataFrame is highly fragmented.  This is usually the result of calling `frame.insert` many times, which has poor performance.  Consider joining all columns at once using pd.concat(axis=1) instead. To get a de-fragmented frame, use `newframe = frame.copy()`\n",
      "  variables[f'{col}_wavelet_{idx}'] = denoised_signal\n"
     ]
    },
    {
     "name": "stdout",
     "output_type": "stream",
     "text": [
      "Gráfico salvo em: wavelet_denoising_plots_comparacao/comparacao_ws100_config_245.png\n",
      "Testando Configuração 246: Wavelet=coif1, Level=3, Threshold Mode=garrote, Signal Mode=periodization\n"
     ]
    },
    {
     "name": "stderr",
     "output_type": "stream",
     "text": [
      "/tmp/ipykernel_3088/3451176622.py:146: PerformanceWarning: DataFrame is highly fragmented.  This is usually the result of calling `frame.insert` many times, which has poor performance.  Consider joining all columns at once using pd.concat(axis=1) instead. To get a de-fragmented frame, use `newframe = frame.copy()`\n",
      "  variables[f'{col}_wavelet_{idx}'] = denoised_signal\n"
     ]
    },
    {
     "name": "stdout",
     "output_type": "stream",
     "text": [
      "Gráfico salvo em: wavelet_denoising_plots_comparacao/comparacao_ws100_config_246.png\n",
      "Testando Configuração 247: Wavelet=coif1, Level=4, Threshold Mode=soft, Signal Mode=symmetric\n"
     ]
    },
    {
     "name": "stderr",
     "output_type": "stream",
     "text": [
      "/tmp/ipykernel_3088/3451176622.py:146: PerformanceWarning: DataFrame is highly fragmented.  This is usually the result of calling `frame.insert` many times, which has poor performance.  Consider joining all columns at once using pd.concat(axis=1) instead. To get a de-fragmented frame, use `newframe = frame.copy()`\n",
      "  variables[f'{col}_wavelet_{idx}'] = denoised_signal\n"
     ]
    },
    {
     "name": "stdout",
     "output_type": "stream",
     "text": [
      "Gráfico salvo em: wavelet_denoising_plots_comparacao/comparacao_ws100_config_247.png\n",
      "Testando Configuração 248: Wavelet=coif1, Level=4, Threshold Mode=soft, Signal Mode=smooth\n"
     ]
    },
    {
     "name": "stderr",
     "output_type": "stream",
     "text": [
      "/tmp/ipykernel_3088/3451176622.py:146: PerformanceWarning: DataFrame is highly fragmented.  This is usually the result of calling `frame.insert` many times, which has poor performance.  Consider joining all columns at once using pd.concat(axis=1) instead. To get a de-fragmented frame, use `newframe = frame.copy()`\n",
      "  variables[f'{col}_wavelet_{idx}'] = denoised_signal\n"
     ]
    },
    {
     "name": "stdout",
     "output_type": "stream",
     "text": [
      "Gráfico salvo em: wavelet_denoising_plots_comparacao/comparacao_ws100_config_248.png\n",
      "Testando Configuração 249: Wavelet=coif1, Level=4, Threshold Mode=soft, Signal Mode=periodization\n"
     ]
    },
    {
     "name": "stderr",
     "output_type": "stream",
     "text": [
      "/tmp/ipykernel_3088/3451176622.py:146: PerformanceWarning: DataFrame is highly fragmented.  This is usually the result of calling `frame.insert` many times, which has poor performance.  Consider joining all columns at once using pd.concat(axis=1) instead. To get a de-fragmented frame, use `newframe = frame.copy()`\n",
      "  variables[f'{col}_wavelet_{idx}'] = denoised_signal\n"
     ]
    },
    {
     "name": "stdout",
     "output_type": "stream",
     "text": [
      "Gráfico salvo em: wavelet_denoising_plots_comparacao/comparacao_ws100_config_249.png\n",
      "Testando Configuração 250: Wavelet=coif1, Level=4, Threshold Mode=garrote, Signal Mode=symmetric\n"
     ]
    },
    {
     "name": "stderr",
     "output_type": "stream",
     "text": [
      "/tmp/ipykernel_3088/3451176622.py:146: PerformanceWarning: DataFrame is highly fragmented.  This is usually the result of calling `frame.insert` many times, which has poor performance.  Consider joining all columns at once using pd.concat(axis=1) instead. To get a de-fragmented frame, use `newframe = frame.copy()`\n",
      "  variables[f'{col}_wavelet_{idx}'] = denoised_signal\n"
     ]
    },
    {
     "name": "stdout",
     "output_type": "stream",
     "text": [
      "Gráfico salvo em: wavelet_denoising_plots_comparacao/comparacao_ws100_config_250.png\n",
      "250 configurações processadas.\n",
      "Testando Configuração 251: Wavelet=coif1, Level=4, Threshold Mode=garrote, Signal Mode=smooth\n"
     ]
    },
    {
     "name": "stderr",
     "output_type": "stream",
     "text": [
      "/tmp/ipykernel_3088/3451176622.py:146: PerformanceWarning: DataFrame is highly fragmented.  This is usually the result of calling `frame.insert` many times, which has poor performance.  Consider joining all columns at once using pd.concat(axis=1) instead. To get a de-fragmented frame, use `newframe = frame.copy()`\n",
      "  variables[f'{col}_wavelet_{idx}'] = denoised_signal\n"
     ]
    },
    {
     "name": "stdout",
     "output_type": "stream",
     "text": [
      "Gráfico salvo em: wavelet_denoising_plots_comparacao/comparacao_ws100_config_251.png\n",
      "Testando Configuração 252: Wavelet=coif1, Level=4, Threshold Mode=garrote, Signal Mode=periodization\n"
     ]
    },
    {
     "name": "stderr",
     "output_type": "stream",
     "text": [
      "/tmp/ipykernel_3088/3451176622.py:146: PerformanceWarning: DataFrame is highly fragmented.  This is usually the result of calling `frame.insert` many times, which has poor performance.  Consider joining all columns at once using pd.concat(axis=1) instead. To get a de-fragmented frame, use `newframe = frame.copy()`\n",
      "  variables[f'{col}_wavelet_{idx}'] = denoised_signal\n"
     ]
    },
    {
     "name": "stdout",
     "output_type": "stream",
     "text": [
      "Gráfico salvo em: wavelet_denoising_plots_comparacao/comparacao_ws100_config_252.png\n",
      "Testando Configuração 253: Wavelet=coif3, Level=3, Threshold Mode=soft, Signal Mode=symmetric\n"
     ]
    },
    {
     "name": "stderr",
     "output_type": "stream",
     "text": [
      "/tmp/ipykernel_3088/3451176622.py:146: PerformanceWarning: DataFrame is highly fragmented.  This is usually the result of calling `frame.insert` many times, which has poor performance.  Consider joining all columns at once using pd.concat(axis=1) instead. To get a de-fragmented frame, use `newframe = frame.copy()`\n",
      "  variables[f'{col}_wavelet_{idx}'] = denoised_signal\n"
     ]
    },
    {
     "name": "stdout",
     "output_type": "stream",
     "text": [
      "Gráfico salvo em: wavelet_denoising_plots_comparacao/comparacao_ws100_config_253.png\n",
      "Testando Configuração 254: Wavelet=coif3, Level=3, Threshold Mode=soft, Signal Mode=smooth\n"
     ]
    },
    {
     "name": "stderr",
     "output_type": "stream",
     "text": [
      "/tmp/ipykernel_3088/3451176622.py:146: PerformanceWarning: DataFrame is highly fragmented.  This is usually the result of calling `frame.insert` many times, which has poor performance.  Consider joining all columns at once using pd.concat(axis=1) instead. To get a de-fragmented frame, use `newframe = frame.copy()`\n",
      "  variables[f'{col}_wavelet_{idx}'] = denoised_signal\n"
     ]
    },
    {
     "name": "stdout",
     "output_type": "stream",
     "text": [
      "Gráfico salvo em: wavelet_denoising_plots_comparacao/comparacao_ws100_config_254.png\n",
      "Testando Configuração 255: Wavelet=coif3, Level=3, Threshold Mode=soft, Signal Mode=periodization\n"
     ]
    },
    {
     "name": "stderr",
     "output_type": "stream",
     "text": [
      "/tmp/ipykernel_3088/3451176622.py:146: PerformanceWarning: DataFrame is highly fragmented.  This is usually the result of calling `frame.insert` many times, which has poor performance.  Consider joining all columns at once using pd.concat(axis=1) instead. To get a de-fragmented frame, use `newframe = frame.copy()`\n",
      "  variables[f'{col}_wavelet_{idx}'] = denoised_signal\n"
     ]
    },
    {
     "name": "stdout",
     "output_type": "stream",
     "text": [
      "Gráfico salvo em: wavelet_denoising_plots_comparacao/comparacao_ws100_config_255.png\n",
      "Testando Configuração 256: Wavelet=coif3, Level=3, Threshold Mode=garrote, Signal Mode=symmetric\n"
     ]
    },
    {
     "name": "stderr",
     "output_type": "stream",
     "text": [
      "/tmp/ipykernel_3088/3451176622.py:146: PerformanceWarning: DataFrame is highly fragmented.  This is usually the result of calling `frame.insert` many times, which has poor performance.  Consider joining all columns at once using pd.concat(axis=1) instead. To get a de-fragmented frame, use `newframe = frame.copy()`\n",
      "  variables[f'{col}_wavelet_{idx}'] = denoised_signal\n"
     ]
    },
    {
     "name": "stdout",
     "output_type": "stream",
     "text": [
      "Gráfico salvo em: wavelet_denoising_plots_comparacao/comparacao_ws100_config_256.png\n",
      "Testando Configuração 257: Wavelet=coif3, Level=3, Threshold Mode=garrote, Signal Mode=smooth\n"
     ]
    },
    {
     "name": "stderr",
     "output_type": "stream",
     "text": [
      "/tmp/ipykernel_3088/3451176622.py:146: PerformanceWarning: DataFrame is highly fragmented.  This is usually the result of calling `frame.insert` many times, which has poor performance.  Consider joining all columns at once using pd.concat(axis=1) instead. To get a de-fragmented frame, use `newframe = frame.copy()`\n",
      "  variables[f'{col}_wavelet_{idx}'] = denoised_signal\n"
     ]
    },
    {
     "name": "stdout",
     "output_type": "stream",
     "text": [
      "Gráfico salvo em: wavelet_denoising_plots_comparacao/comparacao_ws100_config_257.png\n",
      "Testando Configuração 258: Wavelet=coif3, Level=3, Threshold Mode=garrote, Signal Mode=periodization\n"
     ]
    },
    {
     "name": "stderr",
     "output_type": "stream",
     "text": [
      "/tmp/ipykernel_3088/3451176622.py:146: PerformanceWarning: DataFrame is highly fragmented.  This is usually the result of calling `frame.insert` many times, which has poor performance.  Consider joining all columns at once using pd.concat(axis=1) instead. To get a de-fragmented frame, use `newframe = frame.copy()`\n",
      "  variables[f'{col}_wavelet_{idx}'] = denoised_signal\n"
     ]
    },
    {
     "name": "stdout",
     "output_type": "stream",
     "text": [
      "Gráfico salvo em: wavelet_denoising_plots_comparacao/comparacao_ws100_config_258.png\n",
      "Testando Configuração 259: Wavelet=coif3, Level=4, Threshold Mode=soft, Signal Mode=symmetric\n"
     ]
    },
    {
     "name": "stderr",
     "output_type": "stream",
     "text": [
      "/tmp/ipykernel_3088/3451176622.py:146: PerformanceWarning: DataFrame is highly fragmented.  This is usually the result of calling `frame.insert` many times, which has poor performance.  Consider joining all columns at once using pd.concat(axis=1) instead. To get a de-fragmented frame, use `newframe = frame.copy()`\n",
      "  variables[f'{col}_wavelet_{idx}'] = denoised_signal\n"
     ]
    },
    {
     "name": "stdout",
     "output_type": "stream",
     "text": [
      "Gráfico salvo em: wavelet_denoising_plots_comparacao/comparacao_ws100_config_259.png\n",
      "Testando Configuração 260: Wavelet=coif3, Level=4, Threshold Mode=soft, Signal Mode=smooth\n"
     ]
    },
    {
     "name": "stderr",
     "output_type": "stream",
     "text": [
      "/tmp/ipykernel_3088/3451176622.py:146: PerformanceWarning: DataFrame is highly fragmented.  This is usually the result of calling `frame.insert` many times, which has poor performance.  Consider joining all columns at once using pd.concat(axis=1) instead. To get a de-fragmented frame, use `newframe = frame.copy()`\n",
      "  variables[f'{col}_wavelet_{idx}'] = denoised_signal\n"
     ]
    },
    {
     "name": "stdout",
     "output_type": "stream",
     "text": [
      "Gráfico salvo em: wavelet_denoising_plots_comparacao/comparacao_ws100_config_260.png\n",
      "260 configurações processadas.\n",
      "Testando Configuração 261: Wavelet=coif3, Level=4, Threshold Mode=soft, Signal Mode=periodization\n"
     ]
    },
    {
     "name": "stderr",
     "output_type": "stream",
     "text": [
      "/tmp/ipykernel_3088/3451176622.py:146: PerformanceWarning: DataFrame is highly fragmented.  This is usually the result of calling `frame.insert` many times, which has poor performance.  Consider joining all columns at once using pd.concat(axis=1) instead. To get a de-fragmented frame, use `newframe = frame.copy()`\n",
      "  variables[f'{col}_wavelet_{idx}'] = denoised_signal\n"
     ]
    },
    {
     "name": "stdout",
     "output_type": "stream",
     "text": [
      "Gráfico salvo em: wavelet_denoising_plots_comparacao/comparacao_ws100_config_261.png\n",
      "Testando Configuração 262: Wavelet=coif3, Level=4, Threshold Mode=garrote, Signal Mode=symmetric\n"
     ]
    },
    {
     "name": "stderr",
     "output_type": "stream",
     "text": [
      "/tmp/ipykernel_3088/3451176622.py:146: PerformanceWarning: DataFrame is highly fragmented.  This is usually the result of calling `frame.insert` many times, which has poor performance.  Consider joining all columns at once using pd.concat(axis=1) instead. To get a de-fragmented frame, use `newframe = frame.copy()`\n",
      "  variables[f'{col}_wavelet_{idx}'] = denoised_signal\n"
     ]
    },
    {
     "name": "stdout",
     "output_type": "stream",
     "text": [
      "Gráfico salvo em: wavelet_denoising_plots_comparacao/comparacao_ws100_config_262.png\n",
      "Testando Configuração 263: Wavelet=coif3, Level=4, Threshold Mode=garrote, Signal Mode=smooth\n"
     ]
    },
    {
     "name": "stderr",
     "output_type": "stream",
     "text": [
      "/tmp/ipykernel_3088/3451176622.py:146: PerformanceWarning: DataFrame is highly fragmented.  This is usually the result of calling `frame.insert` many times, which has poor performance.  Consider joining all columns at once using pd.concat(axis=1) instead. To get a de-fragmented frame, use `newframe = frame.copy()`\n",
      "  variables[f'{col}_wavelet_{idx}'] = denoised_signal\n"
     ]
    },
    {
     "name": "stdout",
     "output_type": "stream",
     "text": [
      "Gráfico salvo em: wavelet_denoising_plots_comparacao/comparacao_ws100_config_263.png\n",
      "Testando Configuração 264: Wavelet=coif3, Level=4, Threshold Mode=garrote, Signal Mode=periodization\n"
     ]
    },
    {
     "name": "stderr",
     "output_type": "stream",
     "text": [
      "/tmp/ipykernel_3088/3451176622.py:146: PerformanceWarning: DataFrame is highly fragmented.  This is usually the result of calling `frame.insert` many times, which has poor performance.  Consider joining all columns at once using pd.concat(axis=1) instead. To get a de-fragmented frame, use `newframe = frame.copy()`\n",
      "  variables[f'{col}_wavelet_{idx}'] = denoised_signal\n"
     ]
    },
    {
     "name": "stdout",
     "output_type": "stream",
     "text": [
      "Gráfico salvo em: wavelet_denoising_plots_comparacao/comparacao_ws100_config_264.png\n",
      "Testando Configuração 265: Wavelet=coif5, Level=3, Threshold Mode=soft, Signal Mode=symmetric\n"
     ]
    },
    {
     "name": "stderr",
     "output_type": "stream",
     "text": [
      "/tmp/ipykernel_3088/3451176622.py:146: PerformanceWarning: DataFrame is highly fragmented.  This is usually the result of calling `frame.insert` many times, which has poor performance.  Consider joining all columns at once using pd.concat(axis=1) instead. To get a de-fragmented frame, use `newframe = frame.copy()`\n",
      "  variables[f'{col}_wavelet_{idx}'] = denoised_signal\n"
     ]
    },
    {
     "name": "stdout",
     "output_type": "stream",
     "text": [
      "Gráfico salvo em: wavelet_denoising_plots_comparacao/comparacao_ws100_config_265.png\n",
      "Testando Configuração 266: Wavelet=coif5, Level=3, Threshold Mode=soft, Signal Mode=smooth\n"
     ]
    },
    {
     "name": "stderr",
     "output_type": "stream",
     "text": [
      "/tmp/ipykernel_3088/3451176622.py:146: PerformanceWarning: DataFrame is highly fragmented.  This is usually the result of calling `frame.insert` many times, which has poor performance.  Consider joining all columns at once using pd.concat(axis=1) instead. To get a de-fragmented frame, use `newframe = frame.copy()`\n",
      "  variables[f'{col}_wavelet_{idx}'] = denoised_signal\n"
     ]
    },
    {
     "name": "stdout",
     "output_type": "stream",
     "text": [
      "Gráfico salvo em: wavelet_denoising_plots_comparacao/comparacao_ws100_config_266.png\n",
      "Testando Configuração 267: Wavelet=coif5, Level=3, Threshold Mode=soft, Signal Mode=periodization\n"
     ]
    },
    {
     "name": "stderr",
     "output_type": "stream",
     "text": [
      "/tmp/ipykernel_3088/3451176622.py:146: PerformanceWarning: DataFrame is highly fragmented.  This is usually the result of calling `frame.insert` many times, which has poor performance.  Consider joining all columns at once using pd.concat(axis=1) instead. To get a de-fragmented frame, use `newframe = frame.copy()`\n",
      "  variables[f'{col}_wavelet_{idx}'] = denoised_signal\n"
     ]
    },
    {
     "name": "stdout",
     "output_type": "stream",
     "text": [
      "Gráfico salvo em: wavelet_denoising_plots_comparacao/comparacao_ws100_config_267.png\n",
      "Testando Configuração 268: Wavelet=coif5, Level=3, Threshold Mode=garrote, Signal Mode=symmetric\n"
     ]
    },
    {
     "name": "stderr",
     "output_type": "stream",
     "text": [
      "/tmp/ipykernel_3088/3451176622.py:146: PerformanceWarning: DataFrame is highly fragmented.  This is usually the result of calling `frame.insert` many times, which has poor performance.  Consider joining all columns at once using pd.concat(axis=1) instead. To get a de-fragmented frame, use `newframe = frame.copy()`\n",
      "  variables[f'{col}_wavelet_{idx}'] = denoised_signal\n"
     ]
    },
    {
     "name": "stdout",
     "output_type": "stream",
     "text": [
      "Gráfico salvo em: wavelet_denoising_plots_comparacao/comparacao_ws100_config_268.png\n",
      "Testando Configuração 269: Wavelet=coif5, Level=3, Threshold Mode=garrote, Signal Mode=smooth\n"
     ]
    },
    {
     "name": "stderr",
     "output_type": "stream",
     "text": [
      "/tmp/ipykernel_3088/3451176622.py:146: PerformanceWarning: DataFrame is highly fragmented.  This is usually the result of calling `frame.insert` many times, which has poor performance.  Consider joining all columns at once using pd.concat(axis=1) instead. To get a de-fragmented frame, use `newframe = frame.copy()`\n",
      "  variables[f'{col}_wavelet_{idx}'] = denoised_signal\n"
     ]
    },
    {
     "name": "stdout",
     "output_type": "stream",
     "text": [
      "Gráfico salvo em: wavelet_denoising_plots_comparacao/comparacao_ws100_config_269.png\n",
      "Testando Configuração 270: Wavelet=coif5, Level=3, Threshold Mode=garrote, Signal Mode=periodization\n"
     ]
    },
    {
     "name": "stderr",
     "output_type": "stream",
     "text": [
      "/tmp/ipykernel_3088/3451176622.py:146: PerformanceWarning: DataFrame is highly fragmented.  This is usually the result of calling `frame.insert` many times, which has poor performance.  Consider joining all columns at once using pd.concat(axis=1) instead. To get a de-fragmented frame, use `newframe = frame.copy()`\n",
      "  variables[f'{col}_wavelet_{idx}'] = denoised_signal\n"
     ]
    },
    {
     "name": "stdout",
     "output_type": "stream",
     "text": [
      "Gráfico salvo em: wavelet_denoising_plots_comparacao/comparacao_ws100_config_270.png\n",
      "270 configurações processadas.\n",
      "Testando Configuração 271: Wavelet=coif5, Level=4, Threshold Mode=soft, Signal Mode=symmetric\n"
     ]
    },
    {
     "name": "stderr",
     "output_type": "stream",
     "text": [
      "/tmp/ipykernel_3088/3451176622.py:146: PerformanceWarning: DataFrame is highly fragmented.  This is usually the result of calling `frame.insert` many times, which has poor performance.  Consider joining all columns at once using pd.concat(axis=1) instead. To get a de-fragmented frame, use `newframe = frame.copy()`\n",
      "  variables[f'{col}_wavelet_{idx}'] = denoised_signal\n"
     ]
    },
    {
     "name": "stdout",
     "output_type": "stream",
     "text": [
      "Gráfico salvo em: wavelet_denoising_plots_comparacao/comparacao_ws100_config_271.png\n",
      "Testando Configuração 272: Wavelet=coif5, Level=4, Threshold Mode=soft, Signal Mode=smooth\n"
     ]
    },
    {
     "name": "stderr",
     "output_type": "stream",
     "text": [
      "/tmp/ipykernel_3088/3451176622.py:146: PerformanceWarning: DataFrame is highly fragmented.  This is usually the result of calling `frame.insert` many times, which has poor performance.  Consider joining all columns at once using pd.concat(axis=1) instead. To get a de-fragmented frame, use `newframe = frame.copy()`\n",
      "  variables[f'{col}_wavelet_{idx}'] = denoised_signal\n"
     ]
    },
    {
     "name": "stdout",
     "output_type": "stream",
     "text": [
      "Gráfico salvo em: wavelet_denoising_plots_comparacao/comparacao_ws100_config_272.png\n",
      "Testando Configuração 273: Wavelet=coif5, Level=4, Threshold Mode=soft, Signal Mode=periodization\n"
     ]
    },
    {
     "name": "stderr",
     "output_type": "stream",
     "text": [
      "/tmp/ipykernel_3088/3451176622.py:146: PerformanceWarning: DataFrame is highly fragmented.  This is usually the result of calling `frame.insert` many times, which has poor performance.  Consider joining all columns at once using pd.concat(axis=1) instead. To get a de-fragmented frame, use `newframe = frame.copy()`\n",
      "  variables[f'{col}_wavelet_{idx}'] = denoised_signal\n"
     ]
    },
    {
     "name": "stdout",
     "output_type": "stream",
     "text": [
      "Gráfico salvo em: wavelet_denoising_plots_comparacao/comparacao_ws100_config_273.png\n",
      "Testando Configuração 274: Wavelet=coif5, Level=4, Threshold Mode=garrote, Signal Mode=symmetric\n"
     ]
    },
    {
     "name": "stderr",
     "output_type": "stream",
     "text": [
      "/tmp/ipykernel_3088/3451176622.py:146: PerformanceWarning: DataFrame is highly fragmented.  This is usually the result of calling `frame.insert` many times, which has poor performance.  Consider joining all columns at once using pd.concat(axis=1) instead. To get a de-fragmented frame, use `newframe = frame.copy()`\n",
      "  variables[f'{col}_wavelet_{idx}'] = denoised_signal\n"
     ]
    },
    {
     "name": "stdout",
     "output_type": "stream",
     "text": [
      "Gráfico salvo em: wavelet_denoising_plots_comparacao/comparacao_ws100_config_274.png\n",
      "Testando Configuração 275: Wavelet=coif5, Level=4, Threshold Mode=garrote, Signal Mode=smooth\n"
     ]
    },
    {
     "name": "stderr",
     "output_type": "stream",
     "text": [
      "/tmp/ipykernel_3088/3451176622.py:146: PerformanceWarning: DataFrame is highly fragmented.  This is usually the result of calling `frame.insert` many times, which has poor performance.  Consider joining all columns at once using pd.concat(axis=1) instead. To get a de-fragmented frame, use `newframe = frame.copy()`\n",
      "  variables[f'{col}_wavelet_{idx}'] = denoised_signal\n"
     ]
    },
    {
     "name": "stdout",
     "output_type": "stream",
     "text": [
      "Gráfico salvo em: wavelet_denoising_plots_comparacao/comparacao_ws100_config_275.png\n",
      "Testando Configuração 276: Wavelet=coif5, Level=4, Threshold Mode=garrote, Signal Mode=periodization\n"
     ]
    },
    {
     "name": "stderr",
     "output_type": "stream",
     "text": [
      "/tmp/ipykernel_3088/3451176622.py:146: PerformanceWarning: DataFrame is highly fragmented.  This is usually the result of calling `frame.insert` many times, which has poor performance.  Consider joining all columns at once using pd.concat(axis=1) instead. To get a de-fragmented frame, use `newframe = frame.copy()`\n",
      "  variables[f'{col}_wavelet_{idx}'] = denoised_signal\n"
     ]
    },
    {
     "name": "stdout",
     "output_type": "stream",
     "text": [
      "Gráfico salvo em: wavelet_denoising_plots_comparacao/comparacao_ws100_config_276.png\n",
      "Testando Configuração 277: Wavelet=bior1.1, Level=3, Threshold Mode=soft, Signal Mode=symmetric\n"
     ]
    },
    {
     "name": "stderr",
     "output_type": "stream",
     "text": [
      "/tmp/ipykernel_3088/3451176622.py:146: PerformanceWarning: DataFrame is highly fragmented.  This is usually the result of calling `frame.insert` many times, which has poor performance.  Consider joining all columns at once using pd.concat(axis=1) instead. To get a de-fragmented frame, use `newframe = frame.copy()`\n",
      "  variables[f'{col}_wavelet_{idx}'] = denoised_signal\n"
     ]
    },
    {
     "name": "stdout",
     "output_type": "stream",
     "text": [
      "Gráfico salvo em: wavelet_denoising_plots_comparacao/comparacao_ws100_config_277.png\n",
      "Testando Configuração 278: Wavelet=bior1.1, Level=3, Threshold Mode=soft, Signal Mode=smooth\n"
     ]
    },
    {
     "name": "stderr",
     "output_type": "stream",
     "text": [
      "/tmp/ipykernel_3088/3451176622.py:146: PerformanceWarning: DataFrame is highly fragmented.  This is usually the result of calling `frame.insert` many times, which has poor performance.  Consider joining all columns at once using pd.concat(axis=1) instead. To get a de-fragmented frame, use `newframe = frame.copy()`\n",
      "  variables[f'{col}_wavelet_{idx}'] = denoised_signal\n"
     ]
    },
    {
     "name": "stdout",
     "output_type": "stream",
     "text": [
      "Gráfico salvo em: wavelet_denoising_plots_comparacao/comparacao_ws100_config_278.png\n",
      "Testando Configuração 279: Wavelet=bior1.1, Level=3, Threshold Mode=soft, Signal Mode=periodization\n"
     ]
    },
    {
     "name": "stderr",
     "output_type": "stream",
     "text": [
      "/tmp/ipykernel_3088/3451176622.py:146: PerformanceWarning: DataFrame is highly fragmented.  This is usually the result of calling `frame.insert` many times, which has poor performance.  Consider joining all columns at once using pd.concat(axis=1) instead. To get a de-fragmented frame, use `newframe = frame.copy()`\n",
      "  variables[f'{col}_wavelet_{idx}'] = denoised_signal\n"
     ]
    },
    {
     "name": "stdout",
     "output_type": "stream",
     "text": [
      "Gráfico salvo em: wavelet_denoising_plots_comparacao/comparacao_ws100_config_279.png\n",
      "Testando Configuração 280: Wavelet=bior1.1, Level=3, Threshold Mode=garrote, Signal Mode=symmetric\n"
     ]
    },
    {
     "name": "stderr",
     "output_type": "stream",
     "text": [
      "/tmp/ipykernel_3088/3451176622.py:146: PerformanceWarning: DataFrame is highly fragmented.  This is usually the result of calling `frame.insert` many times, which has poor performance.  Consider joining all columns at once using pd.concat(axis=1) instead. To get a de-fragmented frame, use `newframe = frame.copy()`\n",
      "  variables[f'{col}_wavelet_{idx}'] = denoised_signal\n"
     ]
    },
    {
     "name": "stdout",
     "output_type": "stream",
     "text": [
      "Gráfico salvo em: wavelet_denoising_plots_comparacao/comparacao_ws100_config_280.png\n",
      "280 configurações processadas.\n",
      "Testando Configuração 281: Wavelet=bior1.1, Level=3, Threshold Mode=garrote, Signal Mode=smooth\n"
     ]
    },
    {
     "name": "stderr",
     "output_type": "stream",
     "text": [
      "/tmp/ipykernel_3088/3451176622.py:146: PerformanceWarning: DataFrame is highly fragmented.  This is usually the result of calling `frame.insert` many times, which has poor performance.  Consider joining all columns at once using pd.concat(axis=1) instead. To get a de-fragmented frame, use `newframe = frame.copy()`\n",
      "  variables[f'{col}_wavelet_{idx}'] = denoised_signal\n"
     ]
    },
    {
     "name": "stdout",
     "output_type": "stream",
     "text": [
      "Gráfico salvo em: wavelet_denoising_plots_comparacao/comparacao_ws100_config_281.png\n",
      "Testando Configuração 282: Wavelet=bior1.1, Level=3, Threshold Mode=garrote, Signal Mode=periodization\n"
     ]
    },
    {
     "name": "stderr",
     "output_type": "stream",
     "text": [
      "/tmp/ipykernel_3088/3451176622.py:146: PerformanceWarning: DataFrame is highly fragmented.  This is usually the result of calling `frame.insert` many times, which has poor performance.  Consider joining all columns at once using pd.concat(axis=1) instead. To get a de-fragmented frame, use `newframe = frame.copy()`\n",
      "  variables[f'{col}_wavelet_{idx}'] = denoised_signal\n"
     ]
    },
    {
     "name": "stdout",
     "output_type": "stream",
     "text": [
      "Gráfico salvo em: wavelet_denoising_plots_comparacao/comparacao_ws100_config_282.png\n",
      "Testando Configuração 283: Wavelet=bior1.1, Level=4, Threshold Mode=soft, Signal Mode=symmetric\n"
     ]
    },
    {
     "name": "stderr",
     "output_type": "stream",
     "text": [
      "/tmp/ipykernel_3088/3451176622.py:146: PerformanceWarning: DataFrame is highly fragmented.  This is usually the result of calling `frame.insert` many times, which has poor performance.  Consider joining all columns at once using pd.concat(axis=1) instead. To get a de-fragmented frame, use `newframe = frame.copy()`\n",
      "  variables[f'{col}_wavelet_{idx}'] = denoised_signal\n"
     ]
    },
    {
     "name": "stdout",
     "output_type": "stream",
     "text": [
      "Gráfico salvo em: wavelet_denoising_plots_comparacao/comparacao_ws100_config_283.png\n",
      "Testando Configuração 284: Wavelet=bior1.1, Level=4, Threshold Mode=soft, Signal Mode=smooth\n"
     ]
    },
    {
     "name": "stderr",
     "output_type": "stream",
     "text": [
      "/tmp/ipykernel_3088/3451176622.py:146: PerformanceWarning: DataFrame is highly fragmented.  This is usually the result of calling `frame.insert` many times, which has poor performance.  Consider joining all columns at once using pd.concat(axis=1) instead. To get a de-fragmented frame, use `newframe = frame.copy()`\n",
      "  variables[f'{col}_wavelet_{idx}'] = denoised_signal\n"
     ]
    },
    {
     "name": "stdout",
     "output_type": "stream",
     "text": [
      "Gráfico salvo em: wavelet_denoising_plots_comparacao/comparacao_ws100_config_284.png\n",
      "Testando Configuração 285: Wavelet=bior1.1, Level=4, Threshold Mode=soft, Signal Mode=periodization\n"
     ]
    },
    {
     "name": "stderr",
     "output_type": "stream",
     "text": [
      "/tmp/ipykernel_3088/3451176622.py:146: PerformanceWarning: DataFrame is highly fragmented.  This is usually the result of calling `frame.insert` many times, which has poor performance.  Consider joining all columns at once using pd.concat(axis=1) instead. To get a de-fragmented frame, use `newframe = frame.copy()`\n",
      "  variables[f'{col}_wavelet_{idx}'] = denoised_signal\n"
     ]
    },
    {
     "name": "stdout",
     "output_type": "stream",
     "text": [
      "Gráfico salvo em: wavelet_denoising_plots_comparacao/comparacao_ws100_config_285.png\n",
      "Testando Configuração 286: Wavelet=bior1.1, Level=4, Threshold Mode=garrote, Signal Mode=symmetric\n"
     ]
    },
    {
     "name": "stderr",
     "output_type": "stream",
     "text": [
      "/tmp/ipykernel_3088/3451176622.py:146: PerformanceWarning: DataFrame is highly fragmented.  This is usually the result of calling `frame.insert` many times, which has poor performance.  Consider joining all columns at once using pd.concat(axis=1) instead. To get a de-fragmented frame, use `newframe = frame.copy()`\n",
      "  variables[f'{col}_wavelet_{idx}'] = denoised_signal\n"
     ]
    },
    {
     "name": "stdout",
     "output_type": "stream",
     "text": [
      "Gráfico salvo em: wavelet_denoising_plots_comparacao/comparacao_ws100_config_286.png\n",
      "Testando Configuração 287: Wavelet=bior1.1, Level=4, Threshold Mode=garrote, Signal Mode=smooth\n"
     ]
    },
    {
     "name": "stderr",
     "output_type": "stream",
     "text": [
      "/tmp/ipykernel_3088/3451176622.py:146: PerformanceWarning: DataFrame is highly fragmented.  This is usually the result of calling `frame.insert` many times, which has poor performance.  Consider joining all columns at once using pd.concat(axis=1) instead. To get a de-fragmented frame, use `newframe = frame.copy()`\n",
      "  variables[f'{col}_wavelet_{idx}'] = denoised_signal\n"
     ]
    },
    {
     "name": "stdout",
     "output_type": "stream",
     "text": [
      "Gráfico salvo em: wavelet_denoising_plots_comparacao/comparacao_ws100_config_287.png\n",
      "Testando Configuração 288: Wavelet=bior1.1, Level=4, Threshold Mode=garrote, Signal Mode=periodization\n"
     ]
    },
    {
     "name": "stderr",
     "output_type": "stream",
     "text": [
      "/tmp/ipykernel_3088/3451176622.py:146: PerformanceWarning: DataFrame is highly fragmented.  This is usually the result of calling `frame.insert` many times, which has poor performance.  Consider joining all columns at once using pd.concat(axis=1) instead. To get a de-fragmented frame, use `newframe = frame.copy()`\n",
      "  variables[f'{col}_wavelet_{idx}'] = denoised_signal\n"
     ]
    },
    {
     "name": "stdout",
     "output_type": "stream",
     "text": [
      "Gráfico salvo em: wavelet_denoising_plots_comparacao/comparacao_ws100_config_288.png\n",
      "Testando Configuração 289: Wavelet=bior1.5, Level=3, Threshold Mode=soft, Signal Mode=symmetric\n"
     ]
    },
    {
     "name": "stderr",
     "output_type": "stream",
     "text": [
      "/tmp/ipykernel_3088/3451176622.py:146: PerformanceWarning: DataFrame is highly fragmented.  This is usually the result of calling `frame.insert` many times, which has poor performance.  Consider joining all columns at once using pd.concat(axis=1) instead. To get a de-fragmented frame, use `newframe = frame.copy()`\n",
      "  variables[f'{col}_wavelet_{idx}'] = denoised_signal\n"
     ]
    },
    {
     "name": "stdout",
     "output_type": "stream",
     "text": [
      "Gráfico salvo em: wavelet_denoising_plots_comparacao/comparacao_ws100_config_289.png\n",
      "Testando Configuração 290: Wavelet=bior1.5, Level=3, Threshold Mode=soft, Signal Mode=smooth\n"
     ]
    },
    {
     "name": "stderr",
     "output_type": "stream",
     "text": [
      "/tmp/ipykernel_3088/3451176622.py:146: PerformanceWarning: DataFrame is highly fragmented.  This is usually the result of calling `frame.insert` many times, which has poor performance.  Consider joining all columns at once using pd.concat(axis=1) instead. To get a de-fragmented frame, use `newframe = frame.copy()`\n",
      "  variables[f'{col}_wavelet_{idx}'] = denoised_signal\n"
     ]
    },
    {
     "name": "stdout",
     "output_type": "stream",
     "text": [
      "Gráfico salvo em: wavelet_denoising_plots_comparacao/comparacao_ws100_config_290.png\n",
      "290 configurações processadas.\n",
      "Testando Configuração 291: Wavelet=bior1.5, Level=3, Threshold Mode=soft, Signal Mode=periodization\n"
     ]
    },
    {
     "name": "stderr",
     "output_type": "stream",
     "text": [
      "/tmp/ipykernel_3088/3451176622.py:146: PerformanceWarning: DataFrame is highly fragmented.  This is usually the result of calling `frame.insert` many times, which has poor performance.  Consider joining all columns at once using pd.concat(axis=1) instead. To get a de-fragmented frame, use `newframe = frame.copy()`\n",
      "  variables[f'{col}_wavelet_{idx}'] = denoised_signal\n"
     ]
    },
    {
     "name": "stdout",
     "output_type": "stream",
     "text": [
      "Gráfico salvo em: wavelet_denoising_plots_comparacao/comparacao_ws100_config_291.png\n",
      "Testando Configuração 292: Wavelet=bior1.5, Level=3, Threshold Mode=garrote, Signal Mode=symmetric\n"
     ]
    },
    {
     "name": "stderr",
     "output_type": "stream",
     "text": [
      "/tmp/ipykernel_3088/3451176622.py:146: PerformanceWarning: DataFrame is highly fragmented.  This is usually the result of calling `frame.insert` many times, which has poor performance.  Consider joining all columns at once using pd.concat(axis=1) instead. To get a de-fragmented frame, use `newframe = frame.copy()`\n",
      "  variables[f'{col}_wavelet_{idx}'] = denoised_signal\n"
     ]
    },
    {
     "name": "stdout",
     "output_type": "stream",
     "text": [
      "Gráfico salvo em: wavelet_denoising_plots_comparacao/comparacao_ws100_config_292.png\n",
      "Testando Configuração 293: Wavelet=bior1.5, Level=3, Threshold Mode=garrote, Signal Mode=smooth\n"
     ]
    },
    {
     "name": "stderr",
     "output_type": "stream",
     "text": [
      "/tmp/ipykernel_3088/3451176622.py:146: PerformanceWarning: DataFrame is highly fragmented.  This is usually the result of calling `frame.insert` many times, which has poor performance.  Consider joining all columns at once using pd.concat(axis=1) instead. To get a de-fragmented frame, use `newframe = frame.copy()`\n",
      "  variables[f'{col}_wavelet_{idx}'] = denoised_signal\n"
     ]
    },
    {
     "name": "stdout",
     "output_type": "stream",
     "text": [
      "Gráfico salvo em: wavelet_denoising_plots_comparacao/comparacao_ws100_config_293.png\n",
      "Testando Configuração 294: Wavelet=bior1.5, Level=3, Threshold Mode=garrote, Signal Mode=periodization\n"
     ]
    },
    {
     "name": "stderr",
     "output_type": "stream",
     "text": [
      "/tmp/ipykernel_3088/3451176622.py:146: PerformanceWarning: DataFrame is highly fragmented.  This is usually the result of calling `frame.insert` many times, which has poor performance.  Consider joining all columns at once using pd.concat(axis=1) instead. To get a de-fragmented frame, use `newframe = frame.copy()`\n",
      "  variables[f'{col}_wavelet_{idx}'] = denoised_signal\n"
     ]
    },
    {
     "name": "stdout",
     "output_type": "stream",
     "text": [
      "Gráfico salvo em: wavelet_denoising_plots_comparacao/comparacao_ws100_config_294.png\n",
      "Testando Configuração 295: Wavelet=bior1.5, Level=4, Threshold Mode=soft, Signal Mode=symmetric\n"
     ]
    },
    {
     "name": "stderr",
     "output_type": "stream",
     "text": [
      "/tmp/ipykernel_3088/3451176622.py:146: PerformanceWarning: DataFrame is highly fragmented.  This is usually the result of calling `frame.insert` many times, which has poor performance.  Consider joining all columns at once using pd.concat(axis=1) instead. To get a de-fragmented frame, use `newframe = frame.copy()`\n",
      "  variables[f'{col}_wavelet_{idx}'] = denoised_signal\n"
     ]
    },
    {
     "name": "stdout",
     "output_type": "stream",
     "text": [
      "Gráfico salvo em: wavelet_denoising_plots_comparacao/comparacao_ws100_config_295.png\n",
      "Testando Configuração 296: Wavelet=bior1.5, Level=4, Threshold Mode=soft, Signal Mode=smooth\n"
     ]
    },
    {
     "name": "stderr",
     "output_type": "stream",
     "text": [
      "/tmp/ipykernel_3088/3451176622.py:146: PerformanceWarning: DataFrame is highly fragmented.  This is usually the result of calling `frame.insert` many times, which has poor performance.  Consider joining all columns at once using pd.concat(axis=1) instead. To get a de-fragmented frame, use `newframe = frame.copy()`\n",
      "  variables[f'{col}_wavelet_{idx}'] = denoised_signal\n"
     ]
    },
    {
     "name": "stdout",
     "output_type": "stream",
     "text": [
      "Gráfico salvo em: wavelet_denoising_plots_comparacao/comparacao_ws100_config_296.png\n",
      "Testando Configuração 297: Wavelet=bior1.5, Level=4, Threshold Mode=soft, Signal Mode=periodization\n"
     ]
    },
    {
     "name": "stderr",
     "output_type": "stream",
     "text": [
      "/tmp/ipykernel_3088/3451176622.py:146: PerformanceWarning: DataFrame is highly fragmented.  This is usually the result of calling `frame.insert` many times, which has poor performance.  Consider joining all columns at once using pd.concat(axis=1) instead. To get a de-fragmented frame, use `newframe = frame.copy()`\n",
      "  variables[f'{col}_wavelet_{idx}'] = denoised_signal\n"
     ]
    },
    {
     "name": "stdout",
     "output_type": "stream",
     "text": [
      "Gráfico salvo em: wavelet_denoising_plots_comparacao/comparacao_ws100_config_297.png\n",
      "Testando Configuração 298: Wavelet=bior1.5, Level=4, Threshold Mode=garrote, Signal Mode=symmetric\n"
     ]
    },
    {
     "name": "stderr",
     "output_type": "stream",
     "text": [
      "/tmp/ipykernel_3088/3451176622.py:146: PerformanceWarning: DataFrame is highly fragmented.  This is usually the result of calling `frame.insert` many times, which has poor performance.  Consider joining all columns at once using pd.concat(axis=1) instead. To get a de-fragmented frame, use `newframe = frame.copy()`\n",
      "  variables[f'{col}_wavelet_{idx}'] = denoised_signal\n"
     ]
    },
    {
     "name": "stdout",
     "output_type": "stream",
     "text": [
      "Gráfico salvo em: wavelet_denoising_plots_comparacao/comparacao_ws100_config_298.png\n",
      "Testando Configuração 299: Wavelet=bior1.5, Level=4, Threshold Mode=garrote, Signal Mode=smooth\n"
     ]
    },
    {
     "name": "stderr",
     "output_type": "stream",
     "text": [
      "/tmp/ipykernel_3088/3451176622.py:146: PerformanceWarning: DataFrame is highly fragmented.  This is usually the result of calling `frame.insert` many times, which has poor performance.  Consider joining all columns at once using pd.concat(axis=1) instead. To get a de-fragmented frame, use `newframe = frame.copy()`\n",
      "  variables[f'{col}_wavelet_{idx}'] = denoised_signal\n"
     ]
    },
    {
     "name": "stdout",
     "output_type": "stream",
     "text": [
      "Gráfico salvo em: wavelet_denoising_plots_comparacao/comparacao_ws100_config_299.png\n",
      "Testando Configuração 300: Wavelet=bior1.5, Level=4, Threshold Mode=garrote, Signal Mode=periodization\n"
     ]
    },
    {
     "name": "stderr",
     "output_type": "stream",
     "text": [
      "/tmp/ipykernel_3088/3451176622.py:146: PerformanceWarning: DataFrame is highly fragmented.  This is usually the result of calling `frame.insert` many times, which has poor performance.  Consider joining all columns at once using pd.concat(axis=1) instead. To get a de-fragmented frame, use `newframe = frame.copy()`\n",
      "  variables[f'{col}_wavelet_{idx}'] = denoised_signal\n"
     ]
    },
    {
     "name": "stdout",
     "output_type": "stream",
     "text": [
      "Gráfico salvo em: wavelet_denoising_plots_comparacao/comparacao_ws100_config_300.png\n",
      "300 configurações processadas.\n",
      "Testando Configuração 301: Wavelet=bior2.2, Level=3, Threshold Mode=soft, Signal Mode=symmetric\n"
     ]
    },
    {
     "name": "stderr",
     "output_type": "stream",
     "text": [
      "/tmp/ipykernel_3088/3451176622.py:146: PerformanceWarning: DataFrame is highly fragmented.  This is usually the result of calling `frame.insert` many times, which has poor performance.  Consider joining all columns at once using pd.concat(axis=1) instead. To get a de-fragmented frame, use `newframe = frame.copy()`\n",
      "  variables[f'{col}_wavelet_{idx}'] = denoised_signal\n"
     ]
    },
    {
     "name": "stdout",
     "output_type": "stream",
     "text": [
      "Gráfico salvo em: wavelet_denoising_plots_comparacao/comparacao_ws100_config_301.png\n",
      "Testando Configuração 302: Wavelet=bior2.2, Level=3, Threshold Mode=soft, Signal Mode=smooth\n"
     ]
    },
    {
     "name": "stderr",
     "output_type": "stream",
     "text": [
      "/tmp/ipykernel_3088/3451176622.py:146: PerformanceWarning: DataFrame is highly fragmented.  This is usually the result of calling `frame.insert` many times, which has poor performance.  Consider joining all columns at once using pd.concat(axis=1) instead. To get a de-fragmented frame, use `newframe = frame.copy()`\n",
      "  variables[f'{col}_wavelet_{idx}'] = denoised_signal\n"
     ]
    },
    {
     "name": "stdout",
     "output_type": "stream",
     "text": [
      "Gráfico salvo em: wavelet_denoising_plots_comparacao/comparacao_ws100_config_302.png\n",
      "Testando Configuração 303: Wavelet=bior2.2, Level=3, Threshold Mode=soft, Signal Mode=periodization\n"
     ]
    },
    {
     "name": "stderr",
     "output_type": "stream",
     "text": [
      "/tmp/ipykernel_3088/3451176622.py:146: PerformanceWarning: DataFrame is highly fragmented.  This is usually the result of calling `frame.insert` many times, which has poor performance.  Consider joining all columns at once using pd.concat(axis=1) instead. To get a de-fragmented frame, use `newframe = frame.copy()`\n",
      "  variables[f'{col}_wavelet_{idx}'] = denoised_signal\n"
     ]
    },
    {
     "name": "stdout",
     "output_type": "stream",
     "text": [
      "Gráfico salvo em: wavelet_denoising_plots_comparacao/comparacao_ws100_config_303.png\n",
      "Testando Configuração 304: Wavelet=bior2.2, Level=3, Threshold Mode=garrote, Signal Mode=symmetric\n"
     ]
    },
    {
     "name": "stderr",
     "output_type": "stream",
     "text": [
      "/tmp/ipykernel_3088/3451176622.py:146: PerformanceWarning: DataFrame is highly fragmented.  This is usually the result of calling `frame.insert` many times, which has poor performance.  Consider joining all columns at once using pd.concat(axis=1) instead. To get a de-fragmented frame, use `newframe = frame.copy()`\n",
      "  variables[f'{col}_wavelet_{idx}'] = denoised_signal\n"
     ]
    },
    {
     "name": "stdout",
     "output_type": "stream",
     "text": [
      "Gráfico salvo em: wavelet_denoising_plots_comparacao/comparacao_ws100_config_304.png\n",
      "Testando Configuração 305: Wavelet=bior2.2, Level=3, Threshold Mode=garrote, Signal Mode=smooth\n"
     ]
    },
    {
     "name": "stderr",
     "output_type": "stream",
     "text": [
      "/tmp/ipykernel_3088/3451176622.py:146: PerformanceWarning: DataFrame is highly fragmented.  This is usually the result of calling `frame.insert` many times, which has poor performance.  Consider joining all columns at once using pd.concat(axis=1) instead. To get a de-fragmented frame, use `newframe = frame.copy()`\n",
      "  variables[f'{col}_wavelet_{idx}'] = denoised_signal\n"
     ]
    },
    {
     "name": "stdout",
     "output_type": "stream",
     "text": [
      "Gráfico salvo em: wavelet_denoising_plots_comparacao/comparacao_ws100_config_305.png\n",
      "Testando Configuração 306: Wavelet=bior2.2, Level=3, Threshold Mode=garrote, Signal Mode=periodization\n"
     ]
    },
    {
     "name": "stderr",
     "output_type": "stream",
     "text": [
      "/tmp/ipykernel_3088/3451176622.py:146: PerformanceWarning: DataFrame is highly fragmented.  This is usually the result of calling `frame.insert` many times, which has poor performance.  Consider joining all columns at once using pd.concat(axis=1) instead. To get a de-fragmented frame, use `newframe = frame.copy()`\n",
      "  variables[f'{col}_wavelet_{idx}'] = denoised_signal\n"
     ]
    },
    {
     "name": "stdout",
     "output_type": "stream",
     "text": [
      "Gráfico salvo em: wavelet_denoising_plots_comparacao/comparacao_ws100_config_306.png\n",
      "Testando Configuração 307: Wavelet=bior2.2, Level=4, Threshold Mode=soft, Signal Mode=symmetric\n"
     ]
    },
    {
     "name": "stderr",
     "output_type": "stream",
     "text": [
      "/tmp/ipykernel_3088/3451176622.py:146: PerformanceWarning: DataFrame is highly fragmented.  This is usually the result of calling `frame.insert` many times, which has poor performance.  Consider joining all columns at once using pd.concat(axis=1) instead. To get a de-fragmented frame, use `newframe = frame.copy()`\n",
      "  variables[f'{col}_wavelet_{idx}'] = denoised_signal\n"
     ]
    },
    {
     "name": "stdout",
     "output_type": "stream",
     "text": [
      "Gráfico salvo em: wavelet_denoising_plots_comparacao/comparacao_ws100_config_307.png\n",
      "Testando Configuração 308: Wavelet=bior2.2, Level=4, Threshold Mode=soft, Signal Mode=smooth\n"
     ]
    },
    {
     "name": "stderr",
     "output_type": "stream",
     "text": [
      "/tmp/ipykernel_3088/3451176622.py:146: PerformanceWarning: DataFrame is highly fragmented.  This is usually the result of calling `frame.insert` many times, which has poor performance.  Consider joining all columns at once using pd.concat(axis=1) instead. To get a de-fragmented frame, use `newframe = frame.copy()`\n",
      "  variables[f'{col}_wavelet_{idx}'] = denoised_signal\n"
     ]
    },
    {
     "name": "stdout",
     "output_type": "stream",
     "text": [
      "Gráfico salvo em: wavelet_denoising_plots_comparacao/comparacao_ws100_config_308.png\n",
      "Testando Configuração 309: Wavelet=bior2.2, Level=4, Threshold Mode=soft, Signal Mode=periodization\n"
     ]
    },
    {
     "name": "stderr",
     "output_type": "stream",
     "text": [
      "/tmp/ipykernel_3088/3451176622.py:146: PerformanceWarning: DataFrame is highly fragmented.  This is usually the result of calling `frame.insert` many times, which has poor performance.  Consider joining all columns at once using pd.concat(axis=1) instead. To get a de-fragmented frame, use `newframe = frame.copy()`\n",
      "  variables[f'{col}_wavelet_{idx}'] = denoised_signal\n"
     ]
    },
    {
     "name": "stdout",
     "output_type": "stream",
     "text": [
      "Gráfico salvo em: wavelet_denoising_plots_comparacao/comparacao_ws100_config_309.png\n",
      "Testando Configuração 310: Wavelet=bior2.2, Level=4, Threshold Mode=garrote, Signal Mode=symmetric\n"
     ]
    },
    {
     "name": "stderr",
     "output_type": "stream",
     "text": [
      "/tmp/ipykernel_3088/3451176622.py:146: PerformanceWarning: DataFrame is highly fragmented.  This is usually the result of calling `frame.insert` many times, which has poor performance.  Consider joining all columns at once using pd.concat(axis=1) instead. To get a de-fragmented frame, use `newframe = frame.copy()`\n",
      "  variables[f'{col}_wavelet_{idx}'] = denoised_signal\n"
     ]
    },
    {
     "name": "stdout",
     "output_type": "stream",
     "text": [
      "Gráfico salvo em: wavelet_denoising_plots_comparacao/comparacao_ws100_config_310.png\n",
      "310 configurações processadas.\n",
      "Testando Configuração 311: Wavelet=bior2.2, Level=4, Threshold Mode=garrote, Signal Mode=smooth\n"
     ]
    },
    {
     "name": "stderr",
     "output_type": "stream",
     "text": [
      "/tmp/ipykernel_3088/3451176622.py:146: PerformanceWarning: DataFrame is highly fragmented.  This is usually the result of calling `frame.insert` many times, which has poor performance.  Consider joining all columns at once using pd.concat(axis=1) instead. To get a de-fragmented frame, use `newframe = frame.copy()`\n",
      "  variables[f'{col}_wavelet_{idx}'] = denoised_signal\n"
     ]
    },
    {
     "name": "stdout",
     "output_type": "stream",
     "text": [
      "Gráfico salvo em: wavelet_denoising_plots_comparacao/comparacao_ws100_config_311.png\n",
      "Testando Configuração 312: Wavelet=bior2.2, Level=4, Threshold Mode=garrote, Signal Mode=periodization\n"
     ]
    },
    {
     "name": "stderr",
     "output_type": "stream",
     "text": [
      "/tmp/ipykernel_3088/3451176622.py:146: PerformanceWarning: DataFrame is highly fragmented.  This is usually the result of calling `frame.insert` many times, which has poor performance.  Consider joining all columns at once using pd.concat(axis=1) instead. To get a de-fragmented frame, use `newframe = frame.copy()`\n",
      "  variables[f'{col}_wavelet_{idx}'] = denoised_signal\n"
     ]
    },
    {
     "name": "stdout",
     "output_type": "stream",
     "text": [
      "Gráfico salvo em: wavelet_denoising_plots_comparacao/comparacao_ws100_config_312.png\n",
      "Testando Configuração 313: Wavelet=bior2.6, Level=3, Threshold Mode=soft, Signal Mode=symmetric\n"
     ]
    },
    {
     "name": "stderr",
     "output_type": "stream",
     "text": [
      "/tmp/ipykernel_3088/3451176622.py:146: PerformanceWarning: DataFrame is highly fragmented.  This is usually the result of calling `frame.insert` many times, which has poor performance.  Consider joining all columns at once using pd.concat(axis=1) instead. To get a de-fragmented frame, use `newframe = frame.copy()`\n",
      "  variables[f'{col}_wavelet_{idx}'] = denoised_signal\n"
     ]
    },
    {
     "name": "stdout",
     "output_type": "stream",
     "text": [
      "Gráfico salvo em: wavelet_denoising_plots_comparacao/comparacao_ws100_config_313.png\n",
      "Testando Configuração 314: Wavelet=bior2.6, Level=3, Threshold Mode=soft, Signal Mode=smooth\n"
     ]
    },
    {
     "name": "stderr",
     "output_type": "stream",
     "text": [
      "/tmp/ipykernel_3088/3451176622.py:146: PerformanceWarning: DataFrame is highly fragmented.  This is usually the result of calling `frame.insert` many times, which has poor performance.  Consider joining all columns at once using pd.concat(axis=1) instead. To get a de-fragmented frame, use `newframe = frame.copy()`\n",
      "  variables[f'{col}_wavelet_{idx}'] = denoised_signal\n"
     ]
    },
    {
     "name": "stdout",
     "output_type": "stream",
     "text": [
      "Gráfico salvo em: wavelet_denoising_plots_comparacao/comparacao_ws100_config_314.png\n",
      "Testando Configuração 315: Wavelet=bior2.6, Level=3, Threshold Mode=soft, Signal Mode=periodization\n"
     ]
    },
    {
     "name": "stderr",
     "output_type": "stream",
     "text": [
      "/tmp/ipykernel_3088/3451176622.py:146: PerformanceWarning: DataFrame is highly fragmented.  This is usually the result of calling `frame.insert` many times, which has poor performance.  Consider joining all columns at once using pd.concat(axis=1) instead. To get a de-fragmented frame, use `newframe = frame.copy()`\n",
      "  variables[f'{col}_wavelet_{idx}'] = denoised_signal\n"
     ]
    },
    {
     "name": "stdout",
     "output_type": "stream",
     "text": [
      "Gráfico salvo em: wavelet_denoising_plots_comparacao/comparacao_ws100_config_315.png\n",
      "Testando Configuração 316: Wavelet=bior2.6, Level=3, Threshold Mode=garrote, Signal Mode=symmetric\n"
     ]
    },
    {
     "name": "stderr",
     "output_type": "stream",
     "text": [
      "/tmp/ipykernel_3088/3451176622.py:146: PerformanceWarning: DataFrame is highly fragmented.  This is usually the result of calling `frame.insert` many times, which has poor performance.  Consider joining all columns at once using pd.concat(axis=1) instead. To get a de-fragmented frame, use `newframe = frame.copy()`\n",
      "  variables[f'{col}_wavelet_{idx}'] = denoised_signal\n"
     ]
    },
    {
     "name": "stdout",
     "output_type": "stream",
     "text": [
      "Gráfico salvo em: wavelet_denoising_plots_comparacao/comparacao_ws100_config_316.png\n",
      "Testando Configuração 317: Wavelet=bior2.6, Level=3, Threshold Mode=garrote, Signal Mode=smooth\n"
     ]
    },
    {
     "name": "stderr",
     "output_type": "stream",
     "text": [
      "/tmp/ipykernel_3088/3451176622.py:146: PerformanceWarning: DataFrame is highly fragmented.  This is usually the result of calling `frame.insert` many times, which has poor performance.  Consider joining all columns at once using pd.concat(axis=1) instead. To get a de-fragmented frame, use `newframe = frame.copy()`\n",
      "  variables[f'{col}_wavelet_{idx}'] = denoised_signal\n"
     ]
    },
    {
     "name": "stdout",
     "output_type": "stream",
     "text": [
      "Gráfico salvo em: wavelet_denoising_plots_comparacao/comparacao_ws100_config_317.png\n",
      "Testando Configuração 318: Wavelet=bior2.6, Level=3, Threshold Mode=garrote, Signal Mode=periodization\n"
     ]
    },
    {
     "name": "stderr",
     "output_type": "stream",
     "text": [
      "/tmp/ipykernel_3088/3451176622.py:146: PerformanceWarning: DataFrame is highly fragmented.  This is usually the result of calling `frame.insert` many times, which has poor performance.  Consider joining all columns at once using pd.concat(axis=1) instead. To get a de-fragmented frame, use `newframe = frame.copy()`\n",
      "  variables[f'{col}_wavelet_{idx}'] = denoised_signal\n"
     ]
    },
    {
     "name": "stdout",
     "output_type": "stream",
     "text": [
      "Gráfico salvo em: wavelet_denoising_plots_comparacao/comparacao_ws100_config_318.png\n",
      "Testando Configuração 319: Wavelet=bior2.6, Level=4, Threshold Mode=soft, Signal Mode=symmetric\n"
     ]
    },
    {
     "name": "stderr",
     "output_type": "stream",
     "text": [
      "/tmp/ipykernel_3088/3451176622.py:146: PerformanceWarning: DataFrame is highly fragmented.  This is usually the result of calling `frame.insert` many times, which has poor performance.  Consider joining all columns at once using pd.concat(axis=1) instead. To get a de-fragmented frame, use `newframe = frame.copy()`\n",
      "  variables[f'{col}_wavelet_{idx}'] = denoised_signal\n"
     ]
    },
    {
     "name": "stdout",
     "output_type": "stream",
     "text": [
      "Gráfico salvo em: wavelet_denoising_plots_comparacao/comparacao_ws100_config_319.png\n",
      "Testando Configuração 320: Wavelet=bior2.6, Level=4, Threshold Mode=soft, Signal Mode=smooth\n"
     ]
    },
    {
     "name": "stderr",
     "output_type": "stream",
     "text": [
      "/tmp/ipykernel_3088/3451176622.py:146: PerformanceWarning: DataFrame is highly fragmented.  This is usually the result of calling `frame.insert` many times, which has poor performance.  Consider joining all columns at once using pd.concat(axis=1) instead. To get a de-fragmented frame, use `newframe = frame.copy()`\n",
      "  variables[f'{col}_wavelet_{idx}'] = denoised_signal\n"
     ]
    },
    {
     "name": "stdout",
     "output_type": "stream",
     "text": [
      "Gráfico salvo em: wavelet_denoising_plots_comparacao/comparacao_ws100_config_320.png\n",
      "320 configurações processadas.\n",
      "Testando Configuração 321: Wavelet=bior2.6, Level=4, Threshold Mode=soft, Signal Mode=periodization\n"
     ]
    },
    {
     "name": "stderr",
     "output_type": "stream",
     "text": [
      "/tmp/ipykernel_3088/3451176622.py:146: PerformanceWarning: DataFrame is highly fragmented.  This is usually the result of calling `frame.insert` many times, which has poor performance.  Consider joining all columns at once using pd.concat(axis=1) instead. To get a de-fragmented frame, use `newframe = frame.copy()`\n",
      "  variables[f'{col}_wavelet_{idx}'] = denoised_signal\n"
     ]
    },
    {
     "name": "stdout",
     "output_type": "stream",
     "text": [
      "Gráfico salvo em: wavelet_denoising_plots_comparacao/comparacao_ws100_config_321.png\n",
      "Testando Configuração 322: Wavelet=bior2.6, Level=4, Threshold Mode=garrote, Signal Mode=symmetric\n"
     ]
    },
    {
     "name": "stderr",
     "output_type": "stream",
     "text": [
      "/tmp/ipykernel_3088/3451176622.py:146: PerformanceWarning: DataFrame is highly fragmented.  This is usually the result of calling `frame.insert` many times, which has poor performance.  Consider joining all columns at once using pd.concat(axis=1) instead. To get a de-fragmented frame, use `newframe = frame.copy()`\n",
      "  variables[f'{col}_wavelet_{idx}'] = denoised_signal\n"
     ]
    },
    {
     "name": "stdout",
     "output_type": "stream",
     "text": [
      "Gráfico salvo em: wavelet_denoising_plots_comparacao/comparacao_ws100_config_322.png\n",
      "Testando Configuração 323: Wavelet=bior2.6, Level=4, Threshold Mode=garrote, Signal Mode=smooth\n"
     ]
    },
    {
     "name": "stderr",
     "output_type": "stream",
     "text": [
      "/tmp/ipykernel_3088/3451176622.py:146: PerformanceWarning: DataFrame is highly fragmented.  This is usually the result of calling `frame.insert` many times, which has poor performance.  Consider joining all columns at once using pd.concat(axis=1) instead. To get a de-fragmented frame, use `newframe = frame.copy()`\n",
      "  variables[f'{col}_wavelet_{idx}'] = denoised_signal\n"
     ]
    },
    {
     "name": "stdout",
     "output_type": "stream",
     "text": [
      "Gráfico salvo em: wavelet_denoising_plots_comparacao/comparacao_ws100_config_323.png\n",
      "Testando Configuração 324: Wavelet=bior2.6, Level=4, Threshold Mode=garrote, Signal Mode=periodization\n"
     ]
    },
    {
     "name": "stderr",
     "output_type": "stream",
     "text": [
      "/tmp/ipykernel_3088/3451176622.py:146: PerformanceWarning: DataFrame is highly fragmented.  This is usually the result of calling `frame.insert` many times, which has poor performance.  Consider joining all columns at once using pd.concat(axis=1) instead. To get a de-fragmented frame, use `newframe = frame.copy()`\n",
      "  variables[f'{col}_wavelet_{idx}'] = denoised_signal\n"
     ]
    },
    {
     "name": "stdout",
     "output_type": "stream",
     "text": [
      "Gráfico salvo em: wavelet_denoising_plots_comparacao/comparacao_ws100_config_324.png\n",
      "Testando Configuração 325: Wavelet=bior2.8, Level=3, Threshold Mode=soft, Signal Mode=symmetric\n"
     ]
    },
    {
     "name": "stderr",
     "output_type": "stream",
     "text": [
      "/tmp/ipykernel_3088/3451176622.py:146: PerformanceWarning: DataFrame is highly fragmented.  This is usually the result of calling `frame.insert` many times, which has poor performance.  Consider joining all columns at once using pd.concat(axis=1) instead. To get a de-fragmented frame, use `newframe = frame.copy()`\n",
      "  variables[f'{col}_wavelet_{idx}'] = denoised_signal\n"
     ]
    },
    {
     "name": "stdout",
     "output_type": "stream",
     "text": [
      "Gráfico salvo em: wavelet_denoising_plots_comparacao/comparacao_ws100_config_325.png\n",
      "Testando Configuração 326: Wavelet=bior2.8, Level=3, Threshold Mode=soft, Signal Mode=smooth\n"
     ]
    },
    {
     "name": "stderr",
     "output_type": "stream",
     "text": [
      "/tmp/ipykernel_3088/3451176622.py:146: PerformanceWarning: DataFrame is highly fragmented.  This is usually the result of calling `frame.insert` many times, which has poor performance.  Consider joining all columns at once using pd.concat(axis=1) instead. To get a de-fragmented frame, use `newframe = frame.copy()`\n",
      "  variables[f'{col}_wavelet_{idx}'] = denoised_signal\n"
     ]
    },
    {
     "name": "stdout",
     "output_type": "stream",
     "text": [
      "Gráfico salvo em: wavelet_denoising_plots_comparacao/comparacao_ws100_config_326.png\n",
      "Testando Configuração 327: Wavelet=bior2.8, Level=3, Threshold Mode=soft, Signal Mode=periodization\n"
     ]
    },
    {
     "name": "stderr",
     "output_type": "stream",
     "text": [
      "/tmp/ipykernel_3088/3451176622.py:146: PerformanceWarning: DataFrame is highly fragmented.  This is usually the result of calling `frame.insert` many times, which has poor performance.  Consider joining all columns at once using pd.concat(axis=1) instead. To get a de-fragmented frame, use `newframe = frame.copy()`\n",
      "  variables[f'{col}_wavelet_{idx}'] = denoised_signal\n"
     ]
    },
    {
     "name": "stdout",
     "output_type": "stream",
     "text": [
      "Gráfico salvo em: wavelet_denoising_plots_comparacao/comparacao_ws100_config_327.png\n",
      "Testando Configuração 328: Wavelet=bior2.8, Level=3, Threshold Mode=garrote, Signal Mode=symmetric\n"
     ]
    },
    {
     "name": "stderr",
     "output_type": "stream",
     "text": [
      "/tmp/ipykernel_3088/3451176622.py:146: PerformanceWarning: DataFrame is highly fragmented.  This is usually the result of calling `frame.insert` many times, which has poor performance.  Consider joining all columns at once using pd.concat(axis=1) instead. To get a de-fragmented frame, use `newframe = frame.copy()`\n",
      "  variables[f'{col}_wavelet_{idx}'] = denoised_signal\n"
     ]
    },
    {
     "name": "stdout",
     "output_type": "stream",
     "text": [
      "Gráfico salvo em: wavelet_denoising_plots_comparacao/comparacao_ws100_config_328.png\n",
      "Testando Configuração 329: Wavelet=bior2.8, Level=3, Threshold Mode=garrote, Signal Mode=smooth\n"
     ]
    },
    {
     "name": "stderr",
     "output_type": "stream",
     "text": [
      "/tmp/ipykernel_3088/3451176622.py:146: PerformanceWarning: DataFrame is highly fragmented.  This is usually the result of calling `frame.insert` many times, which has poor performance.  Consider joining all columns at once using pd.concat(axis=1) instead. To get a de-fragmented frame, use `newframe = frame.copy()`\n",
      "  variables[f'{col}_wavelet_{idx}'] = denoised_signal\n"
     ]
    },
    {
     "name": "stdout",
     "output_type": "stream",
     "text": [
      "Gráfico salvo em: wavelet_denoising_plots_comparacao/comparacao_ws100_config_329.png\n",
      "Testando Configuração 330: Wavelet=bior2.8, Level=3, Threshold Mode=garrote, Signal Mode=periodization\n"
     ]
    },
    {
     "name": "stderr",
     "output_type": "stream",
     "text": [
      "/tmp/ipykernel_3088/3451176622.py:146: PerformanceWarning: DataFrame is highly fragmented.  This is usually the result of calling `frame.insert` many times, which has poor performance.  Consider joining all columns at once using pd.concat(axis=1) instead. To get a de-fragmented frame, use `newframe = frame.copy()`\n",
      "  variables[f'{col}_wavelet_{idx}'] = denoised_signal\n"
     ]
    },
    {
     "name": "stdout",
     "output_type": "stream",
     "text": [
      "Gráfico salvo em: wavelet_denoising_plots_comparacao/comparacao_ws100_config_330.png\n",
      "330 configurações processadas.\n",
      "Testando Configuração 331: Wavelet=bior2.8, Level=4, Threshold Mode=soft, Signal Mode=symmetric\n"
     ]
    },
    {
     "name": "stderr",
     "output_type": "stream",
     "text": [
      "/tmp/ipykernel_3088/3451176622.py:146: PerformanceWarning: DataFrame is highly fragmented.  This is usually the result of calling `frame.insert` many times, which has poor performance.  Consider joining all columns at once using pd.concat(axis=1) instead. To get a de-fragmented frame, use `newframe = frame.copy()`\n",
      "  variables[f'{col}_wavelet_{idx}'] = denoised_signal\n"
     ]
    },
    {
     "name": "stdout",
     "output_type": "stream",
     "text": [
      "Gráfico salvo em: wavelet_denoising_plots_comparacao/comparacao_ws100_config_331.png\n",
      "Testando Configuração 332: Wavelet=bior2.8, Level=4, Threshold Mode=soft, Signal Mode=smooth\n"
     ]
    },
    {
     "name": "stderr",
     "output_type": "stream",
     "text": [
      "/tmp/ipykernel_3088/3451176622.py:146: PerformanceWarning: DataFrame is highly fragmented.  This is usually the result of calling `frame.insert` many times, which has poor performance.  Consider joining all columns at once using pd.concat(axis=1) instead. To get a de-fragmented frame, use `newframe = frame.copy()`\n",
      "  variables[f'{col}_wavelet_{idx}'] = denoised_signal\n"
     ]
    },
    {
     "name": "stdout",
     "output_type": "stream",
     "text": [
      "Gráfico salvo em: wavelet_denoising_plots_comparacao/comparacao_ws100_config_332.png\n",
      "Testando Configuração 333: Wavelet=bior2.8, Level=4, Threshold Mode=soft, Signal Mode=periodization\n"
     ]
    },
    {
     "name": "stderr",
     "output_type": "stream",
     "text": [
      "/tmp/ipykernel_3088/3451176622.py:146: PerformanceWarning: DataFrame is highly fragmented.  This is usually the result of calling `frame.insert` many times, which has poor performance.  Consider joining all columns at once using pd.concat(axis=1) instead. To get a de-fragmented frame, use `newframe = frame.copy()`\n",
      "  variables[f'{col}_wavelet_{idx}'] = denoised_signal\n"
     ]
    },
    {
     "name": "stdout",
     "output_type": "stream",
     "text": [
      "Gráfico salvo em: wavelet_denoising_plots_comparacao/comparacao_ws100_config_333.png\n",
      "Testando Configuração 334: Wavelet=bior2.8, Level=4, Threshold Mode=garrote, Signal Mode=symmetric\n"
     ]
    },
    {
     "name": "stderr",
     "output_type": "stream",
     "text": [
      "/tmp/ipykernel_3088/3451176622.py:146: PerformanceWarning: DataFrame is highly fragmented.  This is usually the result of calling `frame.insert` many times, which has poor performance.  Consider joining all columns at once using pd.concat(axis=1) instead. To get a de-fragmented frame, use `newframe = frame.copy()`\n",
      "  variables[f'{col}_wavelet_{idx}'] = denoised_signal\n"
     ]
    },
    {
     "name": "stdout",
     "output_type": "stream",
     "text": [
      "Gráfico salvo em: wavelet_denoising_plots_comparacao/comparacao_ws100_config_334.png\n",
      "Testando Configuração 335: Wavelet=bior2.8, Level=4, Threshold Mode=garrote, Signal Mode=smooth\n"
     ]
    },
    {
     "name": "stderr",
     "output_type": "stream",
     "text": [
      "/tmp/ipykernel_3088/3451176622.py:146: PerformanceWarning: DataFrame is highly fragmented.  This is usually the result of calling `frame.insert` many times, which has poor performance.  Consider joining all columns at once using pd.concat(axis=1) instead. To get a de-fragmented frame, use `newframe = frame.copy()`\n",
      "  variables[f'{col}_wavelet_{idx}'] = denoised_signal\n"
     ]
    },
    {
     "name": "stdout",
     "output_type": "stream",
     "text": [
      "Gráfico salvo em: wavelet_denoising_plots_comparacao/comparacao_ws100_config_335.png\n",
      "Testando Configuração 336: Wavelet=bior2.8, Level=4, Threshold Mode=garrote, Signal Mode=periodization\n"
     ]
    },
    {
     "name": "stderr",
     "output_type": "stream",
     "text": [
      "/tmp/ipykernel_3088/3451176622.py:146: PerformanceWarning: DataFrame is highly fragmented.  This is usually the result of calling `frame.insert` many times, which has poor performance.  Consider joining all columns at once using pd.concat(axis=1) instead. To get a de-fragmented frame, use `newframe = frame.copy()`\n",
      "  variables[f'{col}_wavelet_{idx}'] = denoised_signal\n"
     ]
    },
    {
     "name": "stdout",
     "output_type": "stream",
     "text": [
      "Gráfico salvo em: wavelet_denoising_plots_comparacao/comparacao_ws100_config_336.png\n",
      "Testando Configuração 337: Wavelet=bior3.1, Level=3, Threshold Mode=soft, Signal Mode=symmetric\n"
     ]
    },
    {
     "name": "stderr",
     "output_type": "stream",
     "text": [
      "/tmp/ipykernel_3088/3451176622.py:146: PerformanceWarning: DataFrame is highly fragmented.  This is usually the result of calling `frame.insert` many times, which has poor performance.  Consider joining all columns at once using pd.concat(axis=1) instead. To get a de-fragmented frame, use `newframe = frame.copy()`\n",
      "  variables[f'{col}_wavelet_{idx}'] = denoised_signal\n"
     ]
    },
    {
     "name": "stdout",
     "output_type": "stream",
     "text": [
      "Gráfico salvo em: wavelet_denoising_plots_comparacao/comparacao_ws100_config_337.png\n",
      "Testando Configuração 338: Wavelet=bior3.1, Level=3, Threshold Mode=soft, Signal Mode=smooth\n"
     ]
    },
    {
     "name": "stderr",
     "output_type": "stream",
     "text": [
      "/tmp/ipykernel_3088/3451176622.py:146: PerformanceWarning: DataFrame is highly fragmented.  This is usually the result of calling `frame.insert` many times, which has poor performance.  Consider joining all columns at once using pd.concat(axis=1) instead. To get a de-fragmented frame, use `newframe = frame.copy()`\n",
      "  variables[f'{col}_wavelet_{idx}'] = denoised_signal\n"
     ]
    },
    {
     "name": "stdout",
     "output_type": "stream",
     "text": [
      "Gráfico salvo em: wavelet_denoising_plots_comparacao/comparacao_ws100_config_338.png\n",
      "Testando Configuração 339: Wavelet=bior3.1, Level=3, Threshold Mode=soft, Signal Mode=periodization\n"
     ]
    },
    {
     "name": "stderr",
     "output_type": "stream",
     "text": [
      "/tmp/ipykernel_3088/3451176622.py:146: PerformanceWarning: DataFrame is highly fragmented.  This is usually the result of calling `frame.insert` many times, which has poor performance.  Consider joining all columns at once using pd.concat(axis=1) instead. To get a de-fragmented frame, use `newframe = frame.copy()`\n",
      "  variables[f'{col}_wavelet_{idx}'] = denoised_signal\n"
     ]
    },
    {
     "name": "stdout",
     "output_type": "stream",
     "text": [
      "Gráfico salvo em: wavelet_denoising_plots_comparacao/comparacao_ws100_config_339.png\n",
      "Testando Configuração 340: Wavelet=bior3.1, Level=3, Threshold Mode=garrote, Signal Mode=symmetric\n"
     ]
    },
    {
     "name": "stderr",
     "output_type": "stream",
     "text": [
      "/tmp/ipykernel_3088/3451176622.py:146: PerformanceWarning: DataFrame is highly fragmented.  This is usually the result of calling `frame.insert` many times, which has poor performance.  Consider joining all columns at once using pd.concat(axis=1) instead. To get a de-fragmented frame, use `newframe = frame.copy()`\n",
      "  variables[f'{col}_wavelet_{idx}'] = denoised_signal\n"
     ]
    },
    {
     "name": "stdout",
     "output_type": "stream",
     "text": [
      "Gráfico salvo em: wavelet_denoising_plots_comparacao/comparacao_ws100_config_340.png\n",
      "340 configurações processadas.\n",
      "Testando Configuração 341: Wavelet=bior3.1, Level=3, Threshold Mode=garrote, Signal Mode=smooth\n"
     ]
    },
    {
     "name": "stderr",
     "output_type": "stream",
     "text": [
      "/tmp/ipykernel_3088/3451176622.py:146: PerformanceWarning: DataFrame is highly fragmented.  This is usually the result of calling `frame.insert` many times, which has poor performance.  Consider joining all columns at once using pd.concat(axis=1) instead. To get a de-fragmented frame, use `newframe = frame.copy()`\n",
      "  variables[f'{col}_wavelet_{idx}'] = denoised_signal\n"
     ]
    },
    {
     "name": "stdout",
     "output_type": "stream",
     "text": [
      "Gráfico salvo em: wavelet_denoising_plots_comparacao/comparacao_ws100_config_341.png\n",
      "Testando Configuração 342: Wavelet=bior3.1, Level=3, Threshold Mode=garrote, Signal Mode=periodization\n"
     ]
    },
    {
     "name": "stderr",
     "output_type": "stream",
     "text": [
      "/tmp/ipykernel_3088/3451176622.py:146: PerformanceWarning: DataFrame is highly fragmented.  This is usually the result of calling `frame.insert` many times, which has poor performance.  Consider joining all columns at once using pd.concat(axis=1) instead. To get a de-fragmented frame, use `newframe = frame.copy()`\n",
      "  variables[f'{col}_wavelet_{idx}'] = denoised_signal\n"
     ]
    },
    {
     "name": "stdout",
     "output_type": "stream",
     "text": [
      "Gráfico salvo em: wavelet_denoising_plots_comparacao/comparacao_ws100_config_342.png\n",
      "Testando Configuração 343: Wavelet=bior3.1, Level=4, Threshold Mode=soft, Signal Mode=symmetric\n"
     ]
    },
    {
     "name": "stderr",
     "output_type": "stream",
     "text": [
      "/tmp/ipykernel_3088/3451176622.py:146: PerformanceWarning: DataFrame is highly fragmented.  This is usually the result of calling `frame.insert` many times, which has poor performance.  Consider joining all columns at once using pd.concat(axis=1) instead. To get a de-fragmented frame, use `newframe = frame.copy()`\n",
      "  variables[f'{col}_wavelet_{idx}'] = denoised_signal\n"
     ]
    },
    {
     "name": "stdout",
     "output_type": "stream",
     "text": [
      "Gráfico salvo em: wavelet_denoising_plots_comparacao/comparacao_ws100_config_343.png\n",
      "Testando Configuração 344: Wavelet=bior3.1, Level=4, Threshold Mode=soft, Signal Mode=smooth\n"
     ]
    },
    {
     "name": "stderr",
     "output_type": "stream",
     "text": [
      "/tmp/ipykernel_3088/3451176622.py:146: PerformanceWarning: DataFrame is highly fragmented.  This is usually the result of calling `frame.insert` many times, which has poor performance.  Consider joining all columns at once using pd.concat(axis=1) instead. To get a de-fragmented frame, use `newframe = frame.copy()`\n",
      "  variables[f'{col}_wavelet_{idx}'] = denoised_signal\n"
     ]
    },
    {
     "name": "stdout",
     "output_type": "stream",
     "text": [
      "Gráfico salvo em: wavelet_denoising_plots_comparacao/comparacao_ws100_config_344.png\n",
      "Testando Configuração 345: Wavelet=bior3.1, Level=4, Threshold Mode=soft, Signal Mode=periodization\n"
     ]
    },
    {
     "name": "stderr",
     "output_type": "stream",
     "text": [
      "/tmp/ipykernel_3088/3451176622.py:146: PerformanceWarning: DataFrame is highly fragmented.  This is usually the result of calling `frame.insert` many times, which has poor performance.  Consider joining all columns at once using pd.concat(axis=1) instead. To get a de-fragmented frame, use `newframe = frame.copy()`\n",
      "  variables[f'{col}_wavelet_{idx}'] = denoised_signal\n"
     ]
    },
    {
     "name": "stdout",
     "output_type": "stream",
     "text": [
      "Gráfico salvo em: wavelet_denoising_plots_comparacao/comparacao_ws100_config_345.png\n",
      "Testando Configuração 346: Wavelet=bior3.1, Level=4, Threshold Mode=garrote, Signal Mode=symmetric\n"
     ]
    },
    {
     "name": "stderr",
     "output_type": "stream",
     "text": [
      "/tmp/ipykernel_3088/3451176622.py:146: PerformanceWarning: DataFrame is highly fragmented.  This is usually the result of calling `frame.insert` many times, which has poor performance.  Consider joining all columns at once using pd.concat(axis=1) instead. To get a de-fragmented frame, use `newframe = frame.copy()`\n",
      "  variables[f'{col}_wavelet_{idx}'] = denoised_signal\n"
     ]
    },
    {
     "name": "stdout",
     "output_type": "stream",
     "text": [
      "Gráfico salvo em: wavelet_denoising_plots_comparacao/comparacao_ws100_config_346.png\n",
      "Testando Configuração 347: Wavelet=bior3.1, Level=4, Threshold Mode=garrote, Signal Mode=smooth\n"
     ]
    },
    {
     "name": "stderr",
     "output_type": "stream",
     "text": [
      "/tmp/ipykernel_3088/3451176622.py:146: PerformanceWarning: DataFrame is highly fragmented.  This is usually the result of calling `frame.insert` many times, which has poor performance.  Consider joining all columns at once using pd.concat(axis=1) instead. To get a de-fragmented frame, use `newframe = frame.copy()`\n",
      "  variables[f'{col}_wavelet_{idx}'] = denoised_signal\n"
     ]
    },
    {
     "name": "stdout",
     "output_type": "stream",
     "text": [
      "Gráfico salvo em: wavelet_denoising_plots_comparacao/comparacao_ws100_config_347.png\n",
      "Testando Configuração 348: Wavelet=bior3.1, Level=4, Threshold Mode=garrote, Signal Mode=periodization\n"
     ]
    },
    {
     "name": "stderr",
     "output_type": "stream",
     "text": [
      "/tmp/ipykernel_3088/3451176622.py:146: PerformanceWarning: DataFrame is highly fragmented.  This is usually the result of calling `frame.insert` many times, which has poor performance.  Consider joining all columns at once using pd.concat(axis=1) instead. To get a de-fragmented frame, use `newframe = frame.copy()`\n",
      "  variables[f'{col}_wavelet_{idx}'] = denoised_signal\n"
     ]
    },
    {
     "name": "stdout",
     "output_type": "stream",
     "text": [
      "Gráfico salvo em: wavelet_denoising_plots_comparacao/comparacao_ws100_config_348.png\n",
      "Testando Configuração 349: Wavelet=bior3.5, Level=3, Threshold Mode=soft, Signal Mode=symmetric\n"
     ]
    },
    {
     "name": "stderr",
     "output_type": "stream",
     "text": [
      "/tmp/ipykernel_3088/3451176622.py:146: PerformanceWarning: DataFrame is highly fragmented.  This is usually the result of calling `frame.insert` many times, which has poor performance.  Consider joining all columns at once using pd.concat(axis=1) instead. To get a de-fragmented frame, use `newframe = frame.copy()`\n",
      "  variables[f'{col}_wavelet_{idx}'] = denoised_signal\n"
     ]
    },
    {
     "name": "stdout",
     "output_type": "stream",
     "text": [
      "Gráfico salvo em: wavelet_denoising_plots_comparacao/comparacao_ws100_config_349.png\n",
      "Testando Configuração 350: Wavelet=bior3.5, Level=3, Threshold Mode=soft, Signal Mode=smooth\n"
     ]
    },
    {
     "name": "stderr",
     "output_type": "stream",
     "text": [
      "/tmp/ipykernel_3088/3451176622.py:146: PerformanceWarning: DataFrame is highly fragmented.  This is usually the result of calling `frame.insert` many times, which has poor performance.  Consider joining all columns at once using pd.concat(axis=1) instead. To get a de-fragmented frame, use `newframe = frame.copy()`\n",
      "  variables[f'{col}_wavelet_{idx}'] = denoised_signal\n"
     ]
    },
    {
     "name": "stdout",
     "output_type": "stream",
     "text": [
      "Gráfico salvo em: wavelet_denoising_plots_comparacao/comparacao_ws100_config_350.png\n",
      "350 configurações processadas.\n",
      "Testando Configuração 351: Wavelet=bior3.5, Level=3, Threshold Mode=soft, Signal Mode=periodization\n"
     ]
    },
    {
     "name": "stderr",
     "output_type": "stream",
     "text": [
      "/tmp/ipykernel_3088/3451176622.py:146: PerformanceWarning: DataFrame is highly fragmented.  This is usually the result of calling `frame.insert` many times, which has poor performance.  Consider joining all columns at once using pd.concat(axis=1) instead. To get a de-fragmented frame, use `newframe = frame.copy()`\n",
      "  variables[f'{col}_wavelet_{idx}'] = denoised_signal\n"
     ]
    },
    {
     "name": "stdout",
     "output_type": "stream",
     "text": [
      "Gráfico salvo em: wavelet_denoising_plots_comparacao/comparacao_ws100_config_351.png\n",
      "Testando Configuração 352: Wavelet=bior3.5, Level=3, Threshold Mode=garrote, Signal Mode=symmetric\n"
     ]
    },
    {
     "name": "stderr",
     "output_type": "stream",
     "text": [
      "/tmp/ipykernel_3088/3451176622.py:146: PerformanceWarning: DataFrame is highly fragmented.  This is usually the result of calling `frame.insert` many times, which has poor performance.  Consider joining all columns at once using pd.concat(axis=1) instead. To get a de-fragmented frame, use `newframe = frame.copy()`\n",
      "  variables[f'{col}_wavelet_{idx}'] = denoised_signal\n"
     ]
    },
    {
     "name": "stdout",
     "output_type": "stream",
     "text": [
      "Gráfico salvo em: wavelet_denoising_plots_comparacao/comparacao_ws100_config_352.png\n",
      "Testando Configuração 353: Wavelet=bior3.5, Level=3, Threshold Mode=garrote, Signal Mode=smooth\n"
     ]
    },
    {
     "name": "stderr",
     "output_type": "stream",
     "text": [
      "/tmp/ipykernel_3088/3451176622.py:146: PerformanceWarning: DataFrame is highly fragmented.  This is usually the result of calling `frame.insert` many times, which has poor performance.  Consider joining all columns at once using pd.concat(axis=1) instead. To get a de-fragmented frame, use `newframe = frame.copy()`\n",
      "  variables[f'{col}_wavelet_{idx}'] = denoised_signal\n"
     ]
    },
    {
     "name": "stdout",
     "output_type": "stream",
     "text": [
      "Gráfico salvo em: wavelet_denoising_plots_comparacao/comparacao_ws100_config_353.png\n",
      "Testando Configuração 354: Wavelet=bior3.5, Level=3, Threshold Mode=garrote, Signal Mode=periodization\n"
     ]
    },
    {
     "name": "stderr",
     "output_type": "stream",
     "text": [
      "/tmp/ipykernel_3088/3451176622.py:146: PerformanceWarning: DataFrame is highly fragmented.  This is usually the result of calling `frame.insert` many times, which has poor performance.  Consider joining all columns at once using pd.concat(axis=1) instead. To get a de-fragmented frame, use `newframe = frame.copy()`\n",
      "  variables[f'{col}_wavelet_{idx}'] = denoised_signal\n"
     ]
    },
    {
     "name": "stdout",
     "output_type": "stream",
     "text": [
      "Gráfico salvo em: wavelet_denoising_plots_comparacao/comparacao_ws100_config_354.png\n",
      "Testando Configuração 355: Wavelet=bior3.5, Level=4, Threshold Mode=soft, Signal Mode=symmetric\n"
     ]
    },
    {
     "name": "stderr",
     "output_type": "stream",
     "text": [
      "/tmp/ipykernel_3088/3451176622.py:146: PerformanceWarning: DataFrame is highly fragmented.  This is usually the result of calling `frame.insert` many times, which has poor performance.  Consider joining all columns at once using pd.concat(axis=1) instead. To get a de-fragmented frame, use `newframe = frame.copy()`\n",
      "  variables[f'{col}_wavelet_{idx}'] = denoised_signal\n"
     ]
    },
    {
     "name": "stdout",
     "output_type": "stream",
     "text": [
      "Gráfico salvo em: wavelet_denoising_plots_comparacao/comparacao_ws100_config_355.png\n",
      "Testando Configuração 356: Wavelet=bior3.5, Level=4, Threshold Mode=soft, Signal Mode=smooth\n"
     ]
    },
    {
     "name": "stderr",
     "output_type": "stream",
     "text": [
      "/tmp/ipykernel_3088/3451176622.py:146: PerformanceWarning: DataFrame is highly fragmented.  This is usually the result of calling `frame.insert` many times, which has poor performance.  Consider joining all columns at once using pd.concat(axis=1) instead. To get a de-fragmented frame, use `newframe = frame.copy()`\n",
      "  variables[f'{col}_wavelet_{idx}'] = denoised_signal\n"
     ]
    },
    {
     "name": "stdout",
     "output_type": "stream",
     "text": [
      "Gráfico salvo em: wavelet_denoising_plots_comparacao/comparacao_ws100_config_356.png\n",
      "Testando Configuração 357: Wavelet=bior3.5, Level=4, Threshold Mode=soft, Signal Mode=periodization\n"
     ]
    },
    {
     "name": "stderr",
     "output_type": "stream",
     "text": [
      "/tmp/ipykernel_3088/3451176622.py:146: PerformanceWarning: DataFrame is highly fragmented.  This is usually the result of calling `frame.insert` many times, which has poor performance.  Consider joining all columns at once using pd.concat(axis=1) instead. To get a de-fragmented frame, use `newframe = frame.copy()`\n",
      "  variables[f'{col}_wavelet_{idx}'] = denoised_signal\n"
     ]
    },
    {
     "name": "stdout",
     "output_type": "stream",
     "text": [
      "Gráfico salvo em: wavelet_denoising_plots_comparacao/comparacao_ws100_config_357.png\n",
      "Testando Configuração 358: Wavelet=bior3.5, Level=4, Threshold Mode=garrote, Signal Mode=symmetric\n"
     ]
    },
    {
     "name": "stderr",
     "output_type": "stream",
     "text": [
      "/tmp/ipykernel_3088/3451176622.py:146: PerformanceWarning: DataFrame is highly fragmented.  This is usually the result of calling `frame.insert` many times, which has poor performance.  Consider joining all columns at once using pd.concat(axis=1) instead. To get a de-fragmented frame, use `newframe = frame.copy()`\n",
      "  variables[f'{col}_wavelet_{idx}'] = denoised_signal\n"
     ]
    },
    {
     "name": "stdout",
     "output_type": "stream",
     "text": [
      "Gráfico salvo em: wavelet_denoising_plots_comparacao/comparacao_ws100_config_358.png\n",
      "Testando Configuração 359: Wavelet=bior3.5, Level=4, Threshold Mode=garrote, Signal Mode=smooth\n"
     ]
    },
    {
     "name": "stderr",
     "output_type": "stream",
     "text": [
      "/tmp/ipykernel_3088/3451176622.py:146: PerformanceWarning: DataFrame is highly fragmented.  This is usually the result of calling `frame.insert` many times, which has poor performance.  Consider joining all columns at once using pd.concat(axis=1) instead. To get a de-fragmented frame, use `newframe = frame.copy()`\n",
      "  variables[f'{col}_wavelet_{idx}'] = denoised_signal\n"
     ]
    },
    {
     "name": "stdout",
     "output_type": "stream",
     "text": [
      "Gráfico salvo em: wavelet_denoising_plots_comparacao/comparacao_ws100_config_359.png\n",
      "Testando Configuração 360: Wavelet=bior3.5, Level=4, Threshold Mode=garrote, Signal Mode=periodization\n"
     ]
    },
    {
     "name": "stderr",
     "output_type": "stream",
     "text": [
      "/tmp/ipykernel_3088/3451176622.py:146: PerformanceWarning: DataFrame is highly fragmented.  This is usually the result of calling `frame.insert` many times, which has poor performance.  Consider joining all columns at once using pd.concat(axis=1) instead. To get a de-fragmented frame, use `newframe = frame.copy()`\n",
      "  variables[f'{col}_wavelet_{idx}'] = denoised_signal\n"
     ]
    },
    {
     "name": "stdout",
     "output_type": "stream",
     "text": [
      "Gráfico salvo em: wavelet_denoising_plots_comparacao/comparacao_ws100_config_360.png\n",
      "360 configurações processadas.\n",
      "Testando Configuração 361: Wavelet=bior3.7, Level=3, Threshold Mode=soft, Signal Mode=symmetric\n"
     ]
    },
    {
     "name": "stderr",
     "output_type": "stream",
     "text": [
      "/tmp/ipykernel_3088/3451176622.py:146: PerformanceWarning: DataFrame is highly fragmented.  This is usually the result of calling `frame.insert` many times, which has poor performance.  Consider joining all columns at once using pd.concat(axis=1) instead. To get a de-fragmented frame, use `newframe = frame.copy()`\n",
      "  variables[f'{col}_wavelet_{idx}'] = denoised_signal\n"
     ]
    },
    {
     "name": "stdout",
     "output_type": "stream",
     "text": [
      "Gráfico salvo em: wavelet_denoising_plots_comparacao/comparacao_ws100_config_361.png\n",
      "Testando Configuração 362: Wavelet=bior3.7, Level=3, Threshold Mode=soft, Signal Mode=smooth\n"
     ]
    },
    {
     "name": "stderr",
     "output_type": "stream",
     "text": [
      "/tmp/ipykernel_3088/3451176622.py:146: PerformanceWarning: DataFrame is highly fragmented.  This is usually the result of calling `frame.insert` many times, which has poor performance.  Consider joining all columns at once using pd.concat(axis=1) instead. To get a de-fragmented frame, use `newframe = frame.copy()`\n",
      "  variables[f'{col}_wavelet_{idx}'] = denoised_signal\n"
     ]
    },
    {
     "name": "stdout",
     "output_type": "stream",
     "text": [
      "Gráfico salvo em: wavelet_denoising_plots_comparacao/comparacao_ws100_config_362.png\n",
      "Testando Configuração 363: Wavelet=bior3.7, Level=3, Threshold Mode=soft, Signal Mode=periodization\n"
     ]
    },
    {
     "name": "stderr",
     "output_type": "stream",
     "text": [
      "/tmp/ipykernel_3088/3451176622.py:146: PerformanceWarning: DataFrame is highly fragmented.  This is usually the result of calling `frame.insert` many times, which has poor performance.  Consider joining all columns at once using pd.concat(axis=1) instead. To get a de-fragmented frame, use `newframe = frame.copy()`\n",
      "  variables[f'{col}_wavelet_{idx}'] = denoised_signal\n"
     ]
    },
    {
     "name": "stdout",
     "output_type": "stream",
     "text": [
      "Gráfico salvo em: wavelet_denoising_plots_comparacao/comparacao_ws100_config_363.png\n",
      "Testando Configuração 364: Wavelet=bior3.7, Level=3, Threshold Mode=garrote, Signal Mode=symmetric\n"
     ]
    },
    {
     "name": "stderr",
     "output_type": "stream",
     "text": [
      "/tmp/ipykernel_3088/3451176622.py:146: PerformanceWarning: DataFrame is highly fragmented.  This is usually the result of calling `frame.insert` many times, which has poor performance.  Consider joining all columns at once using pd.concat(axis=1) instead. To get a de-fragmented frame, use `newframe = frame.copy()`\n",
      "  variables[f'{col}_wavelet_{idx}'] = denoised_signal\n"
     ]
    },
    {
     "name": "stdout",
     "output_type": "stream",
     "text": [
      "Gráfico salvo em: wavelet_denoising_plots_comparacao/comparacao_ws100_config_364.png\n",
      "Testando Configuração 365: Wavelet=bior3.7, Level=3, Threshold Mode=garrote, Signal Mode=smooth\n"
     ]
    },
    {
     "name": "stderr",
     "output_type": "stream",
     "text": [
      "/tmp/ipykernel_3088/3451176622.py:146: PerformanceWarning: DataFrame is highly fragmented.  This is usually the result of calling `frame.insert` many times, which has poor performance.  Consider joining all columns at once using pd.concat(axis=1) instead. To get a de-fragmented frame, use `newframe = frame.copy()`\n",
      "  variables[f'{col}_wavelet_{idx}'] = denoised_signal\n"
     ]
    },
    {
     "name": "stdout",
     "output_type": "stream",
     "text": [
      "Gráfico salvo em: wavelet_denoising_plots_comparacao/comparacao_ws100_config_365.png\n",
      "Testando Configuração 366: Wavelet=bior3.7, Level=3, Threshold Mode=garrote, Signal Mode=periodization\n"
     ]
    },
    {
     "name": "stderr",
     "output_type": "stream",
     "text": [
      "/tmp/ipykernel_3088/3451176622.py:146: PerformanceWarning: DataFrame is highly fragmented.  This is usually the result of calling `frame.insert` many times, which has poor performance.  Consider joining all columns at once using pd.concat(axis=1) instead. To get a de-fragmented frame, use `newframe = frame.copy()`\n",
      "  variables[f'{col}_wavelet_{idx}'] = denoised_signal\n"
     ]
    },
    {
     "name": "stdout",
     "output_type": "stream",
     "text": [
      "Gráfico salvo em: wavelet_denoising_plots_comparacao/comparacao_ws100_config_366.png\n",
      "Testando Configuração 367: Wavelet=bior3.7, Level=4, Threshold Mode=soft, Signal Mode=symmetric\n"
     ]
    },
    {
     "name": "stderr",
     "output_type": "stream",
     "text": [
      "/tmp/ipykernel_3088/3451176622.py:146: PerformanceWarning: DataFrame is highly fragmented.  This is usually the result of calling `frame.insert` many times, which has poor performance.  Consider joining all columns at once using pd.concat(axis=1) instead. To get a de-fragmented frame, use `newframe = frame.copy()`\n",
      "  variables[f'{col}_wavelet_{idx}'] = denoised_signal\n"
     ]
    },
    {
     "name": "stdout",
     "output_type": "stream",
     "text": [
      "Gráfico salvo em: wavelet_denoising_plots_comparacao/comparacao_ws100_config_367.png\n",
      "Testando Configuração 368: Wavelet=bior3.7, Level=4, Threshold Mode=soft, Signal Mode=smooth\n"
     ]
    },
    {
     "name": "stderr",
     "output_type": "stream",
     "text": [
      "/tmp/ipykernel_3088/3451176622.py:146: PerformanceWarning: DataFrame is highly fragmented.  This is usually the result of calling `frame.insert` many times, which has poor performance.  Consider joining all columns at once using pd.concat(axis=1) instead. To get a de-fragmented frame, use `newframe = frame.copy()`\n",
      "  variables[f'{col}_wavelet_{idx}'] = denoised_signal\n"
     ]
    },
    {
     "name": "stdout",
     "output_type": "stream",
     "text": [
      "Gráfico salvo em: wavelet_denoising_plots_comparacao/comparacao_ws100_config_368.png\n",
      "Testando Configuração 369: Wavelet=bior3.7, Level=4, Threshold Mode=soft, Signal Mode=periodization\n"
     ]
    },
    {
     "name": "stderr",
     "output_type": "stream",
     "text": [
      "/tmp/ipykernel_3088/3451176622.py:146: PerformanceWarning: DataFrame is highly fragmented.  This is usually the result of calling `frame.insert` many times, which has poor performance.  Consider joining all columns at once using pd.concat(axis=1) instead. To get a de-fragmented frame, use `newframe = frame.copy()`\n",
      "  variables[f'{col}_wavelet_{idx}'] = denoised_signal\n"
     ]
    },
    {
     "name": "stdout",
     "output_type": "stream",
     "text": [
      "Gráfico salvo em: wavelet_denoising_plots_comparacao/comparacao_ws100_config_369.png\n",
      "Testando Configuração 370: Wavelet=bior3.7, Level=4, Threshold Mode=garrote, Signal Mode=symmetric\n"
     ]
    },
    {
     "name": "stderr",
     "output_type": "stream",
     "text": [
      "/tmp/ipykernel_3088/3451176622.py:146: PerformanceWarning: DataFrame is highly fragmented.  This is usually the result of calling `frame.insert` many times, which has poor performance.  Consider joining all columns at once using pd.concat(axis=1) instead. To get a de-fragmented frame, use `newframe = frame.copy()`\n",
      "  variables[f'{col}_wavelet_{idx}'] = denoised_signal\n"
     ]
    },
    {
     "name": "stdout",
     "output_type": "stream",
     "text": [
      "Gráfico salvo em: wavelet_denoising_plots_comparacao/comparacao_ws100_config_370.png\n",
      "370 configurações processadas.\n",
      "Testando Configuração 371: Wavelet=bior3.7, Level=4, Threshold Mode=garrote, Signal Mode=smooth\n"
     ]
    },
    {
     "name": "stderr",
     "output_type": "stream",
     "text": [
      "/tmp/ipykernel_3088/3451176622.py:146: PerformanceWarning: DataFrame is highly fragmented.  This is usually the result of calling `frame.insert` many times, which has poor performance.  Consider joining all columns at once using pd.concat(axis=1) instead. To get a de-fragmented frame, use `newframe = frame.copy()`\n",
      "  variables[f'{col}_wavelet_{idx}'] = denoised_signal\n"
     ]
    },
    {
     "name": "stdout",
     "output_type": "stream",
     "text": [
      "Gráfico salvo em: wavelet_denoising_plots_comparacao/comparacao_ws100_config_371.png\n",
      "Testando Configuração 372: Wavelet=bior3.7, Level=4, Threshold Mode=garrote, Signal Mode=periodization\n"
     ]
    },
    {
     "name": "stderr",
     "output_type": "stream",
     "text": [
      "/tmp/ipykernel_3088/3451176622.py:146: PerformanceWarning: DataFrame is highly fragmented.  This is usually the result of calling `frame.insert` many times, which has poor performance.  Consider joining all columns at once using pd.concat(axis=1) instead. To get a de-fragmented frame, use `newframe = frame.copy()`\n",
      "  variables[f'{col}_wavelet_{idx}'] = denoised_signal\n"
     ]
    },
    {
     "name": "stdout",
     "output_type": "stream",
     "text": [
      "Gráfico salvo em: wavelet_denoising_plots_comparacao/comparacao_ws100_config_372.png\n",
      "Testando Configuração 373: Wavelet=bior3.9, Level=3, Threshold Mode=soft, Signal Mode=symmetric\n"
     ]
    },
    {
     "name": "stderr",
     "output_type": "stream",
     "text": [
      "/tmp/ipykernel_3088/3451176622.py:146: PerformanceWarning: DataFrame is highly fragmented.  This is usually the result of calling `frame.insert` many times, which has poor performance.  Consider joining all columns at once using pd.concat(axis=1) instead. To get a de-fragmented frame, use `newframe = frame.copy()`\n",
      "  variables[f'{col}_wavelet_{idx}'] = denoised_signal\n"
     ]
    },
    {
     "name": "stdout",
     "output_type": "stream",
     "text": [
      "Gráfico salvo em: wavelet_denoising_plots_comparacao/comparacao_ws100_config_373.png\n",
      "Testando Configuração 374: Wavelet=bior3.9, Level=3, Threshold Mode=soft, Signal Mode=smooth\n"
     ]
    },
    {
     "name": "stderr",
     "output_type": "stream",
     "text": [
      "/tmp/ipykernel_3088/3451176622.py:146: PerformanceWarning: DataFrame is highly fragmented.  This is usually the result of calling `frame.insert` many times, which has poor performance.  Consider joining all columns at once using pd.concat(axis=1) instead. To get a de-fragmented frame, use `newframe = frame.copy()`\n",
      "  variables[f'{col}_wavelet_{idx}'] = denoised_signal\n"
     ]
    },
    {
     "name": "stdout",
     "output_type": "stream",
     "text": [
      "Gráfico salvo em: wavelet_denoising_plots_comparacao/comparacao_ws100_config_374.png\n",
      "Testando Configuração 375: Wavelet=bior3.9, Level=3, Threshold Mode=soft, Signal Mode=periodization\n"
     ]
    },
    {
     "name": "stderr",
     "output_type": "stream",
     "text": [
      "/tmp/ipykernel_3088/3451176622.py:146: PerformanceWarning: DataFrame is highly fragmented.  This is usually the result of calling `frame.insert` many times, which has poor performance.  Consider joining all columns at once using pd.concat(axis=1) instead. To get a de-fragmented frame, use `newframe = frame.copy()`\n",
      "  variables[f'{col}_wavelet_{idx}'] = denoised_signal\n"
     ]
    },
    {
     "name": "stdout",
     "output_type": "stream",
     "text": [
      "Gráfico salvo em: wavelet_denoising_plots_comparacao/comparacao_ws100_config_375.png\n",
      "Testando Configuração 376: Wavelet=bior3.9, Level=3, Threshold Mode=garrote, Signal Mode=symmetric\n"
     ]
    },
    {
     "name": "stderr",
     "output_type": "stream",
     "text": [
      "/tmp/ipykernel_3088/3451176622.py:146: PerformanceWarning: DataFrame is highly fragmented.  This is usually the result of calling `frame.insert` many times, which has poor performance.  Consider joining all columns at once using pd.concat(axis=1) instead. To get a de-fragmented frame, use `newframe = frame.copy()`\n",
      "  variables[f'{col}_wavelet_{idx}'] = denoised_signal\n"
     ]
    },
    {
     "name": "stdout",
     "output_type": "stream",
     "text": [
      "Gráfico salvo em: wavelet_denoising_plots_comparacao/comparacao_ws100_config_376.png\n",
      "Testando Configuração 377: Wavelet=bior3.9, Level=3, Threshold Mode=garrote, Signal Mode=smooth\n"
     ]
    },
    {
     "name": "stderr",
     "output_type": "stream",
     "text": [
      "/tmp/ipykernel_3088/3451176622.py:146: PerformanceWarning: DataFrame is highly fragmented.  This is usually the result of calling `frame.insert` many times, which has poor performance.  Consider joining all columns at once using pd.concat(axis=1) instead. To get a de-fragmented frame, use `newframe = frame.copy()`\n",
      "  variables[f'{col}_wavelet_{idx}'] = denoised_signal\n"
     ]
    },
    {
     "name": "stdout",
     "output_type": "stream",
     "text": [
      "Gráfico salvo em: wavelet_denoising_plots_comparacao/comparacao_ws100_config_377.png\n",
      "Testando Configuração 378: Wavelet=bior3.9, Level=3, Threshold Mode=garrote, Signal Mode=periodization\n"
     ]
    },
    {
     "name": "stderr",
     "output_type": "stream",
     "text": [
      "/tmp/ipykernel_3088/3451176622.py:146: PerformanceWarning: DataFrame is highly fragmented.  This is usually the result of calling `frame.insert` many times, which has poor performance.  Consider joining all columns at once using pd.concat(axis=1) instead. To get a de-fragmented frame, use `newframe = frame.copy()`\n",
      "  variables[f'{col}_wavelet_{idx}'] = denoised_signal\n"
     ]
    },
    {
     "name": "stdout",
     "output_type": "stream",
     "text": [
      "Gráfico salvo em: wavelet_denoising_plots_comparacao/comparacao_ws100_config_378.png\n",
      "Testando Configuração 379: Wavelet=bior3.9, Level=4, Threshold Mode=soft, Signal Mode=symmetric\n"
     ]
    },
    {
     "name": "stderr",
     "output_type": "stream",
     "text": [
      "/tmp/ipykernel_3088/3451176622.py:146: PerformanceWarning: DataFrame is highly fragmented.  This is usually the result of calling `frame.insert` many times, which has poor performance.  Consider joining all columns at once using pd.concat(axis=1) instead. To get a de-fragmented frame, use `newframe = frame.copy()`\n",
      "  variables[f'{col}_wavelet_{idx}'] = denoised_signal\n"
     ]
    },
    {
     "name": "stdout",
     "output_type": "stream",
     "text": [
      "Gráfico salvo em: wavelet_denoising_plots_comparacao/comparacao_ws100_config_379.png\n",
      "Testando Configuração 380: Wavelet=bior3.9, Level=4, Threshold Mode=soft, Signal Mode=smooth\n"
     ]
    },
    {
     "name": "stderr",
     "output_type": "stream",
     "text": [
      "/tmp/ipykernel_3088/3451176622.py:146: PerformanceWarning: DataFrame is highly fragmented.  This is usually the result of calling `frame.insert` many times, which has poor performance.  Consider joining all columns at once using pd.concat(axis=1) instead. To get a de-fragmented frame, use `newframe = frame.copy()`\n",
      "  variables[f'{col}_wavelet_{idx}'] = denoised_signal\n"
     ]
    },
    {
     "name": "stdout",
     "output_type": "stream",
     "text": [
      "Gráfico salvo em: wavelet_denoising_plots_comparacao/comparacao_ws100_config_380.png\n",
      "380 configurações processadas.\n",
      "Testando Configuração 381: Wavelet=bior3.9, Level=4, Threshold Mode=soft, Signal Mode=periodization\n"
     ]
    },
    {
     "name": "stderr",
     "output_type": "stream",
     "text": [
      "/tmp/ipykernel_3088/3451176622.py:146: PerformanceWarning: DataFrame is highly fragmented.  This is usually the result of calling `frame.insert` many times, which has poor performance.  Consider joining all columns at once using pd.concat(axis=1) instead. To get a de-fragmented frame, use `newframe = frame.copy()`\n",
      "  variables[f'{col}_wavelet_{idx}'] = denoised_signal\n"
     ]
    },
    {
     "name": "stdout",
     "output_type": "stream",
     "text": [
      "Gráfico salvo em: wavelet_denoising_plots_comparacao/comparacao_ws100_config_381.png\n",
      "Testando Configuração 382: Wavelet=bior3.9, Level=4, Threshold Mode=garrote, Signal Mode=symmetric\n"
     ]
    },
    {
     "name": "stderr",
     "output_type": "stream",
     "text": [
      "/tmp/ipykernel_3088/3451176622.py:146: PerformanceWarning: DataFrame is highly fragmented.  This is usually the result of calling `frame.insert` many times, which has poor performance.  Consider joining all columns at once using pd.concat(axis=1) instead. To get a de-fragmented frame, use `newframe = frame.copy()`\n",
      "  variables[f'{col}_wavelet_{idx}'] = denoised_signal\n"
     ]
    },
    {
     "name": "stdout",
     "output_type": "stream",
     "text": [
      "Gráfico salvo em: wavelet_denoising_plots_comparacao/comparacao_ws100_config_382.png\n",
      "Testando Configuração 383: Wavelet=bior3.9, Level=4, Threshold Mode=garrote, Signal Mode=smooth\n"
     ]
    },
    {
     "name": "stderr",
     "output_type": "stream",
     "text": [
      "/tmp/ipykernel_3088/3451176622.py:146: PerformanceWarning: DataFrame is highly fragmented.  This is usually the result of calling `frame.insert` many times, which has poor performance.  Consider joining all columns at once using pd.concat(axis=1) instead. To get a de-fragmented frame, use `newframe = frame.copy()`\n",
      "  variables[f'{col}_wavelet_{idx}'] = denoised_signal\n"
     ]
    },
    {
     "name": "stdout",
     "output_type": "stream",
     "text": [
      "Gráfico salvo em: wavelet_denoising_plots_comparacao/comparacao_ws100_config_383.png\n",
      "Testando Configuração 384: Wavelet=bior3.9, Level=4, Threshold Mode=garrote, Signal Mode=periodization\n"
     ]
    },
    {
     "name": "stderr",
     "output_type": "stream",
     "text": [
      "/tmp/ipykernel_3088/3451176622.py:146: PerformanceWarning: DataFrame is highly fragmented.  This is usually the result of calling `frame.insert` many times, which has poor performance.  Consider joining all columns at once using pd.concat(axis=1) instead. To get a de-fragmented frame, use `newframe = frame.copy()`\n",
      "  variables[f'{col}_wavelet_{idx}'] = denoised_signal\n"
     ]
    },
    {
     "name": "stdout",
     "output_type": "stream",
     "text": [
      "Gráfico salvo em: wavelet_denoising_plots_comparacao/comparacao_ws100_config_384.png\n",
      "Testando Configuração 385: Wavelet=bior4.4, Level=3, Threshold Mode=soft, Signal Mode=symmetric\n"
     ]
    },
    {
     "name": "stderr",
     "output_type": "stream",
     "text": [
      "/tmp/ipykernel_3088/3451176622.py:146: PerformanceWarning: DataFrame is highly fragmented.  This is usually the result of calling `frame.insert` many times, which has poor performance.  Consider joining all columns at once using pd.concat(axis=1) instead. To get a de-fragmented frame, use `newframe = frame.copy()`\n",
      "  variables[f'{col}_wavelet_{idx}'] = denoised_signal\n"
     ]
    },
    {
     "name": "stdout",
     "output_type": "stream",
     "text": [
      "Gráfico salvo em: wavelet_denoising_plots_comparacao/comparacao_ws100_config_385.png\n",
      "Testando Configuração 386: Wavelet=bior4.4, Level=3, Threshold Mode=soft, Signal Mode=smooth\n"
     ]
    },
    {
     "name": "stderr",
     "output_type": "stream",
     "text": [
      "/tmp/ipykernel_3088/3451176622.py:146: PerformanceWarning: DataFrame is highly fragmented.  This is usually the result of calling `frame.insert` many times, which has poor performance.  Consider joining all columns at once using pd.concat(axis=1) instead. To get a de-fragmented frame, use `newframe = frame.copy()`\n",
      "  variables[f'{col}_wavelet_{idx}'] = denoised_signal\n"
     ]
    },
    {
     "name": "stdout",
     "output_type": "stream",
     "text": [
      "Gráfico salvo em: wavelet_denoising_plots_comparacao/comparacao_ws100_config_386.png\n",
      "Testando Configuração 387: Wavelet=bior4.4, Level=3, Threshold Mode=soft, Signal Mode=periodization\n"
     ]
    },
    {
     "name": "stderr",
     "output_type": "stream",
     "text": [
      "/tmp/ipykernel_3088/3451176622.py:146: PerformanceWarning: DataFrame is highly fragmented.  This is usually the result of calling `frame.insert` many times, which has poor performance.  Consider joining all columns at once using pd.concat(axis=1) instead. To get a de-fragmented frame, use `newframe = frame.copy()`\n",
      "  variables[f'{col}_wavelet_{idx}'] = denoised_signal\n"
     ]
    },
    {
     "name": "stdout",
     "output_type": "stream",
     "text": [
      "Gráfico salvo em: wavelet_denoising_plots_comparacao/comparacao_ws100_config_387.png\n",
      "Testando Configuração 388: Wavelet=bior4.4, Level=3, Threshold Mode=garrote, Signal Mode=symmetric\n"
     ]
    },
    {
     "name": "stderr",
     "output_type": "stream",
     "text": [
      "/tmp/ipykernel_3088/3451176622.py:146: PerformanceWarning: DataFrame is highly fragmented.  This is usually the result of calling `frame.insert` many times, which has poor performance.  Consider joining all columns at once using pd.concat(axis=1) instead. To get a de-fragmented frame, use `newframe = frame.copy()`\n",
      "  variables[f'{col}_wavelet_{idx}'] = denoised_signal\n"
     ]
    },
    {
     "name": "stdout",
     "output_type": "stream",
     "text": [
      "Gráfico salvo em: wavelet_denoising_plots_comparacao/comparacao_ws100_config_388.png\n",
      "Testando Configuração 389: Wavelet=bior4.4, Level=3, Threshold Mode=garrote, Signal Mode=smooth\n"
     ]
    },
    {
     "name": "stderr",
     "output_type": "stream",
     "text": [
      "/tmp/ipykernel_3088/3451176622.py:146: PerformanceWarning: DataFrame is highly fragmented.  This is usually the result of calling `frame.insert` many times, which has poor performance.  Consider joining all columns at once using pd.concat(axis=1) instead. To get a de-fragmented frame, use `newframe = frame.copy()`\n",
      "  variables[f'{col}_wavelet_{idx}'] = denoised_signal\n"
     ]
    },
    {
     "name": "stdout",
     "output_type": "stream",
     "text": [
      "Gráfico salvo em: wavelet_denoising_plots_comparacao/comparacao_ws100_config_389.png\n",
      "Testando Configuração 390: Wavelet=bior4.4, Level=3, Threshold Mode=garrote, Signal Mode=periodization\n"
     ]
    },
    {
     "name": "stderr",
     "output_type": "stream",
     "text": [
      "/tmp/ipykernel_3088/3451176622.py:146: PerformanceWarning: DataFrame is highly fragmented.  This is usually the result of calling `frame.insert` many times, which has poor performance.  Consider joining all columns at once using pd.concat(axis=1) instead. To get a de-fragmented frame, use `newframe = frame.copy()`\n",
      "  variables[f'{col}_wavelet_{idx}'] = denoised_signal\n"
     ]
    },
    {
     "name": "stdout",
     "output_type": "stream",
     "text": [
      "Gráfico salvo em: wavelet_denoising_plots_comparacao/comparacao_ws100_config_390.png\n",
      "390 configurações processadas.\n",
      "Testando Configuração 391: Wavelet=bior4.4, Level=4, Threshold Mode=soft, Signal Mode=symmetric\n"
     ]
    },
    {
     "name": "stderr",
     "output_type": "stream",
     "text": [
      "/tmp/ipykernel_3088/3451176622.py:146: PerformanceWarning: DataFrame is highly fragmented.  This is usually the result of calling `frame.insert` many times, which has poor performance.  Consider joining all columns at once using pd.concat(axis=1) instead. To get a de-fragmented frame, use `newframe = frame.copy()`\n",
      "  variables[f'{col}_wavelet_{idx}'] = denoised_signal\n"
     ]
    },
    {
     "name": "stdout",
     "output_type": "stream",
     "text": [
      "Gráfico salvo em: wavelet_denoising_plots_comparacao/comparacao_ws100_config_391.png\n",
      "Testando Configuração 392: Wavelet=bior4.4, Level=4, Threshold Mode=soft, Signal Mode=smooth\n"
     ]
    },
    {
     "name": "stderr",
     "output_type": "stream",
     "text": [
      "/tmp/ipykernel_3088/3451176622.py:146: PerformanceWarning: DataFrame is highly fragmented.  This is usually the result of calling `frame.insert` many times, which has poor performance.  Consider joining all columns at once using pd.concat(axis=1) instead. To get a de-fragmented frame, use `newframe = frame.copy()`\n",
      "  variables[f'{col}_wavelet_{idx}'] = denoised_signal\n"
     ]
    },
    {
     "name": "stdout",
     "output_type": "stream",
     "text": [
      "Gráfico salvo em: wavelet_denoising_plots_comparacao/comparacao_ws100_config_392.png\n",
      "Testando Configuração 393: Wavelet=bior4.4, Level=4, Threshold Mode=soft, Signal Mode=periodization\n"
     ]
    },
    {
     "name": "stderr",
     "output_type": "stream",
     "text": [
      "/tmp/ipykernel_3088/3451176622.py:146: PerformanceWarning: DataFrame is highly fragmented.  This is usually the result of calling `frame.insert` many times, which has poor performance.  Consider joining all columns at once using pd.concat(axis=1) instead. To get a de-fragmented frame, use `newframe = frame.copy()`\n",
      "  variables[f'{col}_wavelet_{idx}'] = denoised_signal\n"
     ]
    },
    {
     "name": "stdout",
     "output_type": "stream",
     "text": [
      "Gráfico salvo em: wavelet_denoising_plots_comparacao/comparacao_ws100_config_393.png\n",
      "Testando Configuração 394: Wavelet=bior4.4, Level=4, Threshold Mode=garrote, Signal Mode=symmetric\n"
     ]
    },
    {
     "name": "stderr",
     "output_type": "stream",
     "text": [
      "/tmp/ipykernel_3088/3451176622.py:146: PerformanceWarning: DataFrame is highly fragmented.  This is usually the result of calling `frame.insert` many times, which has poor performance.  Consider joining all columns at once using pd.concat(axis=1) instead. To get a de-fragmented frame, use `newframe = frame.copy()`\n",
      "  variables[f'{col}_wavelet_{idx}'] = denoised_signal\n"
     ]
    },
    {
     "name": "stdout",
     "output_type": "stream",
     "text": [
      "Gráfico salvo em: wavelet_denoising_plots_comparacao/comparacao_ws100_config_394.png\n",
      "Testando Configuração 395: Wavelet=bior4.4, Level=4, Threshold Mode=garrote, Signal Mode=smooth\n"
     ]
    },
    {
     "name": "stderr",
     "output_type": "stream",
     "text": [
      "/tmp/ipykernel_3088/3451176622.py:146: PerformanceWarning: DataFrame is highly fragmented.  This is usually the result of calling `frame.insert` many times, which has poor performance.  Consider joining all columns at once using pd.concat(axis=1) instead. To get a de-fragmented frame, use `newframe = frame.copy()`\n",
      "  variables[f'{col}_wavelet_{idx}'] = denoised_signal\n"
     ]
    },
    {
     "name": "stdout",
     "output_type": "stream",
     "text": [
      "Gráfico salvo em: wavelet_denoising_plots_comparacao/comparacao_ws100_config_395.png\n",
      "Testando Configuração 396: Wavelet=bior4.4, Level=4, Threshold Mode=garrote, Signal Mode=periodization\n"
     ]
    },
    {
     "name": "stderr",
     "output_type": "stream",
     "text": [
      "/tmp/ipykernel_3088/3451176622.py:146: PerformanceWarning: DataFrame is highly fragmented.  This is usually the result of calling `frame.insert` many times, which has poor performance.  Consider joining all columns at once using pd.concat(axis=1) instead. To get a de-fragmented frame, use `newframe = frame.copy()`\n",
      "  variables[f'{col}_wavelet_{idx}'] = denoised_signal\n"
     ]
    },
    {
     "name": "stdout",
     "output_type": "stream",
     "text": [
      "Gráfico salvo em: wavelet_denoising_plots_comparacao/comparacao_ws100_config_396.png\n",
      "Testando Configuração 397: Wavelet=bior6.8, Level=3, Threshold Mode=soft, Signal Mode=symmetric\n"
     ]
    },
    {
     "name": "stderr",
     "output_type": "stream",
     "text": [
      "/tmp/ipykernel_3088/3451176622.py:146: PerformanceWarning: DataFrame is highly fragmented.  This is usually the result of calling `frame.insert` many times, which has poor performance.  Consider joining all columns at once using pd.concat(axis=1) instead. To get a de-fragmented frame, use `newframe = frame.copy()`\n",
      "  variables[f'{col}_wavelet_{idx}'] = denoised_signal\n"
     ]
    },
    {
     "name": "stdout",
     "output_type": "stream",
     "text": [
      "Gráfico salvo em: wavelet_denoising_plots_comparacao/comparacao_ws100_config_397.png\n",
      "Testando Configuração 398: Wavelet=bior6.8, Level=3, Threshold Mode=soft, Signal Mode=smooth\n"
     ]
    },
    {
     "name": "stderr",
     "output_type": "stream",
     "text": [
      "/tmp/ipykernel_3088/3451176622.py:146: PerformanceWarning: DataFrame is highly fragmented.  This is usually the result of calling `frame.insert` many times, which has poor performance.  Consider joining all columns at once using pd.concat(axis=1) instead. To get a de-fragmented frame, use `newframe = frame.copy()`\n",
      "  variables[f'{col}_wavelet_{idx}'] = denoised_signal\n"
     ]
    },
    {
     "name": "stdout",
     "output_type": "stream",
     "text": [
      "Gráfico salvo em: wavelet_denoising_plots_comparacao/comparacao_ws100_config_398.png\n",
      "Testando Configuração 399: Wavelet=bior6.8, Level=3, Threshold Mode=soft, Signal Mode=periodization\n"
     ]
    },
    {
     "name": "stderr",
     "output_type": "stream",
     "text": [
      "/tmp/ipykernel_3088/3451176622.py:146: PerformanceWarning: DataFrame is highly fragmented.  This is usually the result of calling `frame.insert` many times, which has poor performance.  Consider joining all columns at once using pd.concat(axis=1) instead. To get a de-fragmented frame, use `newframe = frame.copy()`\n",
      "  variables[f'{col}_wavelet_{idx}'] = denoised_signal\n"
     ]
    },
    {
     "name": "stdout",
     "output_type": "stream",
     "text": [
      "Gráfico salvo em: wavelet_denoising_plots_comparacao/comparacao_ws100_config_399.png\n",
      "Testando Configuração 400: Wavelet=bior6.8, Level=3, Threshold Mode=garrote, Signal Mode=symmetric\n"
     ]
    },
    {
     "name": "stderr",
     "output_type": "stream",
     "text": [
      "/tmp/ipykernel_3088/3451176622.py:146: PerformanceWarning: DataFrame is highly fragmented.  This is usually the result of calling `frame.insert` many times, which has poor performance.  Consider joining all columns at once using pd.concat(axis=1) instead. To get a de-fragmented frame, use `newframe = frame.copy()`\n",
      "  variables[f'{col}_wavelet_{idx}'] = denoised_signal\n"
     ]
    },
    {
     "name": "stdout",
     "output_type": "stream",
     "text": [
      "Gráfico salvo em: wavelet_denoising_plots_comparacao/comparacao_ws100_config_400.png\n",
      "400 configurações processadas.\n",
      "Testando Configuração 401: Wavelet=bior6.8, Level=3, Threshold Mode=garrote, Signal Mode=smooth\n"
     ]
    },
    {
     "name": "stderr",
     "output_type": "stream",
     "text": [
      "/tmp/ipykernel_3088/3451176622.py:146: PerformanceWarning: DataFrame is highly fragmented.  This is usually the result of calling `frame.insert` many times, which has poor performance.  Consider joining all columns at once using pd.concat(axis=1) instead. To get a de-fragmented frame, use `newframe = frame.copy()`\n",
      "  variables[f'{col}_wavelet_{idx}'] = denoised_signal\n"
     ]
    },
    {
     "name": "stdout",
     "output_type": "stream",
     "text": [
      "Gráfico salvo em: wavelet_denoising_plots_comparacao/comparacao_ws100_config_401.png\n",
      "Testando Configuração 402: Wavelet=bior6.8, Level=3, Threshold Mode=garrote, Signal Mode=periodization\n"
     ]
    },
    {
     "name": "stderr",
     "output_type": "stream",
     "text": [
      "/tmp/ipykernel_3088/3451176622.py:146: PerformanceWarning: DataFrame is highly fragmented.  This is usually the result of calling `frame.insert` many times, which has poor performance.  Consider joining all columns at once using pd.concat(axis=1) instead. To get a de-fragmented frame, use `newframe = frame.copy()`\n",
      "  variables[f'{col}_wavelet_{idx}'] = denoised_signal\n"
     ]
    },
    {
     "name": "stdout",
     "output_type": "stream",
     "text": [
      "Gráfico salvo em: wavelet_denoising_plots_comparacao/comparacao_ws100_config_402.png\n",
      "Testando Configuração 403: Wavelet=bior6.8, Level=4, Threshold Mode=soft, Signal Mode=symmetric\n"
     ]
    },
    {
     "name": "stderr",
     "output_type": "stream",
     "text": [
      "/tmp/ipykernel_3088/3451176622.py:146: PerformanceWarning: DataFrame is highly fragmented.  This is usually the result of calling `frame.insert` many times, which has poor performance.  Consider joining all columns at once using pd.concat(axis=1) instead. To get a de-fragmented frame, use `newframe = frame.copy()`\n",
      "  variables[f'{col}_wavelet_{idx}'] = denoised_signal\n"
     ]
    },
    {
     "name": "stdout",
     "output_type": "stream",
     "text": [
      "Gráfico salvo em: wavelet_denoising_plots_comparacao/comparacao_ws100_config_403.png\n",
      "Testando Configuração 404: Wavelet=bior6.8, Level=4, Threshold Mode=soft, Signal Mode=smooth\n"
     ]
    },
    {
     "name": "stderr",
     "output_type": "stream",
     "text": [
      "/tmp/ipykernel_3088/3451176622.py:146: PerformanceWarning: DataFrame is highly fragmented.  This is usually the result of calling `frame.insert` many times, which has poor performance.  Consider joining all columns at once using pd.concat(axis=1) instead. To get a de-fragmented frame, use `newframe = frame.copy()`\n",
      "  variables[f'{col}_wavelet_{idx}'] = denoised_signal\n"
     ]
    },
    {
     "name": "stdout",
     "output_type": "stream",
     "text": [
      "Gráfico salvo em: wavelet_denoising_plots_comparacao/comparacao_ws100_config_404.png\n",
      "Testando Configuração 405: Wavelet=bior6.8, Level=4, Threshold Mode=soft, Signal Mode=periodization\n"
     ]
    },
    {
     "name": "stderr",
     "output_type": "stream",
     "text": [
      "/tmp/ipykernel_3088/3451176622.py:146: PerformanceWarning: DataFrame is highly fragmented.  This is usually the result of calling `frame.insert` many times, which has poor performance.  Consider joining all columns at once using pd.concat(axis=1) instead. To get a de-fragmented frame, use `newframe = frame.copy()`\n",
      "  variables[f'{col}_wavelet_{idx}'] = denoised_signal\n"
     ]
    },
    {
     "name": "stdout",
     "output_type": "stream",
     "text": [
      "Gráfico salvo em: wavelet_denoising_plots_comparacao/comparacao_ws100_config_405.png\n",
      "Testando Configuração 406: Wavelet=bior6.8, Level=4, Threshold Mode=garrote, Signal Mode=symmetric\n"
     ]
    },
    {
     "name": "stderr",
     "output_type": "stream",
     "text": [
      "/tmp/ipykernel_3088/3451176622.py:146: PerformanceWarning: DataFrame is highly fragmented.  This is usually the result of calling `frame.insert` many times, which has poor performance.  Consider joining all columns at once using pd.concat(axis=1) instead. To get a de-fragmented frame, use `newframe = frame.copy()`\n",
      "  variables[f'{col}_wavelet_{idx}'] = denoised_signal\n"
     ]
    },
    {
     "name": "stdout",
     "output_type": "stream",
     "text": [
      "Gráfico salvo em: wavelet_denoising_plots_comparacao/comparacao_ws100_config_406.png\n",
      "Testando Configuração 407: Wavelet=bior6.8, Level=4, Threshold Mode=garrote, Signal Mode=smooth\n"
     ]
    },
    {
     "name": "stderr",
     "output_type": "stream",
     "text": [
      "/tmp/ipykernel_3088/3451176622.py:146: PerformanceWarning: DataFrame is highly fragmented.  This is usually the result of calling `frame.insert` many times, which has poor performance.  Consider joining all columns at once using pd.concat(axis=1) instead. To get a de-fragmented frame, use `newframe = frame.copy()`\n",
      "  variables[f'{col}_wavelet_{idx}'] = denoised_signal\n"
     ]
    },
    {
     "name": "stdout",
     "output_type": "stream",
     "text": [
      "Gráfico salvo em: wavelet_denoising_plots_comparacao/comparacao_ws100_config_407.png\n",
      "Testando Configuração 408: Wavelet=bior6.8, Level=4, Threshold Mode=garrote, Signal Mode=periodization\n"
     ]
    },
    {
     "name": "stderr",
     "output_type": "stream",
     "text": [
      "/tmp/ipykernel_3088/3451176622.py:146: PerformanceWarning: DataFrame is highly fragmented.  This is usually the result of calling `frame.insert` many times, which has poor performance.  Consider joining all columns at once using pd.concat(axis=1) instead. To get a de-fragmented frame, use `newframe = frame.copy()`\n",
      "  variables[f'{col}_wavelet_{idx}'] = denoised_signal\n"
     ]
    },
    {
     "name": "stdout",
     "output_type": "stream",
     "text": [
      "Gráfico salvo em: wavelet_denoising_plots_comparacao/comparacao_ws100_config_408.png\n",
      "Testando Configuração 409: Wavelet=rbio1.1, Level=3, Threshold Mode=soft, Signal Mode=symmetric\n"
     ]
    },
    {
     "name": "stderr",
     "output_type": "stream",
     "text": [
      "/tmp/ipykernel_3088/3451176622.py:146: PerformanceWarning: DataFrame is highly fragmented.  This is usually the result of calling `frame.insert` many times, which has poor performance.  Consider joining all columns at once using pd.concat(axis=1) instead. To get a de-fragmented frame, use `newframe = frame.copy()`\n",
      "  variables[f'{col}_wavelet_{idx}'] = denoised_signal\n"
     ]
    },
    {
     "name": "stdout",
     "output_type": "stream",
     "text": [
      "Gráfico salvo em: wavelet_denoising_plots_comparacao/comparacao_ws100_config_409.png\n",
      "Testando Configuração 410: Wavelet=rbio1.1, Level=3, Threshold Mode=soft, Signal Mode=smooth\n"
     ]
    },
    {
     "name": "stderr",
     "output_type": "stream",
     "text": [
      "/tmp/ipykernel_3088/3451176622.py:146: PerformanceWarning: DataFrame is highly fragmented.  This is usually the result of calling `frame.insert` many times, which has poor performance.  Consider joining all columns at once using pd.concat(axis=1) instead. To get a de-fragmented frame, use `newframe = frame.copy()`\n",
      "  variables[f'{col}_wavelet_{idx}'] = denoised_signal\n"
     ]
    },
    {
     "name": "stdout",
     "output_type": "stream",
     "text": [
      "Gráfico salvo em: wavelet_denoising_plots_comparacao/comparacao_ws100_config_410.png\n",
      "410 configurações processadas.\n",
      "Testando Configuração 411: Wavelet=rbio1.1, Level=3, Threshold Mode=soft, Signal Mode=periodization\n"
     ]
    },
    {
     "name": "stderr",
     "output_type": "stream",
     "text": [
      "/tmp/ipykernel_3088/3451176622.py:146: PerformanceWarning: DataFrame is highly fragmented.  This is usually the result of calling `frame.insert` many times, which has poor performance.  Consider joining all columns at once using pd.concat(axis=1) instead. To get a de-fragmented frame, use `newframe = frame.copy()`\n",
      "  variables[f'{col}_wavelet_{idx}'] = denoised_signal\n"
     ]
    },
    {
     "name": "stdout",
     "output_type": "stream",
     "text": [
      "Gráfico salvo em: wavelet_denoising_plots_comparacao/comparacao_ws100_config_411.png\n",
      "Testando Configuração 412: Wavelet=rbio1.1, Level=3, Threshold Mode=garrote, Signal Mode=symmetric\n"
     ]
    },
    {
     "name": "stderr",
     "output_type": "stream",
     "text": [
      "/tmp/ipykernel_3088/3451176622.py:146: PerformanceWarning: DataFrame is highly fragmented.  This is usually the result of calling `frame.insert` many times, which has poor performance.  Consider joining all columns at once using pd.concat(axis=1) instead. To get a de-fragmented frame, use `newframe = frame.copy()`\n",
      "  variables[f'{col}_wavelet_{idx}'] = denoised_signal\n"
     ]
    },
    {
     "name": "stdout",
     "output_type": "stream",
     "text": [
      "Gráfico salvo em: wavelet_denoising_plots_comparacao/comparacao_ws100_config_412.png\n",
      "Testando Configuração 413: Wavelet=rbio1.1, Level=3, Threshold Mode=garrote, Signal Mode=smooth\n"
     ]
    },
    {
     "name": "stderr",
     "output_type": "stream",
     "text": [
      "/tmp/ipykernel_3088/3451176622.py:146: PerformanceWarning: DataFrame is highly fragmented.  This is usually the result of calling `frame.insert` many times, which has poor performance.  Consider joining all columns at once using pd.concat(axis=1) instead. To get a de-fragmented frame, use `newframe = frame.copy()`\n",
      "  variables[f'{col}_wavelet_{idx}'] = denoised_signal\n"
     ]
    },
    {
     "name": "stdout",
     "output_type": "stream",
     "text": [
      "Gráfico salvo em: wavelet_denoising_plots_comparacao/comparacao_ws100_config_413.png\n",
      "Testando Configuração 414: Wavelet=rbio1.1, Level=3, Threshold Mode=garrote, Signal Mode=periodization\n"
     ]
    },
    {
     "name": "stderr",
     "output_type": "stream",
     "text": [
      "/tmp/ipykernel_3088/3451176622.py:146: PerformanceWarning: DataFrame is highly fragmented.  This is usually the result of calling `frame.insert` many times, which has poor performance.  Consider joining all columns at once using pd.concat(axis=1) instead. To get a de-fragmented frame, use `newframe = frame.copy()`\n",
      "  variables[f'{col}_wavelet_{idx}'] = denoised_signal\n"
     ]
    },
    {
     "name": "stdout",
     "output_type": "stream",
     "text": [
      "Gráfico salvo em: wavelet_denoising_plots_comparacao/comparacao_ws100_config_414.png\n",
      "Testando Configuração 415: Wavelet=rbio1.1, Level=4, Threshold Mode=soft, Signal Mode=symmetric\n"
     ]
    },
    {
     "name": "stderr",
     "output_type": "stream",
     "text": [
      "/tmp/ipykernel_3088/3451176622.py:146: PerformanceWarning: DataFrame is highly fragmented.  This is usually the result of calling `frame.insert` many times, which has poor performance.  Consider joining all columns at once using pd.concat(axis=1) instead. To get a de-fragmented frame, use `newframe = frame.copy()`\n",
      "  variables[f'{col}_wavelet_{idx}'] = denoised_signal\n"
     ]
    },
    {
     "name": "stdout",
     "output_type": "stream",
     "text": [
      "Gráfico salvo em: wavelet_denoising_plots_comparacao/comparacao_ws100_config_415.png\n",
      "Testando Configuração 416: Wavelet=rbio1.1, Level=4, Threshold Mode=soft, Signal Mode=smooth\n"
     ]
    },
    {
     "name": "stderr",
     "output_type": "stream",
     "text": [
      "/tmp/ipykernel_3088/3451176622.py:146: PerformanceWarning: DataFrame is highly fragmented.  This is usually the result of calling `frame.insert` many times, which has poor performance.  Consider joining all columns at once using pd.concat(axis=1) instead. To get a de-fragmented frame, use `newframe = frame.copy()`\n",
      "  variables[f'{col}_wavelet_{idx}'] = denoised_signal\n"
     ]
    },
    {
     "name": "stdout",
     "output_type": "stream",
     "text": [
      "Gráfico salvo em: wavelet_denoising_plots_comparacao/comparacao_ws100_config_416.png\n",
      "Testando Configuração 417: Wavelet=rbio1.1, Level=4, Threshold Mode=soft, Signal Mode=periodization\n"
     ]
    },
    {
     "name": "stderr",
     "output_type": "stream",
     "text": [
      "/tmp/ipykernel_3088/3451176622.py:146: PerformanceWarning: DataFrame is highly fragmented.  This is usually the result of calling `frame.insert` many times, which has poor performance.  Consider joining all columns at once using pd.concat(axis=1) instead. To get a de-fragmented frame, use `newframe = frame.copy()`\n",
      "  variables[f'{col}_wavelet_{idx}'] = denoised_signal\n"
     ]
    },
    {
     "name": "stdout",
     "output_type": "stream",
     "text": [
      "Gráfico salvo em: wavelet_denoising_plots_comparacao/comparacao_ws100_config_417.png\n",
      "Testando Configuração 418: Wavelet=rbio1.1, Level=4, Threshold Mode=garrote, Signal Mode=symmetric\n"
     ]
    },
    {
     "name": "stderr",
     "output_type": "stream",
     "text": [
      "/tmp/ipykernel_3088/3451176622.py:146: PerformanceWarning: DataFrame is highly fragmented.  This is usually the result of calling `frame.insert` many times, which has poor performance.  Consider joining all columns at once using pd.concat(axis=1) instead. To get a de-fragmented frame, use `newframe = frame.copy()`\n",
      "  variables[f'{col}_wavelet_{idx}'] = denoised_signal\n"
     ]
    },
    {
     "name": "stdout",
     "output_type": "stream",
     "text": [
      "Gráfico salvo em: wavelet_denoising_plots_comparacao/comparacao_ws100_config_418.png\n",
      "Testando Configuração 419: Wavelet=rbio1.1, Level=4, Threshold Mode=garrote, Signal Mode=smooth\n"
     ]
    },
    {
     "name": "stderr",
     "output_type": "stream",
     "text": [
      "/tmp/ipykernel_3088/3451176622.py:146: PerformanceWarning: DataFrame is highly fragmented.  This is usually the result of calling `frame.insert` many times, which has poor performance.  Consider joining all columns at once using pd.concat(axis=1) instead. To get a de-fragmented frame, use `newframe = frame.copy()`\n",
      "  variables[f'{col}_wavelet_{idx}'] = denoised_signal\n"
     ]
    },
    {
     "name": "stdout",
     "output_type": "stream",
     "text": [
      "Gráfico salvo em: wavelet_denoising_plots_comparacao/comparacao_ws100_config_419.png\n",
      "Testando Configuração 420: Wavelet=rbio1.1, Level=4, Threshold Mode=garrote, Signal Mode=periodization\n"
     ]
    },
    {
     "name": "stderr",
     "output_type": "stream",
     "text": [
      "/tmp/ipykernel_3088/3451176622.py:146: PerformanceWarning: DataFrame is highly fragmented.  This is usually the result of calling `frame.insert` many times, which has poor performance.  Consider joining all columns at once using pd.concat(axis=1) instead. To get a de-fragmented frame, use `newframe = frame.copy()`\n",
      "  variables[f'{col}_wavelet_{idx}'] = denoised_signal\n"
     ]
    },
    {
     "name": "stdout",
     "output_type": "stream",
     "text": [
      "Gráfico salvo em: wavelet_denoising_plots_comparacao/comparacao_ws100_config_420.png\n",
      "420 configurações processadas.\n",
      "Testando Configuração 421: Wavelet=rbio1.5, Level=3, Threshold Mode=soft, Signal Mode=symmetric\n"
     ]
    },
    {
     "name": "stderr",
     "output_type": "stream",
     "text": [
      "/tmp/ipykernel_3088/3451176622.py:146: PerformanceWarning: DataFrame is highly fragmented.  This is usually the result of calling `frame.insert` many times, which has poor performance.  Consider joining all columns at once using pd.concat(axis=1) instead. To get a de-fragmented frame, use `newframe = frame.copy()`\n",
      "  variables[f'{col}_wavelet_{idx}'] = denoised_signal\n"
     ]
    },
    {
     "name": "stdout",
     "output_type": "stream",
     "text": [
      "Gráfico salvo em: wavelet_denoising_plots_comparacao/comparacao_ws100_config_421.png\n",
      "Testando Configuração 422: Wavelet=rbio1.5, Level=3, Threshold Mode=soft, Signal Mode=smooth\n"
     ]
    },
    {
     "name": "stderr",
     "output_type": "stream",
     "text": [
      "/tmp/ipykernel_3088/3451176622.py:146: PerformanceWarning: DataFrame is highly fragmented.  This is usually the result of calling `frame.insert` many times, which has poor performance.  Consider joining all columns at once using pd.concat(axis=1) instead. To get a de-fragmented frame, use `newframe = frame.copy()`\n",
      "  variables[f'{col}_wavelet_{idx}'] = denoised_signal\n"
     ]
    },
    {
     "name": "stdout",
     "output_type": "stream",
     "text": [
      "Gráfico salvo em: wavelet_denoising_plots_comparacao/comparacao_ws100_config_422.png\n",
      "Testando Configuração 423: Wavelet=rbio1.5, Level=3, Threshold Mode=soft, Signal Mode=periodization\n"
     ]
    },
    {
     "name": "stderr",
     "output_type": "stream",
     "text": [
      "/tmp/ipykernel_3088/3451176622.py:146: PerformanceWarning: DataFrame is highly fragmented.  This is usually the result of calling `frame.insert` many times, which has poor performance.  Consider joining all columns at once using pd.concat(axis=1) instead. To get a de-fragmented frame, use `newframe = frame.copy()`\n",
      "  variables[f'{col}_wavelet_{idx}'] = denoised_signal\n"
     ]
    },
    {
     "name": "stdout",
     "output_type": "stream",
     "text": [
      "Gráfico salvo em: wavelet_denoising_plots_comparacao/comparacao_ws100_config_423.png\n",
      "Testando Configuração 424: Wavelet=rbio1.5, Level=3, Threshold Mode=garrote, Signal Mode=symmetric\n"
     ]
    },
    {
     "name": "stderr",
     "output_type": "stream",
     "text": [
      "/tmp/ipykernel_3088/3451176622.py:146: PerformanceWarning: DataFrame is highly fragmented.  This is usually the result of calling `frame.insert` many times, which has poor performance.  Consider joining all columns at once using pd.concat(axis=1) instead. To get a de-fragmented frame, use `newframe = frame.copy()`\n",
      "  variables[f'{col}_wavelet_{idx}'] = denoised_signal\n"
     ]
    },
    {
     "name": "stdout",
     "output_type": "stream",
     "text": [
      "Gráfico salvo em: wavelet_denoising_plots_comparacao/comparacao_ws100_config_424.png\n",
      "Testando Configuração 425: Wavelet=rbio1.5, Level=3, Threshold Mode=garrote, Signal Mode=smooth\n"
     ]
    },
    {
     "name": "stderr",
     "output_type": "stream",
     "text": [
      "/tmp/ipykernel_3088/3451176622.py:146: PerformanceWarning: DataFrame is highly fragmented.  This is usually the result of calling `frame.insert` many times, which has poor performance.  Consider joining all columns at once using pd.concat(axis=1) instead. To get a de-fragmented frame, use `newframe = frame.copy()`\n",
      "  variables[f'{col}_wavelet_{idx}'] = denoised_signal\n"
     ]
    },
    {
     "name": "stdout",
     "output_type": "stream",
     "text": [
      "Gráfico salvo em: wavelet_denoising_plots_comparacao/comparacao_ws100_config_425.png\n",
      "Testando Configuração 426: Wavelet=rbio1.5, Level=3, Threshold Mode=garrote, Signal Mode=periodization\n"
     ]
    },
    {
     "name": "stderr",
     "output_type": "stream",
     "text": [
      "/tmp/ipykernel_3088/3451176622.py:146: PerformanceWarning: DataFrame is highly fragmented.  This is usually the result of calling `frame.insert` many times, which has poor performance.  Consider joining all columns at once using pd.concat(axis=1) instead. To get a de-fragmented frame, use `newframe = frame.copy()`\n",
      "  variables[f'{col}_wavelet_{idx}'] = denoised_signal\n"
     ]
    },
    {
     "name": "stdout",
     "output_type": "stream",
     "text": [
      "Gráfico salvo em: wavelet_denoising_plots_comparacao/comparacao_ws100_config_426.png\n",
      "Testando Configuração 427: Wavelet=rbio1.5, Level=4, Threshold Mode=soft, Signal Mode=symmetric\n"
     ]
    },
    {
     "name": "stderr",
     "output_type": "stream",
     "text": [
      "/tmp/ipykernel_3088/3451176622.py:146: PerformanceWarning: DataFrame is highly fragmented.  This is usually the result of calling `frame.insert` many times, which has poor performance.  Consider joining all columns at once using pd.concat(axis=1) instead. To get a de-fragmented frame, use `newframe = frame.copy()`\n",
      "  variables[f'{col}_wavelet_{idx}'] = denoised_signal\n"
     ]
    },
    {
     "name": "stdout",
     "output_type": "stream",
     "text": [
      "Gráfico salvo em: wavelet_denoising_plots_comparacao/comparacao_ws100_config_427.png\n",
      "Testando Configuração 428: Wavelet=rbio1.5, Level=4, Threshold Mode=soft, Signal Mode=smooth\n"
     ]
    },
    {
     "name": "stderr",
     "output_type": "stream",
     "text": [
      "/tmp/ipykernel_3088/3451176622.py:146: PerformanceWarning: DataFrame is highly fragmented.  This is usually the result of calling `frame.insert` many times, which has poor performance.  Consider joining all columns at once using pd.concat(axis=1) instead. To get a de-fragmented frame, use `newframe = frame.copy()`\n",
      "  variables[f'{col}_wavelet_{idx}'] = denoised_signal\n"
     ]
    },
    {
     "name": "stdout",
     "output_type": "stream",
     "text": [
      "Gráfico salvo em: wavelet_denoising_plots_comparacao/comparacao_ws100_config_428.png\n",
      "Testando Configuração 429: Wavelet=rbio1.5, Level=4, Threshold Mode=soft, Signal Mode=periodization\n"
     ]
    },
    {
     "name": "stderr",
     "output_type": "stream",
     "text": [
      "/tmp/ipykernel_3088/3451176622.py:146: PerformanceWarning: DataFrame is highly fragmented.  This is usually the result of calling `frame.insert` many times, which has poor performance.  Consider joining all columns at once using pd.concat(axis=1) instead. To get a de-fragmented frame, use `newframe = frame.copy()`\n",
      "  variables[f'{col}_wavelet_{idx}'] = denoised_signal\n"
     ]
    },
    {
     "name": "stdout",
     "output_type": "stream",
     "text": [
      "Gráfico salvo em: wavelet_denoising_plots_comparacao/comparacao_ws100_config_429.png\n",
      "Testando Configuração 430: Wavelet=rbio1.5, Level=4, Threshold Mode=garrote, Signal Mode=symmetric\n"
     ]
    },
    {
     "name": "stderr",
     "output_type": "stream",
     "text": [
      "/tmp/ipykernel_3088/3451176622.py:146: PerformanceWarning: DataFrame is highly fragmented.  This is usually the result of calling `frame.insert` many times, which has poor performance.  Consider joining all columns at once using pd.concat(axis=1) instead. To get a de-fragmented frame, use `newframe = frame.copy()`\n",
      "  variables[f'{col}_wavelet_{idx}'] = denoised_signal\n"
     ]
    },
    {
     "name": "stdout",
     "output_type": "stream",
     "text": [
      "Gráfico salvo em: wavelet_denoising_plots_comparacao/comparacao_ws100_config_430.png\n",
      "430 configurações processadas.\n",
      "Testando Configuração 431: Wavelet=rbio1.5, Level=4, Threshold Mode=garrote, Signal Mode=smooth\n"
     ]
    },
    {
     "name": "stderr",
     "output_type": "stream",
     "text": [
      "/tmp/ipykernel_3088/3451176622.py:146: PerformanceWarning: DataFrame is highly fragmented.  This is usually the result of calling `frame.insert` many times, which has poor performance.  Consider joining all columns at once using pd.concat(axis=1) instead. To get a de-fragmented frame, use `newframe = frame.copy()`\n",
      "  variables[f'{col}_wavelet_{idx}'] = denoised_signal\n"
     ]
    },
    {
     "name": "stdout",
     "output_type": "stream",
     "text": [
      "Gráfico salvo em: wavelet_denoising_plots_comparacao/comparacao_ws100_config_431.png\n",
      "Testando Configuração 432: Wavelet=rbio1.5, Level=4, Threshold Mode=garrote, Signal Mode=periodization\n"
     ]
    },
    {
     "name": "stderr",
     "output_type": "stream",
     "text": [
      "/tmp/ipykernel_3088/3451176622.py:146: PerformanceWarning: DataFrame is highly fragmented.  This is usually the result of calling `frame.insert` many times, which has poor performance.  Consider joining all columns at once using pd.concat(axis=1) instead. To get a de-fragmented frame, use `newframe = frame.copy()`\n",
      "  variables[f'{col}_wavelet_{idx}'] = denoised_signal\n"
     ]
    },
    {
     "name": "stdout",
     "output_type": "stream",
     "text": [
      "Gráfico salvo em: wavelet_denoising_plots_comparacao/comparacao_ws100_config_432.png\n",
      "Testando Configuração 433: Wavelet=rbio2.2, Level=3, Threshold Mode=soft, Signal Mode=symmetric\n"
     ]
    },
    {
     "name": "stderr",
     "output_type": "stream",
     "text": [
      "/tmp/ipykernel_3088/3451176622.py:146: PerformanceWarning: DataFrame is highly fragmented.  This is usually the result of calling `frame.insert` many times, which has poor performance.  Consider joining all columns at once using pd.concat(axis=1) instead. To get a de-fragmented frame, use `newframe = frame.copy()`\n",
      "  variables[f'{col}_wavelet_{idx}'] = denoised_signal\n"
     ]
    },
    {
     "name": "stdout",
     "output_type": "stream",
     "text": [
      "Gráfico salvo em: wavelet_denoising_plots_comparacao/comparacao_ws100_config_433.png\n",
      "Testando Configuração 434: Wavelet=rbio2.2, Level=3, Threshold Mode=soft, Signal Mode=smooth\n"
     ]
    },
    {
     "name": "stderr",
     "output_type": "stream",
     "text": [
      "/tmp/ipykernel_3088/3451176622.py:146: PerformanceWarning: DataFrame is highly fragmented.  This is usually the result of calling `frame.insert` many times, which has poor performance.  Consider joining all columns at once using pd.concat(axis=1) instead. To get a de-fragmented frame, use `newframe = frame.copy()`\n",
      "  variables[f'{col}_wavelet_{idx}'] = denoised_signal\n"
     ]
    },
    {
     "name": "stdout",
     "output_type": "stream",
     "text": [
      "Gráfico salvo em: wavelet_denoising_plots_comparacao/comparacao_ws100_config_434.png\n",
      "Testando Configuração 435: Wavelet=rbio2.2, Level=3, Threshold Mode=soft, Signal Mode=periodization\n"
     ]
    },
    {
     "name": "stderr",
     "output_type": "stream",
     "text": [
      "/tmp/ipykernel_3088/3451176622.py:146: PerformanceWarning: DataFrame is highly fragmented.  This is usually the result of calling `frame.insert` many times, which has poor performance.  Consider joining all columns at once using pd.concat(axis=1) instead. To get a de-fragmented frame, use `newframe = frame.copy()`\n",
      "  variables[f'{col}_wavelet_{idx}'] = denoised_signal\n"
     ]
    },
    {
     "name": "stdout",
     "output_type": "stream",
     "text": [
      "Gráfico salvo em: wavelet_denoising_plots_comparacao/comparacao_ws100_config_435.png\n",
      "Testando Configuração 436: Wavelet=rbio2.2, Level=3, Threshold Mode=garrote, Signal Mode=symmetric\n"
     ]
    },
    {
     "name": "stderr",
     "output_type": "stream",
     "text": [
      "/tmp/ipykernel_3088/3451176622.py:146: PerformanceWarning: DataFrame is highly fragmented.  This is usually the result of calling `frame.insert` many times, which has poor performance.  Consider joining all columns at once using pd.concat(axis=1) instead. To get a de-fragmented frame, use `newframe = frame.copy()`\n",
      "  variables[f'{col}_wavelet_{idx}'] = denoised_signal\n"
     ]
    },
    {
     "name": "stdout",
     "output_type": "stream",
     "text": [
      "Gráfico salvo em: wavelet_denoising_plots_comparacao/comparacao_ws100_config_436.png\n",
      "Testando Configuração 437: Wavelet=rbio2.2, Level=3, Threshold Mode=garrote, Signal Mode=smooth\n"
     ]
    },
    {
     "name": "stderr",
     "output_type": "stream",
     "text": [
      "/tmp/ipykernel_3088/3451176622.py:146: PerformanceWarning: DataFrame is highly fragmented.  This is usually the result of calling `frame.insert` many times, which has poor performance.  Consider joining all columns at once using pd.concat(axis=1) instead. To get a de-fragmented frame, use `newframe = frame.copy()`\n",
      "  variables[f'{col}_wavelet_{idx}'] = denoised_signal\n"
     ]
    },
    {
     "name": "stdout",
     "output_type": "stream",
     "text": [
      "Gráfico salvo em: wavelet_denoising_plots_comparacao/comparacao_ws100_config_437.png\n",
      "Testando Configuração 438: Wavelet=rbio2.2, Level=3, Threshold Mode=garrote, Signal Mode=periodization\n"
     ]
    },
    {
     "name": "stderr",
     "output_type": "stream",
     "text": [
      "/tmp/ipykernel_3088/3451176622.py:146: PerformanceWarning: DataFrame is highly fragmented.  This is usually the result of calling `frame.insert` many times, which has poor performance.  Consider joining all columns at once using pd.concat(axis=1) instead. To get a de-fragmented frame, use `newframe = frame.copy()`\n",
      "  variables[f'{col}_wavelet_{idx}'] = denoised_signal\n"
     ]
    },
    {
     "name": "stdout",
     "output_type": "stream",
     "text": [
      "Gráfico salvo em: wavelet_denoising_plots_comparacao/comparacao_ws100_config_438.png\n",
      "Testando Configuração 439: Wavelet=rbio2.2, Level=4, Threshold Mode=soft, Signal Mode=symmetric\n"
     ]
    },
    {
     "name": "stderr",
     "output_type": "stream",
     "text": [
      "/tmp/ipykernel_3088/3451176622.py:146: PerformanceWarning: DataFrame is highly fragmented.  This is usually the result of calling `frame.insert` many times, which has poor performance.  Consider joining all columns at once using pd.concat(axis=1) instead. To get a de-fragmented frame, use `newframe = frame.copy()`\n",
      "  variables[f'{col}_wavelet_{idx}'] = denoised_signal\n"
     ]
    },
    {
     "name": "stdout",
     "output_type": "stream",
     "text": [
      "Gráfico salvo em: wavelet_denoising_plots_comparacao/comparacao_ws100_config_439.png\n",
      "Testando Configuração 440: Wavelet=rbio2.2, Level=4, Threshold Mode=soft, Signal Mode=smooth\n"
     ]
    },
    {
     "name": "stderr",
     "output_type": "stream",
     "text": [
      "/tmp/ipykernel_3088/3451176622.py:146: PerformanceWarning: DataFrame is highly fragmented.  This is usually the result of calling `frame.insert` many times, which has poor performance.  Consider joining all columns at once using pd.concat(axis=1) instead. To get a de-fragmented frame, use `newframe = frame.copy()`\n",
      "  variables[f'{col}_wavelet_{idx}'] = denoised_signal\n"
     ]
    },
    {
     "name": "stdout",
     "output_type": "stream",
     "text": [
      "Gráfico salvo em: wavelet_denoising_plots_comparacao/comparacao_ws100_config_440.png\n",
      "440 configurações processadas.\n",
      "Testando Configuração 441: Wavelet=rbio2.2, Level=4, Threshold Mode=soft, Signal Mode=periodization\n"
     ]
    },
    {
     "name": "stderr",
     "output_type": "stream",
     "text": [
      "/tmp/ipykernel_3088/3451176622.py:146: PerformanceWarning: DataFrame is highly fragmented.  This is usually the result of calling `frame.insert` many times, which has poor performance.  Consider joining all columns at once using pd.concat(axis=1) instead. To get a de-fragmented frame, use `newframe = frame.copy()`\n",
      "  variables[f'{col}_wavelet_{idx}'] = denoised_signal\n"
     ]
    },
    {
     "name": "stdout",
     "output_type": "stream",
     "text": [
      "Gráfico salvo em: wavelet_denoising_plots_comparacao/comparacao_ws100_config_441.png\n",
      "Testando Configuração 442: Wavelet=rbio2.2, Level=4, Threshold Mode=garrote, Signal Mode=symmetric\n"
     ]
    },
    {
     "name": "stderr",
     "output_type": "stream",
     "text": [
      "/tmp/ipykernel_3088/3451176622.py:146: PerformanceWarning: DataFrame is highly fragmented.  This is usually the result of calling `frame.insert` many times, which has poor performance.  Consider joining all columns at once using pd.concat(axis=1) instead. To get a de-fragmented frame, use `newframe = frame.copy()`\n",
      "  variables[f'{col}_wavelet_{idx}'] = denoised_signal\n"
     ]
    },
    {
     "name": "stdout",
     "output_type": "stream",
     "text": [
      "Gráfico salvo em: wavelet_denoising_plots_comparacao/comparacao_ws100_config_442.png\n",
      "Testando Configuração 443: Wavelet=rbio2.2, Level=4, Threshold Mode=garrote, Signal Mode=smooth\n"
     ]
    },
    {
     "name": "stderr",
     "output_type": "stream",
     "text": [
      "/tmp/ipykernel_3088/3451176622.py:146: PerformanceWarning: DataFrame is highly fragmented.  This is usually the result of calling `frame.insert` many times, which has poor performance.  Consider joining all columns at once using pd.concat(axis=1) instead. To get a de-fragmented frame, use `newframe = frame.copy()`\n",
      "  variables[f'{col}_wavelet_{idx}'] = denoised_signal\n"
     ]
    },
    {
     "name": "stdout",
     "output_type": "stream",
     "text": [
      "Gráfico salvo em: wavelet_denoising_plots_comparacao/comparacao_ws100_config_443.png\n",
      "Testando Configuração 444: Wavelet=rbio2.2, Level=4, Threshold Mode=garrote, Signal Mode=periodization\n"
     ]
    },
    {
     "name": "stderr",
     "output_type": "stream",
     "text": [
      "/tmp/ipykernel_3088/3451176622.py:146: PerformanceWarning: DataFrame is highly fragmented.  This is usually the result of calling `frame.insert` many times, which has poor performance.  Consider joining all columns at once using pd.concat(axis=1) instead. To get a de-fragmented frame, use `newframe = frame.copy()`\n",
      "  variables[f'{col}_wavelet_{idx}'] = denoised_signal\n"
     ]
    },
    {
     "name": "stdout",
     "output_type": "stream",
     "text": [
      "Gráfico salvo em: wavelet_denoising_plots_comparacao/comparacao_ws100_config_444.png\n",
      "Testando Configuração 445: Wavelet=rbio2.6, Level=3, Threshold Mode=soft, Signal Mode=symmetric\n"
     ]
    },
    {
     "name": "stderr",
     "output_type": "stream",
     "text": [
      "/tmp/ipykernel_3088/3451176622.py:146: PerformanceWarning: DataFrame is highly fragmented.  This is usually the result of calling `frame.insert` many times, which has poor performance.  Consider joining all columns at once using pd.concat(axis=1) instead. To get a de-fragmented frame, use `newframe = frame.copy()`\n",
      "  variables[f'{col}_wavelet_{idx}'] = denoised_signal\n"
     ]
    },
    {
     "name": "stdout",
     "output_type": "stream",
     "text": [
      "Gráfico salvo em: wavelet_denoising_plots_comparacao/comparacao_ws100_config_445.png\n",
      "Testando Configuração 446: Wavelet=rbio2.6, Level=3, Threshold Mode=soft, Signal Mode=smooth\n"
     ]
    },
    {
     "name": "stderr",
     "output_type": "stream",
     "text": [
      "/tmp/ipykernel_3088/3451176622.py:146: PerformanceWarning: DataFrame is highly fragmented.  This is usually the result of calling `frame.insert` many times, which has poor performance.  Consider joining all columns at once using pd.concat(axis=1) instead. To get a de-fragmented frame, use `newframe = frame.copy()`\n",
      "  variables[f'{col}_wavelet_{idx}'] = denoised_signal\n"
     ]
    },
    {
     "name": "stdout",
     "output_type": "stream",
     "text": [
      "Gráfico salvo em: wavelet_denoising_plots_comparacao/comparacao_ws100_config_446.png\n",
      "Testando Configuração 447: Wavelet=rbio2.6, Level=3, Threshold Mode=soft, Signal Mode=periodization\n"
     ]
    },
    {
     "name": "stderr",
     "output_type": "stream",
     "text": [
      "/tmp/ipykernel_3088/3451176622.py:146: PerformanceWarning: DataFrame is highly fragmented.  This is usually the result of calling `frame.insert` many times, which has poor performance.  Consider joining all columns at once using pd.concat(axis=1) instead. To get a de-fragmented frame, use `newframe = frame.copy()`\n",
      "  variables[f'{col}_wavelet_{idx}'] = denoised_signal\n"
     ]
    },
    {
     "name": "stdout",
     "output_type": "stream",
     "text": [
      "Gráfico salvo em: wavelet_denoising_plots_comparacao/comparacao_ws100_config_447.png\n",
      "Testando Configuração 448: Wavelet=rbio2.6, Level=3, Threshold Mode=garrote, Signal Mode=symmetric\n"
     ]
    },
    {
     "name": "stderr",
     "output_type": "stream",
     "text": [
      "/tmp/ipykernel_3088/3451176622.py:146: PerformanceWarning: DataFrame is highly fragmented.  This is usually the result of calling `frame.insert` many times, which has poor performance.  Consider joining all columns at once using pd.concat(axis=1) instead. To get a de-fragmented frame, use `newframe = frame.copy()`\n",
      "  variables[f'{col}_wavelet_{idx}'] = denoised_signal\n"
     ]
    },
    {
     "name": "stdout",
     "output_type": "stream",
     "text": [
      "Gráfico salvo em: wavelet_denoising_plots_comparacao/comparacao_ws100_config_448.png\n",
      "Testando Configuração 449: Wavelet=rbio2.6, Level=3, Threshold Mode=garrote, Signal Mode=smooth\n"
     ]
    },
    {
     "name": "stderr",
     "output_type": "stream",
     "text": [
      "/tmp/ipykernel_3088/3451176622.py:146: PerformanceWarning: DataFrame is highly fragmented.  This is usually the result of calling `frame.insert` many times, which has poor performance.  Consider joining all columns at once using pd.concat(axis=1) instead. To get a de-fragmented frame, use `newframe = frame.copy()`\n",
      "  variables[f'{col}_wavelet_{idx}'] = denoised_signal\n"
     ]
    },
    {
     "name": "stdout",
     "output_type": "stream",
     "text": [
      "Gráfico salvo em: wavelet_denoising_plots_comparacao/comparacao_ws100_config_449.png\n",
      "Testando Configuração 450: Wavelet=rbio2.6, Level=3, Threshold Mode=garrote, Signal Mode=periodization\n"
     ]
    },
    {
     "name": "stderr",
     "output_type": "stream",
     "text": [
      "/tmp/ipykernel_3088/3451176622.py:146: PerformanceWarning: DataFrame is highly fragmented.  This is usually the result of calling `frame.insert` many times, which has poor performance.  Consider joining all columns at once using pd.concat(axis=1) instead. To get a de-fragmented frame, use `newframe = frame.copy()`\n",
      "  variables[f'{col}_wavelet_{idx}'] = denoised_signal\n"
     ]
    },
    {
     "name": "stdout",
     "output_type": "stream",
     "text": [
      "Gráfico salvo em: wavelet_denoising_plots_comparacao/comparacao_ws100_config_450.png\n",
      "450 configurações processadas.\n",
      "Testando Configuração 451: Wavelet=rbio2.6, Level=4, Threshold Mode=soft, Signal Mode=symmetric\n"
     ]
    },
    {
     "name": "stderr",
     "output_type": "stream",
     "text": [
      "/tmp/ipykernel_3088/3451176622.py:146: PerformanceWarning: DataFrame is highly fragmented.  This is usually the result of calling `frame.insert` many times, which has poor performance.  Consider joining all columns at once using pd.concat(axis=1) instead. To get a de-fragmented frame, use `newframe = frame.copy()`\n",
      "  variables[f'{col}_wavelet_{idx}'] = denoised_signal\n"
     ]
    },
    {
     "name": "stdout",
     "output_type": "stream",
     "text": [
      "Gráfico salvo em: wavelet_denoising_plots_comparacao/comparacao_ws100_config_451.png\n",
      "Testando Configuração 452: Wavelet=rbio2.6, Level=4, Threshold Mode=soft, Signal Mode=smooth\n"
     ]
    },
    {
     "name": "stderr",
     "output_type": "stream",
     "text": [
      "/tmp/ipykernel_3088/3451176622.py:146: PerformanceWarning: DataFrame is highly fragmented.  This is usually the result of calling `frame.insert` many times, which has poor performance.  Consider joining all columns at once using pd.concat(axis=1) instead. To get a de-fragmented frame, use `newframe = frame.copy()`\n",
      "  variables[f'{col}_wavelet_{idx}'] = denoised_signal\n"
     ]
    },
    {
     "name": "stdout",
     "output_type": "stream",
     "text": [
      "Gráfico salvo em: wavelet_denoising_plots_comparacao/comparacao_ws100_config_452.png\n",
      "Testando Configuração 453: Wavelet=rbio2.6, Level=4, Threshold Mode=soft, Signal Mode=periodization\n"
     ]
    },
    {
     "name": "stderr",
     "output_type": "stream",
     "text": [
      "/tmp/ipykernel_3088/3451176622.py:146: PerformanceWarning: DataFrame is highly fragmented.  This is usually the result of calling `frame.insert` many times, which has poor performance.  Consider joining all columns at once using pd.concat(axis=1) instead. To get a de-fragmented frame, use `newframe = frame.copy()`\n",
      "  variables[f'{col}_wavelet_{idx}'] = denoised_signal\n"
     ]
    },
    {
     "name": "stdout",
     "output_type": "stream",
     "text": [
      "Gráfico salvo em: wavelet_denoising_plots_comparacao/comparacao_ws100_config_453.png\n",
      "Testando Configuração 454: Wavelet=rbio2.6, Level=4, Threshold Mode=garrote, Signal Mode=symmetric\n"
     ]
    },
    {
     "name": "stderr",
     "output_type": "stream",
     "text": [
      "/tmp/ipykernel_3088/3451176622.py:146: PerformanceWarning: DataFrame is highly fragmented.  This is usually the result of calling `frame.insert` many times, which has poor performance.  Consider joining all columns at once using pd.concat(axis=1) instead. To get a de-fragmented frame, use `newframe = frame.copy()`\n",
      "  variables[f'{col}_wavelet_{idx}'] = denoised_signal\n"
     ]
    },
    {
     "name": "stdout",
     "output_type": "stream",
     "text": [
      "Gráfico salvo em: wavelet_denoising_plots_comparacao/comparacao_ws100_config_454.png\n",
      "Testando Configuração 455: Wavelet=rbio2.6, Level=4, Threshold Mode=garrote, Signal Mode=smooth\n"
     ]
    },
    {
     "name": "stderr",
     "output_type": "stream",
     "text": [
      "/tmp/ipykernel_3088/3451176622.py:146: PerformanceWarning: DataFrame is highly fragmented.  This is usually the result of calling `frame.insert` many times, which has poor performance.  Consider joining all columns at once using pd.concat(axis=1) instead. To get a de-fragmented frame, use `newframe = frame.copy()`\n",
      "  variables[f'{col}_wavelet_{idx}'] = denoised_signal\n"
     ]
    },
    {
     "name": "stdout",
     "output_type": "stream",
     "text": [
      "Gráfico salvo em: wavelet_denoising_plots_comparacao/comparacao_ws100_config_455.png\n",
      "Testando Configuração 456: Wavelet=rbio2.6, Level=4, Threshold Mode=garrote, Signal Mode=periodization\n"
     ]
    },
    {
     "name": "stderr",
     "output_type": "stream",
     "text": [
      "/tmp/ipykernel_3088/3451176622.py:146: PerformanceWarning: DataFrame is highly fragmented.  This is usually the result of calling `frame.insert` many times, which has poor performance.  Consider joining all columns at once using pd.concat(axis=1) instead. To get a de-fragmented frame, use `newframe = frame.copy()`\n",
      "  variables[f'{col}_wavelet_{idx}'] = denoised_signal\n"
     ]
    },
    {
     "name": "stdout",
     "output_type": "stream",
     "text": [
      "Gráfico salvo em: wavelet_denoising_plots_comparacao/comparacao_ws100_config_456.png\n",
      "Testando Configuração 457: Wavelet=rbio2.8, Level=3, Threshold Mode=soft, Signal Mode=symmetric\n"
     ]
    },
    {
     "name": "stderr",
     "output_type": "stream",
     "text": [
      "/tmp/ipykernel_3088/3451176622.py:146: PerformanceWarning: DataFrame is highly fragmented.  This is usually the result of calling `frame.insert` many times, which has poor performance.  Consider joining all columns at once using pd.concat(axis=1) instead. To get a de-fragmented frame, use `newframe = frame.copy()`\n",
      "  variables[f'{col}_wavelet_{idx}'] = denoised_signal\n"
     ]
    },
    {
     "name": "stdout",
     "output_type": "stream",
     "text": [
      "Gráfico salvo em: wavelet_denoising_plots_comparacao/comparacao_ws100_config_457.png\n",
      "Testando Configuração 458: Wavelet=rbio2.8, Level=3, Threshold Mode=soft, Signal Mode=smooth\n"
     ]
    },
    {
     "name": "stderr",
     "output_type": "stream",
     "text": [
      "/tmp/ipykernel_3088/3451176622.py:146: PerformanceWarning: DataFrame is highly fragmented.  This is usually the result of calling `frame.insert` many times, which has poor performance.  Consider joining all columns at once using pd.concat(axis=1) instead. To get a de-fragmented frame, use `newframe = frame.copy()`\n",
      "  variables[f'{col}_wavelet_{idx}'] = denoised_signal\n"
     ]
    },
    {
     "name": "stdout",
     "output_type": "stream",
     "text": [
      "Gráfico salvo em: wavelet_denoising_plots_comparacao/comparacao_ws100_config_458.png\n",
      "Testando Configuração 459: Wavelet=rbio2.8, Level=3, Threshold Mode=soft, Signal Mode=periodization\n"
     ]
    },
    {
     "name": "stderr",
     "output_type": "stream",
     "text": [
      "/tmp/ipykernel_3088/3451176622.py:146: PerformanceWarning: DataFrame is highly fragmented.  This is usually the result of calling `frame.insert` many times, which has poor performance.  Consider joining all columns at once using pd.concat(axis=1) instead. To get a de-fragmented frame, use `newframe = frame.copy()`\n",
      "  variables[f'{col}_wavelet_{idx}'] = denoised_signal\n"
     ]
    },
    {
     "name": "stdout",
     "output_type": "stream",
     "text": [
      "Gráfico salvo em: wavelet_denoising_plots_comparacao/comparacao_ws100_config_459.png\n",
      "Testando Configuração 460: Wavelet=rbio2.8, Level=3, Threshold Mode=garrote, Signal Mode=symmetric\n"
     ]
    },
    {
     "name": "stderr",
     "output_type": "stream",
     "text": [
      "/tmp/ipykernel_3088/3451176622.py:146: PerformanceWarning: DataFrame is highly fragmented.  This is usually the result of calling `frame.insert` many times, which has poor performance.  Consider joining all columns at once using pd.concat(axis=1) instead. To get a de-fragmented frame, use `newframe = frame.copy()`\n",
      "  variables[f'{col}_wavelet_{idx}'] = denoised_signal\n"
     ]
    },
    {
     "name": "stdout",
     "output_type": "stream",
     "text": [
      "Gráfico salvo em: wavelet_denoising_plots_comparacao/comparacao_ws100_config_460.png\n",
      "460 configurações processadas.\n",
      "Testando Configuração 461: Wavelet=rbio2.8, Level=3, Threshold Mode=garrote, Signal Mode=smooth\n"
     ]
    },
    {
     "name": "stderr",
     "output_type": "stream",
     "text": [
      "/tmp/ipykernel_3088/3451176622.py:146: PerformanceWarning: DataFrame is highly fragmented.  This is usually the result of calling `frame.insert` many times, which has poor performance.  Consider joining all columns at once using pd.concat(axis=1) instead. To get a de-fragmented frame, use `newframe = frame.copy()`\n",
      "  variables[f'{col}_wavelet_{idx}'] = denoised_signal\n"
     ]
    },
    {
     "name": "stdout",
     "output_type": "stream",
     "text": [
      "Gráfico salvo em: wavelet_denoising_plots_comparacao/comparacao_ws100_config_461.png\n",
      "Testando Configuração 462: Wavelet=rbio2.8, Level=3, Threshold Mode=garrote, Signal Mode=periodization\n"
     ]
    },
    {
     "name": "stderr",
     "output_type": "stream",
     "text": [
      "/tmp/ipykernel_3088/3451176622.py:146: PerformanceWarning: DataFrame is highly fragmented.  This is usually the result of calling `frame.insert` many times, which has poor performance.  Consider joining all columns at once using pd.concat(axis=1) instead. To get a de-fragmented frame, use `newframe = frame.copy()`\n",
      "  variables[f'{col}_wavelet_{idx}'] = denoised_signal\n"
     ]
    },
    {
     "name": "stdout",
     "output_type": "stream",
     "text": [
      "Gráfico salvo em: wavelet_denoising_plots_comparacao/comparacao_ws100_config_462.png\n",
      "Testando Configuração 463: Wavelet=rbio2.8, Level=4, Threshold Mode=soft, Signal Mode=symmetric\n"
     ]
    },
    {
     "name": "stderr",
     "output_type": "stream",
     "text": [
      "/tmp/ipykernel_3088/3451176622.py:146: PerformanceWarning: DataFrame is highly fragmented.  This is usually the result of calling `frame.insert` many times, which has poor performance.  Consider joining all columns at once using pd.concat(axis=1) instead. To get a de-fragmented frame, use `newframe = frame.copy()`\n",
      "  variables[f'{col}_wavelet_{idx}'] = denoised_signal\n"
     ]
    },
    {
     "name": "stdout",
     "output_type": "stream",
     "text": [
      "Gráfico salvo em: wavelet_denoising_plots_comparacao/comparacao_ws100_config_463.png\n",
      "Testando Configuração 464: Wavelet=rbio2.8, Level=4, Threshold Mode=soft, Signal Mode=smooth\n"
     ]
    },
    {
     "name": "stderr",
     "output_type": "stream",
     "text": [
      "/tmp/ipykernel_3088/3451176622.py:146: PerformanceWarning: DataFrame is highly fragmented.  This is usually the result of calling `frame.insert` many times, which has poor performance.  Consider joining all columns at once using pd.concat(axis=1) instead. To get a de-fragmented frame, use `newframe = frame.copy()`\n",
      "  variables[f'{col}_wavelet_{idx}'] = denoised_signal\n"
     ]
    },
    {
     "name": "stdout",
     "output_type": "stream",
     "text": [
      "Gráfico salvo em: wavelet_denoising_plots_comparacao/comparacao_ws100_config_464.png\n",
      "Testando Configuração 465: Wavelet=rbio2.8, Level=4, Threshold Mode=soft, Signal Mode=periodization\n"
     ]
    },
    {
     "name": "stderr",
     "output_type": "stream",
     "text": [
      "/tmp/ipykernel_3088/3451176622.py:146: PerformanceWarning: DataFrame is highly fragmented.  This is usually the result of calling `frame.insert` many times, which has poor performance.  Consider joining all columns at once using pd.concat(axis=1) instead. To get a de-fragmented frame, use `newframe = frame.copy()`\n",
      "  variables[f'{col}_wavelet_{idx}'] = denoised_signal\n"
     ]
    },
    {
     "name": "stdout",
     "output_type": "stream",
     "text": [
      "Gráfico salvo em: wavelet_denoising_plots_comparacao/comparacao_ws100_config_465.png\n",
      "Testando Configuração 466: Wavelet=rbio2.8, Level=4, Threshold Mode=garrote, Signal Mode=symmetric\n"
     ]
    },
    {
     "name": "stderr",
     "output_type": "stream",
     "text": [
      "/tmp/ipykernel_3088/3451176622.py:146: PerformanceWarning: DataFrame is highly fragmented.  This is usually the result of calling `frame.insert` many times, which has poor performance.  Consider joining all columns at once using pd.concat(axis=1) instead. To get a de-fragmented frame, use `newframe = frame.copy()`\n",
      "  variables[f'{col}_wavelet_{idx}'] = denoised_signal\n"
     ]
    },
    {
     "name": "stdout",
     "output_type": "stream",
     "text": [
      "Gráfico salvo em: wavelet_denoising_plots_comparacao/comparacao_ws100_config_466.png\n",
      "Testando Configuração 467: Wavelet=rbio2.8, Level=4, Threshold Mode=garrote, Signal Mode=smooth\n"
     ]
    },
    {
     "name": "stderr",
     "output_type": "stream",
     "text": [
      "/tmp/ipykernel_3088/3451176622.py:146: PerformanceWarning: DataFrame is highly fragmented.  This is usually the result of calling `frame.insert` many times, which has poor performance.  Consider joining all columns at once using pd.concat(axis=1) instead. To get a de-fragmented frame, use `newframe = frame.copy()`\n",
      "  variables[f'{col}_wavelet_{idx}'] = denoised_signal\n"
     ]
    },
    {
     "name": "stdout",
     "output_type": "stream",
     "text": [
      "Gráfico salvo em: wavelet_denoising_plots_comparacao/comparacao_ws100_config_467.png\n",
      "Testando Configuração 468: Wavelet=rbio2.8, Level=4, Threshold Mode=garrote, Signal Mode=periodization\n"
     ]
    },
    {
     "name": "stderr",
     "output_type": "stream",
     "text": [
      "/tmp/ipykernel_3088/3451176622.py:146: PerformanceWarning: DataFrame is highly fragmented.  This is usually the result of calling `frame.insert` many times, which has poor performance.  Consider joining all columns at once using pd.concat(axis=1) instead. To get a de-fragmented frame, use `newframe = frame.copy()`\n",
      "  variables[f'{col}_wavelet_{idx}'] = denoised_signal\n"
     ]
    },
    {
     "name": "stdout",
     "output_type": "stream",
     "text": [
      "Gráfico salvo em: wavelet_denoising_plots_comparacao/comparacao_ws100_config_468.png\n",
      "Testando Configuração 469: Wavelet=rbio3.1, Level=3, Threshold Mode=soft, Signal Mode=symmetric\n"
     ]
    },
    {
     "name": "stderr",
     "output_type": "stream",
     "text": [
      "/tmp/ipykernel_3088/3451176622.py:146: PerformanceWarning: DataFrame is highly fragmented.  This is usually the result of calling `frame.insert` many times, which has poor performance.  Consider joining all columns at once using pd.concat(axis=1) instead. To get a de-fragmented frame, use `newframe = frame.copy()`\n",
      "  variables[f'{col}_wavelet_{idx}'] = denoised_signal\n"
     ]
    },
    {
     "name": "stdout",
     "output_type": "stream",
     "text": [
      "Gráfico salvo em: wavelet_denoising_plots_comparacao/comparacao_ws100_config_469.png\n",
      "Testando Configuração 470: Wavelet=rbio3.1, Level=3, Threshold Mode=soft, Signal Mode=smooth\n"
     ]
    },
    {
     "name": "stderr",
     "output_type": "stream",
     "text": [
      "/tmp/ipykernel_3088/3451176622.py:146: PerformanceWarning: DataFrame is highly fragmented.  This is usually the result of calling `frame.insert` many times, which has poor performance.  Consider joining all columns at once using pd.concat(axis=1) instead. To get a de-fragmented frame, use `newframe = frame.copy()`\n",
      "  variables[f'{col}_wavelet_{idx}'] = denoised_signal\n"
     ]
    },
    {
     "name": "stdout",
     "output_type": "stream",
     "text": [
      "Gráfico salvo em: wavelet_denoising_plots_comparacao/comparacao_ws100_config_470.png\n",
      "470 configurações processadas.\n",
      "Testando Configuração 471: Wavelet=rbio3.1, Level=3, Threshold Mode=soft, Signal Mode=periodization\n"
     ]
    },
    {
     "name": "stderr",
     "output_type": "stream",
     "text": [
      "/tmp/ipykernel_3088/3451176622.py:146: PerformanceWarning: DataFrame is highly fragmented.  This is usually the result of calling `frame.insert` many times, which has poor performance.  Consider joining all columns at once using pd.concat(axis=1) instead. To get a de-fragmented frame, use `newframe = frame.copy()`\n",
      "  variables[f'{col}_wavelet_{idx}'] = denoised_signal\n"
     ]
    },
    {
     "name": "stdout",
     "output_type": "stream",
     "text": [
      "Gráfico salvo em: wavelet_denoising_plots_comparacao/comparacao_ws100_config_471.png\n",
      "Testando Configuração 472: Wavelet=rbio3.1, Level=3, Threshold Mode=garrote, Signal Mode=symmetric\n"
     ]
    },
    {
     "name": "stderr",
     "output_type": "stream",
     "text": [
      "/tmp/ipykernel_3088/3451176622.py:146: PerformanceWarning: DataFrame is highly fragmented.  This is usually the result of calling `frame.insert` many times, which has poor performance.  Consider joining all columns at once using pd.concat(axis=1) instead. To get a de-fragmented frame, use `newframe = frame.copy()`\n",
      "  variables[f'{col}_wavelet_{idx}'] = denoised_signal\n"
     ]
    },
    {
     "name": "stdout",
     "output_type": "stream",
     "text": [
      "Gráfico salvo em: wavelet_denoising_plots_comparacao/comparacao_ws100_config_472.png\n",
      "Testando Configuração 473: Wavelet=rbio3.1, Level=3, Threshold Mode=garrote, Signal Mode=smooth\n"
     ]
    },
    {
     "name": "stderr",
     "output_type": "stream",
     "text": [
      "/tmp/ipykernel_3088/3451176622.py:146: PerformanceWarning: DataFrame is highly fragmented.  This is usually the result of calling `frame.insert` many times, which has poor performance.  Consider joining all columns at once using pd.concat(axis=1) instead. To get a de-fragmented frame, use `newframe = frame.copy()`\n",
      "  variables[f'{col}_wavelet_{idx}'] = denoised_signal\n"
     ]
    },
    {
     "name": "stdout",
     "output_type": "stream",
     "text": [
      "Gráfico salvo em: wavelet_denoising_plots_comparacao/comparacao_ws100_config_473.png\n",
      "Testando Configuração 474: Wavelet=rbio3.1, Level=3, Threshold Mode=garrote, Signal Mode=periodization\n"
     ]
    },
    {
     "name": "stderr",
     "output_type": "stream",
     "text": [
      "/tmp/ipykernel_3088/3451176622.py:146: PerformanceWarning: DataFrame is highly fragmented.  This is usually the result of calling `frame.insert` many times, which has poor performance.  Consider joining all columns at once using pd.concat(axis=1) instead. To get a de-fragmented frame, use `newframe = frame.copy()`\n",
      "  variables[f'{col}_wavelet_{idx}'] = denoised_signal\n"
     ]
    },
    {
     "name": "stdout",
     "output_type": "stream",
     "text": [
      "Gráfico salvo em: wavelet_denoising_plots_comparacao/comparacao_ws100_config_474.png\n",
      "Testando Configuração 475: Wavelet=rbio3.1, Level=4, Threshold Mode=soft, Signal Mode=symmetric\n"
     ]
    },
    {
     "name": "stderr",
     "output_type": "stream",
     "text": [
      "/tmp/ipykernel_3088/3451176622.py:146: PerformanceWarning: DataFrame is highly fragmented.  This is usually the result of calling `frame.insert` many times, which has poor performance.  Consider joining all columns at once using pd.concat(axis=1) instead. To get a de-fragmented frame, use `newframe = frame.copy()`\n",
      "  variables[f'{col}_wavelet_{idx}'] = denoised_signal\n"
     ]
    },
    {
     "name": "stdout",
     "output_type": "stream",
     "text": [
      "Gráfico salvo em: wavelet_denoising_plots_comparacao/comparacao_ws100_config_475.png\n",
      "Testando Configuração 476: Wavelet=rbio3.1, Level=4, Threshold Mode=soft, Signal Mode=smooth\n"
     ]
    },
    {
     "name": "stderr",
     "output_type": "stream",
     "text": [
      "/tmp/ipykernel_3088/3451176622.py:146: PerformanceWarning: DataFrame is highly fragmented.  This is usually the result of calling `frame.insert` many times, which has poor performance.  Consider joining all columns at once using pd.concat(axis=1) instead. To get a de-fragmented frame, use `newframe = frame.copy()`\n",
      "  variables[f'{col}_wavelet_{idx}'] = denoised_signal\n"
     ]
    },
    {
     "name": "stdout",
     "output_type": "stream",
     "text": [
      "Gráfico salvo em: wavelet_denoising_plots_comparacao/comparacao_ws100_config_476.png\n",
      "Testando Configuração 477: Wavelet=rbio3.1, Level=4, Threshold Mode=soft, Signal Mode=periodization\n"
     ]
    },
    {
     "name": "stderr",
     "output_type": "stream",
     "text": [
      "/tmp/ipykernel_3088/3451176622.py:146: PerformanceWarning: DataFrame is highly fragmented.  This is usually the result of calling `frame.insert` many times, which has poor performance.  Consider joining all columns at once using pd.concat(axis=1) instead. To get a de-fragmented frame, use `newframe = frame.copy()`\n",
      "  variables[f'{col}_wavelet_{idx}'] = denoised_signal\n"
     ]
    },
    {
     "name": "stdout",
     "output_type": "stream",
     "text": [
      "Gráfico salvo em: wavelet_denoising_plots_comparacao/comparacao_ws100_config_477.png\n",
      "Testando Configuração 478: Wavelet=rbio3.1, Level=4, Threshold Mode=garrote, Signal Mode=symmetric\n"
     ]
    },
    {
     "name": "stderr",
     "output_type": "stream",
     "text": [
      "/tmp/ipykernel_3088/3451176622.py:146: PerformanceWarning: DataFrame is highly fragmented.  This is usually the result of calling `frame.insert` many times, which has poor performance.  Consider joining all columns at once using pd.concat(axis=1) instead. To get a de-fragmented frame, use `newframe = frame.copy()`\n",
      "  variables[f'{col}_wavelet_{idx}'] = denoised_signal\n"
     ]
    },
    {
     "name": "stdout",
     "output_type": "stream",
     "text": [
      "Gráfico salvo em: wavelet_denoising_plots_comparacao/comparacao_ws100_config_478.png\n",
      "Testando Configuração 479: Wavelet=rbio3.1, Level=4, Threshold Mode=garrote, Signal Mode=smooth\n"
     ]
    },
    {
     "name": "stderr",
     "output_type": "stream",
     "text": [
      "/tmp/ipykernel_3088/3451176622.py:146: PerformanceWarning: DataFrame is highly fragmented.  This is usually the result of calling `frame.insert` many times, which has poor performance.  Consider joining all columns at once using pd.concat(axis=1) instead. To get a de-fragmented frame, use `newframe = frame.copy()`\n",
      "  variables[f'{col}_wavelet_{idx}'] = denoised_signal\n"
     ]
    },
    {
     "name": "stdout",
     "output_type": "stream",
     "text": [
      "Gráfico salvo em: wavelet_denoising_plots_comparacao/comparacao_ws100_config_479.png\n",
      "Testando Configuração 480: Wavelet=rbio3.1, Level=4, Threshold Mode=garrote, Signal Mode=periodization\n"
     ]
    },
    {
     "name": "stderr",
     "output_type": "stream",
     "text": [
      "/tmp/ipykernel_3088/3451176622.py:146: PerformanceWarning: DataFrame is highly fragmented.  This is usually the result of calling `frame.insert` many times, which has poor performance.  Consider joining all columns at once using pd.concat(axis=1) instead. To get a de-fragmented frame, use `newframe = frame.copy()`\n",
      "  variables[f'{col}_wavelet_{idx}'] = denoised_signal\n"
     ]
    },
    {
     "name": "stdout",
     "output_type": "stream",
     "text": [
      "Gráfico salvo em: wavelet_denoising_plots_comparacao/comparacao_ws100_config_480.png\n",
      "480 configurações processadas.\n",
      "Testando Configuração 481: Wavelet=rbio3.5, Level=3, Threshold Mode=soft, Signal Mode=symmetric\n"
     ]
    },
    {
     "name": "stderr",
     "output_type": "stream",
     "text": [
      "/tmp/ipykernel_3088/3451176622.py:146: PerformanceWarning: DataFrame is highly fragmented.  This is usually the result of calling `frame.insert` many times, which has poor performance.  Consider joining all columns at once using pd.concat(axis=1) instead. To get a de-fragmented frame, use `newframe = frame.copy()`\n",
      "  variables[f'{col}_wavelet_{idx}'] = denoised_signal\n"
     ]
    },
    {
     "name": "stdout",
     "output_type": "stream",
     "text": [
      "Gráfico salvo em: wavelet_denoising_plots_comparacao/comparacao_ws100_config_481.png\n",
      "Testando Configuração 482: Wavelet=rbio3.5, Level=3, Threshold Mode=soft, Signal Mode=smooth\n"
     ]
    },
    {
     "name": "stderr",
     "output_type": "stream",
     "text": [
      "/tmp/ipykernel_3088/3451176622.py:146: PerformanceWarning: DataFrame is highly fragmented.  This is usually the result of calling `frame.insert` many times, which has poor performance.  Consider joining all columns at once using pd.concat(axis=1) instead. To get a de-fragmented frame, use `newframe = frame.copy()`\n",
      "  variables[f'{col}_wavelet_{idx}'] = denoised_signal\n"
     ]
    },
    {
     "name": "stdout",
     "output_type": "stream",
     "text": [
      "Gráfico salvo em: wavelet_denoising_plots_comparacao/comparacao_ws100_config_482.png\n",
      "Testando Configuração 483: Wavelet=rbio3.5, Level=3, Threshold Mode=soft, Signal Mode=periodization\n"
     ]
    },
    {
     "name": "stderr",
     "output_type": "stream",
     "text": [
      "/tmp/ipykernel_3088/3451176622.py:146: PerformanceWarning: DataFrame is highly fragmented.  This is usually the result of calling `frame.insert` many times, which has poor performance.  Consider joining all columns at once using pd.concat(axis=1) instead. To get a de-fragmented frame, use `newframe = frame.copy()`\n",
      "  variables[f'{col}_wavelet_{idx}'] = denoised_signal\n"
     ]
    },
    {
     "name": "stdout",
     "output_type": "stream",
     "text": [
      "Gráfico salvo em: wavelet_denoising_plots_comparacao/comparacao_ws100_config_483.png\n",
      "Testando Configuração 484: Wavelet=rbio3.5, Level=3, Threshold Mode=garrote, Signal Mode=symmetric\n"
     ]
    },
    {
     "name": "stderr",
     "output_type": "stream",
     "text": [
      "/tmp/ipykernel_3088/3451176622.py:146: PerformanceWarning: DataFrame is highly fragmented.  This is usually the result of calling `frame.insert` many times, which has poor performance.  Consider joining all columns at once using pd.concat(axis=1) instead. To get a de-fragmented frame, use `newframe = frame.copy()`\n",
      "  variables[f'{col}_wavelet_{idx}'] = denoised_signal\n"
     ]
    },
    {
     "name": "stdout",
     "output_type": "stream",
     "text": [
      "Gráfico salvo em: wavelet_denoising_plots_comparacao/comparacao_ws100_config_484.png\n",
      "Testando Configuração 485: Wavelet=rbio3.5, Level=3, Threshold Mode=garrote, Signal Mode=smooth\n"
     ]
    },
    {
     "name": "stderr",
     "output_type": "stream",
     "text": [
      "/tmp/ipykernel_3088/3451176622.py:146: PerformanceWarning: DataFrame is highly fragmented.  This is usually the result of calling `frame.insert` many times, which has poor performance.  Consider joining all columns at once using pd.concat(axis=1) instead. To get a de-fragmented frame, use `newframe = frame.copy()`\n",
      "  variables[f'{col}_wavelet_{idx}'] = denoised_signal\n"
     ]
    },
    {
     "name": "stdout",
     "output_type": "stream",
     "text": [
      "Gráfico salvo em: wavelet_denoising_plots_comparacao/comparacao_ws100_config_485.png\n",
      "Testando Configuração 486: Wavelet=rbio3.5, Level=3, Threshold Mode=garrote, Signal Mode=periodization\n"
     ]
    },
    {
     "name": "stderr",
     "output_type": "stream",
     "text": [
      "/tmp/ipykernel_3088/3451176622.py:146: PerformanceWarning: DataFrame is highly fragmented.  This is usually the result of calling `frame.insert` many times, which has poor performance.  Consider joining all columns at once using pd.concat(axis=1) instead. To get a de-fragmented frame, use `newframe = frame.copy()`\n",
      "  variables[f'{col}_wavelet_{idx}'] = denoised_signal\n"
     ]
    },
    {
     "name": "stdout",
     "output_type": "stream",
     "text": [
      "Gráfico salvo em: wavelet_denoising_plots_comparacao/comparacao_ws100_config_486.png\n",
      "Testando Configuração 487: Wavelet=rbio3.5, Level=4, Threshold Mode=soft, Signal Mode=symmetric\n"
     ]
    },
    {
     "name": "stderr",
     "output_type": "stream",
     "text": [
      "/tmp/ipykernel_3088/3451176622.py:146: PerformanceWarning: DataFrame is highly fragmented.  This is usually the result of calling `frame.insert` many times, which has poor performance.  Consider joining all columns at once using pd.concat(axis=1) instead. To get a de-fragmented frame, use `newframe = frame.copy()`\n",
      "  variables[f'{col}_wavelet_{idx}'] = denoised_signal\n"
     ]
    },
    {
     "name": "stdout",
     "output_type": "stream",
     "text": [
      "Gráfico salvo em: wavelet_denoising_plots_comparacao/comparacao_ws100_config_487.png\n",
      "Testando Configuração 488: Wavelet=rbio3.5, Level=4, Threshold Mode=soft, Signal Mode=smooth\n"
     ]
    },
    {
     "name": "stderr",
     "output_type": "stream",
     "text": [
      "/tmp/ipykernel_3088/3451176622.py:146: PerformanceWarning: DataFrame is highly fragmented.  This is usually the result of calling `frame.insert` many times, which has poor performance.  Consider joining all columns at once using pd.concat(axis=1) instead. To get a de-fragmented frame, use `newframe = frame.copy()`\n",
      "  variables[f'{col}_wavelet_{idx}'] = denoised_signal\n"
     ]
    },
    {
     "name": "stdout",
     "output_type": "stream",
     "text": [
      "Gráfico salvo em: wavelet_denoising_plots_comparacao/comparacao_ws100_config_488.png\n",
      "Testando Configuração 489: Wavelet=rbio3.5, Level=4, Threshold Mode=soft, Signal Mode=periodization\n"
     ]
    },
    {
     "name": "stderr",
     "output_type": "stream",
     "text": [
      "/tmp/ipykernel_3088/3451176622.py:146: PerformanceWarning: DataFrame is highly fragmented.  This is usually the result of calling `frame.insert` many times, which has poor performance.  Consider joining all columns at once using pd.concat(axis=1) instead. To get a de-fragmented frame, use `newframe = frame.copy()`\n",
      "  variables[f'{col}_wavelet_{idx}'] = denoised_signal\n"
     ]
    },
    {
     "name": "stdout",
     "output_type": "stream",
     "text": [
      "Gráfico salvo em: wavelet_denoising_plots_comparacao/comparacao_ws100_config_489.png\n",
      "Testando Configuração 490: Wavelet=rbio3.5, Level=4, Threshold Mode=garrote, Signal Mode=symmetric\n"
     ]
    },
    {
     "name": "stderr",
     "output_type": "stream",
     "text": [
      "/tmp/ipykernel_3088/3451176622.py:146: PerformanceWarning: DataFrame is highly fragmented.  This is usually the result of calling `frame.insert` many times, which has poor performance.  Consider joining all columns at once using pd.concat(axis=1) instead. To get a de-fragmented frame, use `newframe = frame.copy()`\n",
      "  variables[f'{col}_wavelet_{idx}'] = denoised_signal\n"
     ]
    },
    {
     "name": "stdout",
     "output_type": "stream",
     "text": [
      "Gráfico salvo em: wavelet_denoising_plots_comparacao/comparacao_ws100_config_490.png\n",
      "490 configurações processadas.\n",
      "Testando Configuração 491: Wavelet=rbio3.5, Level=4, Threshold Mode=garrote, Signal Mode=smooth\n"
     ]
    },
    {
     "name": "stderr",
     "output_type": "stream",
     "text": [
      "/tmp/ipykernel_3088/3451176622.py:146: PerformanceWarning: DataFrame is highly fragmented.  This is usually the result of calling `frame.insert` many times, which has poor performance.  Consider joining all columns at once using pd.concat(axis=1) instead. To get a de-fragmented frame, use `newframe = frame.copy()`\n",
      "  variables[f'{col}_wavelet_{idx}'] = denoised_signal\n"
     ]
    },
    {
     "name": "stdout",
     "output_type": "stream",
     "text": [
      "Gráfico salvo em: wavelet_denoising_plots_comparacao/comparacao_ws100_config_491.png\n",
      "Testando Configuração 492: Wavelet=rbio3.5, Level=4, Threshold Mode=garrote, Signal Mode=periodization\n"
     ]
    },
    {
     "name": "stderr",
     "output_type": "stream",
     "text": [
      "/tmp/ipykernel_3088/3451176622.py:146: PerformanceWarning: DataFrame is highly fragmented.  This is usually the result of calling `frame.insert` many times, which has poor performance.  Consider joining all columns at once using pd.concat(axis=1) instead. To get a de-fragmented frame, use `newframe = frame.copy()`\n",
      "  variables[f'{col}_wavelet_{idx}'] = denoised_signal\n"
     ]
    },
    {
     "name": "stdout",
     "output_type": "stream",
     "text": [
      "Gráfico salvo em: wavelet_denoising_plots_comparacao/comparacao_ws100_config_492.png\n",
      "Testando Configuração 493: Wavelet=rbio3.7, Level=3, Threshold Mode=soft, Signal Mode=symmetric\n"
     ]
    },
    {
     "name": "stderr",
     "output_type": "stream",
     "text": [
      "/tmp/ipykernel_3088/3451176622.py:146: PerformanceWarning: DataFrame is highly fragmented.  This is usually the result of calling `frame.insert` many times, which has poor performance.  Consider joining all columns at once using pd.concat(axis=1) instead. To get a de-fragmented frame, use `newframe = frame.copy()`\n",
      "  variables[f'{col}_wavelet_{idx}'] = denoised_signal\n"
     ]
    },
    {
     "name": "stdout",
     "output_type": "stream",
     "text": [
      "Gráfico salvo em: wavelet_denoising_plots_comparacao/comparacao_ws100_config_493.png\n",
      "Testando Configuração 494: Wavelet=rbio3.7, Level=3, Threshold Mode=soft, Signal Mode=smooth\n"
     ]
    },
    {
     "name": "stderr",
     "output_type": "stream",
     "text": [
      "/tmp/ipykernel_3088/3451176622.py:146: PerformanceWarning: DataFrame is highly fragmented.  This is usually the result of calling `frame.insert` many times, which has poor performance.  Consider joining all columns at once using pd.concat(axis=1) instead. To get a de-fragmented frame, use `newframe = frame.copy()`\n",
      "  variables[f'{col}_wavelet_{idx}'] = denoised_signal\n"
     ]
    },
    {
     "name": "stdout",
     "output_type": "stream",
     "text": [
      "Gráfico salvo em: wavelet_denoising_plots_comparacao/comparacao_ws100_config_494.png\n",
      "Testando Configuração 495: Wavelet=rbio3.7, Level=3, Threshold Mode=soft, Signal Mode=periodization\n"
     ]
    },
    {
     "name": "stderr",
     "output_type": "stream",
     "text": [
      "/tmp/ipykernel_3088/3451176622.py:146: PerformanceWarning: DataFrame is highly fragmented.  This is usually the result of calling `frame.insert` many times, which has poor performance.  Consider joining all columns at once using pd.concat(axis=1) instead. To get a de-fragmented frame, use `newframe = frame.copy()`\n",
      "  variables[f'{col}_wavelet_{idx}'] = denoised_signal\n"
     ]
    },
    {
     "name": "stdout",
     "output_type": "stream",
     "text": [
      "Gráfico salvo em: wavelet_denoising_plots_comparacao/comparacao_ws100_config_495.png\n",
      "Testando Configuração 496: Wavelet=rbio3.7, Level=3, Threshold Mode=garrote, Signal Mode=symmetric\n"
     ]
    },
    {
     "name": "stderr",
     "output_type": "stream",
     "text": [
      "/tmp/ipykernel_3088/3451176622.py:146: PerformanceWarning: DataFrame is highly fragmented.  This is usually the result of calling `frame.insert` many times, which has poor performance.  Consider joining all columns at once using pd.concat(axis=1) instead. To get a de-fragmented frame, use `newframe = frame.copy()`\n",
      "  variables[f'{col}_wavelet_{idx}'] = denoised_signal\n"
     ]
    },
    {
     "name": "stdout",
     "output_type": "stream",
     "text": [
      "Gráfico salvo em: wavelet_denoising_plots_comparacao/comparacao_ws100_config_496.png\n",
      "Testando Configuração 497: Wavelet=rbio3.7, Level=3, Threshold Mode=garrote, Signal Mode=smooth\n"
     ]
    },
    {
     "name": "stderr",
     "output_type": "stream",
     "text": [
      "/tmp/ipykernel_3088/3451176622.py:146: PerformanceWarning: DataFrame is highly fragmented.  This is usually the result of calling `frame.insert` many times, which has poor performance.  Consider joining all columns at once using pd.concat(axis=1) instead. To get a de-fragmented frame, use `newframe = frame.copy()`\n",
      "  variables[f'{col}_wavelet_{idx}'] = denoised_signal\n"
     ]
    },
    {
     "name": "stdout",
     "output_type": "stream",
     "text": [
      "Gráfico salvo em: wavelet_denoising_plots_comparacao/comparacao_ws100_config_497.png\n",
      "Testando Configuração 498: Wavelet=rbio3.7, Level=3, Threshold Mode=garrote, Signal Mode=periodization\n"
     ]
    },
    {
     "name": "stderr",
     "output_type": "stream",
     "text": [
      "/tmp/ipykernel_3088/3451176622.py:146: PerformanceWarning: DataFrame is highly fragmented.  This is usually the result of calling `frame.insert` many times, which has poor performance.  Consider joining all columns at once using pd.concat(axis=1) instead. To get a de-fragmented frame, use `newframe = frame.copy()`\n",
      "  variables[f'{col}_wavelet_{idx}'] = denoised_signal\n"
     ]
    },
    {
     "name": "stdout",
     "output_type": "stream",
     "text": [
      "Gráfico salvo em: wavelet_denoising_plots_comparacao/comparacao_ws100_config_498.png\n",
      "Testando Configuração 499: Wavelet=rbio3.7, Level=4, Threshold Mode=soft, Signal Mode=symmetric\n"
     ]
    },
    {
     "name": "stderr",
     "output_type": "stream",
     "text": [
      "/tmp/ipykernel_3088/3451176622.py:146: PerformanceWarning: DataFrame is highly fragmented.  This is usually the result of calling `frame.insert` many times, which has poor performance.  Consider joining all columns at once using pd.concat(axis=1) instead. To get a de-fragmented frame, use `newframe = frame.copy()`\n",
      "  variables[f'{col}_wavelet_{idx}'] = denoised_signal\n"
     ]
    },
    {
     "name": "stdout",
     "output_type": "stream",
     "text": [
      "Gráfico salvo em: wavelet_denoising_plots_comparacao/comparacao_ws100_config_499.png\n",
      "Testando Configuração 500: Wavelet=rbio3.7, Level=4, Threshold Mode=soft, Signal Mode=smooth\n"
     ]
    },
    {
     "name": "stderr",
     "output_type": "stream",
     "text": [
      "/tmp/ipykernel_3088/3451176622.py:146: PerformanceWarning: DataFrame is highly fragmented.  This is usually the result of calling `frame.insert` many times, which has poor performance.  Consider joining all columns at once using pd.concat(axis=1) instead. To get a de-fragmented frame, use `newframe = frame.copy()`\n",
      "  variables[f'{col}_wavelet_{idx}'] = denoised_signal\n"
     ]
    },
    {
     "name": "stdout",
     "output_type": "stream",
     "text": [
      "Gráfico salvo em: wavelet_denoising_plots_comparacao/comparacao_ws100_config_500.png\n",
      "500 configurações processadas.\n",
      "Testando Configuração 501: Wavelet=rbio3.7, Level=4, Threshold Mode=soft, Signal Mode=periodization\n"
     ]
    },
    {
     "name": "stderr",
     "output_type": "stream",
     "text": [
      "/tmp/ipykernel_3088/3451176622.py:146: PerformanceWarning: DataFrame is highly fragmented.  This is usually the result of calling `frame.insert` many times, which has poor performance.  Consider joining all columns at once using pd.concat(axis=1) instead. To get a de-fragmented frame, use `newframe = frame.copy()`\n",
      "  variables[f'{col}_wavelet_{idx}'] = denoised_signal\n"
     ]
    },
    {
     "name": "stdout",
     "output_type": "stream",
     "text": [
      "Gráfico salvo em: wavelet_denoising_plots_comparacao/comparacao_ws100_config_501.png\n",
      "Testando Configuração 502: Wavelet=rbio3.7, Level=4, Threshold Mode=garrote, Signal Mode=symmetric\n"
     ]
    },
    {
     "name": "stderr",
     "output_type": "stream",
     "text": [
      "/tmp/ipykernel_3088/3451176622.py:146: PerformanceWarning: DataFrame is highly fragmented.  This is usually the result of calling `frame.insert` many times, which has poor performance.  Consider joining all columns at once using pd.concat(axis=1) instead. To get a de-fragmented frame, use `newframe = frame.copy()`\n",
      "  variables[f'{col}_wavelet_{idx}'] = denoised_signal\n"
     ]
    },
    {
     "name": "stdout",
     "output_type": "stream",
     "text": [
      "Gráfico salvo em: wavelet_denoising_plots_comparacao/comparacao_ws100_config_502.png\n",
      "Testando Configuração 503: Wavelet=rbio3.7, Level=4, Threshold Mode=garrote, Signal Mode=smooth\n"
     ]
    },
    {
     "name": "stderr",
     "output_type": "stream",
     "text": [
      "/tmp/ipykernel_3088/3451176622.py:146: PerformanceWarning: DataFrame is highly fragmented.  This is usually the result of calling `frame.insert` many times, which has poor performance.  Consider joining all columns at once using pd.concat(axis=1) instead. To get a de-fragmented frame, use `newframe = frame.copy()`\n",
      "  variables[f'{col}_wavelet_{idx}'] = denoised_signal\n"
     ]
    },
    {
     "name": "stdout",
     "output_type": "stream",
     "text": [
      "Gráfico salvo em: wavelet_denoising_plots_comparacao/comparacao_ws100_config_503.png\n",
      "Testando Configuração 504: Wavelet=rbio3.7, Level=4, Threshold Mode=garrote, Signal Mode=periodization\n"
     ]
    },
    {
     "name": "stderr",
     "output_type": "stream",
     "text": [
      "/tmp/ipykernel_3088/3451176622.py:146: PerformanceWarning: DataFrame is highly fragmented.  This is usually the result of calling `frame.insert` many times, which has poor performance.  Consider joining all columns at once using pd.concat(axis=1) instead. To get a de-fragmented frame, use `newframe = frame.copy()`\n",
      "  variables[f'{col}_wavelet_{idx}'] = denoised_signal\n"
     ]
    },
    {
     "name": "stdout",
     "output_type": "stream",
     "text": [
      "Gráfico salvo em: wavelet_denoising_plots_comparacao/comparacao_ws100_config_504.png\n",
      "Testando Configuração 505: Wavelet=rbio3.9, Level=3, Threshold Mode=soft, Signal Mode=symmetric\n"
     ]
    },
    {
     "name": "stderr",
     "output_type": "stream",
     "text": [
      "/tmp/ipykernel_3088/3451176622.py:146: PerformanceWarning: DataFrame is highly fragmented.  This is usually the result of calling `frame.insert` many times, which has poor performance.  Consider joining all columns at once using pd.concat(axis=1) instead. To get a de-fragmented frame, use `newframe = frame.copy()`\n",
      "  variables[f'{col}_wavelet_{idx}'] = denoised_signal\n"
     ]
    },
    {
     "name": "stdout",
     "output_type": "stream",
     "text": [
      "Gráfico salvo em: wavelet_denoising_plots_comparacao/comparacao_ws100_config_505.png\n",
      "Testando Configuração 506: Wavelet=rbio3.9, Level=3, Threshold Mode=soft, Signal Mode=smooth\n"
     ]
    },
    {
     "name": "stderr",
     "output_type": "stream",
     "text": [
      "/tmp/ipykernel_3088/3451176622.py:146: PerformanceWarning: DataFrame is highly fragmented.  This is usually the result of calling `frame.insert` many times, which has poor performance.  Consider joining all columns at once using pd.concat(axis=1) instead. To get a de-fragmented frame, use `newframe = frame.copy()`\n",
      "  variables[f'{col}_wavelet_{idx}'] = denoised_signal\n"
     ]
    },
    {
     "name": "stdout",
     "output_type": "stream",
     "text": [
      "Gráfico salvo em: wavelet_denoising_plots_comparacao/comparacao_ws100_config_506.png\n",
      "Testando Configuração 507: Wavelet=rbio3.9, Level=3, Threshold Mode=soft, Signal Mode=periodization\n"
     ]
    },
    {
     "name": "stderr",
     "output_type": "stream",
     "text": [
      "/tmp/ipykernel_3088/3451176622.py:146: PerformanceWarning: DataFrame is highly fragmented.  This is usually the result of calling `frame.insert` many times, which has poor performance.  Consider joining all columns at once using pd.concat(axis=1) instead. To get a de-fragmented frame, use `newframe = frame.copy()`\n",
      "  variables[f'{col}_wavelet_{idx}'] = denoised_signal\n"
     ]
    },
    {
     "name": "stdout",
     "output_type": "stream",
     "text": [
      "Gráfico salvo em: wavelet_denoising_plots_comparacao/comparacao_ws100_config_507.png\n",
      "Testando Configuração 508: Wavelet=rbio3.9, Level=3, Threshold Mode=garrote, Signal Mode=symmetric\n"
     ]
    },
    {
     "name": "stderr",
     "output_type": "stream",
     "text": [
      "/tmp/ipykernel_3088/3451176622.py:146: PerformanceWarning: DataFrame is highly fragmented.  This is usually the result of calling `frame.insert` many times, which has poor performance.  Consider joining all columns at once using pd.concat(axis=1) instead. To get a de-fragmented frame, use `newframe = frame.copy()`\n",
      "  variables[f'{col}_wavelet_{idx}'] = denoised_signal\n"
     ]
    },
    {
     "name": "stdout",
     "output_type": "stream",
     "text": [
      "Gráfico salvo em: wavelet_denoising_plots_comparacao/comparacao_ws100_config_508.png\n",
      "Testando Configuração 509: Wavelet=rbio3.9, Level=3, Threshold Mode=garrote, Signal Mode=smooth\n"
     ]
    },
    {
     "name": "stderr",
     "output_type": "stream",
     "text": [
      "/tmp/ipykernel_3088/3451176622.py:146: PerformanceWarning: DataFrame is highly fragmented.  This is usually the result of calling `frame.insert` many times, which has poor performance.  Consider joining all columns at once using pd.concat(axis=1) instead. To get a de-fragmented frame, use `newframe = frame.copy()`\n",
      "  variables[f'{col}_wavelet_{idx}'] = denoised_signal\n"
     ]
    },
    {
     "name": "stdout",
     "output_type": "stream",
     "text": [
      "Gráfico salvo em: wavelet_denoising_plots_comparacao/comparacao_ws100_config_509.png\n",
      "Testando Configuração 510: Wavelet=rbio3.9, Level=3, Threshold Mode=garrote, Signal Mode=periodization\n"
     ]
    },
    {
     "name": "stderr",
     "output_type": "stream",
     "text": [
      "/tmp/ipykernel_3088/3451176622.py:146: PerformanceWarning: DataFrame is highly fragmented.  This is usually the result of calling `frame.insert` many times, which has poor performance.  Consider joining all columns at once using pd.concat(axis=1) instead. To get a de-fragmented frame, use `newframe = frame.copy()`\n",
      "  variables[f'{col}_wavelet_{idx}'] = denoised_signal\n"
     ]
    },
    {
     "name": "stdout",
     "output_type": "stream",
     "text": [
      "Gráfico salvo em: wavelet_denoising_plots_comparacao/comparacao_ws100_config_510.png\n",
      "510 configurações processadas.\n",
      "Testando Configuração 511: Wavelet=rbio3.9, Level=4, Threshold Mode=soft, Signal Mode=symmetric\n"
     ]
    },
    {
     "name": "stderr",
     "output_type": "stream",
     "text": [
      "/tmp/ipykernel_3088/3451176622.py:146: PerformanceWarning: DataFrame is highly fragmented.  This is usually the result of calling `frame.insert` many times, which has poor performance.  Consider joining all columns at once using pd.concat(axis=1) instead. To get a de-fragmented frame, use `newframe = frame.copy()`\n",
      "  variables[f'{col}_wavelet_{idx}'] = denoised_signal\n"
     ]
    },
    {
     "name": "stdout",
     "output_type": "stream",
     "text": [
      "Gráfico salvo em: wavelet_denoising_plots_comparacao/comparacao_ws100_config_511.png\n",
      "Testando Configuração 512: Wavelet=rbio3.9, Level=4, Threshold Mode=soft, Signal Mode=smooth\n"
     ]
    },
    {
     "name": "stderr",
     "output_type": "stream",
     "text": [
      "/tmp/ipykernel_3088/3451176622.py:146: PerformanceWarning: DataFrame is highly fragmented.  This is usually the result of calling `frame.insert` many times, which has poor performance.  Consider joining all columns at once using pd.concat(axis=1) instead. To get a de-fragmented frame, use `newframe = frame.copy()`\n",
      "  variables[f'{col}_wavelet_{idx}'] = denoised_signal\n"
     ]
    },
    {
     "name": "stdout",
     "output_type": "stream",
     "text": [
      "Gráfico salvo em: wavelet_denoising_plots_comparacao/comparacao_ws100_config_512.png\n",
      "Testando Configuração 513: Wavelet=rbio3.9, Level=4, Threshold Mode=soft, Signal Mode=periodization\n"
     ]
    },
    {
     "name": "stderr",
     "output_type": "stream",
     "text": [
      "/tmp/ipykernel_3088/3451176622.py:146: PerformanceWarning: DataFrame is highly fragmented.  This is usually the result of calling `frame.insert` many times, which has poor performance.  Consider joining all columns at once using pd.concat(axis=1) instead. To get a de-fragmented frame, use `newframe = frame.copy()`\n",
      "  variables[f'{col}_wavelet_{idx}'] = denoised_signal\n"
     ]
    },
    {
     "name": "stdout",
     "output_type": "stream",
     "text": [
      "Gráfico salvo em: wavelet_denoising_plots_comparacao/comparacao_ws100_config_513.png\n",
      "Testando Configuração 514: Wavelet=rbio3.9, Level=4, Threshold Mode=garrote, Signal Mode=symmetric\n"
     ]
    },
    {
     "name": "stderr",
     "output_type": "stream",
     "text": [
      "/tmp/ipykernel_3088/3451176622.py:146: PerformanceWarning: DataFrame is highly fragmented.  This is usually the result of calling `frame.insert` many times, which has poor performance.  Consider joining all columns at once using pd.concat(axis=1) instead. To get a de-fragmented frame, use `newframe = frame.copy()`\n",
      "  variables[f'{col}_wavelet_{idx}'] = denoised_signal\n"
     ]
    },
    {
     "name": "stdout",
     "output_type": "stream",
     "text": [
      "Gráfico salvo em: wavelet_denoising_plots_comparacao/comparacao_ws100_config_514.png\n",
      "Testando Configuração 515: Wavelet=rbio3.9, Level=4, Threshold Mode=garrote, Signal Mode=smooth\n"
     ]
    },
    {
     "name": "stderr",
     "output_type": "stream",
     "text": [
      "/tmp/ipykernel_3088/3451176622.py:146: PerformanceWarning: DataFrame is highly fragmented.  This is usually the result of calling `frame.insert` many times, which has poor performance.  Consider joining all columns at once using pd.concat(axis=1) instead. To get a de-fragmented frame, use `newframe = frame.copy()`\n",
      "  variables[f'{col}_wavelet_{idx}'] = denoised_signal\n"
     ]
    },
    {
     "name": "stdout",
     "output_type": "stream",
     "text": [
      "Gráfico salvo em: wavelet_denoising_plots_comparacao/comparacao_ws100_config_515.png\n",
      "Testando Configuração 516: Wavelet=rbio3.9, Level=4, Threshold Mode=garrote, Signal Mode=periodization\n"
     ]
    },
    {
     "name": "stderr",
     "output_type": "stream",
     "text": [
      "/tmp/ipykernel_3088/3451176622.py:146: PerformanceWarning: DataFrame is highly fragmented.  This is usually the result of calling `frame.insert` many times, which has poor performance.  Consider joining all columns at once using pd.concat(axis=1) instead. To get a de-fragmented frame, use `newframe = frame.copy()`\n",
      "  variables[f'{col}_wavelet_{idx}'] = denoised_signal\n"
     ]
    },
    {
     "name": "stdout",
     "output_type": "stream",
     "text": [
      "Gráfico salvo em: wavelet_denoising_plots_comparacao/comparacao_ws100_config_516.png\n",
      "Testando Configuração 517: Wavelet=rbio4.4, Level=3, Threshold Mode=soft, Signal Mode=symmetric\n"
     ]
    },
    {
     "name": "stderr",
     "output_type": "stream",
     "text": [
      "/tmp/ipykernel_3088/3451176622.py:146: PerformanceWarning: DataFrame is highly fragmented.  This is usually the result of calling `frame.insert` many times, which has poor performance.  Consider joining all columns at once using pd.concat(axis=1) instead. To get a de-fragmented frame, use `newframe = frame.copy()`\n",
      "  variables[f'{col}_wavelet_{idx}'] = denoised_signal\n"
     ]
    },
    {
     "name": "stdout",
     "output_type": "stream",
     "text": [
      "Gráfico salvo em: wavelet_denoising_plots_comparacao/comparacao_ws100_config_517.png\n",
      "Testando Configuração 518: Wavelet=rbio4.4, Level=3, Threshold Mode=soft, Signal Mode=smooth\n"
     ]
    },
    {
     "name": "stderr",
     "output_type": "stream",
     "text": [
      "/tmp/ipykernel_3088/3451176622.py:146: PerformanceWarning: DataFrame is highly fragmented.  This is usually the result of calling `frame.insert` many times, which has poor performance.  Consider joining all columns at once using pd.concat(axis=1) instead. To get a de-fragmented frame, use `newframe = frame.copy()`\n",
      "  variables[f'{col}_wavelet_{idx}'] = denoised_signal\n"
     ]
    },
    {
     "name": "stdout",
     "output_type": "stream",
     "text": [
      "Gráfico salvo em: wavelet_denoising_plots_comparacao/comparacao_ws100_config_518.png\n",
      "Testando Configuração 519: Wavelet=rbio4.4, Level=3, Threshold Mode=soft, Signal Mode=periodization\n"
     ]
    },
    {
     "name": "stderr",
     "output_type": "stream",
     "text": [
      "/tmp/ipykernel_3088/3451176622.py:146: PerformanceWarning: DataFrame is highly fragmented.  This is usually the result of calling `frame.insert` many times, which has poor performance.  Consider joining all columns at once using pd.concat(axis=1) instead. To get a de-fragmented frame, use `newframe = frame.copy()`\n",
      "  variables[f'{col}_wavelet_{idx}'] = denoised_signal\n"
     ]
    },
    {
     "name": "stdout",
     "output_type": "stream",
     "text": [
      "Gráfico salvo em: wavelet_denoising_plots_comparacao/comparacao_ws100_config_519.png\n",
      "Testando Configuração 520: Wavelet=rbio4.4, Level=3, Threshold Mode=garrote, Signal Mode=symmetric\n"
     ]
    },
    {
     "name": "stderr",
     "output_type": "stream",
     "text": [
      "/tmp/ipykernel_3088/3451176622.py:146: PerformanceWarning: DataFrame is highly fragmented.  This is usually the result of calling `frame.insert` many times, which has poor performance.  Consider joining all columns at once using pd.concat(axis=1) instead. To get a de-fragmented frame, use `newframe = frame.copy()`\n",
      "  variables[f'{col}_wavelet_{idx}'] = denoised_signal\n"
     ]
    },
    {
     "name": "stdout",
     "output_type": "stream",
     "text": [
      "Gráfico salvo em: wavelet_denoising_plots_comparacao/comparacao_ws100_config_520.png\n",
      "520 configurações processadas.\n",
      "Testando Configuração 521: Wavelet=rbio4.4, Level=3, Threshold Mode=garrote, Signal Mode=smooth\n"
     ]
    },
    {
     "name": "stderr",
     "output_type": "stream",
     "text": [
      "/tmp/ipykernel_3088/3451176622.py:146: PerformanceWarning: DataFrame is highly fragmented.  This is usually the result of calling `frame.insert` many times, which has poor performance.  Consider joining all columns at once using pd.concat(axis=1) instead. To get a de-fragmented frame, use `newframe = frame.copy()`\n",
      "  variables[f'{col}_wavelet_{idx}'] = denoised_signal\n"
     ]
    },
    {
     "name": "stdout",
     "output_type": "stream",
     "text": [
      "Gráfico salvo em: wavelet_denoising_plots_comparacao/comparacao_ws100_config_521.png\n",
      "Testando Configuração 522: Wavelet=rbio4.4, Level=3, Threshold Mode=garrote, Signal Mode=periodization\n"
     ]
    },
    {
     "name": "stderr",
     "output_type": "stream",
     "text": [
      "/tmp/ipykernel_3088/3451176622.py:146: PerformanceWarning: DataFrame is highly fragmented.  This is usually the result of calling `frame.insert` many times, which has poor performance.  Consider joining all columns at once using pd.concat(axis=1) instead. To get a de-fragmented frame, use `newframe = frame.copy()`\n",
      "  variables[f'{col}_wavelet_{idx}'] = denoised_signal\n"
     ]
    },
    {
     "name": "stdout",
     "output_type": "stream",
     "text": [
      "Gráfico salvo em: wavelet_denoising_plots_comparacao/comparacao_ws100_config_522.png\n",
      "Testando Configuração 523: Wavelet=rbio4.4, Level=4, Threshold Mode=soft, Signal Mode=symmetric\n"
     ]
    },
    {
     "name": "stderr",
     "output_type": "stream",
     "text": [
      "/tmp/ipykernel_3088/3451176622.py:146: PerformanceWarning: DataFrame is highly fragmented.  This is usually the result of calling `frame.insert` many times, which has poor performance.  Consider joining all columns at once using pd.concat(axis=1) instead. To get a de-fragmented frame, use `newframe = frame.copy()`\n",
      "  variables[f'{col}_wavelet_{idx}'] = denoised_signal\n"
     ]
    },
    {
     "name": "stdout",
     "output_type": "stream",
     "text": [
      "Gráfico salvo em: wavelet_denoising_plots_comparacao/comparacao_ws100_config_523.png\n",
      "Testando Configuração 524: Wavelet=rbio4.4, Level=4, Threshold Mode=soft, Signal Mode=smooth\n"
     ]
    },
    {
     "name": "stderr",
     "output_type": "stream",
     "text": [
      "/tmp/ipykernel_3088/3451176622.py:146: PerformanceWarning: DataFrame is highly fragmented.  This is usually the result of calling `frame.insert` many times, which has poor performance.  Consider joining all columns at once using pd.concat(axis=1) instead. To get a de-fragmented frame, use `newframe = frame.copy()`\n",
      "  variables[f'{col}_wavelet_{idx}'] = denoised_signal\n"
     ]
    },
    {
     "name": "stdout",
     "output_type": "stream",
     "text": [
      "Gráfico salvo em: wavelet_denoising_plots_comparacao/comparacao_ws100_config_524.png\n",
      "Testando Configuração 525: Wavelet=rbio4.4, Level=4, Threshold Mode=soft, Signal Mode=periodization\n"
     ]
    },
    {
     "name": "stderr",
     "output_type": "stream",
     "text": [
      "/tmp/ipykernel_3088/3451176622.py:146: PerformanceWarning: DataFrame is highly fragmented.  This is usually the result of calling `frame.insert` many times, which has poor performance.  Consider joining all columns at once using pd.concat(axis=1) instead. To get a de-fragmented frame, use `newframe = frame.copy()`\n",
      "  variables[f'{col}_wavelet_{idx}'] = denoised_signal\n"
     ]
    },
    {
     "name": "stdout",
     "output_type": "stream",
     "text": [
      "Gráfico salvo em: wavelet_denoising_plots_comparacao/comparacao_ws100_config_525.png\n",
      "Testando Configuração 526: Wavelet=rbio4.4, Level=4, Threshold Mode=garrote, Signal Mode=symmetric\n"
     ]
    },
    {
     "name": "stderr",
     "output_type": "stream",
     "text": [
      "/tmp/ipykernel_3088/3451176622.py:146: PerformanceWarning: DataFrame is highly fragmented.  This is usually the result of calling `frame.insert` many times, which has poor performance.  Consider joining all columns at once using pd.concat(axis=1) instead. To get a de-fragmented frame, use `newframe = frame.copy()`\n",
      "  variables[f'{col}_wavelet_{idx}'] = denoised_signal\n"
     ]
    },
    {
     "name": "stdout",
     "output_type": "stream",
     "text": [
      "Gráfico salvo em: wavelet_denoising_plots_comparacao/comparacao_ws100_config_526.png\n",
      "Testando Configuração 527: Wavelet=rbio4.4, Level=4, Threshold Mode=garrote, Signal Mode=smooth\n"
     ]
    },
    {
     "name": "stderr",
     "output_type": "stream",
     "text": [
      "/tmp/ipykernel_3088/3451176622.py:146: PerformanceWarning: DataFrame is highly fragmented.  This is usually the result of calling `frame.insert` many times, which has poor performance.  Consider joining all columns at once using pd.concat(axis=1) instead. To get a de-fragmented frame, use `newframe = frame.copy()`\n",
      "  variables[f'{col}_wavelet_{idx}'] = denoised_signal\n"
     ]
    },
    {
     "name": "stdout",
     "output_type": "stream",
     "text": [
      "Gráfico salvo em: wavelet_denoising_plots_comparacao/comparacao_ws100_config_527.png\n",
      "Testando Configuração 528: Wavelet=rbio4.4, Level=4, Threshold Mode=garrote, Signal Mode=periodization\n"
     ]
    },
    {
     "name": "stderr",
     "output_type": "stream",
     "text": [
      "/tmp/ipykernel_3088/3451176622.py:146: PerformanceWarning: DataFrame is highly fragmented.  This is usually the result of calling `frame.insert` many times, which has poor performance.  Consider joining all columns at once using pd.concat(axis=1) instead. To get a de-fragmented frame, use `newframe = frame.copy()`\n",
      "  variables[f'{col}_wavelet_{idx}'] = denoised_signal\n"
     ]
    },
    {
     "name": "stdout",
     "output_type": "stream",
     "text": [
      "Gráfico salvo em: wavelet_denoising_plots_comparacao/comparacao_ws100_config_528.png\n",
      "Testando Configuração 529: Wavelet=rbio6.8, Level=3, Threshold Mode=soft, Signal Mode=symmetric\n"
     ]
    },
    {
     "name": "stderr",
     "output_type": "stream",
     "text": [
      "/tmp/ipykernel_3088/3451176622.py:146: PerformanceWarning: DataFrame is highly fragmented.  This is usually the result of calling `frame.insert` many times, which has poor performance.  Consider joining all columns at once using pd.concat(axis=1) instead. To get a de-fragmented frame, use `newframe = frame.copy()`\n",
      "  variables[f'{col}_wavelet_{idx}'] = denoised_signal\n"
     ]
    },
    {
     "name": "stdout",
     "output_type": "stream",
     "text": [
      "Gráfico salvo em: wavelet_denoising_plots_comparacao/comparacao_ws100_config_529.png\n",
      "Testando Configuração 530: Wavelet=rbio6.8, Level=3, Threshold Mode=soft, Signal Mode=smooth\n"
     ]
    },
    {
     "name": "stderr",
     "output_type": "stream",
     "text": [
      "/tmp/ipykernel_3088/3451176622.py:146: PerformanceWarning: DataFrame is highly fragmented.  This is usually the result of calling `frame.insert` many times, which has poor performance.  Consider joining all columns at once using pd.concat(axis=1) instead. To get a de-fragmented frame, use `newframe = frame.copy()`\n",
      "  variables[f'{col}_wavelet_{idx}'] = denoised_signal\n"
     ]
    },
    {
     "name": "stdout",
     "output_type": "stream",
     "text": [
      "Gráfico salvo em: wavelet_denoising_plots_comparacao/comparacao_ws100_config_530.png\n",
      "530 configurações processadas.\n",
      "Testando Configuração 531: Wavelet=rbio6.8, Level=3, Threshold Mode=soft, Signal Mode=periodization\n"
     ]
    },
    {
     "name": "stderr",
     "output_type": "stream",
     "text": [
      "/tmp/ipykernel_3088/3451176622.py:146: PerformanceWarning: DataFrame is highly fragmented.  This is usually the result of calling `frame.insert` many times, which has poor performance.  Consider joining all columns at once using pd.concat(axis=1) instead. To get a de-fragmented frame, use `newframe = frame.copy()`\n",
      "  variables[f'{col}_wavelet_{idx}'] = denoised_signal\n"
     ]
    },
    {
     "name": "stdout",
     "output_type": "stream",
     "text": [
      "Gráfico salvo em: wavelet_denoising_plots_comparacao/comparacao_ws100_config_531.png\n",
      "Testando Configuração 532: Wavelet=rbio6.8, Level=3, Threshold Mode=garrote, Signal Mode=symmetric\n"
     ]
    },
    {
     "name": "stderr",
     "output_type": "stream",
     "text": [
      "/tmp/ipykernel_3088/3451176622.py:146: PerformanceWarning: DataFrame is highly fragmented.  This is usually the result of calling `frame.insert` many times, which has poor performance.  Consider joining all columns at once using pd.concat(axis=1) instead. To get a de-fragmented frame, use `newframe = frame.copy()`\n",
      "  variables[f'{col}_wavelet_{idx}'] = denoised_signal\n"
     ]
    },
    {
     "name": "stdout",
     "output_type": "stream",
     "text": [
      "Gráfico salvo em: wavelet_denoising_plots_comparacao/comparacao_ws100_config_532.png\n",
      "Testando Configuração 533: Wavelet=rbio6.8, Level=3, Threshold Mode=garrote, Signal Mode=smooth\n"
     ]
    },
    {
     "name": "stderr",
     "output_type": "stream",
     "text": [
      "/tmp/ipykernel_3088/3451176622.py:146: PerformanceWarning: DataFrame is highly fragmented.  This is usually the result of calling `frame.insert` many times, which has poor performance.  Consider joining all columns at once using pd.concat(axis=1) instead. To get a de-fragmented frame, use `newframe = frame.copy()`\n",
      "  variables[f'{col}_wavelet_{idx}'] = denoised_signal\n"
     ]
    },
    {
     "name": "stdout",
     "output_type": "stream",
     "text": [
      "Gráfico salvo em: wavelet_denoising_plots_comparacao/comparacao_ws100_config_533.png\n",
      "Testando Configuração 534: Wavelet=rbio6.8, Level=3, Threshold Mode=garrote, Signal Mode=periodization\n"
     ]
    },
    {
     "name": "stderr",
     "output_type": "stream",
     "text": [
      "/tmp/ipykernel_3088/3451176622.py:146: PerformanceWarning: DataFrame is highly fragmented.  This is usually the result of calling `frame.insert` many times, which has poor performance.  Consider joining all columns at once using pd.concat(axis=1) instead. To get a de-fragmented frame, use `newframe = frame.copy()`\n",
      "  variables[f'{col}_wavelet_{idx}'] = denoised_signal\n"
     ]
    },
    {
     "name": "stdout",
     "output_type": "stream",
     "text": [
      "Gráfico salvo em: wavelet_denoising_plots_comparacao/comparacao_ws100_config_534.png\n",
      "Testando Configuração 535: Wavelet=rbio6.8, Level=4, Threshold Mode=soft, Signal Mode=symmetric\n"
     ]
    },
    {
     "name": "stderr",
     "output_type": "stream",
     "text": [
      "/tmp/ipykernel_3088/3451176622.py:146: PerformanceWarning: DataFrame is highly fragmented.  This is usually the result of calling `frame.insert` many times, which has poor performance.  Consider joining all columns at once using pd.concat(axis=1) instead. To get a de-fragmented frame, use `newframe = frame.copy()`\n",
      "  variables[f'{col}_wavelet_{idx}'] = denoised_signal\n"
     ]
    },
    {
     "name": "stdout",
     "output_type": "stream",
     "text": [
      "Gráfico salvo em: wavelet_denoising_plots_comparacao/comparacao_ws100_config_535.png\n",
      "Testando Configuração 536: Wavelet=rbio6.8, Level=4, Threshold Mode=soft, Signal Mode=smooth\n"
     ]
    },
    {
     "name": "stderr",
     "output_type": "stream",
     "text": [
      "/tmp/ipykernel_3088/3451176622.py:146: PerformanceWarning: DataFrame is highly fragmented.  This is usually the result of calling `frame.insert` many times, which has poor performance.  Consider joining all columns at once using pd.concat(axis=1) instead. To get a de-fragmented frame, use `newframe = frame.copy()`\n",
      "  variables[f'{col}_wavelet_{idx}'] = denoised_signal\n"
     ]
    },
    {
     "name": "stdout",
     "output_type": "stream",
     "text": [
      "Gráfico salvo em: wavelet_denoising_plots_comparacao/comparacao_ws100_config_536.png\n",
      "Testando Configuração 537: Wavelet=rbio6.8, Level=4, Threshold Mode=soft, Signal Mode=periodization\n"
     ]
    },
    {
     "name": "stderr",
     "output_type": "stream",
     "text": [
      "/tmp/ipykernel_3088/3451176622.py:146: PerformanceWarning: DataFrame is highly fragmented.  This is usually the result of calling `frame.insert` many times, which has poor performance.  Consider joining all columns at once using pd.concat(axis=1) instead. To get a de-fragmented frame, use `newframe = frame.copy()`\n",
      "  variables[f'{col}_wavelet_{idx}'] = denoised_signal\n"
     ]
    },
    {
     "name": "stdout",
     "output_type": "stream",
     "text": [
      "Gráfico salvo em: wavelet_denoising_plots_comparacao/comparacao_ws100_config_537.png\n",
      "Testando Configuração 538: Wavelet=rbio6.8, Level=4, Threshold Mode=garrote, Signal Mode=symmetric\n"
     ]
    },
    {
     "name": "stderr",
     "output_type": "stream",
     "text": [
      "/tmp/ipykernel_3088/3451176622.py:146: PerformanceWarning: DataFrame is highly fragmented.  This is usually the result of calling `frame.insert` many times, which has poor performance.  Consider joining all columns at once using pd.concat(axis=1) instead. To get a de-fragmented frame, use `newframe = frame.copy()`\n",
      "  variables[f'{col}_wavelet_{idx}'] = denoised_signal\n"
     ]
    },
    {
     "name": "stdout",
     "output_type": "stream",
     "text": [
      "Gráfico salvo em: wavelet_denoising_plots_comparacao/comparacao_ws100_config_538.png\n",
      "Testando Configuração 539: Wavelet=rbio6.8, Level=4, Threshold Mode=garrote, Signal Mode=smooth\n"
     ]
    },
    {
     "name": "stderr",
     "output_type": "stream",
     "text": [
      "/tmp/ipykernel_3088/3451176622.py:146: PerformanceWarning: DataFrame is highly fragmented.  This is usually the result of calling `frame.insert` many times, which has poor performance.  Consider joining all columns at once using pd.concat(axis=1) instead. To get a de-fragmented frame, use `newframe = frame.copy()`\n",
      "  variables[f'{col}_wavelet_{idx}'] = denoised_signal\n"
     ]
    },
    {
     "name": "stdout",
     "output_type": "stream",
     "text": [
      "Gráfico salvo em: wavelet_denoising_plots_comparacao/comparacao_ws100_config_539.png\n",
      "Testando Configuração 540: Wavelet=rbio6.8, Level=4, Threshold Mode=garrote, Signal Mode=periodization\n"
     ]
    },
    {
     "name": "stderr",
     "output_type": "stream",
     "text": [
      "/tmp/ipykernel_3088/3451176622.py:146: PerformanceWarning: DataFrame is highly fragmented.  This is usually the result of calling `frame.insert` many times, which has poor performance.  Consider joining all columns at once using pd.concat(axis=1) instead. To get a de-fragmented frame, use `newframe = frame.copy()`\n",
      "  variables[f'{col}_wavelet_{idx}'] = denoised_signal\n"
     ]
    },
    {
     "name": "stdout",
     "output_type": "stream",
     "text": [
      "Gráfico salvo em: wavelet_denoising_plots_comparacao/comparacao_ws100_config_540.png\n",
      "540 configurações processadas.\n",
      "Testando Configuração 541: Wavelet=haar, Level=3, Threshold Mode=soft, Signal Mode=symmetric\n"
     ]
    },
    {
     "name": "stderr",
     "output_type": "stream",
     "text": [
      "/tmp/ipykernel_3088/3451176622.py:146: PerformanceWarning: DataFrame is highly fragmented.  This is usually the result of calling `frame.insert` many times, which has poor performance.  Consider joining all columns at once using pd.concat(axis=1) instead. To get a de-fragmented frame, use `newframe = frame.copy()`\n",
      "  variables[f'{col}_wavelet_{idx}'] = denoised_signal\n"
     ]
    },
    {
     "name": "stdout",
     "output_type": "stream",
     "text": [
      "Gráfico salvo em: wavelet_denoising_plots_comparacao/comparacao_ws100_config_541.png\n",
      "Testando Configuração 542: Wavelet=haar, Level=3, Threshold Mode=soft, Signal Mode=smooth\n"
     ]
    },
    {
     "name": "stderr",
     "output_type": "stream",
     "text": [
      "/tmp/ipykernel_3088/3451176622.py:146: PerformanceWarning: DataFrame is highly fragmented.  This is usually the result of calling `frame.insert` many times, which has poor performance.  Consider joining all columns at once using pd.concat(axis=1) instead. To get a de-fragmented frame, use `newframe = frame.copy()`\n",
      "  variables[f'{col}_wavelet_{idx}'] = denoised_signal\n"
     ]
    },
    {
     "name": "stdout",
     "output_type": "stream",
     "text": [
      "Gráfico salvo em: wavelet_denoising_plots_comparacao/comparacao_ws100_config_542.png\n",
      "Testando Configuração 543: Wavelet=haar, Level=3, Threshold Mode=soft, Signal Mode=periodization\n"
     ]
    },
    {
     "name": "stderr",
     "output_type": "stream",
     "text": [
      "/tmp/ipykernel_3088/3451176622.py:146: PerformanceWarning: DataFrame is highly fragmented.  This is usually the result of calling `frame.insert` many times, which has poor performance.  Consider joining all columns at once using pd.concat(axis=1) instead. To get a de-fragmented frame, use `newframe = frame.copy()`\n",
      "  variables[f'{col}_wavelet_{idx}'] = denoised_signal\n"
     ]
    },
    {
     "name": "stdout",
     "output_type": "stream",
     "text": [
      "Gráfico salvo em: wavelet_denoising_plots_comparacao/comparacao_ws100_config_543.png\n",
      "Testando Configuração 544: Wavelet=haar, Level=3, Threshold Mode=garrote, Signal Mode=symmetric\n"
     ]
    },
    {
     "name": "stderr",
     "output_type": "stream",
     "text": [
      "/tmp/ipykernel_3088/3451176622.py:146: PerformanceWarning: DataFrame is highly fragmented.  This is usually the result of calling `frame.insert` many times, which has poor performance.  Consider joining all columns at once using pd.concat(axis=1) instead. To get a de-fragmented frame, use `newframe = frame.copy()`\n",
      "  variables[f'{col}_wavelet_{idx}'] = denoised_signal\n"
     ]
    },
    {
     "name": "stdout",
     "output_type": "stream",
     "text": [
      "Gráfico salvo em: wavelet_denoising_plots_comparacao/comparacao_ws100_config_544.png\n",
      "Testando Configuração 545: Wavelet=haar, Level=3, Threshold Mode=garrote, Signal Mode=smooth\n"
     ]
    },
    {
     "name": "stderr",
     "output_type": "stream",
     "text": [
      "/tmp/ipykernel_3088/3451176622.py:146: PerformanceWarning: DataFrame is highly fragmented.  This is usually the result of calling `frame.insert` many times, which has poor performance.  Consider joining all columns at once using pd.concat(axis=1) instead. To get a de-fragmented frame, use `newframe = frame.copy()`\n",
      "  variables[f'{col}_wavelet_{idx}'] = denoised_signal\n"
     ]
    },
    {
     "name": "stdout",
     "output_type": "stream",
     "text": [
      "Gráfico salvo em: wavelet_denoising_plots_comparacao/comparacao_ws100_config_545.png\n",
      "Testando Configuração 546: Wavelet=haar, Level=3, Threshold Mode=garrote, Signal Mode=periodization\n"
     ]
    },
    {
     "name": "stderr",
     "output_type": "stream",
     "text": [
      "/tmp/ipykernel_3088/3451176622.py:146: PerformanceWarning: DataFrame is highly fragmented.  This is usually the result of calling `frame.insert` many times, which has poor performance.  Consider joining all columns at once using pd.concat(axis=1) instead. To get a de-fragmented frame, use `newframe = frame.copy()`\n",
      "  variables[f'{col}_wavelet_{idx}'] = denoised_signal\n"
     ]
    },
    {
     "name": "stdout",
     "output_type": "stream",
     "text": [
      "Gráfico salvo em: wavelet_denoising_plots_comparacao/comparacao_ws100_config_546.png\n",
      "Testando Configuração 547: Wavelet=haar, Level=4, Threshold Mode=soft, Signal Mode=symmetric\n"
     ]
    },
    {
     "name": "stderr",
     "output_type": "stream",
     "text": [
      "/tmp/ipykernel_3088/3451176622.py:146: PerformanceWarning: DataFrame is highly fragmented.  This is usually the result of calling `frame.insert` many times, which has poor performance.  Consider joining all columns at once using pd.concat(axis=1) instead. To get a de-fragmented frame, use `newframe = frame.copy()`\n",
      "  variables[f'{col}_wavelet_{idx}'] = denoised_signal\n"
     ]
    },
    {
     "name": "stdout",
     "output_type": "stream",
     "text": [
      "Gráfico salvo em: wavelet_denoising_plots_comparacao/comparacao_ws100_config_547.png\n",
      "Testando Configuração 548: Wavelet=haar, Level=4, Threshold Mode=soft, Signal Mode=smooth\n"
     ]
    },
    {
     "name": "stderr",
     "output_type": "stream",
     "text": [
      "/tmp/ipykernel_3088/3451176622.py:146: PerformanceWarning: DataFrame is highly fragmented.  This is usually the result of calling `frame.insert` many times, which has poor performance.  Consider joining all columns at once using pd.concat(axis=1) instead. To get a de-fragmented frame, use `newframe = frame.copy()`\n",
      "  variables[f'{col}_wavelet_{idx}'] = denoised_signal\n"
     ]
    },
    {
     "name": "stdout",
     "output_type": "stream",
     "text": [
      "Gráfico salvo em: wavelet_denoising_plots_comparacao/comparacao_ws100_config_548.png\n",
      "Testando Configuração 549: Wavelet=haar, Level=4, Threshold Mode=soft, Signal Mode=periodization\n"
     ]
    },
    {
     "name": "stderr",
     "output_type": "stream",
     "text": [
      "/tmp/ipykernel_3088/3451176622.py:146: PerformanceWarning: DataFrame is highly fragmented.  This is usually the result of calling `frame.insert` many times, which has poor performance.  Consider joining all columns at once using pd.concat(axis=1) instead. To get a de-fragmented frame, use `newframe = frame.copy()`\n",
      "  variables[f'{col}_wavelet_{idx}'] = denoised_signal\n"
     ]
    },
    {
     "name": "stdout",
     "output_type": "stream",
     "text": [
      "Gráfico salvo em: wavelet_denoising_plots_comparacao/comparacao_ws100_config_549.png\n",
      "Testando Configuração 550: Wavelet=haar, Level=4, Threshold Mode=garrote, Signal Mode=symmetric\n"
     ]
    },
    {
     "name": "stderr",
     "output_type": "stream",
     "text": [
      "/tmp/ipykernel_3088/3451176622.py:146: PerformanceWarning: DataFrame is highly fragmented.  This is usually the result of calling `frame.insert` many times, which has poor performance.  Consider joining all columns at once using pd.concat(axis=1) instead. To get a de-fragmented frame, use `newframe = frame.copy()`\n",
      "  variables[f'{col}_wavelet_{idx}'] = denoised_signal\n"
     ]
    },
    {
     "name": "stdout",
     "output_type": "stream",
     "text": [
      "Gráfico salvo em: wavelet_denoising_plots_comparacao/comparacao_ws100_config_550.png\n",
      "550 configurações processadas.\n",
      "Testando Configuração 551: Wavelet=haar, Level=4, Threshold Mode=garrote, Signal Mode=smooth\n"
     ]
    },
    {
     "name": "stderr",
     "output_type": "stream",
     "text": [
      "/tmp/ipykernel_3088/3451176622.py:146: PerformanceWarning: DataFrame is highly fragmented.  This is usually the result of calling `frame.insert` many times, which has poor performance.  Consider joining all columns at once using pd.concat(axis=1) instead. To get a de-fragmented frame, use `newframe = frame.copy()`\n",
      "  variables[f'{col}_wavelet_{idx}'] = denoised_signal\n"
     ]
    },
    {
     "name": "stdout",
     "output_type": "stream",
     "text": [
      "Gráfico salvo em: wavelet_denoising_plots_comparacao/comparacao_ws100_config_551.png\n",
      "Testando Configuração 552: Wavelet=haar, Level=4, Threshold Mode=garrote, Signal Mode=periodization\n"
     ]
    },
    {
     "name": "stderr",
     "output_type": "stream",
     "text": [
      "/tmp/ipykernel_3088/3451176622.py:146: PerformanceWarning: DataFrame is highly fragmented.  This is usually the result of calling `frame.insert` many times, which has poor performance.  Consider joining all columns at once using pd.concat(axis=1) instead. To get a de-fragmented frame, use `newframe = frame.copy()`\n",
      "  variables[f'{col}_wavelet_{idx}'] = denoised_signal\n"
     ]
    },
    {
     "name": "stdout",
     "output_type": "stream",
     "text": [
      "Gráfico salvo em: wavelet_denoising_plots_comparacao/comparacao_ws100_config_552.png\n",
      "Testando Configuração 553: Wavelet=haar, Level=3, Threshold Mode=soft, Signal Mode=symmetric\n"
     ]
    },
    {
     "name": "stderr",
     "output_type": "stream",
     "text": [
      "/tmp/ipykernel_3088/3451176622.py:146: PerformanceWarning: DataFrame is highly fragmented.  This is usually the result of calling `frame.insert` many times, which has poor performance.  Consider joining all columns at once using pd.concat(axis=1) instead. To get a de-fragmented frame, use `newframe = frame.copy()`\n",
      "  variables[f'{col}_wavelet_{idx}'] = denoised_signal\n"
     ]
    },
    {
     "name": "stdout",
     "output_type": "stream",
     "text": [
      "Gráfico salvo em: wavelet_denoising_plots_comparacao/comparacao_ws100_config_553.png\n",
      "Testando Configuração 554: Wavelet=haar, Level=3, Threshold Mode=soft, Signal Mode=smooth\n"
     ]
    },
    {
     "name": "stderr",
     "output_type": "stream",
     "text": [
      "/tmp/ipykernel_3088/3451176622.py:146: PerformanceWarning: DataFrame is highly fragmented.  This is usually the result of calling `frame.insert` many times, which has poor performance.  Consider joining all columns at once using pd.concat(axis=1) instead. To get a de-fragmented frame, use `newframe = frame.copy()`\n",
      "  variables[f'{col}_wavelet_{idx}'] = denoised_signal\n"
     ]
    },
    {
     "name": "stdout",
     "output_type": "stream",
     "text": [
      "Gráfico salvo em: wavelet_denoising_plots_comparacao/comparacao_ws100_config_554.png\n",
      "Testando Configuração 555: Wavelet=haar, Level=3, Threshold Mode=soft, Signal Mode=periodization\n"
     ]
    },
    {
     "name": "stderr",
     "output_type": "stream",
     "text": [
      "/tmp/ipykernel_3088/3451176622.py:146: PerformanceWarning: DataFrame is highly fragmented.  This is usually the result of calling `frame.insert` many times, which has poor performance.  Consider joining all columns at once using pd.concat(axis=1) instead. To get a de-fragmented frame, use `newframe = frame.copy()`\n",
      "  variables[f'{col}_wavelet_{idx}'] = denoised_signal\n"
     ]
    },
    {
     "name": "stdout",
     "output_type": "stream",
     "text": [
      "Gráfico salvo em: wavelet_denoising_plots_comparacao/comparacao_ws100_config_555.png\n",
      "Testando Configuração 556: Wavelet=haar, Level=3, Threshold Mode=garrote, Signal Mode=symmetric\n"
     ]
    },
    {
     "name": "stderr",
     "output_type": "stream",
     "text": [
      "/tmp/ipykernel_3088/3451176622.py:146: PerformanceWarning: DataFrame is highly fragmented.  This is usually the result of calling `frame.insert` many times, which has poor performance.  Consider joining all columns at once using pd.concat(axis=1) instead. To get a de-fragmented frame, use `newframe = frame.copy()`\n",
      "  variables[f'{col}_wavelet_{idx}'] = denoised_signal\n"
     ]
    },
    {
     "name": "stdout",
     "output_type": "stream",
     "text": [
      "Gráfico salvo em: wavelet_denoising_plots_comparacao/comparacao_ws100_config_556.png\n",
      "Testando Configuração 557: Wavelet=haar, Level=3, Threshold Mode=garrote, Signal Mode=smooth\n"
     ]
    },
    {
     "name": "stderr",
     "output_type": "stream",
     "text": [
      "/tmp/ipykernel_3088/3451176622.py:146: PerformanceWarning: DataFrame is highly fragmented.  This is usually the result of calling `frame.insert` many times, which has poor performance.  Consider joining all columns at once using pd.concat(axis=1) instead. To get a de-fragmented frame, use `newframe = frame.copy()`\n",
      "  variables[f'{col}_wavelet_{idx}'] = denoised_signal\n"
     ]
    },
    {
     "name": "stdout",
     "output_type": "stream",
     "text": [
      "Gráfico salvo em: wavelet_denoising_plots_comparacao/comparacao_ws100_config_557.png\n",
      "Testando Configuração 558: Wavelet=haar, Level=3, Threshold Mode=garrote, Signal Mode=periodization\n"
     ]
    },
    {
     "name": "stderr",
     "output_type": "stream",
     "text": [
      "/tmp/ipykernel_3088/3451176622.py:146: PerformanceWarning: DataFrame is highly fragmented.  This is usually the result of calling `frame.insert` many times, which has poor performance.  Consider joining all columns at once using pd.concat(axis=1) instead. To get a de-fragmented frame, use `newframe = frame.copy()`\n",
      "  variables[f'{col}_wavelet_{idx}'] = denoised_signal\n"
     ]
    },
    {
     "name": "stdout",
     "output_type": "stream",
     "text": [
      "Gráfico salvo em: wavelet_denoising_plots_comparacao/comparacao_ws100_config_558.png\n",
      "Testando Configuração 559: Wavelet=haar, Level=4, Threshold Mode=soft, Signal Mode=symmetric\n"
     ]
    },
    {
     "name": "stderr",
     "output_type": "stream",
     "text": [
      "/tmp/ipykernel_3088/3451176622.py:146: PerformanceWarning: DataFrame is highly fragmented.  This is usually the result of calling `frame.insert` many times, which has poor performance.  Consider joining all columns at once using pd.concat(axis=1) instead. To get a de-fragmented frame, use `newframe = frame.copy()`\n",
      "  variables[f'{col}_wavelet_{idx}'] = denoised_signal\n"
     ]
    },
    {
     "name": "stdout",
     "output_type": "stream",
     "text": [
      "Gráfico salvo em: wavelet_denoising_plots_comparacao/comparacao_ws100_config_559.png\n",
      "Testando Configuração 560: Wavelet=haar, Level=4, Threshold Mode=soft, Signal Mode=smooth\n"
     ]
    },
    {
     "name": "stderr",
     "output_type": "stream",
     "text": [
      "/tmp/ipykernel_3088/3451176622.py:146: PerformanceWarning: DataFrame is highly fragmented.  This is usually the result of calling `frame.insert` many times, which has poor performance.  Consider joining all columns at once using pd.concat(axis=1) instead. To get a de-fragmented frame, use `newframe = frame.copy()`\n",
      "  variables[f'{col}_wavelet_{idx}'] = denoised_signal\n"
     ]
    },
    {
     "name": "stdout",
     "output_type": "stream",
     "text": [
      "Gráfico salvo em: wavelet_denoising_plots_comparacao/comparacao_ws100_config_560.png\n",
      "560 configurações processadas.\n",
      "Testando Configuração 561: Wavelet=haar, Level=4, Threshold Mode=soft, Signal Mode=periodization\n"
     ]
    },
    {
     "name": "stderr",
     "output_type": "stream",
     "text": [
      "/tmp/ipykernel_3088/3451176622.py:146: PerformanceWarning: DataFrame is highly fragmented.  This is usually the result of calling `frame.insert` many times, which has poor performance.  Consider joining all columns at once using pd.concat(axis=1) instead. To get a de-fragmented frame, use `newframe = frame.copy()`\n",
      "  variables[f'{col}_wavelet_{idx}'] = denoised_signal\n"
     ]
    },
    {
     "name": "stdout",
     "output_type": "stream",
     "text": [
      "Gráfico salvo em: wavelet_denoising_plots_comparacao/comparacao_ws100_config_561.png\n",
      "Testando Configuração 562: Wavelet=haar, Level=4, Threshold Mode=garrote, Signal Mode=symmetric\n"
     ]
    },
    {
     "name": "stderr",
     "output_type": "stream",
     "text": [
      "/tmp/ipykernel_3088/3451176622.py:146: PerformanceWarning: DataFrame is highly fragmented.  This is usually the result of calling `frame.insert` many times, which has poor performance.  Consider joining all columns at once using pd.concat(axis=1) instead. To get a de-fragmented frame, use `newframe = frame.copy()`\n",
      "  variables[f'{col}_wavelet_{idx}'] = denoised_signal\n"
     ]
    },
    {
     "name": "stdout",
     "output_type": "stream",
     "text": [
      "Gráfico salvo em: wavelet_denoising_plots_comparacao/comparacao_ws100_config_562.png\n",
      "Testando Configuração 563: Wavelet=haar, Level=4, Threshold Mode=garrote, Signal Mode=smooth\n"
     ]
    },
    {
     "name": "stderr",
     "output_type": "stream",
     "text": [
      "/tmp/ipykernel_3088/3451176622.py:146: PerformanceWarning: DataFrame is highly fragmented.  This is usually the result of calling `frame.insert` many times, which has poor performance.  Consider joining all columns at once using pd.concat(axis=1) instead. To get a de-fragmented frame, use `newframe = frame.copy()`\n",
      "  variables[f'{col}_wavelet_{idx}'] = denoised_signal\n"
     ]
    },
    {
     "name": "stdout",
     "output_type": "stream",
     "text": [
      "Gráfico salvo em: wavelet_denoising_plots_comparacao/comparacao_ws100_config_563.png\n",
      "Testando Configuração 564: Wavelet=haar, Level=4, Threshold Mode=garrote, Signal Mode=periodization\n"
     ]
    },
    {
     "name": "stderr",
     "output_type": "stream",
     "text": [
      "/tmp/ipykernel_3088/3451176622.py:146: PerformanceWarning: DataFrame is highly fragmented.  This is usually the result of calling `frame.insert` many times, which has poor performance.  Consider joining all columns at once using pd.concat(axis=1) instead. To get a de-fragmented frame, use `newframe = frame.copy()`\n",
      "  variables[f'{col}_wavelet_{idx}'] = denoised_signal\n"
     ]
    },
    {
     "name": "stdout",
     "output_type": "stream",
     "text": [
      "Gráfico salvo em: wavelet_denoising_plots_comparacao/comparacao_ws100_config_564.png\n",
      "Testando Configuração 565: Wavelet=dmey, Level=3, Threshold Mode=soft, Signal Mode=symmetric\n"
     ]
    },
    {
     "name": "stderr",
     "output_type": "stream",
     "text": [
      "/tmp/ipykernel_3088/3451176622.py:146: PerformanceWarning: DataFrame is highly fragmented.  This is usually the result of calling `frame.insert` many times, which has poor performance.  Consider joining all columns at once using pd.concat(axis=1) instead. To get a de-fragmented frame, use `newframe = frame.copy()`\n",
      "  variables[f'{col}_wavelet_{idx}'] = denoised_signal\n"
     ]
    },
    {
     "name": "stdout",
     "output_type": "stream",
     "text": [
      "Gráfico salvo em: wavelet_denoising_plots_comparacao/comparacao_ws100_config_565.png\n",
      "Testando Configuração 566: Wavelet=dmey, Level=3, Threshold Mode=soft, Signal Mode=smooth\n"
     ]
    },
    {
     "name": "stderr",
     "output_type": "stream",
     "text": [
      "/tmp/ipykernel_3088/3451176622.py:146: PerformanceWarning: DataFrame is highly fragmented.  This is usually the result of calling `frame.insert` many times, which has poor performance.  Consider joining all columns at once using pd.concat(axis=1) instead. To get a de-fragmented frame, use `newframe = frame.copy()`\n",
      "  variables[f'{col}_wavelet_{idx}'] = denoised_signal\n"
     ]
    },
    {
     "name": "stdout",
     "output_type": "stream",
     "text": [
      "Gráfico salvo em: wavelet_denoising_plots_comparacao/comparacao_ws100_config_566.png\n",
      "Testando Configuração 567: Wavelet=dmey, Level=3, Threshold Mode=soft, Signal Mode=periodization\n"
     ]
    },
    {
     "name": "stderr",
     "output_type": "stream",
     "text": [
      "/tmp/ipykernel_3088/3451176622.py:146: PerformanceWarning: DataFrame is highly fragmented.  This is usually the result of calling `frame.insert` many times, which has poor performance.  Consider joining all columns at once using pd.concat(axis=1) instead. To get a de-fragmented frame, use `newframe = frame.copy()`\n",
      "  variables[f'{col}_wavelet_{idx}'] = denoised_signal\n"
     ]
    },
    {
     "name": "stdout",
     "output_type": "stream",
     "text": [
      "Gráfico salvo em: wavelet_denoising_plots_comparacao/comparacao_ws100_config_567.png\n",
      "Testando Configuração 568: Wavelet=dmey, Level=3, Threshold Mode=garrote, Signal Mode=symmetric\n"
     ]
    },
    {
     "name": "stderr",
     "output_type": "stream",
     "text": [
      "/tmp/ipykernel_3088/3451176622.py:146: PerformanceWarning: DataFrame is highly fragmented.  This is usually the result of calling `frame.insert` many times, which has poor performance.  Consider joining all columns at once using pd.concat(axis=1) instead. To get a de-fragmented frame, use `newframe = frame.copy()`\n",
      "  variables[f'{col}_wavelet_{idx}'] = denoised_signal\n"
     ]
    },
    {
     "name": "stdout",
     "output_type": "stream",
     "text": [
      "Gráfico salvo em: wavelet_denoising_plots_comparacao/comparacao_ws100_config_568.png\n",
      "Testando Configuração 569: Wavelet=dmey, Level=3, Threshold Mode=garrote, Signal Mode=smooth\n"
     ]
    },
    {
     "name": "stderr",
     "output_type": "stream",
     "text": [
      "/tmp/ipykernel_3088/3451176622.py:146: PerformanceWarning: DataFrame is highly fragmented.  This is usually the result of calling `frame.insert` many times, which has poor performance.  Consider joining all columns at once using pd.concat(axis=1) instead. To get a de-fragmented frame, use `newframe = frame.copy()`\n",
      "  variables[f'{col}_wavelet_{idx}'] = denoised_signal\n"
     ]
    },
    {
     "name": "stdout",
     "output_type": "stream",
     "text": [
      "Gráfico salvo em: wavelet_denoising_plots_comparacao/comparacao_ws100_config_569.png\n",
      "Testando Configuração 570: Wavelet=dmey, Level=3, Threshold Mode=garrote, Signal Mode=periodization\n"
     ]
    },
    {
     "name": "stderr",
     "output_type": "stream",
     "text": [
      "/tmp/ipykernel_3088/3451176622.py:146: PerformanceWarning: DataFrame is highly fragmented.  This is usually the result of calling `frame.insert` many times, which has poor performance.  Consider joining all columns at once using pd.concat(axis=1) instead. To get a de-fragmented frame, use `newframe = frame.copy()`\n",
      "  variables[f'{col}_wavelet_{idx}'] = denoised_signal\n"
     ]
    },
    {
     "name": "stdout",
     "output_type": "stream",
     "text": [
      "Gráfico salvo em: wavelet_denoising_plots_comparacao/comparacao_ws100_config_570.png\n",
      "570 configurações processadas.\n",
      "Testando Configuração 571: Wavelet=dmey, Level=4, Threshold Mode=soft, Signal Mode=symmetric\n"
     ]
    },
    {
     "name": "stderr",
     "output_type": "stream",
     "text": [
      "/tmp/ipykernel_3088/3451176622.py:146: PerformanceWarning: DataFrame is highly fragmented.  This is usually the result of calling `frame.insert` many times, which has poor performance.  Consider joining all columns at once using pd.concat(axis=1) instead. To get a de-fragmented frame, use `newframe = frame.copy()`\n",
      "  variables[f'{col}_wavelet_{idx}'] = denoised_signal\n"
     ]
    },
    {
     "name": "stdout",
     "output_type": "stream",
     "text": [
      "Gráfico salvo em: wavelet_denoising_plots_comparacao/comparacao_ws100_config_571.png\n",
      "Testando Configuração 572: Wavelet=dmey, Level=4, Threshold Mode=soft, Signal Mode=smooth\n"
     ]
    },
    {
     "name": "stderr",
     "output_type": "stream",
     "text": [
      "/tmp/ipykernel_3088/3451176622.py:146: PerformanceWarning: DataFrame is highly fragmented.  This is usually the result of calling `frame.insert` many times, which has poor performance.  Consider joining all columns at once using pd.concat(axis=1) instead. To get a de-fragmented frame, use `newframe = frame.copy()`\n",
      "  variables[f'{col}_wavelet_{idx}'] = denoised_signal\n"
     ]
    },
    {
     "name": "stdout",
     "output_type": "stream",
     "text": [
      "Gráfico salvo em: wavelet_denoising_plots_comparacao/comparacao_ws100_config_572.png\n",
      "Testando Configuração 573: Wavelet=dmey, Level=4, Threshold Mode=soft, Signal Mode=periodization\n"
     ]
    },
    {
     "name": "stderr",
     "output_type": "stream",
     "text": [
      "/tmp/ipykernel_3088/3451176622.py:146: PerformanceWarning: DataFrame is highly fragmented.  This is usually the result of calling `frame.insert` many times, which has poor performance.  Consider joining all columns at once using pd.concat(axis=1) instead. To get a de-fragmented frame, use `newframe = frame.copy()`\n",
      "  variables[f'{col}_wavelet_{idx}'] = denoised_signal\n"
     ]
    },
    {
     "name": "stdout",
     "output_type": "stream",
     "text": [
      "Gráfico salvo em: wavelet_denoising_plots_comparacao/comparacao_ws100_config_573.png\n",
      "Testando Configuração 574: Wavelet=dmey, Level=4, Threshold Mode=garrote, Signal Mode=symmetric\n"
     ]
    },
    {
     "name": "stderr",
     "output_type": "stream",
     "text": [
      "/tmp/ipykernel_3088/3451176622.py:146: PerformanceWarning: DataFrame is highly fragmented.  This is usually the result of calling `frame.insert` many times, which has poor performance.  Consider joining all columns at once using pd.concat(axis=1) instead. To get a de-fragmented frame, use `newframe = frame.copy()`\n",
      "  variables[f'{col}_wavelet_{idx}'] = denoised_signal\n"
     ]
    },
    {
     "name": "stdout",
     "output_type": "stream",
     "text": [
      "Gráfico salvo em: wavelet_denoising_plots_comparacao/comparacao_ws100_config_574.png\n",
      "Testando Configuração 575: Wavelet=dmey, Level=4, Threshold Mode=garrote, Signal Mode=smooth\n"
     ]
    },
    {
     "name": "stderr",
     "output_type": "stream",
     "text": [
      "/tmp/ipykernel_3088/3451176622.py:146: PerformanceWarning: DataFrame is highly fragmented.  This is usually the result of calling `frame.insert` many times, which has poor performance.  Consider joining all columns at once using pd.concat(axis=1) instead. To get a de-fragmented frame, use `newframe = frame.copy()`\n",
      "  variables[f'{col}_wavelet_{idx}'] = denoised_signal\n"
     ]
    },
    {
     "name": "stdout",
     "output_type": "stream",
     "text": [
      "Gráfico salvo em: wavelet_denoising_plots_comparacao/comparacao_ws100_config_575.png\n",
      "Testando Configuração 576: Wavelet=dmey, Level=4, Threshold Mode=garrote, Signal Mode=periodization\n"
     ]
    },
    {
     "name": "stderr",
     "output_type": "stream",
     "text": [
      "/tmp/ipykernel_3088/3451176622.py:146: PerformanceWarning: DataFrame is highly fragmented.  This is usually the result of calling `frame.insert` many times, which has poor performance.  Consider joining all columns at once using pd.concat(axis=1) instead. To get a de-fragmented frame, use `newframe = frame.copy()`\n",
      "  variables[f'{col}_wavelet_{idx}'] = denoised_signal\n"
     ]
    },
    {
     "name": "stdout",
     "output_type": "stream",
     "text": [
      "Gráfico salvo em: wavelet_denoising_plots_comparacao/comparacao_ws100_config_576.png\n",
      "Resultados das métricas MSE salvos em: wavelet_denoising_plots_comparacao/metrics/mse_resultados.csv\n",
      "Processamento concluído!\n"
     ]
    }
   ],
   "source": [
    "# %% Importação de Bibliotecas\n",
    "import pandas as pd\n",
    "import numpy as np\n",
    "import pywt\n",
    "import matplotlib.pyplot as plt\n",
    "import itertools  # Para gerar combinações de configurações\n",
    "import os        # Para manipulação de diretórios\n",
    "from sklearn.metrics import mean_squared_error\n",
    "\n",
    "# %% Leitura e Preparação dos Dados\n",
    "# Substitua \"dataset.csv\" pelo caminho do seu arquivo de dados\n",
    "data = pd.read_csv(\"dataset.csv\")\n",
    "\n",
    "# Convertendo a coluna 'id' para datetime e definindo como índice\n",
    "# Certifique-se de que a coluna 'id' existe e está no formato correto\n",
    "try:\n",
    "    data.index = pd.to_datetime(data['id'], errors='ignore')\n",
    "    data.index = data['id'].apply(lambda x: pd.to_datetime(str(x).split('.')[0], errors='ignore'))\n",
    "except Exception as e:\n",
    "    raise ValueError(f\"Erro ao converter a coluna 'id' para datetime: {e}\")\n",
    "\n",
    "# Criando um DataFrame para armazenar os sinais denoised\n",
    "variables = pd.DataFrame(index=data.index)\n",
    "\n",
    "# %% Função para Suavização usando Wavelet Transform\n",
    "def wavelet_denoising(signal, wavelet='db4', level=3, threshold_mode='soft', signal_mode='symmetric'):\n",
    "    \"\"\"\n",
    "    Aplica denoising a um sinal utilizando a transformada wavelet.\n",
    "\n",
    "    Parameters:\n",
    "    - signal: array_like, sinal original.\n",
    "    - wavelet: str, tipo de wavelet a ser usada.\n",
    "    - level: int, nível de decomposição.\n",
    "    - threshold_mode: str, modo de thresholding ('soft', 'hard', 'greater', 'garrote').\n",
    "    - signal_mode: str, modo de extensão de sinal ('symmetric', 'periodic', 'zero', 'constant', 'reflect', etc.).\n",
    "\n",
    "    Returns:\n",
    "    - reconstructed_signal: array_like, sinal denoised.\n",
    "    \"\"\"\n",
    "    # Decomposição do sinal\n",
    "    coeffs = pywt.wavedec(signal, wavelet, mode=signal_mode, level=level)\n",
    "    \n",
    "    # Estimativa do ruído\n",
    "    sigma = np.median(np.abs(coeffs[-1])) / 0.6745\n",
    "    uthresh = sigma * np.sqrt(2 * np.log(len(signal)))\n",
    "    \n",
    "    # Aplicação do thresholding\n",
    "    if threshold_mode in ['soft', 'hard']:\n",
    "        coeffs[1:] = [pywt.threshold(i, value=uthresh, mode=threshold_mode) for i in coeffs[1:]]\n",
    "    elif threshold_mode == 'greater':\n",
    "        # Thresholding 'greater': zero coefficients below threshold\n",
    "        coeffs[1:] = [pywt.threshold(i, value=uthresh, mode='hard') for i in coeffs[1:]]\n",
    "        coeffs[1:] = [i * (np.abs(i) > uthresh) for i in coeffs[1:]]\n",
    "    elif threshold_mode == 'garrote':\n",
    "        # Implementando o thresholding 'garrote' manualmente\n",
    "        coeffs_new = []\n",
    "        for i in coeffs[1:]:\n",
    "            mask = np.abs(i) > uthresh\n",
    "            coeffs_new.append(np.sign(i) * (np.abs(i) - uthresh) * mask)\n",
    "        coeffs[1:] = coeffs_new\n",
    "    else:\n",
    "        raise ValueError(f\"Modo de thresholding '{threshold_mode}' não reconhecido.\")\n",
    "    \n",
    "    # Reconstrução do sinal\n",
    "    reconstructed_signal = pywt.waverec(coeffs, wavelet, mode=signal_mode)\n",
    "    \n",
    "    # Ajustar o tamanho do sinal reconstruído se necessário\n",
    "    reconstructed_signal = reconstructed_signal[:len(signal)]\n",
    "    \n",
    "    return reconstructed_signal\n",
    "\n",
    "# %% Definição das Configurações a Testar\n",
    "\n",
    "# Lista ampliada de wavelets disponíveis no PyWavelets\n",
    "wavelets = [\n",
    "    # Daubechies\n",
    "    'db1', 'db3', 'db5',  'db7',  'db9',\n",
    "    'db11',  'db13', 'db15', 'db17', 'db19',\n",
    "    # Symlets\n",
    "    'sym2',  'sym4', 'sym6',  'sym8', 'sym10',\n",
    "    'sym12', 'sym14', 'sym16',  'sym18', 'sym20',\n",
    "    # Coiflets\n",
    "    'coif1', 'coif3', 'coif5',\n",
    "    # Biorthogonais\n",
    "    'bior1.1', 'bior1.5',\n",
    "    'bior2.2', 'bior2.6', 'bior2.8',\n",
    "    'bior3.1', 'bior3.5', 'bior3.7', 'bior3.9',\n",
    "    'bior4.4', 'bior6.8',\n",
    "    # Reverse Biorthogonais\n",
    "    'rbio1.1',  'rbio1.5',\n",
    "    'rbio2.2', 'rbio2.6', 'rbio2.8',\n",
    "    'rbio3.1', 'rbio3.5', 'rbio3.7', 'rbio3.9',\n",
    "    'rbio4.4', 'rbio6.8',\n",
    "    # Haar e Outros\n",
    "    'haar', 'haar', 'dmey'\n",
    "]\n",
    "\n",
    "# Níveis de decomposição a serem testados\n",
    "levels = [3, 4]\n",
    "\n",
    "# Modos de Thresholding\n",
    "threshold_modes = ['soft', 'garrote']\n",
    "\n",
    "# Modos de Extensão de Sinal\n",
    "signal_modes = ['symmetric', 'smooth', 'periodization']\n",
    "\n",
    "# Gerando todas as combinações possíveis\n",
    "configuracoes = list(itertools.product(wavelets, levels, threshold_modes, signal_modes))\n",
    "\n",
    "# Opcional: Limitar o número de configurações para evitar excesso de plots\n",
    "# Por exemplo, selecionar apenas as primeiras 50 configurações\n",
    "# configuracoes = configuracoes[:50]\n",
    "\n",
    "# %% Criação de Diretório para Salvar os Gráficos e Resultados\n",
    "# Define um diretório para salvar os gráficos e métricas\n",
    "output_dir = \"wavelet_denoising_plots_comparacao\"\n",
    "if not os.path.exists(output_dir):\n",
    "    os.makedirs(output_dir)\n",
    "\n",
    "# Adicionando uma subpasta para métricas\n",
    "metrics_dir = os.path.join(output_dir, \"metrics\")\n",
    "if not os.path.exists(metrics_dir):\n",
    "    os.makedirs(metrics_dir)\n",
    "\n",
    "# %% Colunas a Serem Processadas\n",
    "colunas = ['ws100']\n",
    "\n",
    "# %% Inicialização para Armazenar Resultados das Métricas\n",
    "resultados_mse = []\n",
    "\n",
    "# %% Teste das Configurações e Plotagem da Comparação\n",
    "for idx, (wavelet, level, threshold_mode, signal_mode) in enumerate(configuracoes, start=1):\n",
    "    print(f\"Testando Configuração {idx}: Wavelet={wavelet}, Level={level}, Threshold Mode={threshold_mode}, Signal Mode={signal_mode}\")\n",
    "    \n",
    "    # Aplicação do Wavelet Denoising às Colunas Desejadas\n",
    "    for col in colunas:\n",
    "        if col in data.columns:\n",
    "            try:\n",
    "                denoised_signal = wavelet_denoising(\n",
    "                    data[col].values, \n",
    "                    wavelet=wavelet, \n",
    "                    level=level, \n",
    "                    threshold_mode=threshold_mode, \n",
    "                    signal_mode=signal_mode\n",
    "                )\n",
    "                variables[f'{col}_wavelet_{idx}'] = denoised_signal\n",
    "            except Exception as e:\n",
    "                print(f\"Erro ao processar a coluna {col} com a configuração {idx}: {e}\")\n",
    "                continue\n",
    "        else:\n",
    "            raise ValueError(f\"A coluna {col} não existe no dataset.\")\n",
    "    \n",
    "    # Plotagem da Comparação para Cada Coluna\n",
    "    for col in colunas:\n",
    "        if f'{col}_wavelet_{idx}' in variables.columns:\n",
    "            plt.figure(figsize=(20, 12))\n",
    "            plt.plot(data.index[1500:2500], data[col][1500:2500], label='Original', alpha=0.7)\n",
    "            plt.plot(variables.index[1500:2500], variables[f'{col}_wavelet_{idx}'][1500:2500], label='Wavelet Denoised', linestyle='--')\n",
    "            plt.title(f'Comparação entre Original e Wavelet Denoised para {col}\\n'\n",
    "                      f'Configuração {idx}: Wavelet={wavelet}, Level={level}, Threshold Mode={threshold_mode}, Signal Mode={signal_mode}')\n",
    "            plt.xlabel('Data')\n",
    "            plt.ylabel('Valor')\n",
    "            plt.legend()\n",
    "            plt.tight_layout()\n",
    "            \n",
    "            # Salvar o gráfico em arquivo\n",
    "            plot_filename = f\"{output_dir}/comparacao_{col}_config_{idx}.png\"\n",
    "            plt.savefig(plot_filename)\n",
    "            plt.close()  # Fecha a figura para liberar memória\n",
    "            print(f\"Gráfico salvo em: {plot_filename}\")\n",
    "            \n",
    "            # Cálculo do MSE\n",
    "            mse = mean_squared_error(data[col].values, variables[f'{col}_wavelet_{idx}'])\n",
    "            resultados_mse.append({\n",
    "                'Configuração': idx,\n",
    "                'Wavelet': wavelet,\n",
    "                'Level': level,\n",
    "                'Threshold Mode': threshold_mode,\n",
    "                'Signal Mode': signal_mode,\n",
    "                'Coluna': col,\n",
    "                'MSE': mse\n",
    "            })\n",
    "\n",
    "    # Progressão a cada 10 configurações\n",
    "    if idx % 10 == 0:\n",
    "        print(f\"{idx} configurações processadas.\")\n",
    "\n",
    "# %% Salvando os Resultados das Métricas\n",
    "df_mse = pd.DataFrame(resultados_mse)\n",
    "mse_filename = os.path.join(metrics_dir, \"mse_resultados.csv\")\n",
    "df_mse.to_csv(mse_filename, index=False)\n",
    "print(f\"Resultados das métricas MSE salvos em: {mse_filename}\")\n",
    "print(\"Processamento concluído!\")\n"
   ]
  }
 ],
 "metadata": {
  "kernelspec": {
   "display_name": ".venv",
   "language": "python",
   "name": "python3"
  },
  "language_info": {
   "codemirror_mode": {
    "name": "ipython",
    "version": 3
   },
   "file_extension": ".py",
   "mimetype": "text/x-python",
   "name": "python",
   "nbconvert_exporter": "python",
   "pygments_lexer": "ipython3",
   "version": "3.10.12"
  }
 },
 "nbformat": 4,
 "nbformat_minor": 2
}
