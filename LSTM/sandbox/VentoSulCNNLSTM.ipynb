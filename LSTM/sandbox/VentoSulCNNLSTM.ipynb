{
 "cells": [
  {
   "cell_type": "code",
   "execution_count": null,
   "metadata": {},
   "outputs": [],
   "source": [
    "import tensorflow as tf\n",
    "from tensorflow.keras.layers import Conv1D, MaxPooling1D, LSTM, Dropout, LayerNormalization, Dense, TimeDistributed, RepeatVector, MultiHeadAttention, Concatenate\n",
    "from tensorflow.keras.regularizers import l2\n",
    "from tensorflow.keras.models import Model\n",
    "from tensorflow.keras.callbacks import EarlyStopping, ReduceLROnPlateau, TensorBoard, ModelCheckpoint\n",
    "from tensorflow.keras import mixed_precision\n",
    "import keras_tuner as kt\n",
    "import numpy as np\n",
    "import matplotlib.pyplot as plt\n",
    "from sklearn.preprocessing import MinMaxScaler\n",
    "import os"
   ]
  },
  {
   "cell_type": "markdown",
   "metadata": {},
   "source": [
    "# 2. Configuração de Recursos Computacionais e Precisão Mista\n",
    "\n",
    "a. Configuração do TensorFlow para Utilizar a GPU\n",
    "\n",
    "b. Ativar Mixed Precision"
   ]
  },
  {
   "cell_type": "code",
   "execution_count": null,
   "metadata": {},
   "outputs": [],
   "source": [
    "# Verifique se a GPU está disponível\n",
    "print(\"GPUs disponíveis:\", tf.config.list_physical_devices('GPU'))\n",
    "\n",
    "# Configurar o crescimento da memória da GPU\n",
    "gpus = tf.config.list_physical_devices('GPU')\n",
    "if gpus:\n",
    "    try:\n",
    "        for gpu in gpus:\n",
    "            tf.config.experimental.set_memory_growth(gpu, True)\n",
    "        print(\"Configuração de memória da GPU concluída.\")\n",
    "    except RuntimeError as e:\n",
    "        print(e)\n",
    "else:\n",
    "    print(\"GPU não detectada. O treinamento será realizado na CPU.\")"
   ]
  },
  {
   "cell_type": "markdown",
   "metadata": {},
   "source": [
    "# 3. Pré-processamento dos Dados\n",
    "\n",
    "Utilizaremos o MinMaxScaler para escalar os dados entre 0 e 1, o que é adequado para redes LSTM devido às funções de ativação utilizadas.\n",
    "\n",
    "Se y_train e y_test contêm apenas a variável de interesse (ws100), o escalonamento direto funciona bem. Caso contrário, ajuste o escalonamento conforme necessário para preservar as outras features."
   ]
  },
  {
   "cell_type": "code",
   "execution_count": null,
   "metadata": {},
   "outputs": [],
   "source": [
    "# Definição do Scaler\n",
    "scaler = MinMaxScaler(feature_range=(0, 1))\n",
    "\n",
    "# Escalonamento dos dados de treino\n",
    "num_train_samples = X_train.shape[0] * X_train.shape[1]\n",
    "X_train_reshaped = X_train.reshape(-1, X_train.shape[-1])  # [num_samples * sequence_length, features]\n",
    "X_train_scaled = scaler.fit_transform(X_train_reshaped).reshape(X_train.shape)\n",
    "\n",
    "# Escalonamento dos dados de teste\n",
    "X_test_reshaped = X_test.reshape(-1, X_test.shape[-1])\n",
    "X_test_scaled = scaler.transform(X_test_reshaped).reshape(X_test.shape)\n",
    "\n",
    "# Escalonamento das saídas (y)\n",
    "y_train_reshaped = y_train.reshape(-1, y_train.shape[-1])\n",
    "y_train_scaled = scaler.fit_transform(y_train_reshaped).reshape(y_train.shape)\n",
    "\n",
    "y_test_reshaped = y_test.reshape(-1, y_test.shape[-1])\n",
    "y_test_scaled = scaler.transform(y_test_reshaped).reshape(y_test.shape)\n",
    "\n",
    "print(\"Escalonamento dos dados concluído.\")\n"
   ]
  },
  {
   "cell_type": "markdown",
   "metadata": {},
   "source": []
  }
 ],
 "metadata": {
  "kernelspec": {
   "display_name": ".venv",
   "language": "python",
   "name": "python3"
  },
  "language_info": {
   "name": "python",
   "version": "3.10.12"
  }
 },
 "nbformat": 4,
 "nbformat_minor": 2
}
