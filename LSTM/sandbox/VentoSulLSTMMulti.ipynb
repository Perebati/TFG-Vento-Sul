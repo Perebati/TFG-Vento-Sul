{
 "cells": [
  {
   "cell_type": "code",
   "execution_count": 1,
   "metadata": {},
   "outputs": [],
   "source": [
    "import numpy as np\n",
    "from tensorflow.keras.models import Sequential\n",
    "from tensorflow.keras.layers import LSTM\n",
    "from tensorflow.keras.layers import Dense, Dropout\n",
    "import pandas as pd\n",
    "from matplotlib import pyplot as plt\n",
    "from sklearn.preprocessing import StandardScaler\n",
    "import seaborn as sns\n",
    "from datetime import datetime\n",
    "from sklearn.model_selection import train_test_split"
   ]
  },
  {
   "cell_type": "code",
   "execution_count": 2,
   "metadata": {},
   "outputs": [
    {
     "name": "stdout",
     "output_type": "stream",
     "text": [
      "                           id  year  month  day  hour  minute  press  humid  \\\n",
      "0         2021-09-16 18:00:00  2021      9   16    18       0   1012     78   \n",
      "1  2021-09-16 18:10:00.000004  2021      9   16    18      10   1012     78   \n",
      "2  2021-09-16 18:19:59.999999  2021      9   16    18      19   1012     78   \n",
      "3  2021-09-16 18:30:00.000003  2021      9   16    18      30   1012     79   \n",
      "4  2021-09-16 18:39:59.999998  2021      9   16    18      39   1012     79   \n",
      "\n",
      "   temp  ws40  ...  vertdisp140  vertdisp150  vertdisp160  vertdisp170  \\\n",
      "0  27.6  7.44  ...         0.44         0.44         0.44         0.45   \n",
      "1  27.5  7.45  ...         0.48         0.50         0.51         0.53   \n",
      "2  27.5  7.59  ...         0.33         0.35         0.37         0.38   \n",
      "3  27.5  7.64  ...         0.47         0.46         0.47         0.48   \n",
      "4  27.4  9.06  ...         0.38         0.38         0.36         0.35   \n",
      "\n",
      "   vertdisp180  vertdisp190  vertdisp200  vertdisp220  vertdisp240  \\\n",
      "0         0.46         0.49         0.51         0.54         0.56   \n",
      "1         0.54         0.54         0.52         0.51         0.47   \n",
      "2         0.39         0.39         0.38         0.37         0.35   \n",
      "3         0.50         0.54         0.56         0.55         0.54   \n",
      "4         0.35         0.35         0.35         0.31         0.34   \n",
      "\n",
      "   vertdisp260  \n",
      "0         0.62  \n",
      "1         0.47  \n",
      "2         0.36  \n",
      "3         0.53  \n",
      "4         0.36  \n",
      "\n",
      "[5 rows x 128 columns]\n"
     ]
    }
   ],
   "source": [
    "df = pd.read_csv('dataset.csv')\n",
    "print(df.head())  "
   ]
  },
  {
   "cell_type": "code",
   "execution_count": 3,
   "metadata": {},
   "outputs": [
    {
     "name": "stderr",
     "output_type": "stream",
     "text": [
      "C:\\Users\\lucas\\AppData\\Local\\Temp\\ipykernel_1552\\2288332652.py:1: FutureWarning: errors='ignore' is deprecated and will raise in a future version. Use to_datetime without passing `errors` and catch exceptions explicitly instead\n",
      "  df.index = pd.to_datetime(df['id'], errors='ignore')\n",
      "C:\\Users\\lucas\\AppData\\Local\\Temp\\ipykernel_1552\\2288332652.py:2: FutureWarning: errors='ignore' is deprecated and will raise in a future version. Use to_datetime without passing `errors` and catch exceptions explicitly instead\n",
      "  df.index = df['id'].apply(lambda x: pd.to_datetime(str(x).split('.')[0], errors='ignore'))\n"
     ]
    }
   ],
   "source": [
    "df.index = pd.to_datetime(df['id'], errors='ignore')\n",
    "df.index = df['id'].apply(lambda x: pd.to_datetime(str(x).split('.')[0], errors='ignore'))"
   ]
  },
  {
   "cell_type": "code",
   "execution_count": 4,
   "metadata": {},
   "outputs": [
    {
     "data": {
      "text/plain": [
       "['press', 'humid', 'temp', 'ws100', 'wdir100', 'cis6', 'cis7', 'wdisp100']"
      ]
     },
     "execution_count": 4,
     "metadata": {},
     "output_type": "execute_result"
    }
   ],
   "source": [
    "\n",
    "cols = list(df)[6:9]\n",
    "cols += [\"ws100\", \"wdir100\", \"cis6\", \"cis7\", \"wdisp100\"]\n",
    "\n",
    "\n",
    "cols"
   ]
  },
  {
   "cell_type": "code",
   "execution_count": 5,
   "metadata": {},
   "outputs": [
    {
     "data": {
      "text/html": [
       "<div>\n",
       "<style scoped>\n",
       "    .dataframe tbody tr th:only-of-type {\n",
       "        vertical-align: middle;\n",
       "    }\n",
       "\n",
       "    .dataframe tbody tr th {\n",
       "        vertical-align: top;\n",
       "    }\n",
       "\n",
       "    .dataframe thead th {\n",
       "        text-align: right;\n",
       "    }\n",
       "</style>\n",
       "<table border=\"1\" class=\"dataframe\">\n",
       "  <thead>\n",
       "    <tr style=\"text-align: right;\">\n",
       "      <th></th>\n",
       "      <th>press</th>\n",
       "      <th>humid</th>\n",
       "      <th>temp</th>\n",
       "      <th>ws100</th>\n",
       "      <th>wdir100</th>\n",
       "      <th>cis6</th>\n",
       "      <th>cis7</th>\n",
       "      <th>wdisp100</th>\n",
       "    </tr>\n",
       "    <tr>\n",
       "      <th>id</th>\n",
       "      <th></th>\n",
       "      <th></th>\n",
       "      <th></th>\n",
       "      <th></th>\n",
       "      <th></th>\n",
       "      <th></th>\n",
       "      <th></th>\n",
       "      <th></th>\n",
       "    </tr>\n",
       "  </thead>\n",
       "  <tbody>\n",
       "    <tr>\n",
       "      <th>2021-09-16 18:00:00</th>\n",
       "      <td>1012.0</td>\n",
       "      <td>78.0</td>\n",
       "      <td>27.6</td>\n",
       "      <td>8.51</td>\n",
       "      <td>53.95</td>\n",
       "      <td>0.015</td>\n",
       "      <td>0.014</td>\n",
       "      <td>1.16</td>\n",
       "    </tr>\n",
       "    <tr>\n",
       "      <th>2021-09-16 18:10:00</th>\n",
       "      <td>1012.0</td>\n",
       "      <td>78.0</td>\n",
       "      <td>27.5</td>\n",
       "      <td>8.64</td>\n",
       "      <td>52.19</td>\n",
       "      <td>0.008</td>\n",
       "      <td>0.008</td>\n",
       "      <td>1.04</td>\n",
       "    </tr>\n",
       "    <tr>\n",
       "      <th>2021-09-16 18:19:59</th>\n",
       "      <td>1012.0</td>\n",
       "      <td>78.0</td>\n",
       "      <td>27.5</td>\n",
       "      <td>8.65</td>\n",
       "      <td>52.02</td>\n",
       "      <td>0.010</td>\n",
       "      <td>0.010</td>\n",
       "      <td>1.04</td>\n",
       "    </tr>\n",
       "    <tr>\n",
       "      <th>2021-09-16 18:30:00</th>\n",
       "      <td>1012.0</td>\n",
       "      <td>79.0</td>\n",
       "      <td>27.5</td>\n",
       "      <td>8.86</td>\n",
       "      <td>53.65</td>\n",
       "      <td>0.017</td>\n",
       "      <td>0.016</td>\n",
       "      <td>0.96</td>\n",
       "    </tr>\n",
       "    <tr>\n",
       "      <th>2021-09-16 18:39:59</th>\n",
       "      <td>1012.0</td>\n",
       "      <td>79.0</td>\n",
       "      <td>27.4</td>\n",
       "      <td>10.00</td>\n",
       "      <td>53.49</td>\n",
       "      <td>0.007</td>\n",
       "      <td>0.007</td>\n",
       "      <td>0.72</td>\n",
       "    </tr>\n",
       "    <tr>\n",
       "      <th>...</th>\n",
       "      <td>...</td>\n",
       "      <td>...</td>\n",
       "      <td>...</td>\n",
       "      <td>...</td>\n",
       "      <td>...</td>\n",
       "      <td>...</td>\n",
       "      <td>...</td>\n",
       "      <td>...</td>\n",
       "    </tr>\n",
       "    <tr>\n",
       "      <th>2021-11-08 13:49:59</th>\n",
       "      <td>1008.0</td>\n",
       "      <td>66.0</td>\n",
       "      <td>30.6</td>\n",
       "      <td>8.36</td>\n",
       "      <td>41.55</td>\n",
       "      <td>0.001</td>\n",
       "      <td>0.002</td>\n",
       "      <td>1.35</td>\n",
       "    </tr>\n",
       "    <tr>\n",
       "      <th>2021-11-08 14:00:00</th>\n",
       "      <td>1007.0</td>\n",
       "      <td>66.0</td>\n",
       "      <td>30.8</td>\n",
       "      <td>8.62</td>\n",
       "      <td>37.31</td>\n",
       "      <td>0.005</td>\n",
       "      <td>0.004</td>\n",
       "      <td>1.23</td>\n",
       "    </tr>\n",
       "    <tr>\n",
       "      <th>2021-11-08 14:09:59</th>\n",
       "      <td>1007.0</td>\n",
       "      <td>67.0</td>\n",
       "      <td>30.7</td>\n",
       "      <td>8.96</td>\n",
       "      <td>37.27</td>\n",
       "      <td>0.001</td>\n",
       "      <td>0.003</td>\n",
       "      <td>1.24</td>\n",
       "    </tr>\n",
       "    <tr>\n",
       "      <th>2021-11-08 14:20:00</th>\n",
       "      <td>1007.0</td>\n",
       "      <td>67.0</td>\n",
       "      <td>30.4</td>\n",
       "      <td>8.94</td>\n",
       "      <td>41.41</td>\n",
       "      <td>0.004</td>\n",
       "      <td>-0.002</td>\n",
       "      <td>1.20</td>\n",
       "    </tr>\n",
       "    <tr>\n",
       "      <th>2021-11-08 14:29:59</th>\n",
       "      <td>1007.0</td>\n",
       "      <td>68.0</td>\n",
       "      <td>30.1</td>\n",
       "      <td>9.30</td>\n",
       "      <td>35.61</td>\n",
       "      <td>0.000</td>\n",
       "      <td>0.004</td>\n",
       "      <td>1.04</td>\n",
       "    </tr>\n",
       "  </tbody>\n",
       "</table>\n",
       "<p>7561 rows × 8 columns</p>\n",
       "</div>"
      ],
      "text/plain": [
       "                      press  humid  temp  ws100  wdir100   cis6   cis7  \\\n",
       "id                                                                       \n",
       "2021-09-16 18:00:00  1012.0   78.0  27.6   8.51    53.95  0.015  0.014   \n",
       "2021-09-16 18:10:00  1012.0   78.0  27.5   8.64    52.19  0.008  0.008   \n",
       "2021-09-16 18:19:59  1012.0   78.0  27.5   8.65    52.02  0.010  0.010   \n",
       "2021-09-16 18:30:00  1012.0   79.0  27.5   8.86    53.65  0.017  0.016   \n",
       "2021-09-16 18:39:59  1012.0   79.0  27.4  10.00    53.49  0.007  0.007   \n",
       "...                     ...    ...   ...    ...      ...    ...    ...   \n",
       "2021-11-08 13:49:59  1008.0   66.0  30.6   8.36    41.55  0.001  0.002   \n",
       "2021-11-08 14:00:00  1007.0   66.0  30.8   8.62    37.31  0.005  0.004   \n",
       "2021-11-08 14:09:59  1007.0   67.0  30.7   8.96    37.27  0.001  0.003   \n",
       "2021-11-08 14:20:00  1007.0   67.0  30.4   8.94    41.41  0.004 -0.002   \n",
       "2021-11-08 14:29:59  1007.0   68.0  30.1   9.30    35.61  0.000  0.004   \n",
       "\n",
       "                     wdisp100  \n",
       "id                             \n",
       "2021-09-16 18:00:00      1.16  \n",
       "2021-09-16 18:10:00      1.04  \n",
       "2021-09-16 18:19:59      1.04  \n",
       "2021-09-16 18:30:00      0.96  \n",
       "2021-09-16 18:39:59      0.72  \n",
       "...                       ...  \n",
       "2021-11-08 13:49:59      1.35  \n",
       "2021-11-08 14:00:00      1.23  \n",
       "2021-11-08 14:09:59      1.24  \n",
       "2021-11-08 14:20:00      1.20  \n",
       "2021-11-08 14:29:59      1.04  \n",
       "\n",
       "[7561 rows x 8 columns]"
      ]
     },
     "execution_count": 5,
     "metadata": {},
     "output_type": "execute_result"
    }
   ],
   "source": [
    "df_for_training = df[cols].astype(float)\n",
    "\n",
    "df_for_training"
   ]
  },
  {
   "cell_type": "code",
   "execution_count": 6,
   "metadata": {},
   "outputs": [
    {
     "data": {
      "text/plain": [
       "array([[ 1.24663888,  0.63089718, -0.47170478, ...,  0.59346353,\n",
       "         0.63140266,  0.29884617],\n",
       "       [ 1.24663888,  0.63089718, -0.53615641, ..., -0.20223613,\n",
       "        -0.09126084, -0.05423555],\n",
       "       [ 1.24663888,  0.63089718, -0.53615641, ...,  0.02510663,\n",
       "         0.14962699, -0.05423555],\n",
       "       ...,\n",
       "       [-1.83954951, -0.91490778,  1.52629574, ..., -0.9979358 ,\n",
       "        -0.69348042,  0.53423398],\n",
       "       [-1.83954951, -0.91490778,  1.33294085, ..., -0.65692166,\n",
       "        -1.2957    ,  0.41654007],\n",
       "       [-1.83954951, -0.77438006,  1.13958596, ..., -1.11160718,\n",
       "        -0.5730365 , -0.05423555]])"
      ]
     },
     "execution_count": 6,
     "metadata": {},
     "output_type": "execute_result"
    }
   ],
   "source": [
    "scaler = StandardScaler()\n",
    "scaler = scaler.fit(df_for_training)\n",
    "df_for_training_scaled = scaler.transform(df_for_training)\n",
    "\n",
    "\n",
    "df_for_training_scaled"
   ]
  },
  {
   "cell_type": "code",
   "execution_count": 7,
   "metadata": {},
   "outputs": [],
   "source": [
    "sequence_length = 48  \n",
    "n_features = df_for_training_scaled.shape[1] "
   ]
  },
  {
   "cell_type": "code",
   "execution_count": 8,
   "metadata": {},
   "outputs": [
    {
     "name": "stdout",
     "output_type": "stream",
     "text": [
      "Formato de X: (7513, 48, 8)\n",
      "Formato de y: (7513,)\n"
     ]
    }
   ],
   "source": [
    "X, y = [], []\n",
    "\n",
    "for i in range(len(df_for_training_scaled) - sequence_length):\n",
    "    X.append(df_for_training_scaled[i:i + sequence_length])\n",
    "    y.append(df_for_training_scaled[i + sequence_length, cols.index(\"ws100\")])\n",
    "\n",
    "X = np.array(X)\n",
    "y = np.array(y)\n",
    "\n",
    "print(f\"Formato de X: {X.shape}\")  \n",
    "print(f\"Formato de y: {y.shape}\")  "
   ]
  },
  {
   "cell_type": "code",
   "execution_count": 9,
   "metadata": {},
   "outputs": [
    {
     "name": "stdout",
     "output_type": "stream",
     "text": [
      "X_train: (6010, 48, 8), X_test: (1503, 48, 8)\n",
      "y_train: (6010,), y_test: (1503,)\n"
     ]
    }
   ],
   "source": [
    "X_train, X_test, y_train, y_test = train_test_split(X, y, test_size=0.2, shuffle=False)\n",
    "\n",
    "print(f\"X_train: {X_train.shape}, X_test: {X_test.shape}\")\n",
    "print(f\"y_train: {y_train.shape}, y_test: {y_test.shape}\")"
   ]
  },
  {
   "cell_type": "code",
   "execution_count": 10,
   "metadata": {},
   "outputs": [
    {
     "name": "stdout",
     "output_type": "stream",
     "text": [
      "Epoch 1/20\n"
     ]
    },
    {
     "name": "stderr",
     "output_type": "stream",
     "text": [
      "c:\\Users\\lucas\\Projetos\\TFG_VENTO_SUL\\TFG-Vento-Sul\\.venv\\Lib\\site-packages\\keras\\src\\layers\\rnn\\rnn.py:204: UserWarning: Do not pass an `input_shape`/`input_dim` argument to a layer. When using Sequential models, prefer using an `Input(shape)` object as the first layer in the model instead.\n",
      "  super().__init__(**kwargs)\n"
     ]
    },
    {
     "name": "stdout",
     "output_type": "stream",
     "text": [
      "\u001b[1m188/188\u001b[0m \u001b[32m━━━━━━━━━━━━━━━━━━━━\u001b[0m\u001b[37m\u001b[0m \u001b[1m12s\u001b[0m 55ms/step - loss: 0.5709 - val_loss: 0.1979\n",
      "Epoch 2/20\n",
      "\u001b[1m188/188\u001b[0m \u001b[32m━━━━━━━━━━━━━━━━━━━━\u001b[0m\u001b[37m\u001b[0m \u001b[1m10s\u001b[0m 53ms/step - loss: 0.1695 - val_loss: 0.1331\n",
      "Epoch 3/20\n",
      "\u001b[1m188/188\u001b[0m \u001b[32m━━━━━━━━━━━━━━━━━━━━\u001b[0m\u001b[37m\u001b[0m \u001b[1m10s\u001b[0m 55ms/step - loss: 0.1596 - val_loss: 0.1219\n",
      "Epoch 4/20\n",
      "\u001b[1m188/188\u001b[0m \u001b[32m━━━━━━━━━━━━━━━━━━━━\u001b[0m\u001b[37m\u001b[0m \u001b[1m9s\u001b[0m 47ms/step - loss: 0.1592 - val_loss: 0.1594\n",
      "Epoch 5/20\n",
      "\u001b[1m188/188\u001b[0m \u001b[32m━━━━━━━━━━━━━━━━━━━━\u001b[0m\u001b[37m\u001b[0m \u001b[1m11s\u001b[0m 57ms/step - loss: 0.1444 - val_loss: 0.1375\n",
      "Epoch 6/20\n",
      "\u001b[1m188/188\u001b[0m \u001b[32m━━━━━━━━━━━━━━━━━━━━\u001b[0m\u001b[37m\u001b[0m \u001b[1m22s\u001b[0m 115ms/step - loss: 0.1507 - val_loss: 0.1413\n",
      "Epoch 7/20\n",
      "\u001b[1m188/188\u001b[0m \u001b[32m━━━━━━━━━━━━━━━━━━━━\u001b[0m\u001b[37m\u001b[0m \u001b[1m22s\u001b[0m 116ms/step - loss: 0.1570 - val_loss: 0.1207\n",
      "Epoch 8/20\n",
      "\u001b[1m188/188\u001b[0m \u001b[32m━━━━━━━━━━━━━━━━━━━━\u001b[0m\u001b[37m\u001b[0m \u001b[1m21s\u001b[0m 113ms/step - loss: 0.1467 - val_loss: 0.1188\n",
      "Epoch 9/20\n",
      "\u001b[1m188/188\u001b[0m \u001b[32m━━━━━━━━━━━━━━━━━━━━\u001b[0m\u001b[37m\u001b[0m \u001b[1m21s\u001b[0m 113ms/step - loss: 0.1452 - val_loss: 0.1196\n",
      "Epoch 10/20\n",
      "\u001b[1m188/188\u001b[0m \u001b[32m━━━━━━━━━━━━━━━━━━━━\u001b[0m\u001b[37m\u001b[0m \u001b[1m21s\u001b[0m 113ms/step - loss: 0.1504 - val_loss: 0.1144\n",
      "Epoch 11/20\n",
      "\u001b[1m188/188\u001b[0m \u001b[32m━━━━━━━━━━━━━━━━━━━━\u001b[0m\u001b[37m\u001b[0m \u001b[1m21s\u001b[0m 114ms/step - loss: 0.1428 - val_loss: 0.1238\n",
      "Epoch 12/20\n",
      "\u001b[1m188/188\u001b[0m \u001b[32m━━━━━━━━━━━━━━━━━━━━\u001b[0m\u001b[37m\u001b[0m \u001b[1m38s\u001b[0m 96ms/step - loss: 0.1413 - val_loss: 0.1454\n",
      "Epoch 13/20\n",
      "\u001b[1m188/188\u001b[0m \u001b[32m━━━━━━━━━━━━━━━━━━━━\u001b[0m\u001b[37m\u001b[0m \u001b[1m22s\u001b[0m 115ms/step - loss: 0.1440 - val_loss: 0.1244\n",
      "Epoch 14/20\n",
      "\u001b[1m188/188\u001b[0m \u001b[32m━━━━━━━━━━━━━━━━━━━━\u001b[0m\u001b[37m\u001b[0m \u001b[1m23s\u001b[0m 120ms/step - loss: 0.1423 - val_loss: 0.1455\n",
      "Epoch 15/20\n",
      "\u001b[1m188/188\u001b[0m \u001b[32m━━━━━━━━━━━━━━━━━━━━\u001b[0m\u001b[37m\u001b[0m \u001b[1m22s\u001b[0m 117ms/step - loss: 0.1389 - val_loss: 0.1262\n",
      "Epoch 16/20\n",
      "\u001b[1m188/188\u001b[0m \u001b[32m━━━━━━━━━━━━━━━━━━━━\u001b[0m\u001b[37m\u001b[0m \u001b[1m17s\u001b[0m 89ms/step - loss: 0.1375 - val_loss: 0.1205\n",
      "Epoch 17/20\n",
      "\u001b[1m188/188\u001b[0m \u001b[32m━━━━━━━━━━━━━━━━━━━━\u001b[0m\u001b[37m\u001b[0m \u001b[1m22s\u001b[0m 116ms/step - loss: 0.1450 - val_loss: 0.1224\n",
      "Epoch 18/20\n",
      "\u001b[1m188/188\u001b[0m \u001b[32m━━━━━━━━━━━━━━━━━━━━\u001b[0m\u001b[37m\u001b[0m \u001b[1m22s\u001b[0m 115ms/step - loss: 0.1363 - val_loss: 0.1193\n",
      "Epoch 19/20\n",
      "\u001b[1m188/188\u001b[0m \u001b[32m━━━━━━━━━━━━━━━━━━━━\u001b[0m\u001b[37m\u001b[0m \u001b[1m22s\u001b[0m 117ms/step - loss: 0.1298 - val_loss: 0.1186\n",
      "Epoch 20/20\n",
      "\u001b[1m188/188\u001b[0m \u001b[32m━━━━━━━━━━━━━━━━━━━━\u001b[0m\u001b[37m\u001b[0m \u001b[1m21s\u001b[0m 114ms/step - loss: 0.1408 - val_loss: 0.1153\n"
     ]
    }
   ],
   "source": [
    "model = Sequential()\n",
    "\n",
    "model.add(LSTM(128, activation='relu', input_shape=(X_train.shape[1], X_train.shape[2])))\n",
    "\n",
    "model.add(Dense(1))\n",
    "\n",
    "model.compile(optimizer='adam', loss='mse')\n",
    "\n",
    "history = model.fit(X_train, y_train, epochs=20, batch_size=32, validation_data=(X_test, y_test))"
   ]
  },
  {
   "cell_type": "code",
   "execution_count": 11,
   "metadata": {},
   "outputs": [
    {
     "name": "stdout",
     "output_type": "stream",
     "text": [
      "\u001b[1m47/47\u001b[0m \u001b[32m━━━━━━━━━━━━━━━━━━━━\u001b[0m\u001b[37m\u001b[0m \u001b[1m4s\u001b[0m 60ms/step\n"
     ]
    }
   ],
   "source": [
    "y_pred = model.predict(X_test)\n",
    "\n",
    "n_amostras = len(y_pred)\n",
    "n_features = df_for_training.shape[1]  \n",
    "\n",
    "y_pred_full = np.zeros((n_amostras, n_features))\n",
    "y_pred_full[:, 3] = y_pred.flatten() \n",
    "\n",
    "y_pred_orig = scaler.inverse_transform(y_pred_full)[:, 3]  "
   ]
  },
  {
   "cell_type": "code",
   "execution_count": 12,
   "metadata": {},
   "outputs": [],
   "source": [
    "y_test_full = np.zeros((len(y_test), n_features))\n",
    "y_test_full[:, 3] = y_test.flatten() \n",
    "\n",
    "y_test_orig = scaler.inverse_transform(y_test_full)[:, 3]"
   ]
  },
  {
   "cell_type": "code",
   "execution_count": 3,
   "metadata": {},
   "outputs": [
    {
     "ename": "NameError",
     "evalue": "name 'y_train' is not defined",
     "output_type": "error",
     "traceback": [
      "\u001b[1;31m---------------------------------------------------------------------------\u001b[0m",
      "\u001b[1;31mNameError\u001b[0m                                 Traceback (most recent call last)",
      "Cell \u001b[1;32mIn[3], line 6\u001b[0m\n\u001b[0;32m      2\u001b[0m \u001b[38;5;28;01mfrom\u001b[39;00m \u001b[38;5;21;01msklearn\u001b[39;00m\u001b[38;5;21;01m.\u001b[39;00m\u001b[38;5;21;01mmetrics\u001b[39;00m \u001b[38;5;28;01mimport\u001b[39;00m mean_squared_error\n\u001b[0;32m      3\u001b[0m \u001b[38;5;28;01mimport\u001b[39;00m \u001b[38;5;21;01mnumpy\u001b[39;00m \u001b[38;5;28;01mas\u001b[39;00m \u001b[38;5;21;01mnp\u001b[39;00m\n\u001b[1;32m----> 6\u001b[0m rmse_manual \u001b[38;5;241m=\u001b[39m np\u001b[38;5;241m.\u001b[39msqrt(np\u001b[38;5;241m.\u001b[39mmean((\u001b[43my_train\u001b[49m \u001b[38;5;241m-\u001b[39m y_pred) \u001b[38;5;241m*\u001b[39m\u001b[38;5;241m*\u001b[39m \u001b[38;5;241m2\u001b[39m))\n\u001b[0;32m      7\u001b[0m \u001b[38;5;28mprint\u001b[39m(\u001b[38;5;124mf\u001b[39m\u001b[38;5;124m\"\u001b[39m\u001b[38;5;124mRMSE (manual): \u001b[39m\u001b[38;5;132;01m{\u001b[39;00mrmse_manual\u001b[38;5;132;01m}\u001b[39;00m\u001b[38;5;124m\"\u001b[39m)\n\u001b[0;32m      9\u001b[0m rmse_sklearn \u001b[38;5;241m=\u001b[39m np\u001b[38;5;241m.\u001b[39msqrt(mean_squared_error(y_train, y_pred))\n",
      "\u001b[1;31mNameError\u001b[0m: name 'y_train' is not defined"
     ]
    }
   ],
   "source": [
    "import matplotlib.pyplot as plt\n",
    "from sklearn.metrics import mean_squared_error\n",
    "import numpy as np\n",
    "\n",
    "\n",
    "rmse_manual = np.sqrt(np.mean((y_train - y_pred) ** 2))\n",
    "print(f\"RMSE (manual): {rmse_manual}\")\n",
    "\n",
    "rmse_sklearn = np.sqrt(mean_squared_error(y_train, y_pred))\n",
    "print(f\"RMSE (sklearn): {rmse_sklearn}\")\n",
    "\n",
    "plt.figure(figsize=(10, 6))\n",
    "plt.plot(y_test_orig, label='Valor Real (ws100)')\n",
    "plt.plot(y_pred_orig, label='Previsão (ws100)')\n",
    "plt.legend()\n",
    "plt.show()"
   ]
  }
 ],
 "metadata": {
  "kernelspec": {
   "display_name": ".venv",
   "language": "python",
   "name": "python3"
  },
  "language_info": {
   "codemirror_mode": {
    "name": "ipython",
    "version": 3
   },
   "file_extension": ".py",
   "mimetype": "text/x-python",
   "name": "python",
   "nbconvert_exporter": "python",
   "pygments_lexer": "ipython3",
   "version": "3.12.4"
  }
 },
 "nbformat": 4,
 "nbformat_minor": 2
}
